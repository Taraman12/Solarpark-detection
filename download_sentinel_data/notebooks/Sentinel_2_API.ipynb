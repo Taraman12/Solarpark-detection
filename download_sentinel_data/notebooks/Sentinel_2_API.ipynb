{
 "cells": [
  {
   "cell_type": "markdown",
   "metadata": {},
   "source": [
    "## In this notebook we discover the best way to use an API to download data from Sentinel-2"
   ]
  },
  {
   "cell_type": "markdown",
   "metadata": {},
   "source": [
    "API Overview:\n",
    "\n",
    "https://scihub.copernicus.eu/userguide/APIsOverview\n",
    "\n",
    "In this notebook we use OpenAPI: \n",
    "https://scihub.copernicus.eu/userguide/OpenSearchAPI\n",
    "\n",
    "Further keyword doc for the API:\n",
    "https://scihub.copernicus.eu/twiki/do/view/SciHubUserGuide/FullTextSearch?redirectedfrom=SciHubUserGuide.3FullTextSearch\n",
    "\n",
    "Endpoint:\n",
    "https://apihub.copernicus.eu/apihub/search\n",
    "\n",
    "Possible Wrapper:\n",
    "https://github.com/sentinelsat/sentinelsat\n",
    "\n",
    "Wrapper Doc:\n",
    "https://sentinelsat.readthedocs.io/en/stable/api_overview.html"
   ]
  },
  {
   "cell_type": "code",
   "execution_count": 1,
   "metadata": {},
   "outputs": [],
   "source": [
    "from geopandas import GeoDataFrame"
   ]
  },
  {
   "cell_type": "code",
   "execution_count": 3,
   "metadata": {},
   "outputs": [],
   "source": [
    "from dotenv import load_dotenv\n",
    "import os\n",
    "from sentinelsat import SentinelAPI, read_geojson, geojson_to_wkt\n",
    "from datetime import date"
   ]
  },
  {
   "cell_type": "code",
   "execution_count": 3,
   "metadata": {},
   "outputs": [],
   "source": [
    "load_dotenv()\n",
    "api_user = os.getenv(\"API_USER\")\n",
    "api_secret = os.getenv(\"API_SECRET\")\n",
    "api_url = os.getenv(\"API_URL\")"
   ]
  },
  {
   "cell_type": "code",
   "execution_count": 1,
   "metadata": {},
   "outputs": [],
   "source": [
    "api = SentinelAPI(api_user, api_secret, api_url)"
   ]
  },
  {
   "cell_type": "code",
   "execution_count": 4,
   "metadata": {},
   "outputs": [],
   "source": [
    "# search by polygon, time, and SciHub query keywords\n",
    "#footprint = geojson_to_wkt(read_geojson('global_pv_inventory_all/trn_polygons.geojson'))"
   ]
  },
  {
   "cell_type": "code",
   "execution_count": 20,
   "metadata": {},
   "outputs": [],
   "source": [
    "footprint = 'POLYGON ((-112.8317392623121 33.29924007745022, -112.83171833156598 33.299240152532725, -112.83171608577777 33.298979015183214, -112.83173710635542 33.298978865017745, -112.8317392623121 33.29924007745022))'"
   ]
  },
  {
   "cell_type": "code",
   "execution_count": 2,
   "metadata": {},
   "outputs": [],
   "source": [
    "test_polygon = 'POLYGON((49.753186143904465 9.791118103372561, 49.75370948463839 9.791895943992854, 49.75261080916379 9.79392905844176, 49.75203546759806 9.793365794544307, 49.753186143904465 9.791118103372561))'"
   ]
  },
  {
   "cell_type": "code",
   "execution_count": 26,
   "metadata": {},
   "outputs": [],
   "source": [
    "# ! Hier noch den Download Pfad hinzufügen\n",
    "# Und für nur ein product downloaden \n",
    "products = api.query(footprint,\n",
    "                     date=('20220601', date(2023, 1, 11)),\n",
    "                     platformname='Sentinel-2',\n",
    "                     cloudcoverpercentage=(0, 30),\n",
    "                     limit=1) #area_relation='IsWithin',#"
   ]
  },
  {
   "cell_type": "code",
   "execution_count": 27,
   "metadata": {},
   "outputs": [
    {
     "data": {
      "text/plain": [
       "OrderedDict([('a36f98be-5cd3-4a48-9259-0253b1e802bd',\n",
       "              {'title': 'S2A_MSIL2A_20230107T181731_N0509_R084_T12SUB_20230107T215055',\n",
       "               'link': \"https://apihub.copernicus.eu/apihub/odata/v1/Products('a36f98be-5cd3-4a48-9259-0253b1e802bd')/$value\",\n",
       "               'link_alternative': \"https://apihub.copernicus.eu/apihub/odata/v1/Products('a36f98be-5cd3-4a48-9259-0253b1e802bd')/\",\n",
       "               'link_icon': \"https://apihub.copernicus.eu/apihub/odata/v1/Products('a36f98be-5cd3-4a48-9259-0253b1e802bd')/Products('Quicklook')/$value\",\n",
       "               'summary': 'Date: 2023-01-07T18:17:31.024Z, Instrument: MSI, Satellite: Sentinel-2, Size: 1.12 GB',\n",
       "               'ondemand': 'false',\n",
       "               'generationdate': datetime.datetime(2023, 1, 7, 21, 50, 55),\n",
       "               'beginposition': datetime.datetime(2023, 1, 7, 18, 17, 31, 24000),\n",
       "               'endposition': datetime.datetime(2023, 1, 7, 18, 17, 31, 24000),\n",
       "               'ingestiondate': datetime.datetime(2023, 1, 7, 23, 42, 13, 414000),\n",
       "               'orbitnumber': 39406,\n",
       "               'relativeorbitnumber': 84,\n",
       "               'illuminationazimuthangle': 160.441435702387,\n",
       "               'illuminationzenithangle': 57.8335585012951,\n",
       "               'vegetationpercentage': 3.976686,\n",
       "               'notvegetatedpercentage': 94.211471,\n",
       "               'waterpercentage': 0.085939,\n",
       "               'unclassifiedpercentage': 0.002522,\n",
       "               'mediumprobacloudspercentage': 0.063689,\n",
       "               'highprobacloudspercentage': 0.004954,\n",
       "               'snowicepercentage': 0.000159,\n",
       "               'cloudcoverpercentage': 1.3504,\n",
       "               'level1cpdiidentifier': 'S2A_OPER_MSI_L1C_TL_2APS_20230107T200827_A039406_T12SUB_N05.09',\n",
       "               'gmlfootprint': '<gml:Polygon srsName=\"http://www.opengis.net/gml/srs/epsg.xml#4326\" xmlns:gml=\"http://www.opengis.net/gml\">\\n   <gml:outerBoundaryIs>\\n      <gml:LinearRing>\\n         <gml:coordinates>33.42091875853871,-113.15103 33.435778798872015,-111.97035 32.44547285973725,-111.959595 32.431162035367194,-113.12721 33.42091875853871,-113.15103</gml:coordinates>\\n      </gml:LinearRing>\\n   </gml:outerBoundaryIs>\\n</gml:Polygon>',\n",
       "               'footprint': 'MULTIPOLYGON (((-113.12721 32.431162035367194, -111.959595 32.44547285973725, -111.97035 33.435778798872015, -113.15103 33.42091875853871, -113.12721 32.431162035367194)))',\n",
       "               'format': 'SAFE',\n",
       "               'processingbaseline': '05.09',\n",
       "               'platformname': 'Sentinel-2',\n",
       "               'filename': 'S2A_MSIL2A_20230107T181731_N0509_R084_T12SUB_20230107T215055.SAFE',\n",
       "               'instrumentname': 'Multi-Spectral Instrument',\n",
       "               'instrumentshortname': 'MSI',\n",
       "               'size': '1.12 GB',\n",
       "               's2datatakeid': 'GS2A_20230107T181731_039406_N05.09',\n",
       "               'producttype': 'S2MSI2A',\n",
       "               'platformidentifier': '2015-028A',\n",
       "               'orbitdirection': 'DESCENDING',\n",
       "               'platformserialidentifier': 'Sentinel-2A',\n",
       "               'processinglevel': 'Level-2A',\n",
       "               'datastripidentifier': 'S2A_OPER_MSI_L2A_DS_2APS_20230107T215055_S20230107T181733_N05.09',\n",
       "               'granuleidentifier': 'S2A_OPER_MSI_L2A_TL_2APS_20230107T215055_A039406_T12SUB_N05.09',\n",
       "               'identifier': 'S2A_MSIL2A_20230107T181731_N0509_R084_T12SUB_20230107T215055',\n",
       "               'uuid': 'a36f98be-5cd3-4a48-9259-0253b1e802bd'})])"
      ]
     },
     "execution_count": 27,
     "metadata": {},
     "output_type": "execute_result"
    }
   ],
   "source": [
    "# products is a OrderedDict, from which we can get ID and information's about the data\n",
    "products"
   ]
  },
  {
   "cell_type": "code",
   "execution_count": 28,
   "metadata": {},
   "outputs": [
    {
     "data": {
      "application/vnd.jupyter.widget-view+json": {
       "model_id": "bb63b4e0af5f4e0a8670d1304dd69efc",
       "version_major": 2,
       "version_minor": 0
      },
      "text/plain": [
       "Downloading S2A_MSIL2A_20230107T181731_N0509_R084_T12SUB_20230107T215055.zip:   0%|          | 0.00/1.21G [00:…"
      ]
     },
     "metadata": {},
     "output_type": "display_data"
    },
    {
     "data": {
      "application/vnd.jupyter.widget-view+json": {
       "model_id": "e7b8c680c2fa479e8aa5e3920679e3e7",
       "version_major": 2,
       "version_minor": 0
      },
      "text/plain": [
       "MD5 checksumming:   0%|          | 0.00/1.21G [00:00<?, ?B/s]"
      ]
     },
     "metadata": {},
     "output_type": "display_data"
    },
    {
     "data": {
      "text/plain": [
       "{'id': 'a36f98be-5cd3-4a48-9259-0253b1e802bd',\n",
       " 'title': 'S2A_MSIL2A_20230107T181731_N0509_R084_T12SUB_20230107T215055',\n",
       " 'size': 1205425353,\n",
       " 'md5': '652b5eba6a0ecb6556d23ed278ceb478',\n",
       " 'date': datetime.datetime(2023, 1, 7, 18, 17, 31, 24000),\n",
       " 'footprint': 'POLYGON((-113.15103 33.42091875853871,-111.97035 33.435778798872015,-111.959595 32.44547285973725,-113.12721 32.431162035367194,-113.15103 33.42091875853871))',\n",
       " 'url': \"https://apihub.copernicus.eu/apihub/odata/v1/Products('a36f98be-5cd3-4a48-9259-0253b1e802bd')/$value\",\n",
       " 'Online': True,\n",
       " 'Creation Date': datetime.datetime(2023, 1, 7, 23, 43, 21, 481000),\n",
       " 'Ingestion Date': datetime.datetime(2023, 1, 7, 23, 42, 13, 414000),\n",
       " 'quicklook_url': \"https://apihub.copernicus.eu/apihub/odata/v1/Products('a36f98be-5cd3-4a48-9259-0253b1e802bd')/Products('Quicklook')/$value\",\n",
       " 'path': 'C:\\\\Users\\\\Fabian\\\\Documents\\\\Masterarbeit_Daten\\\\S2A_MSIL2A_20230107T181731_N0509_R084_T12SUB_20230107T215055.zip',\n",
       " 'downloaded_bytes': 1205425353}"
      ]
     },
     "execution_count": 28,
     "metadata": {},
     "output_type": "execute_result"
    }
   ],
   "source": [
    "# download all results from the search\n",
    "api.download('a36f98be-5cd3-4a48-9259-0253b1e802bd', directory_path=r'C:\\Users\\Fabian\\Documents\\Masterarbeit_Daten')"
   ]
  },
  {
   "attachments": {},
   "cell_type": "markdown",
   "metadata": {},
   "source": [
    "### ChatGPT: Only download RGB and NIR Band"
   ]
  },
  {
   "cell_type": "code",
   "execution_count": null,
   "metadata": {},
   "outputs": [],
   "source": [
    "from sentinelhub import SHConfig\n",
    "\n",
    "# Set up your account credentials and configure the API\n",
    "config = SHConfig()\n",
    "config.sh_client_id = 'your_client_id'\n",
    "config.sh_client_secret = 'your_client_secret'\n",
    "config.instance_id = 'your_instance_id'"
   ]
  },
  {
   "cell_type": "markdown",
   "metadata": {},
   "source": [
    "### First try to make the API call with requests"
   ]
  },
  {
   "cell_type": "code",
   "execution_count": 1,
   "metadata": {},
   "outputs": [],
   "source": [
    "import requests"
   ]
  },
  {
   "cell_type": "code",
   "execution_count": 5,
   "metadata": {},
   "outputs": [],
   "source": [
    "platformname = 'Sentinel-2'\n",
    "beginposition = ['2023-01-01T00:00:00.000Z TO NOW']\n",
    "footprint = 'Intersects(POLYGON((49.753186143904465 9.791118103372561, 49.75370948463839 9.791895943992854, 49.75261080916379 9.79392905844176, 49.75203546759806 9.793365794544307, 49.753186143904465 9.791118103372561)))'\n",
    "cloudcoverpercentage = '[0 TO 20]'"
   ]
  },
  {
   "cell_type": "code",
   "execution_count": 6,
   "metadata": {},
   "outputs": [],
   "source": [
    "\n",
    "payload = {\n",
    "    'platformname': platformname, \n",
    "    'beginposition': beginposition,\n",
    "    'footprint': footprint,\n",
    "    'cloudcoverpercentage': cloudcoverpercentage\n",
    "    }\n"
   ]
  },
  {
   "cell_type": "code",
   "execution_count": 7,
   "metadata": {},
   "outputs": [],
   "source": [
    "# TODO path from endpoint (search trennen)\n",
    "r = requests.get('https://apihub.copernicus.eu/apihub/search', params=payload)"
   ]
  },
  {
   "cell_type": "code",
   "execution_count": 8,
   "metadata": {},
   "outputs": [
    {
     "data": {
      "text/plain": [
       "'https://apihub.copernicus.eu/apihub/search?platformname=Sentinel-2&beginposition=2022-10-01T00%3A00%3A00.000Z+TO+NOW&footprint=Intersects%28POLYGON%28%2849.753186143904465+9.791118103372561%2C+49.75370948463839+9.791895943992854%2C+49.75261080916379+9.79392905844176%2C+49.75203546759806+9.793365794544307%2C+49.753186143904465+9.791118103372561%29%29%29&cloudcoverpercentage=%5B0+TO+20%5D'"
      ]
     },
     "execution_count": 8,
     "metadata": {},
     "output_type": "execute_result"
    }
   ],
   "source": [
    "r.url"
   ]
  },
  {
   "cell_type": "code",
   "execution_count": 2,
   "metadata": {},
   "outputs": [
    {
     "ename": "JSONDecodeError",
     "evalue": "Expecting value: line 1 column 1 (char 0)",
     "output_type": "error",
     "traceback": [
      "\u001b[1;31m---------------------------------------------------------------------------\u001b[0m",
      "\u001b[1;31mJSONDecodeError\u001b[0m                           Traceback (most recent call last)",
      "File \u001b[1;32mc:\\Users\\Fabian\\OneDrive - Universität Würzburg\\Uni Würzburg\\Master\\Masterthesis\\Code\\Einarbeitung\\geotorch_v1\\lib\\site-packages\\requests\\models.py:971\u001b[0m, in \u001b[0;36mResponse.json\u001b[1;34m(self, **kwargs)\u001b[0m\n\u001b[0;32m    970\u001b[0m \u001b[39mtry\u001b[39;00m:\n\u001b[1;32m--> 971\u001b[0m     \u001b[39mreturn\u001b[39;00m complexjson\u001b[39m.\u001b[39mloads(\u001b[39mself\u001b[39m\u001b[39m.\u001b[39mtext, \u001b[39m*\u001b[39m\u001b[39m*\u001b[39mkwargs)\n\u001b[0;32m    972\u001b[0m \u001b[39mexcept\u001b[39;00m JSONDecodeError \u001b[39mas\u001b[39;00m e:\n\u001b[0;32m    973\u001b[0m     \u001b[39m# Catch JSON-related errors and raise as requests.JSONDecodeError\u001b[39;00m\n\u001b[0;32m    974\u001b[0m     \u001b[39m# This aliases json.JSONDecodeError and simplejson.JSONDecodeError\u001b[39;00m\n",
      "File \u001b[1;32mC:\\Python310\\lib\\json\\__init__.py:346\u001b[0m, in \u001b[0;36mloads\u001b[1;34m(s, cls, object_hook, parse_float, parse_int, parse_constant, object_pairs_hook, **kw)\u001b[0m\n\u001b[0;32m    343\u001b[0m \u001b[39mif\u001b[39;00m (\u001b[39mcls\u001b[39m \u001b[39mis\u001b[39;00m \u001b[39mNone\u001b[39;00m \u001b[39mand\u001b[39;00m object_hook \u001b[39mis\u001b[39;00m \u001b[39mNone\u001b[39;00m \u001b[39mand\u001b[39;00m\n\u001b[0;32m    344\u001b[0m         parse_int \u001b[39mis\u001b[39;00m \u001b[39mNone\u001b[39;00m \u001b[39mand\u001b[39;00m parse_float \u001b[39mis\u001b[39;00m \u001b[39mNone\u001b[39;00m \u001b[39mand\u001b[39;00m\n\u001b[0;32m    345\u001b[0m         parse_constant \u001b[39mis\u001b[39;00m \u001b[39mNone\u001b[39;00m \u001b[39mand\u001b[39;00m object_pairs_hook \u001b[39mis\u001b[39;00m \u001b[39mNone\u001b[39;00m \u001b[39mand\u001b[39;00m \u001b[39mnot\u001b[39;00m kw):\n\u001b[1;32m--> 346\u001b[0m     \u001b[39mreturn\u001b[39;00m _default_decoder\u001b[39m.\u001b[39;49mdecode(s)\n\u001b[0;32m    347\u001b[0m \u001b[39mif\u001b[39;00m \u001b[39mcls\u001b[39m \u001b[39mis\u001b[39;00m \u001b[39mNone\u001b[39;00m:\n",
      "File \u001b[1;32mC:\\Python310\\lib\\json\\decoder.py:337\u001b[0m, in \u001b[0;36mJSONDecoder.decode\u001b[1;34m(self, s, _w)\u001b[0m\n\u001b[0;32m    333\u001b[0m \u001b[39m\u001b[39m\u001b[39m\"\"\"Return the Python representation of ``s`` (a ``str`` instance\u001b[39;00m\n\u001b[0;32m    334\u001b[0m \u001b[39mcontaining a JSON document).\u001b[39;00m\n\u001b[0;32m    335\u001b[0m \n\u001b[0;32m    336\u001b[0m \u001b[39m\"\"\"\u001b[39;00m\n\u001b[1;32m--> 337\u001b[0m obj, end \u001b[39m=\u001b[39m \u001b[39mself\u001b[39;49m\u001b[39m.\u001b[39;49mraw_decode(s, idx\u001b[39m=\u001b[39;49m_w(s, \u001b[39m0\u001b[39;49m)\u001b[39m.\u001b[39;49mend())\n\u001b[0;32m    338\u001b[0m end \u001b[39m=\u001b[39m _w(s, end)\u001b[39m.\u001b[39mend()\n",
      "File \u001b[1;32mC:\\Python310\\lib\\json\\decoder.py:355\u001b[0m, in \u001b[0;36mJSONDecoder.raw_decode\u001b[1;34m(self, s, idx)\u001b[0m\n\u001b[0;32m    354\u001b[0m \u001b[39mexcept\u001b[39;00m \u001b[39mStopIteration\u001b[39;00m \u001b[39mas\u001b[39;00m err:\n\u001b[1;32m--> 355\u001b[0m     \u001b[39mraise\u001b[39;00m JSONDecodeError(\u001b[39m\"\u001b[39m\u001b[39mExpecting value\u001b[39m\u001b[39m\"\u001b[39m, s, err\u001b[39m.\u001b[39mvalue) \u001b[39mfrom\u001b[39;00m \u001b[39mNone\u001b[39m\n\u001b[0;32m    356\u001b[0m \u001b[39mreturn\u001b[39;00m obj, end\n",
      "\u001b[1;31mJSONDecodeError\u001b[0m: Expecting value: line 1 column 1 (char 0)",
      "\nDuring handling of the above exception, another exception occurred:\n",
      "\u001b[1;31mJSONDecodeError\u001b[0m                           Traceback (most recent call last)",
      "Cell \u001b[1;32mIn[2], line 19\u001b[0m\n\u001b[0;32m     16\u001b[0m response \u001b[39m=\u001b[39m requests\u001b[39m.\u001b[39mget(url, params\u001b[39m=\u001b[39mparams, auth\u001b[39m=\u001b[39mauth)\n\u001b[0;32m     18\u001b[0m \u001b[39m# Parse the response JSON\u001b[39;00m\n\u001b[1;32m---> 19\u001b[0m result \u001b[39m=\u001b[39m response\u001b[39m.\u001b[39;49mjson()\n\u001b[0;32m     21\u001b[0m \u001b[39m# Get the download URL for the product\u001b[39;00m\n\u001b[0;32m     22\u001b[0m download_url \u001b[39m=\u001b[39m result[\u001b[39m'\u001b[39m\u001b[39mvalue\u001b[39m\u001b[39m'\u001b[39m][\u001b[39m0\u001b[39m][\u001b[39m'\u001b[39m\u001b[39mName\u001b[39m\u001b[39m'\u001b[39m]\n",
      "File \u001b[1;32mc:\\Users\\Fabian\\OneDrive - Universität Würzburg\\Uni Würzburg\\Master\\Masterthesis\\Code\\Einarbeitung\\geotorch_v1\\lib\\site-packages\\requests\\models.py:975\u001b[0m, in \u001b[0;36mResponse.json\u001b[1;34m(self, **kwargs)\u001b[0m\n\u001b[0;32m    971\u001b[0m     \u001b[39mreturn\u001b[39;00m complexjson\u001b[39m.\u001b[39mloads(\u001b[39mself\u001b[39m\u001b[39m.\u001b[39mtext, \u001b[39m*\u001b[39m\u001b[39m*\u001b[39mkwargs)\n\u001b[0;32m    972\u001b[0m \u001b[39mexcept\u001b[39;00m JSONDecodeError \u001b[39mas\u001b[39;00m e:\n\u001b[0;32m    973\u001b[0m     \u001b[39m# Catch JSON-related errors and raise as requests.JSONDecodeError\u001b[39;00m\n\u001b[0;32m    974\u001b[0m     \u001b[39m# This aliases json.JSONDecodeError and simplejson.JSONDecodeError\u001b[39;00m\n\u001b[1;32m--> 975\u001b[0m     \u001b[39mraise\u001b[39;00m RequestsJSONDecodeError(e\u001b[39m.\u001b[39mmsg, e\u001b[39m.\u001b[39mdoc, e\u001b[39m.\u001b[39mpos)\n",
      "\u001b[1;31mJSONDecodeError\u001b[0m: Expecting value: line 1 column 1 (char 0)"
     ]
    }
   ],
   "source": [
    "# Set the API endpoint URL\n",
    "url = 'https://scihub.copernicus.eu/apihub/odata/v1/Products'\n",
    "\n",
    "# Set the search parameters\n",
    "params = {\n",
    "    'search': 'filename:S2* AND platformname:Sentinel-2 AND producttype:S2MSI1C',  # Search for Sentinel-2 L1C products\n",
    "    '$select': 'Name,Size,ContentDate',  # Select the fields to return\n",
    "    '$orderby': 'ContentDate desc',  # Sort the results by date (newest first)\n",
    "    '$top': 1  # Limit the results to the newest product\n",
    "}\n",
    "\n",
    "# Set the authentication credentials\n",
    "auth = ('taraman', 'y6HG%!6cF!86y$tK3')\n",
    "\n",
    "# Send the request\n",
    "response = requests.get(url, params=params, auth=auth)\n",
    "\n",
    "# Parse the response JSON\n",
    "result = response.json()\n",
    "\n",
    "# Get the download URL for the product\n",
    "download_url = result['value'][0]['Name']\n",
    "\n",
    "# Download the product\n",
    "response = requests.get(download_url, stream=True, auth=auth)\n",
    "\n",
    "download_path = r'C:\\Users\\Fabian\\Documents\\Masterarbeit_Daten\\test.zip'\n",
    "\n",
    "\n",
    "# Write the downloaded data to a file\n",
    "with open(download_path, 'wb') as f:\n",
    "    for chunk in response.iter_content(chunk_size=1024):\n",
    "        if chunk:\n",
    "            f.write(chunk)"
   ]
  },
  {
   "cell_type": "code",
   "execution_count": 3,
   "metadata": {},
   "outputs": [],
   "source": [
    "# Set the API endpoint URL\n",
    "url = 'https://scihub.copernicus.eu/apihub/odata/v1/Products'\n",
    "\n",
    "# Set the search parameters\n",
    "params = {\n",
    "    'search': 'filename:S2* AND platformname:Sentinel-2 AND producttype:S2MSI1C',  # Search for Sentinel-2 L1C products\n",
    "    '$select': 'Name,Size,ContentDate',  # Select the fields to return\n",
    "    '$orderby': 'ContentDate desc',  # Sort the results by date (newest first)\n",
    "    '$top': 1  # Limit the results to the newest product\n",
    "}\n",
    "\n",
    "# Set the authentication credentials\n",
    "auth = ('taraman', 'y6HG%!6cF!86y$tK3')\n",
    "\n",
    "# Send the request\n",
    "response = requests.get(url, params=params, auth=auth)\n"
   ]
  },
  {
   "cell_type": "code",
   "execution_count": 5,
   "metadata": {},
   "outputs": [
    {
     "data": {
      "text/plain": [
       "<Response [401]>"
      ]
     },
     "execution_count": 5,
     "metadata": {},
     "output_type": "execute_result"
    }
   ],
   "source": [
    "response"
   ]
  },
  {
   "cell_type": "code",
   "execution_count": 4,
   "metadata": {},
   "outputs": [
    {
     "ename": "JSONDecodeError",
     "evalue": "Expecting value: line 1 column 1 (char 0)",
     "output_type": "error",
     "traceback": [
      "\u001b[1;31m---------------------------------------------------------------------------\u001b[0m",
      "\u001b[1;31mJSONDecodeError\u001b[0m                           Traceback (most recent call last)",
      "File \u001b[1;32mc:\\Users\\Fabian\\OneDrive - Universität Würzburg\\Uni Würzburg\\Master\\Masterthesis\\Code\\Einarbeitung\\geotorch_v1\\lib\\site-packages\\requests\\models.py:971\u001b[0m, in \u001b[0;36mResponse.json\u001b[1;34m(self, **kwargs)\u001b[0m\n\u001b[0;32m    970\u001b[0m \u001b[39mtry\u001b[39;00m:\n\u001b[1;32m--> 971\u001b[0m     \u001b[39mreturn\u001b[39;00m complexjson\u001b[39m.\u001b[39mloads(\u001b[39mself\u001b[39m\u001b[39m.\u001b[39mtext, \u001b[39m*\u001b[39m\u001b[39m*\u001b[39mkwargs)\n\u001b[0;32m    972\u001b[0m \u001b[39mexcept\u001b[39;00m JSONDecodeError \u001b[39mas\u001b[39;00m e:\n\u001b[0;32m    973\u001b[0m     \u001b[39m# Catch JSON-related errors and raise as requests.JSONDecodeError\u001b[39;00m\n\u001b[0;32m    974\u001b[0m     \u001b[39m# This aliases json.JSONDecodeError and simplejson.JSONDecodeError\u001b[39;00m\n",
      "File \u001b[1;32mC:\\Python310\\lib\\json\\__init__.py:346\u001b[0m, in \u001b[0;36mloads\u001b[1;34m(s, cls, object_hook, parse_float, parse_int, parse_constant, object_pairs_hook, **kw)\u001b[0m\n\u001b[0;32m    343\u001b[0m \u001b[39mif\u001b[39;00m (\u001b[39mcls\u001b[39m \u001b[39mis\u001b[39;00m \u001b[39mNone\u001b[39;00m \u001b[39mand\u001b[39;00m object_hook \u001b[39mis\u001b[39;00m \u001b[39mNone\u001b[39;00m \u001b[39mand\u001b[39;00m\n\u001b[0;32m    344\u001b[0m         parse_int \u001b[39mis\u001b[39;00m \u001b[39mNone\u001b[39;00m \u001b[39mand\u001b[39;00m parse_float \u001b[39mis\u001b[39;00m \u001b[39mNone\u001b[39;00m \u001b[39mand\u001b[39;00m\n\u001b[0;32m    345\u001b[0m         parse_constant \u001b[39mis\u001b[39;00m \u001b[39mNone\u001b[39;00m \u001b[39mand\u001b[39;00m object_pairs_hook \u001b[39mis\u001b[39;00m \u001b[39mNone\u001b[39;00m \u001b[39mand\u001b[39;00m \u001b[39mnot\u001b[39;00m kw):\n\u001b[1;32m--> 346\u001b[0m     \u001b[39mreturn\u001b[39;00m _default_decoder\u001b[39m.\u001b[39;49mdecode(s)\n\u001b[0;32m    347\u001b[0m \u001b[39mif\u001b[39;00m \u001b[39mcls\u001b[39m \u001b[39mis\u001b[39;00m \u001b[39mNone\u001b[39;00m:\n",
      "File \u001b[1;32mC:\\Python310\\lib\\json\\decoder.py:337\u001b[0m, in \u001b[0;36mJSONDecoder.decode\u001b[1;34m(self, s, _w)\u001b[0m\n\u001b[0;32m    333\u001b[0m \u001b[39m\u001b[39m\u001b[39m\"\"\"Return the Python representation of ``s`` (a ``str`` instance\u001b[39;00m\n\u001b[0;32m    334\u001b[0m \u001b[39mcontaining a JSON document).\u001b[39;00m\n\u001b[0;32m    335\u001b[0m \n\u001b[0;32m    336\u001b[0m \u001b[39m\"\"\"\u001b[39;00m\n\u001b[1;32m--> 337\u001b[0m obj, end \u001b[39m=\u001b[39m \u001b[39mself\u001b[39;49m\u001b[39m.\u001b[39;49mraw_decode(s, idx\u001b[39m=\u001b[39;49m_w(s, \u001b[39m0\u001b[39;49m)\u001b[39m.\u001b[39;49mend())\n\u001b[0;32m    338\u001b[0m end \u001b[39m=\u001b[39m _w(s, end)\u001b[39m.\u001b[39mend()\n",
      "File \u001b[1;32mC:\\Python310\\lib\\json\\decoder.py:355\u001b[0m, in \u001b[0;36mJSONDecoder.raw_decode\u001b[1;34m(self, s, idx)\u001b[0m\n\u001b[0;32m    354\u001b[0m \u001b[39mexcept\u001b[39;00m \u001b[39mStopIteration\u001b[39;00m \u001b[39mas\u001b[39;00m err:\n\u001b[1;32m--> 355\u001b[0m     \u001b[39mraise\u001b[39;00m JSONDecodeError(\u001b[39m\"\u001b[39m\u001b[39mExpecting value\u001b[39m\u001b[39m\"\u001b[39m, s, err\u001b[39m.\u001b[39mvalue) \u001b[39mfrom\u001b[39;00m \u001b[39mNone\u001b[39m\n\u001b[0;32m    356\u001b[0m \u001b[39mreturn\u001b[39;00m obj, end\n",
      "\u001b[1;31mJSONDecodeError\u001b[0m: Expecting value: line 1 column 1 (char 0)",
      "\nDuring handling of the above exception, another exception occurred:\n",
      "\u001b[1;31mJSONDecodeError\u001b[0m                           Traceback (most recent call last)",
      "Cell \u001b[1;32mIn[4], line 2\u001b[0m\n\u001b[0;32m      1\u001b[0m \u001b[39m# Parse the response JSON\u001b[39;00m\n\u001b[1;32m----> 2\u001b[0m result \u001b[39m=\u001b[39m response\u001b[39m.\u001b[39;49mjson()\n",
      "File \u001b[1;32mc:\\Users\\Fabian\\OneDrive - Universität Würzburg\\Uni Würzburg\\Master\\Masterthesis\\Code\\Einarbeitung\\geotorch_v1\\lib\\site-packages\\requests\\models.py:975\u001b[0m, in \u001b[0;36mResponse.json\u001b[1;34m(self, **kwargs)\u001b[0m\n\u001b[0;32m    971\u001b[0m     \u001b[39mreturn\u001b[39;00m complexjson\u001b[39m.\u001b[39mloads(\u001b[39mself\u001b[39m\u001b[39m.\u001b[39mtext, \u001b[39m*\u001b[39m\u001b[39m*\u001b[39mkwargs)\n\u001b[0;32m    972\u001b[0m \u001b[39mexcept\u001b[39;00m JSONDecodeError \u001b[39mas\u001b[39;00m e:\n\u001b[0;32m    973\u001b[0m     \u001b[39m# Catch JSON-related errors and raise as requests.JSONDecodeError\u001b[39;00m\n\u001b[0;32m    974\u001b[0m     \u001b[39m# This aliases json.JSONDecodeError and simplejson.JSONDecodeError\u001b[39;00m\n\u001b[1;32m--> 975\u001b[0m     \u001b[39mraise\u001b[39;00m RequestsJSONDecodeError(e\u001b[39m.\u001b[39mmsg, e\u001b[39m.\u001b[39mdoc, e\u001b[39m.\u001b[39mpos)\n",
      "\u001b[1;31mJSONDecodeError\u001b[0m: Expecting value: line 1 column 1 (char 0)"
     ]
    }
   ],
   "source": [
    "# Parse the response JSON\n",
    "result = response.json()"
   ]
  },
  {
   "cell_type": "code",
   "execution_count": null,
   "metadata": {},
   "outputs": [],
   "source": [
    "root_url = 'https://scihub.copernicus.eu/apihub/odata/v1/Products'"
   ]
  },
  {
   "attachments": {},
   "cell_type": "markdown",
   "metadata": {},
   "source": [
    "### OpenSearch API"
   ]
  },
  {
   "attachments": {},
   "cell_type": "markdown",
   "metadata": {},
   "source": [
    "Docs: https://scihub.copernicus.eu/userguide/OpenSearchAPI"
   ]
  },
  {
   "cell_type": "code",
   "execution_count": 6,
   "metadata": {},
   "outputs": [],
   "source": [
    "root_url = 'https://scihub.copernicus.eu/dhus/search?q='"
   ]
  },
  {
   "cell_type": "code",
   "execution_count": null,
   "metadata": {},
   "outputs": [],
   "source": []
  }
 ],
 "metadata": {
  "kernelspec": {
   "display_name": "geotorch_v1",
   "language": "python",
   "name": "python3"
  },
  "language_info": {
   "codemirror_mode": {
    "name": "ipython",
    "version": 3
   },
   "file_extension": ".py",
   "mimetype": "text/x-python",
   "name": "python",
   "nbconvert_exporter": "python",
   "pygments_lexer": "ipython3",
   "version": "3.10.0"
  },
  "orig_nbformat": 4,
  "vscode": {
   "interpreter": {
    "hash": "92acacfd0bedc5b0b3ce03efb92a48fc888a77b3d24a16fdf7241c4ea9608b3b"
   }
  }
 },
 "nbformat": 4,
 "nbformat_minor": 2
}

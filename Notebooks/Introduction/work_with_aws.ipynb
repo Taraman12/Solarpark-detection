{
 "cells": [
  {
   "cell_type": "code",
   "execution_count": 1,
   "metadata": {},
   "outputs": [],
   "source": [
    "import logging\n",
    "import boto3\n",
    "from botocore.exceptions import ClientError\n",
    "from dotenv import load_dotenv\n",
    "import random\n",
    "import os\n",
    "import uuid\n",
    "from pathlib import Path\n",
    "\n",
    "def create_bucket(bucket_name, region=None):\n",
    "    \"\"\"Create an S3 bucket in a specified region\n",
    "\n",
    "    If a region is not specified, the bucket is created in the S3 default\n",
    "    region (us-east-1).\n",
    "\n",
    "    :param bucket_name: Bucket to create\n",
    "    :param region: String region to create bucket in, e.g., 'us-west-2'\n",
    "    :return: True if bucket created, else False\n",
    "    \"\"\"\n",
    "    load_dotenv()\n",
    "    aws_access_key_id = os.getenv(\"aws_access_key_id\")\n",
    "    aws_secret_access_key = os.getenv(\"aws_secret_access_key\")\n",
    "\n",
    "    # Create bucket\n",
    "    try:\n",
    "        if region is None:\n",
    "            s3_client = boto3.client(\n",
    "                        \"s3\",\n",
    "                        aws_access_key_id=aws_access_key_id,\n",
    "                        aws_secret_access_key=aws_secret_access_key,\n",
    "                        )\n",
    "            s3_client.create_bucket(Bucket=bucket_name)\n",
    "        else:\n",
    "            s3_client = boto3.client(\n",
    "                        \"s3\",\n",
    "                        aws_access_key_id=aws_access_key_id,\n",
    "                        aws_secret_access_key=aws_secret_access_key,\n",
    "                        region_name=region\n",
    "                        )\n",
    "            location = {'LocationConstraint': region}\n",
    "            s3_client.create_bucket(Bucket=bucket_name,\n",
    "                                    CreateBucketConfiguration=location)\n",
    "    except ClientError as e:\n",
    "        logging.error(e)\n",
    "        return False\n",
    "    return True"
   ]
  },
  {
   "cell_type": "code",
   "execution_count": 9,
   "metadata": {},
   "outputs": [],
   "source": [
    "# sentinel on aws is in region eu-central-1 therefore we use this region to avoid costs\n",
    "region = \"eu-central-1\"\n",
    "gen_ran_num = random.randrange(100000,999999)\n",
    "bucket_name = f\"solar-detection-{gen_ran_num}-{region}\""
   ]
  },
  {
   "cell_type": "code",
   "execution_count": 2,
   "metadata": {},
   "outputs": [
    {
     "ename": "NameError",
     "evalue": "name 'bucket_name' is not defined",
     "output_type": "error",
     "traceback": [
      "\u001b[1;31m---------------------------------------------------------------------------\u001b[0m",
      "\u001b[1;31mNameError\u001b[0m                                 Traceback (most recent call last)",
      "Cell \u001b[1;32mIn[2], line 1\u001b[0m\n\u001b[1;32m----> 1\u001b[0m bucket_name\n",
      "\u001b[1;31mNameError\u001b[0m: name 'bucket_name' is not defined"
     ]
    }
   ],
   "source": [
    "bucket_name"
   ]
  },
  {
   "cell_type": "code",
   "execution_count": 11,
   "metadata": {},
   "outputs": [
    {
     "data": {
      "text/plain": [
       "True"
      ]
     },
     "execution_count": 11,
     "metadata": {},
     "output_type": "execute_result"
    }
   ],
   "source": [
    "create_bucket(bucket_name, region)"
   ]
  },
  {
   "cell_type": "code",
   "execution_count": 5,
   "metadata": {},
   "outputs": [],
   "source": [
    "s3 = boto3.client('s3')\n",
    "response = s3.list_buckets()"
   ]
  },
  {
   "cell_type": "code",
   "execution_count": 13,
   "metadata": {},
   "outputs": [
    {
     "name": "stdout",
     "output_type": "stream",
     "text": [
      "Existing buckets:\n",
      "  solar-detection-697553-eu-central-1\n",
      "  solar-detection-ddf3ed03-f48f-11ed-9394-3413e8c504df-eu-west-1\n"
     ]
    }
   ],
   "source": [
    "# Output the bucket names\n",
    "print('Existing buckets:')\n",
    "for bucket in response['Buckets']:\n",
    "    print(f'  {bucket[\"Name\"]}')"
   ]
  },
  {
   "cell_type": "code",
   "execution_count": 15,
   "metadata": {},
   "outputs": [],
   "source": [
    "def upload_file(file_name, bucket, object_name=None):\n",
    "    \"\"\"Upload a file to an S3 bucket\n",
    "\n",
    "    :param file_name: File to upload\n",
    "    :param bucket: Bucket to upload to\n",
    "    :param object_name: S3 object name. If not specified then file_name is used\n",
    "    :return: True if file was uploaded, else False\n",
    "    \"\"\"\n",
    "\n",
    "    # If S3 object_name was not specified, use file_name\n",
    "    if object_name is None:\n",
    "        object_name = os.path.basename(file_name)\n",
    "\n",
    "    # Upload the file\n",
    "    s3_client = boto3.client('s3')\n",
    "    try:\n",
    "        response = s3_client.upload_file(file_name, bucket, object_name)\n",
    "    except ClientError as e:\n",
    "        logging.error(e)\n",
    "        return False\n",
    "    return True"
   ]
  },
  {
   "cell_type": "code",
   "execution_count": 16,
   "metadata": {},
   "outputs": [],
   "source": [
    "file_path = Path(r\"C:\\Users\\Fabian\\Documents\\Github_Masterthesis\\Solarpark-detection\\data_local\\test_images_geotiff2\\image_0_4.tif\")\n",
    "file_name = open(file_path, 'rb')"
   ]
  },
  {
   "cell_type": "code",
   "execution_count": 17,
   "metadata": {},
   "outputs": [
    {
     "data": {
      "text/plain": [
       "True"
      ]
     },
     "execution_count": 17,
     "metadata": {},
     "output_type": "execute_result"
    }
   ],
   "source": [
    "upload_file(file_path, bucket_name, object_name='\\test\\image_0_4.tif')"
   ]
  },
  {
   "cell_type": "code",
   "execution_count": 8,
   "metadata": {},
   "outputs": [],
   "source": [
    "bucket_name = \"solar-detection-697553-eu-central-1\""
   ]
  },
  {
   "cell_type": "code",
   "execution_count": 14,
   "metadata": {},
   "outputs": [],
   "source": [
    "response = s3.list_objects_v2(\n",
    "  Bucket=bucket_name,\n",
    "  Prefix='data_raw'\n",
    ")"
   ]
  },
  {
   "cell_type": "code",
   "execution_count": 15,
   "metadata": {},
   "outputs": [
    {
     "data": {
      "text/plain": [
       "[{'Key': 'data_raw/S2A_MSIL2A_20230513T100551_N0509_R022_T33UVV_20230513T161552/B02_10m.jp2',\n",
       "  'LastModified': datetime.datetime(2023, 5, 17, 19, 23, 12, tzinfo=tzutc()),\n",
       "  'ETag': '\"1a6b331181c4b5e2410deac64a38ef3f-14\"',\n",
       "  'Size': 111611343,\n",
       "  'StorageClass': 'STANDARD'},\n",
       " {'Key': 'data_raw/S2A_MSIL2A_20230513T100551_N0509_R022_T33UVV_20230513T161552/B03_10m.jp2',\n",
       "  'LastModified': datetime.datetime(2023, 5, 17, 19, 23, 38, tzinfo=tzutc()),\n",
       "  'ETag': '\"823e7e69c3cf4cf9254ffb5cde7388c4-14\"',\n",
       "  'Size': 114026241,\n",
       "  'StorageClass': 'STANDARD'},\n",
       " {'Key': 'data_raw/S2A_MSIL2A_20230513T100551_N0509_R022_T33UVV_20230513T161552/B04_10m.jp2',\n",
       "  'LastModified': datetime.datetime(2023, 5, 17, 19, 24, 1, tzinfo=tzutc()),\n",
       "  'ETag': '\"9c9e5b6d6aaad58a4eed98fb999272c2-14\"',\n",
       "  'Size': 113288491,\n",
       "  'StorageClass': 'STANDARD'},\n",
       " {'Key': 'data_raw/S2A_MSIL2A_20230513T100551_N0509_R022_T33UVV_20230513T161552/B08_10m.jp2',\n",
       "  'LastModified': datetime.datetime(2023, 5, 17, 19, 24, 24, tzinfo=tzutc()),\n",
       "  'ETag': '\"5d2b59da87cd8a5d35d2c35309701942-16\"',\n",
       "  'Size': 130874550,\n",
       "  'StorageClass': 'STANDARD'}]"
      ]
     },
     "execution_count": 15,
     "metadata": {},
     "output_type": "execute_result"
    }
   ],
   "source": [
    "response['Contents']"
   ]
  },
  {
   "cell_type": "code",
   "execution_count": 33,
   "metadata": {},
   "outputs": [],
   "source": [
    "try:\n",
    "    response = s3.head_object(Bucket=bucket_name, Key='\\test\\image_0_4.tif')\n",
    "except ClientError as e:\n",
    "    if e.response['Error']['Code'] == \"404\":\n",
    "        print(\"The object does not exist.\")\n",
    "    else:\n",
    "        raise e"
   ]
  },
  {
   "cell_type": "code",
   "execution_count": 29,
   "metadata": {},
   "outputs": [
    {
     "data": {
      "text/plain": [
       "200"
      ]
     },
     "execution_count": 29,
     "metadata": {},
     "output_type": "execute_result"
    }
   ],
   "source": [
    "response['ResponseMetadata']['HTTPStatusCode']"
   ]
  },
  {
   "cell_type": "code",
   "execution_count": 26,
   "metadata": {},
   "outputs": [],
   "source": [
    "s3.download_file(bucket_name, '\\test\\image_0_4.tif', r'C:\\Users\\Fabian\\Downloads\\image_0_4.tif')"
   ]
  },
  {
   "cell_type": "code",
   "execution_count": 27,
   "metadata": {},
   "outputs": [
    {
     "data": {
      "text/plain": [
       "{'ResponseMetadata': {'RequestId': '4V6SWY189J6F6ZFJ',\n",
       "  'HostId': 'wW4EmoHifbNjjAAQUf/BdRob6+SMCmaLaT+Ogiqset53uATPj4/2IH0L7WvPFEo7HKiophWBFpQ=',\n",
       "  'HTTPStatusCode': 204,\n",
       "  'HTTPHeaders': {'x-amz-id-2': 'wW4EmoHifbNjjAAQUf/BdRob6+SMCmaLaT+Ogiqset53uATPj4/2IH0L7WvPFEo7HKiophWBFpQ=',\n",
       "   'x-amz-request-id': '4V6SWY189J6F6ZFJ',\n",
       "   'date': 'Wed, 17 May 2023 10:03:43 GMT',\n",
       "   'server': 'AmazonS3'},\n",
       "  'RetryAttempts': 0}}"
      ]
     },
     "execution_count": 27,
     "metadata": {},
     "output_type": "execute_result"
    }
   ],
   "source": [
    "s3.delete_object(Bucket=bucket_name, Key='\\test\\image_0_4.tif')"
   ]
  },
  {
   "cell_type": "code",
   "execution_count": 28,
   "metadata": {},
   "outputs": [],
   "source": [
    "response = s3.list_objects_v2(\n",
    "  Bucket=bucket_name\n",
    ")"
   ]
  },
  {
   "cell_type": "code",
   "execution_count": 30,
   "metadata": {},
   "outputs": [
    {
     "data": {
      "text/plain": [
       "{'ResponseMetadata': {'RequestId': 'DS1BN3MFJTNEFAKT',\n",
       "  'HostId': '1eHwCUpEOhnRKrWTCUnmdJNIXmlqmJOlxhJaZ1vggiommI81XG++rqRmA6IKKx90MpWdjnr88TM=',\n",
       "  'HTTPStatusCode': 200,\n",
       "  'HTTPHeaders': {'x-amz-id-2': '1eHwCUpEOhnRKrWTCUnmdJNIXmlqmJOlxhJaZ1vggiommI81XG++rqRmA6IKKx90MpWdjnr88TM=',\n",
       "   'x-amz-request-id': 'DS1BN3MFJTNEFAKT',\n",
       "   'date': 'Wed, 17 May 2023 10:03:55 GMT',\n",
       "   'x-amz-bucket-region': 'eu-west-1',\n",
       "   'content-type': 'application/xml',\n",
       "   'transfer-encoding': 'chunked',\n",
       "   'server': 'AmazonS3'},\n",
       "  'RetryAttempts': 0},\n",
       " 'IsTruncated': False,\n",
       " 'Name': 'solar-detection-ddf3ed03-f48f-11ed-9394-3413e8c504df-eu-west-1',\n",
       " 'Prefix': '',\n",
       " 'MaxKeys': 1000,\n",
       " 'EncodingType': 'url',\n",
       " 'KeyCount': 0}"
      ]
     },
     "execution_count": 30,
     "metadata": {},
     "output_type": "execute_result"
    }
   ],
   "source": [
    "response"
   ]
  },
  {
   "cell_type": "code",
   "execution_count": 16,
   "metadata": {},
   "outputs": [],
   "source": [
    "test = Path()"
   ]
  },
  {
   "cell_type": "code",
   "execution_count": 22,
   "metadata": {},
   "outputs": [
    {
     "data": {
      "text/plain": [
       "False"
      ]
     },
     "execution_count": 22,
     "metadata": {},
     "output_type": "execute_result"
    }
   ],
   "source": [
    "not test.is_dir()"
   ]
  },
  {
   "cell_type": "code",
   "execution_count": 23,
   "metadata": {},
   "outputs": [
    {
     "data": {
      "text/plain": [
       "True"
      ]
     },
     "execution_count": 23,
     "metadata": {},
     "output_type": "execute_result"
    }
   ],
   "source": [
    "test2 = Path(r\"C:\\Users\\Fabian\\Documents\\Github_Masterthesis\\Solarpark-detection\\data_local\\test_images_geotiff2\\image_0_4.tif\")\n",
    "not test2.is_dir()"
   ]
  },
  {
   "cell_type": "code",
   "execution_count": null,
   "metadata": {},
   "outputs": [],
   "source": []
  }
 ],
 "metadata": {
  "kernelspec": {
   "display_name": ".venv",
   "language": "python",
   "name": "python3"
  },
  "language_info": {
   "codemirror_mode": {
    "name": "ipython",
    "version": 3
   },
   "file_extension": ".py",
   "mimetype": "text/x-python",
   "name": "python",
   "nbconvert_exporter": "python",
   "pygments_lexer": "ipython3",
   "version": "3.10.0"
  },
  "orig_nbformat": 4
 },
 "nbformat": 4,
 "nbformat_minor": 2
}

{
 "cells": [
  {
   "cell_type": "code",
   "execution_count": 1,
   "metadata": {},
   "outputs": [],
   "source": [
    "import docker\n",
    "from docker.types import Mount"
   ]
  },
  {
   "cell_type": "code",
   "execution_count": 3,
   "metadata": {},
   "outputs": [
    {
     "data": {
      "text/plain": [
       "{'UnlockKey': ''}"
      ]
     },
     "execution_count": 3,
     "metadata": {},
     "output_type": "execute_result"
    }
   ],
   "source": [
    "client = docker.from_env()\n",
    "client.swarm.get_unlock_key()"
   ]
  },
  {
   "cell_type": "code",
   "execution_count": 5,
   "metadata": {},
   "outputs": [
    {
     "data": {
      "text/plain": [
       "{'ID': '5nsog1sbta57naosklz5bketh',\n",
       " 'Version': {'Index': 10},\n",
       " 'CreatedAt': '2023-06-04T14:17:17.398400759Z',\n",
       " 'UpdatedAt': '2023-06-04T14:17:17.911878634Z',\n",
       " 'Spec': {'Name': 'default',\n",
       "  'Labels': {},\n",
       "  'Orchestration': {'TaskHistoryRetentionLimit': 5},\n",
       "  'Raft': {'SnapshotInterval': 10000,\n",
       "   'KeepOldSnapshots': 0,\n",
       "   'LogEntriesForSlowFollowers': 500,\n",
       "   'ElectionTick': 10,\n",
       "   'HeartbeatTick': 1},\n",
       "  'Dispatcher': {'HeartbeatPeriod': 5000000000},\n",
       "  'CAConfig': {'NodeCertExpiry': 7776000000000000},\n",
       "  'TaskDefaults': {},\n",
       "  'EncryptionConfig': {'AutoLockManagers': False}},\n",
       " 'TLSInfo': {'TrustRoot': '-----BEGIN CERTIFICATE-----\\nMIIBaTCCARCgAwIBAgIUND4k/hsjkh9h2mSkQIWnqdv0WOQwCgYIKoZIzj0EAwIw\\nEzERMA8GA1UEAxMIc3dhcm0tY2EwHhcNMjMwNjA0MTQxMjAwWhcNNDMwNTMwMTQx\\nMjAwWjATMREwDwYDVQQDEwhzd2FybS1jYTBZMBMGByqGSM49AgEGCCqGSM49AwEH\\nA0IABNQ4l8wZFo27SZmSZwrOZX+QNLGgtR6ANuAB3T/cA5LMHz/Rr3n849//vBGP\\nNO/IMf8+ts1S9BvLpWd/pbCVdzqjQjBAMA4GA1UdDwEB/wQEAwIBBjAPBgNVHRMB\\nAf8EBTADAQH/MB0GA1UdDgQWBBTyMZHkjxFYju39HHaulCOL5foBNzAKBggqhkjO\\nPQQDAgNHADBEAiAuhjYh8ACd3F+iLskwcC9kzIdr55jW5pE+WZM/zLLqSAIgJ3Uf\\ncCYwBH44MuXFVcX1I90N8jMOlOznYYFHz9+aAlk=\\n-----END CERTIFICATE-----\\n',\n",
       "  'CertIssuerSubject': 'MBMxETAPBgNVBAMTCHN3YXJtLWNh',\n",
       "  'CertIssuerPublicKey': 'MFkwEwYHKoZIzj0CAQYIKoZIzj0DAQcDQgAE1DiXzBkWjbtJmZJnCs5lf5A0saC1HoA24AHdP9wDkswfP9Gvefzj3/+8EY8078gx/z62zVL0G8ulZ3+lsJV3Og=='},\n",
       " 'RootRotationInProgress': False,\n",
       " 'DefaultAddrPool': ['10.0.0.0/8'],\n",
       " 'SubnetSize': 24,\n",
       " 'DataPathPort': 4789,\n",
       " 'JoinTokens': {'Worker': 'SWMTKN-1-405kdd353tr8ovqgcmepnhl2xh1im1dzzkoayk9txlvx2k6d2t-c64a80d84smby93frmtkwrx3g',\n",
       "  'Manager': 'SWMTKN-1-405kdd353tr8ovqgcmepnhl2xh1im1dzzkoayk9txlvx2k6d2t-1hu1n5mjrzwmkfe0pbytuajyt'}}"
      ]
     },
     "execution_count": 5,
     "metadata": {},
     "output_type": "execute_result"
    }
   ],
   "source": [
    "client.api.inspect_swarm()"
   ]
  },
  {
   "cell_type": "code",
   "execution_count": 4,
   "metadata": {},
   "outputs": [
    {
     "data": {
      "text/plain": [
       "'SWMTKN-1-405kdd353tr8ovqgcmepnhl2xh1im1dzzkoayk9txlvx2k6d2t-c64a80d84smby93frmtkwrx3g'"
      ]
     },
     "execution_count": 4,
     "metadata": {},
     "output_type": "execute_result"
    }
   ],
   "source": [
    "client.api.inspect_swarm()[\"JoinTokens\"][\"Worker\"]"
   ]
  },
  {
   "cell_type": "code",
   "execution_count": 6,
   "metadata": {},
   "outputs": [
    {
     "ename": "TypeError",
     "evalue": "SwarmApiMixin.join_swarm() missing 2 required positional arguments: 'remote_addrs' and 'join_token'",
     "output_type": "error",
     "traceback": [
      "\u001b[1;31m---------------------------------------------------------------------------\u001b[0m",
      "\u001b[1;31mTypeError\u001b[0m                                 Traceback (most recent call last)",
      "Cell \u001b[1;32mIn[6], line 1\u001b[0m\n\u001b[1;32m----> 1\u001b[0m client\u001b[39m.\u001b[39;49mswarm\u001b[39m.\u001b[39;49mjoin()\n",
      "File \u001b[1;32mc:\\Users\\Fabian\\Documents\\Github_Masterthesis\\Solarpark-detection\\.venv\\lib\\site-packages\\docker\\models\\swarm.py:136\u001b[0m, in \u001b[0;36mSwarm.join\u001b[1;34m(self, *args, **kwargs)\u001b[0m\n\u001b[0;32m    135\u001b[0m \u001b[39mdef\u001b[39;00m \u001b[39mjoin\u001b[39m(\u001b[39mself\u001b[39m, \u001b[39m*\u001b[39margs, \u001b[39m*\u001b[39m\u001b[39m*\u001b[39mkwargs):\n\u001b[1;32m--> 136\u001b[0m     \u001b[39mreturn\u001b[39;00m \u001b[39mself\u001b[39m\u001b[39m.\u001b[39mclient\u001b[39m.\u001b[39mapi\u001b[39m.\u001b[39mjoin_swarm(\u001b[39m*\u001b[39margs, \u001b[39m*\u001b[39m\u001b[39m*\u001b[39mkwargs)\n",
      "File \u001b[1;32mc:\\Users\\Fabian\\Documents\\Github_Masterthesis\\Solarpark-detection\\.venv\\lib\\site-packages\\docker\\utils\\decorators.py:34\u001b[0m, in \u001b[0;36mminimum_version.<locals>.decorator.<locals>.wrapper\u001b[1;34m(self, *args, **kwargs)\u001b[0m\n\u001b[0;32m     28\u001b[0m \u001b[39mif\u001b[39;00m utils\u001b[39m.\u001b[39mversion_lt(\u001b[39mself\u001b[39m\u001b[39m.\u001b[39m_version, version):\n\u001b[0;32m     29\u001b[0m     \u001b[39mraise\u001b[39;00m errors\u001b[39m.\u001b[39mInvalidVersion(\n\u001b[0;32m     30\u001b[0m         \u001b[39m'\u001b[39m\u001b[39m{}\u001b[39;00m\u001b[39m is not available for version < \u001b[39m\u001b[39m{}\u001b[39;00m\u001b[39m'\u001b[39m\u001b[39m.\u001b[39mformat(\n\u001b[0;32m     31\u001b[0m             f\u001b[39m.\u001b[39m\u001b[39m__name__\u001b[39m, version\n\u001b[0;32m     32\u001b[0m         )\n\u001b[0;32m     33\u001b[0m     )\n\u001b[1;32m---> 34\u001b[0m \u001b[39mreturn\u001b[39;00m f(\u001b[39mself\u001b[39m, \u001b[39m*\u001b[39margs, \u001b[39m*\u001b[39m\u001b[39m*\u001b[39mkwargs)\n",
      "\u001b[1;31mTypeError\u001b[0m: SwarmApiMixin.join_swarm() missing 2 required positional arguments: 'remote_addrs' and 'join_token'"
     ]
    }
   ],
   "source": [
    "client.swarm.join()"
   ]
  },
  {
   "cell_type": "code",
   "execution_count": 2,
   "metadata": {},
   "outputs": [],
   "source": [
    "client = docker.from_env()\n",
    "compose_file = 'docker-compose.yml'\n",
    "project_name = 'solarpark-detection'"
   ]
  },
  {
   "cell_type": "code",
   "execution_count": 8,
   "metadata": {},
   "outputs": [
    {
     "data": {
      "text/plain": [
       "[<Container: bdd8a5530b8b>,\n",
       " <Container: 6a4b32abd097>,\n",
       " <Container: 294c9fcd3de7>,\n",
       " <Container: 7e21ed7aa292>]"
      ]
     },
     "execution_count": 8,
     "metadata": {},
     "output_type": "execute_result"
    }
   ],
   "source": [
    "client.containers.list()"
   ]
  },
  {
   "cell_type": "code",
   "execution_count": 9,
   "metadata": {},
   "outputs": [
    {
     "ename": "APIError",
     "evalue": "503 Server Error for http+docker://localnpipe/v1.43/swarm/init: Service Unavailable (\"This node is already part of a swarm. Use \"docker swarm leave\" to leave this swarm and join another one.\")",
     "output_type": "error",
     "traceback": [
      "\u001b[1;31m---------------------------------------------------------------------------\u001b[0m",
      "\u001b[1;31mHTTPError\u001b[0m                                 Traceback (most recent call last)",
      "File \u001b[1;32mc:\\Users\\Fabian\\Documents\\Github_Masterthesis\\Solarpark-detection\\.venv\\lib\\site-packages\\docker\\api\\client.py:268\u001b[0m, in \u001b[0;36mAPIClient._raise_for_status\u001b[1;34m(self, response)\u001b[0m\n\u001b[0;32m    267\u001b[0m \u001b[39mtry\u001b[39;00m:\n\u001b[1;32m--> 268\u001b[0m     response\u001b[39m.\u001b[39;49mraise_for_status()\n\u001b[0;32m    269\u001b[0m \u001b[39mexcept\u001b[39;00m requests\u001b[39m.\u001b[39mexceptions\u001b[39m.\u001b[39mHTTPError \u001b[39mas\u001b[39;00m e:\n",
      "File \u001b[1;32mc:\\Users\\Fabian\\Documents\\Github_Masterthesis\\Solarpark-detection\\.venv\\lib\\site-packages\\requests\\models.py:1021\u001b[0m, in \u001b[0;36mResponse.raise_for_status\u001b[1;34m(self)\u001b[0m\n\u001b[0;32m   1020\u001b[0m \u001b[39mif\u001b[39;00m http_error_msg:\n\u001b[1;32m-> 1021\u001b[0m     \u001b[39mraise\u001b[39;00m HTTPError(http_error_msg, response\u001b[39m=\u001b[39m\u001b[39mself\u001b[39m)\n",
      "\u001b[1;31mHTTPError\u001b[0m: 503 Server Error: Service Unavailable for url: http+docker://localnpipe/v1.43/swarm/init",
      "\nThe above exception was the direct cause of the following exception:\n",
      "\u001b[1;31mAPIError\u001b[0m                                  Traceback (most recent call last)",
      "Cell \u001b[1;32mIn[9], line 1\u001b[0m\n\u001b[1;32m----> 1\u001b[0m client\u001b[39m.\u001b[39;49mswarm\u001b[39m.\u001b[39;49minit(\n\u001b[0;32m      2\u001b[0m     advertise_addr\u001b[39m=\u001b[39;49m\u001b[39m'\u001b[39;49m\u001b[39meth0\u001b[39;49m\u001b[39m'\u001b[39;49m, listen_addr\u001b[39m=\u001b[39;49m\u001b[39m'\u001b[39;49m\u001b[39m0.0.0.0:4000\u001b[39;49m\u001b[39m'\u001b[39;49m,\n\u001b[0;32m      3\u001b[0m     force_new_cluster\u001b[39m=\u001b[39;49m\u001b[39mFalse\u001b[39;49;00m, default_addr_pool\u001b[39m=\u001b[39;49m[\u001b[39m'\u001b[39;49m\u001b[39m10.20.0.0/16\u001b[39;49m\u001b[39m'\u001b[39;49m],\n\u001b[0;32m      4\u001b[0m     subnet_size\u001b[39m=\u001b[39;49m\u001b[39m24\u001b[39;49m, snapshot_interval\u001b[39m=\u001b[39;49m\u001b[39m5000\u001b[39;49m,\n\u001b[0;32m      5\u001b[0m     log_entries_for_slow_followers\u001b[39m=\u001b[39;49m\u001b[39m1200\u001b[39;49m\n\u001b[0;32m      6\u001b[0m )\n",
      "File \u001b[1;32mc:\\Users\\Fabian\\Documents\\Github_Masterthesis\\Solarpark-detection\\.venv\\lib\\site-packages\\docker\\models\\swarm.py:131\u001b[0m, in \u001b[0;36mSwarm.init\u001b[1;34m(self, advertise_addr, listen_addr, force_new_cluster, default_addr_pool, subnet_size, data_path_addr, data_path_port, **kwargs)\u001b[0m\n\u001b[0;32m    121\u001b[0m init_kwargs \u001b[39m=\u001b[39m {\n\u001b[0;32m    122\u001b[0m     \u001b[39m'\u001b[39m\u001b[39madvertise_addr\u001b[39m\u001b[39m'\u001b[39m: advertise_addr,\n\u001b[0;32m    123\u001b[0m     \u001b[39m'\u001b[39m\u001b[39mlisten_addr\u001b[39m\u001b[39m'\u001b[39m: listen_addr,\n\u001b[1;32m   (...)\u001b[0m\n\u001b[0;32m    128\u001b[0m     \u001b[39m'\u001b[39m\u001b[39mdata_path_port\u001b[39m\u001b[39m'\u001b[39m: data_path_port,\n\u001b[0;32m    129\u001b[0m }\n\u001b[0;32m    130\u001b[0m init_kwargs[\u001b[39m'\u001b[39m\u001b[39mswarm_spec\u001b[39m\u001b[39m'\u001b[39m] \u001b[39m=\u001b[39m \u001b[39mself\u001b[39m\u001b[39m.\u001b[39mclient\u001b[39m.\u001b[39mapi\u001b[39m.\u001b[39mcreate_swarm_spec(\u001b[39m*\u001b[39m\u001b[39m*\u001b[39mkwargs)\n\u001b[1;32m--> 131\u001b[0m node_id \u001b[39m=\u001b[39m \u001b[39mself\u001b[39m\u001b[39m.\u001b[39mclient\u001b[39m.\u001b[39mapi\u001b[39m.\u001b[39minit_swarm(\u001b[39m*\u001b[39m\u001b[39m*\u001b[39minit_kwargs)\n\u001b[0;32m    132\u001b[0m \u001b[39mself\u001b[39m\u001b[39m.\u001b[39mreload()\n\u001b[0;32m    133\u001b[0m \u001b[39mreturn\u001b[39;00m node_id\n",
      "File \u001b[1;32mc:\\Users\\Fabian\\Documents\\Github_Masterthesis\\Solarpark-detection\\.venv\\lib\\site-packages\\docker\\utils\\decorators.py:34\u001b[0m, in \u001b[0;36mminimum_version.<locals>.decorator.<locals>.wrapper\u001b[1;34m(self, *args, **kwargs)\u001b[0m\n\u001b[0;32m     28\u001b[0m \u001b[39mif\u001b[39;00m utils\u001b[39m.\u001b[39mversion_lt(\u001b[39mself\u001b[39m\u001b[39m.\u001b[39m_version, version):\n\u001b[0;32m     29\u001b[0m     \u001b[39mraise\u001b[39;00m errors\u001b[39m.\u001b[39mInvalidVersion(\n\u001b[0;32m     30\u001b[0m         \u001b[39m'\u001b[39m\u001b[39m{}\u001b[39;00m\u001b[39m is not available for version < \u001b[39m\u001b[39m{}\u001b[39;00m\u001b[39m'\u001b[39m\u001b[39m.\u001b[39mformat(\n\u001b[0;32m     31\u001b[0m             f\u001b[39m.\u001b[39m\u001b[39m__name__\u001b[39m, version\n\u001b[0;32m     32\u001b[0m         )\n\u001b[0;32m     33\u001b[0m     )\n\u001b[1;32m---> 34\u001b[0m \u001b[39mreturn\u001b[39;00m f(\u001b[39mself\u001b[39m, \u001b[39m*\u001b[39margs, \u001b[39m*\u001b[39m\u001b[39m*\u001b[39mkwargs)\n",
      "File \u001b[1;32mc:\\Users\\Fabian\\Documents\\Github_Masterthesis\\Solarpark-detection\\.venv\\lib\\site-packages\\docker\\api\\swarm.py:181\u001b[0m, in \u001b[0;36mSwarmApiMixin.init_swarm\u001b[1;34m(self, advertise_addr, listen_addr, force_new_cluster, swarm_spec, default_addr_pool, subnet_size, data_path_addr, data_path_port)\u001b[0m\n\u001b[0;32m    178\u001b[0m     data[\u001b[39m'\u001b[39m\u001b[39mDataPathPort\u001b[39m\u001b[39m'\u001b[39m] \u001b[39m=\u001b[39m data_path_port\n\u001b[0;32m    180\u001b[0m response \u001b[39m=\u001b[39m \u001b[39mself\u001b[39m\u001b[39m.\u001b[39m_post_json(url, data\u001b[39m=\u001b[39mdata)\n\u001b[1;32m--> 181\u001b[0m \u001b[39mreturn\u001b[39;00m \u001b[39mself\u001b[39;49m\u001b[39m.\u001b[39;49m_result(response, json\u001b[39m=\u001b[39;49m\u001b[39mTrue\u001b[39;49;00m)\n",
      "File \u001b[1;32mc:\\Users\\Fabian\\Documents\\Github_Masterthesis\\Solarpark-detection\\.venv\\lib\\site-packages\\docker\\api\\client.py:274\u001b[0m, in \u001b[0;36mAPIClient._result\u001b[1;34m(self, response, json, binary)\u001b[0m\n\u001b[0;32m    272\u001b[0m \u001b[39mdef\u001b[39;00m \u001b[39m_result\u001b[39m(\u001b[39mself\u001b[39m, response, json\u001b[39m=\u001b[39m\u001b[39mFalse\u001b[39;00m, binary\u001b[39m=\u001b[39m\u001b[39mFalse\u001b[39;00m):\n\u001b[0;32m    273\u001b[0m     \u001b[39massert\u001b[39;00m \u001b[39mnot\u001b[39;00m (json \u001b[39mand\u001b[39;00m binary)\n\u001b[1;32m--> 274\u001b[0m     \u001b[39mself\u001b[39;49m\u001b[39m.\u001b[39;49m_raise_for_status(response)\n\u001b[0;32m    276\u001b[0m     \u001b[39mif\u001b[39;00m json:\n\u001b[0;32m    277\u001b[0m         \u001b[39mreturn\u001b[39;00m response\u001b[39m.\u001b[39mjson()\n",
      "File \u001b[1;32mc:\\Users\\Fabian\\Documents\\Github_Masterthesis\\Solarpark-detection\\.venv\\lib\\site-packages\\docker\\api\\client.py:270\u001b[0m, in \u001b[0;36mAPIClient._raise_for_status\u001b[1;34m(self, response)\u001b[0m\n\u001b[0;32m    268\u001b[0m     response\u001b[39m.\u001b[39mraise_for_status()\n\u001b[0;32m    269\u001b[0m \u001b[39mexcept\u001b[39;00m requests\u001b[39m.\u001b[39mexceptions\u001b[39m.\u001b[39mHTTPError \u001b[39mas\u001b[39;00m e:\n\u001b[1;32m--> 270\u001b[0m     \u001b[39mraise\u001b[39;00m create_api_error_from_http_exception(e) \u001b[39mfrom\u001b[39;00m \u001b[39me\u001b[39;00m\n",
      "File \u001b[1;32mc:\\Users\\Fabian\\Documents\\Github_Masterthesis\\Solarpark-detection\\.venv\\lib\\site-packages\\docker\\errors.py:39\u001b[0m, in \u001b[0;36mcreate_api_error_from_http_exception\u001b[1;34m(e)\u001b[0m\n\u001b[0;32m     37\u001b[0m     \u001b[39melse\u001b[39;00m:\n\u001b[0;32m     38\u001b[0m         \u001b[39mcls\u001b[39m \u001b[39m=\u001b[39m NotFound\n\u001b[1;32m---> 39\u001b[0m \u001b[39mraise\u001b[39;00m \u001b[39mcls\u001b[39m(e, response\u001b[39m=\u001b[39mresponse, explanation\u001b[39m=\u001b[39mexplanation) \u001b[39mfrom\u001b[39;00m \u001b[39me\u001b[39;00m\n",
      "\u001b[1;31mAPIError\u001b[0m: 503 Server Error for http+docker://localnpipe/v1.43/swarm/init: Service Unavailable (\"This node is already part of a swarm. Use \"docker swarm leave\" to leave this swarm and join another one.\")"
     ]
    }
   ],
   "source": [
    "client.swarm.init(\n",
    "    advertise_addr='eth0', listen_addr='0.0.0.0:4000',\n",
    "    force_new_cluster=False, default_addr_pool=['10.20.0.0/16'],\n",
    "    subnet_size=24, snapshot_interval=5000,\n",
    "    log_entries_for_slow_followers=1200\n",
    ")"
   ]
  },
  {
   "cell_type": "code",
   "execution_count": 15,
   "metadata": {},
   "outputs": [],
   "source": [
    "key = client.swarm.get_unlock_key()#"
   ]
  },
  {
   "cell_type": "code",
   "execution_count": 16,
   "metadata": {},
   "outputs": [
    {
     "data": {
      "text/plain": [
       "{'UnlockKey': ''}"
      ]
     },
     "execution_count": 16,
     "metadata": {},
     "output_type": "execute_result"
    }
   ],
   "source": [
    "key"
   ]
  },
  {
   "cell_type": "code",
   "execution_count": 5,
   "metadata": {},
   "outputs": [
    {
     "ename": "AttributeError",
     "evalue": "'Client' object has no attribute 'swarm'",
     "output_type": "error",
     "traceback": [
      "\u001b[1;31m---------------------------------------------------------------------------\u001b[0m",
      "\u001b[1;31mAttributeError\u001b[0m                            Traceback (most recent call last)",
      "Cell \u001b[1;32mIn[5], line 1\u001b[0m\n\u001b[1;32m----> 1\u001b[0m client\u001b[39m.\u001b[39;49mswarm\n",
      "\u001b[1;31mAttributeError\u001b[0m: 'Client' object has no attribute 'swarm'"
     ]
    }
   ],
   "source": [
    "client.swarm"
   ]
  },
  {
   "cell_type": "code",
   "execution_count": 15,
   "metadata": {},
   "outputs": [],
   "source": [
    "for event in client.events(decode=True):\n",
    "  print(event)"
   ]
  },
  {
   "cell_type": "code",
   "execution_count": 13,
   "metadata": {},
   "outputs": [
    {
     "ename": "AttributeError",
     "evalue": "'Client' object has no attribute 'DockerComposeClient'",
     "output_type": "error",
     "traceback": [
      "\u001b[1;31m---------------------------------------------------------------------------\u001b[0m",
      "\u001b[1;31mAttributeError\u001b[0m                            Traceback (most recent call last)",
      "Cell \u001b[1;32mIn[13], line 2\u001b[0m\n\u001b[0;32m      1\u001b[0m \u001b[39m# Verbindung zur Docker-Compose-Umgebung herstellen\u001b[39;00m\n\u001b[1;32m----> 2\u001b[0m compose_client \u001b[39m=\u001b[39m client\u001b[39m.\u001b[39;49mDockerComposeClient(\n\u001b[0;32m      3\u001b[0m     project_name\u001b[39m=\u001b[39mproject_name,\n\u001b[0;32m      4\u001b[0m     docker_client\u001b[39m=\u001b[39mclient,\n\u001b[0;32m      5\u001b[0m     compose_file\u001b[39m=\u001b[39mcompose_file\n\u001b[0;32m      6\u001b[0m )\n",
      "\u001b[1;31mAttributeError\u001b[0m: 'Client' object has no attribute 'DockerComposeClient'"
     ]
    }
   ],
   "source": [
    "# Verbindung zur Docker-Compose-Umgebung herstellen\n",
    "compose_client = docker-compose.DockerComposeClient(\n",
    "    project_name=project_name,\n",
    "    docker_client=client,\n",
    "    compose_file=compose_file\n",
    ")"
   ]
  },
  {
   "cell_type": "code",
   "execution_count": 7,
   "metadata": {},
   "outputs": [
    {
     "data": {
      "text/plain": [
       "[<Node: oonswh53we95>]"
      ]
     },
     "execution_count": 7,
     "metadata": {},
     "output_type": "execute_result"
    }
   ],
   "source": [
    "client.nodes.list()"
   ]
  },
  {
   "cell_type": "code",
   "execution_count": 14,
   "metadata": {},
   "outputs": [
    {
     "data": {
      "text/plain": [
       "[<Node: oonswh53we95>]"
      ]
     },
     "execution_count": 14,
     "metadata": {},
     "output_type": "execute_result"
    }
   ],
   "source": [
    "client.nodes.list(filters={'role': 'manager'})"
   ]
  },
  {
   "cell_type": "code",
   "execution_count": 18,
   "metadata": {},
   "outputs": [
    {
     "ename": "AttributeError",
     "evalue": "'Swarm' object has no attribute 'join_token'",
     "output_type": "error",
     "traceback": [
      "\u001b[1;31m---------------------------------------------------------------------------\u001b[0m",
      "\u001b[1;31mAttributeError\u001b[0m                            Traceback (most recent call last)",
      "Cell \u001b[1;32mIn[18], line 1\u001b[0m\n\u001b[1;32m----> 1\u001b[0m client\u001b[39m.\u001b[39;49mswarm\u001b[39m.\u001b[39;49mjoin_token(\u001b[39m'\u001b[39m\u001b[39mmanager\u001b[39m\u001b[39m'\u001b[39m, rotate\u001b[39m=\u001b[39m\u001b[39mFalse\u001b[39;00m)\n",
      "\u001b[1;31mAttributeError\u001b[0m: 'Swarm' object has no attribute 'join_token'"
     ]
    }
   ],
   "source": [
    "client.swarm.join_token('manager', rotate=False)"
   ]
  },
  {
   "cell_type": "code",
   "execution_count": null,
   "metadata": {},
   "outputs": [],
   "source": []
  }
 ],
 "metadata": {
  "kernelspec": {
   "display_name": ".venv",
   "language": "python",
   "name": "python3"
  },
  "language_info": {
   "codemirror_mode": {
    "name": "ipython",
    "version": 3
   },
   "file_extension": ".py",
   "mimetype": "text/x-python",
   "name": "python",
   "nbconvert_exporter": "python",
   "pygments_lexer": "ipython3",
   "version": "3.10.0"
  },
  "orig_nbformat": 4
 },
 "nbformat": 4,
 "nbformat_minor": 2
}

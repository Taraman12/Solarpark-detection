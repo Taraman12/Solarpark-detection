{
 "cells": [
  {
   "cell_type": "code",
   "execution_count": 1,
   "metadata": {},
   "outputs": [],
   "source": [
    "import boto3\n",
    "from dotenv import load_dotenv\n",
    "import os\n",
    "import re\n",
    "import paramiko\n",
    "import requests"
   ]
  },
  {
   "cell_type": "markdown",
   "metadata": {},
   "source": [
    "Don't forget to **not use https** in the url\n"
   ]
  },
  {
   "cell_type": "code",
   "execution_count": 2,
   "metadata": {},
   "outputs": [],
   "source": [
    "load_dotenv()\n",
    "aws_access_key_id= os.getenv(\"aws_access_key_id\")\n",
    "aws_secret_access_key = os.getenv(\"aws_secret_access_key\")\n",
    "region_name = os.getenv(\"region_name\")\n",
    "\n",
    "# Let's use Amazon S3\n",
    "ec2 = boto3.client('ec2', aws_access_key_id=aws_access_key_id, aws_secret_access_key=aws_secret_access_key, region_name=region_name)"
   ]
  },
  {
   "cell_type": "code",
   "execution_count": 3,
   "metadata": {},
   "outputs": [],
   "source": [
    "EC2_KWARGS = {\n",
    "    \"ImageId\": \"ami-07151644aeb34558a\",  # ID des Amazon Linux 2 AMI\n",
    "    \"InstanceType\": \"t3.medium\",  # Instanztyp t3.medium\n",
    "    \"MinCount\": 1,  # Mindestanzahl von Instanzen\n",
    "    \"MaxCount\": 1,  # Maximale Anzahl von Instanzen\n",
    "    \"KeyName\": \"Ec2-boto3\",  # Name des Schlüsselpaars\n",
    "    \"SecurityGroupIds\": [\"sg-0b7b73b05e7577a3b\"],  # ID der Sicherheitsgruppe\n",
    "    \"IamInstanceProfile\":{\n",
    "        'Arn': \"arn:aws:iam::103976228435:instance-profile/EC2_S3_allowens\"\n",
    "    },\n",
    "    \"SubnetId\":\"subnet-0e19e3f6d404a4467\",\n",
    "    \"BlockDeviceMappings\": [\n",
    "        {\n",
    "            \"DeviceName\": \"/dev/xvda\",\n",
    "            \"Ebs\": {\n",
    "                \"VolumeSize\": 20,  # Größe des Root-Volumes in GB\n",
    "                \"DeleteOnTermination\": True,\n",
    "                \"VolumeType\": \"gp3\",\n",
    "            },\n",
    "        },\n",
    "    ],\n",
    "    \"UserData\": f\"\"\"#!/bin/bash\n",
    "                sudo yum update -y\n",
    "                sudo yum install docker -y\n",
    "                sudo service docker start\n",
    "                sudo usermod -a -G docker ec2-user\n",
    "                sudo curl \\\n",
    "                    -L https://github.com/docker/compose/releases/latest/download/docker-compose-$(uname -s)-$(uname -m) \\\n",
    "                    -o /usr/local/bin/docker-compose\n",
    "                sleep 3    \n",
    "                sudo chmod +x /usr/local/bin/docker-compose\n",
    "             \"\"\",  # Skript, das beim Start der Instanz ausgeführt wird\n",
    "    \"TagSpecifications\": [\n",
    "        {\n",
    "            \"ResourceType\": \"instance\",\n",
    "            \"Tags\": [\n",
    "                {\"Key\": \"Name\", \"Value\": \"main-instance\"},\n",
    "            ],\n",
    "        },\n",
    "    ],\n",
    "}"
   ]
  },
  {
   "cell_type": "code",
   "execution_count": 4,
   "metadata": {},
   "outputs": [
    {
     "name": "stdout",
     "output_type": "stream",
     "text": [
      "Started instance i-01395d93a3ebd7241\n"
     ]
    }
   ],
   "source": [
    "response = ec2.run_instances(**EC2_KWARGS)\n",
    "\n",
    "# ID der gestarteten Instanz abrufen\n",
    "instance_id = response['Instances'][0]['InstanceId']\n",
    "print(f'Started instance {instance_id}')"
   ]
  },
  {
   "cell_type": "code",
   "execution_count": 5,
   "metadata": {},
   "outputs": [
    {
     "data": {
      "text/plain": [
       "{'AssociationId': 'eipassoc-08857e80810baaa8d',\n",
       " 'ResponseMetadata': {'RequestId': 'c0a635b5-dc19-4268-a838-f36869ec0123',\n",
       "  'HTTPStatusCode': 200,\n",
       "  'HTTPHeaders': {'x-amzn-requestid': 'c0a635b5-dc19-4268-a838-f36869ec0123',\n",
       "   'cache-control': 'no-cache, no-store',\n",
       "   'strict-transport-security': 'max-age=31536000; includeSubDomains',\n",
       "   'content-type': 'text/xml;charset=UTF-8',\n",
       "   'content-length': '295',\n",
       "   'date': 'Mon, 03 Jul 2023 08:26:06 GMT',\n",
       "   'server': 'AmazonEC2'},\n",
       "  'RetryAttempts': 0}}"
      ]
     },
     "execution_count": 5,
     "metadata": {},
     "output_type": "execute_result"
    }
   ],
   "source": [
    "response = ec2.associate_address(\n",
    "    InstanceId=instance_id,\n",
    "    PublicIp='3.66.239.204'\n",
    ")\n",
    "response"
   ]
  },
  {
   "cell_type": "markdown",
   "metadata": {},
   "source": [
    "look up the public ip of the ec2 instance in the aws console"
   ]
  },
  {
   "cell_type": "code",
   "execution_count": 6,
   "metadata": {},
   "outputs": [],
   "source": [
    "ssh = paramiko.SSHClient()\n",
    "ssh.set_missing_host_key_policy(paramiko.AutoAddPolicy())\n",
    "ssh.connect('3.66.239.204', username='ec2-user', key_filename='Ec2-boto3.pem')"
   ]
  },
  {
   "cell_type": "code",
   "execution_count": 7,
   "metadata": {},
   "outputs": [],
   "source": [
    "# Kopieren Sie die Docker Compose-Datei auf die Instanz\n",
    "sftp = ssh.open_sftp()\n",
    "sftp.put(r'C:\\Users\\Fabian\\Documents\\Github_Masterthesis\\Solarpark-detection\\src\\.env', '/home/ec2-user/.env')\n",
    "sftp.put(r'C:\\Users\\Fabian\\Documents\\Github_Masterthesis\\Solarpark-detection\\src\\docker-compose.yml', '/home/ec2-user/docker-compose.yml')\n",
    "sftp.close()"
   ]
  },
  {
   "cell_type": "code",
   "execution_count": 8,
   "metadata": {},
   "outputs": [],
   "source": [
    "stdin, stdout, stderr = ssh.exec_command('sudo docker-compose up -d')"
   ]
  },
  {
   "cell_type": "code",
   "execution_count": 10,
   "metadata": {},
   "outputs": [
    {
     "name": "stdout",
     "output_type": "stream",
     "text": [
      "<paramiko.ChannelFile from <paramiko.Channel 1 (closed) -> <paramiko.Transport at 0x25e11cf0 (cipher aes128-ctr, 128 bits) (active; 0 open channel(s))>>>\n"
     ]
    }
   ],
   "source": [
    "print(stdout)"
   ]
  },
  {
   "cell_type": "code",
   "execution_count": null,
   "metadata": {},
   "outputs": [],
   "source": []
  }
 ],
 "metadata": {
  "kernelspec": {
   "display_name": ".venv",
   "language": "python",
   "name": "python3"
  },
  "language_info": {
   "codemirror_mode": {
    "name": "ipython",
    "version": 3
   },
   "file_extension": ".py",
   "mimetype": "text/x-python",
   "name": "python",
   "nbconvert_exporter": "python",
   "pygments_lexer": "ipython3",
   "version": "3.10.0"
  },
  "orig_nbformat": 4
 },
 "nbformat": 4,
 "nbformat_minor": 2
}

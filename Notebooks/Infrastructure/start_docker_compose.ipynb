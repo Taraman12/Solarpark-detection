{
 "cells": [
  {
   "cell_type": "code",
   "execution_count": 2,
   "metadata": {},
   "outputs": [],
   "source": [
    "import boto3\n",
    "from dotenv import load_dotenv\n",
    "import os\n",
    "import re\n",
    "import paramiko\n",
    "import requests"
   ]
  },
  {
   "cell_type": "markdown",
   "metadata": {},
   "source": [
    "Don't forget to **not use https** in the url\n"
   ]
  },
  {
   "cell_type": "code",
   "execution_count": 3,
   "metadata": {},
   "outputs": [],
   "source": [
    "load_dotenv()\n",
    "aws_access_key_id= os.getenv(\"aws_access_key_id\")\n",
    "aws_secret_access_key = os.getenv(\"aws_secret_access_key\")\n",
    "region_name = os.getenv(\"region_name\")\n",
    "\n",
    "# Let's use Amazon S3\n",
    "ec2 = boto3.client('ec2', aws_access_key_id=aws_access_key_id, aws_secret_access_key=aws_secret_access_key, region_name=region_name)"
   ]
  },
  {
   "cell_type": "code",
   "execution_count": 4,
   "metadata": {},
   "outputs": [],
   "source": [
    "EC2_KWARGS = {\n",
    "    \"ImageId\": \"ami-07151644aeb34558a\",\n",
    "    \"InstanceType\": \"t3.micro\",\n",
    "    \"MinCount\": 1,\n",
    "    \"MaxCount\": 1,\n",
    "    \"KeyName\": \"Ec2-boto3\",\n",
    "    \"SecurityGroupIds\": [\"sg-0b7b73b05e7577a3b\"], #sg-02e30599ae3bdfd05\n",
    "    \"IamInstanceProfile\":{\n",
    "        'Arn': \"arn:aws:iam::103976228435:instance-profile/EC2_S3_allowens\"\n",
    "    },\n",
    "    \"SubnetId\": \"subnet-0e19e3f6d404a4467\",#\"subnet-099718569ecc1d5ee\",\n",
    "    \"Placement\": {\"AvailabilityZone\": \"eu-central-1a\"},\n",
    "    \"BlockDeviceMappings\": [\n",
    "        {\n",
    "            \"DeviceName\": \"/dev/xvda\",\n",
    "            \"Ebs\": {\n",
    "                \"VolumeSize\": 20,  # Größe des Root-Volumes in GB\n",
    "                \"DeleteOnTermination\": True,\n",
    "                \"VolumeType\": \"gp3\",\n",
    "            },\n",
    "        },\n",
    "    ],\n",
    "    \"UserData\": f\"\"\"#!/bin/bash\n",
    "                sudo yum update -y\n",
    "                sudo yum install docker -y\n",
    "                sudo service docker start\n",
    "                sudo usermod -a -G docker ec2-user\n",
    "                sudo curl \\\n",
    "                    -L https://github.com/docker/compose/releases/latest/download/docker-compose-$(uname -s)-$(uname -m) \\\n",
    "                    -o /usr/local/bin/docker-compose\n",
    "                sleep 3    \n",
    "                sudo chmod +x /usr/local/bin/docker-compose\n",
    "             \"\"\",\n",
    "    \"TagSpecifications\": [\n",
    "        {\n",
    "            \"ResourceType\": \"instance\",\n",
    "            \"Tags\": [\n",
    "                {\"Key\": \"Name\", \"Value\": \"manager-instance\"},\n",
    "            ],\n",
    "        },\n",
    "    ],\n",
    "    # \"PrivateIpAddress\":'10.0.0.10',\n",
    "}"
   ]
  },
  {
   "cell_type": "code",
   "execution_count": 19,
   "metadata": {},
   "outputs": [
    {
     "name": "stdout",
     "output_type": "stream",
     "text": [
      "Started instance i-0cf2cc0828150cd61\n"
     ]
    }
   ],
   "source": [
    "response = ec2.run_instances(**EC2_KWARGS)\n",
    "\n",
    "# ID der gestarteten Instanz abrufen\n",
    "instance_id = response['Instances'][0]['InstanceId']\n",
    "print(f'Started instance {instance_id}')"
   ]
  },
  {
   "cell_type": "code",
   "execution_count": 20,
   "metadata": {},
   "outputs": [
    {
     "data": {
      "text/plain": [
       "{'AssociationId': 'eipassoc-045367b8652b83cd4',\n",
       " 'ResponseMetadata': {'RequestId': '0fae433c-9a2d-4fc0-8015-9e53fb8cb38d',\n",
       "  'HTTPStatusCode': 200,\n",
       "  'HTTPHeaders': {'x-amzn-requestid': '0fae433c-9a2d-4fc0-8015-9e53fb8cb38d',\n",
       "   'cache-control': 'no-cache, no-store',\n",
       "   'strict-transport-security': 'max-age=31536000; includeSubDomains',\n",
       "   'content-type': 'text/xml;charset=UTF-8',\n",
       "   'content-length': '295',\n",
       "   'date': 'Fri, 19 Jan 2024 21:39:33 GMT',\n",
       "   'server': 'AmazonEC2'},\n",
       "  'RetryAttempts': 0}}"
      ]
     },
     "execution_count": 20,
     "metadata": {},
     "output_type": "execute_result"
    }
   ],
   "source": [
    "response = ec2.associate_address(\n",
    "    InstanceId=instance_id,\n",
    "    PublicIp='3.66.239.204'\n",
    ")\n",
    "response"
   ]
  },
  {
   "cell_type": "markdown",
   "metadata": {},
   "source": [
    "look up the public ip of the ec2 instance in the aws console"
   ]
  },
  {
   "cell_type": "code",
   "execution_count": 21,
   "metadata": {},
   "outputs": [],
   "source": [
    "ssh = paramiko.SSHClient()\n",
    "ssh.set_missing_host_key_policy(paramiko.AutoAddPolicy())\n",
    "ssh.connect('3.66.239.204', username='ec2-user', key_filename='Ec2-boto3.pem')"
   ]
  },
  {
   "cell_type": "code",
   "execution_count": 22,
   "metadata": {},
   "outputs": [],
   "source": [
    "# Kopieren Sie die Docker Compose-Datei auf die Instanz\n",
    "sftp = ssh.open_sftp()\n",
    "sftp.put(r'C:\\Users\\Fabian\\Documents\\Github_Masterthesis\\Solarpark-detection\\src\\.env', '/home/ec2-user/.env')\n",
    "sftp.put(r'C:\\Users\\Fabian\\Documents\\Github_Masterthesis\\Solarpark-detection\\src\\docker-compose.yml', '/home/ec2-user/docker-compose.yml')\n",
    "sftp.put(r'C:\\Users\\Fabian\\Documents\\Github_Masterthesis\\Solarpark-detection\\src\\scripts\\init-swarm.sh', '/home/ec2-user/init-swarm.sh')\n",
    "sftp.close()"
   ]
  },
  {
   "cell_type": "markdown",
   "metadata": {},
   "source": [
    "execute the following commands on the ec2 instance\n",
    "```bash\n",
    "sudo bash init-swarm.sh\n",
    "```"
   ]
  },
  {
   "cell_type": "code",
   "execution_count": 8,
   "metadata": {},
   "outputs": [],
   "source": [
    "stdin, stdout, stderr = ssh.exec_command('sudo docker-compose up -d')"
   ]
  },
  {
   "cell_type": "code",
   "execution_count": 10,
   "metadata": {},
   "outputs": [
    {
     "name": "stdout",
     "output_type": "stream",
     "text": [
      "<paramiko.ChannelFile from <paramiko.Channel 1 (closed) -> <paramiko.Transport at 0x25e11cf0 (cipher aes128-ctr, 128 bits) (active; 0 open channel(s))>>>\n"
     ]
    }
   ],
   "source": [
    "print(stdout)"
   ]
  },
  {
   "cell_type": "markdown",
   "metadata": {},
   "source": [
    "### Start an RDS instance for the database"
   ]
  },
  {
   "cell_type": "code",
   "execution_count": 8,
   "metadata": {},
   "outputs": [],
   "source": [
    "rds_client = boto3.client(\"rds\", aws_access_key_id=aws_access_key_id, aws_secret_access_key=aws_secret_access_key, region_name=region_name)"
   ]
  },
  {
   "cell_type": "code",
   "execution_count": null,
   "metadata": {},
   "outputs": [],
   "source": [
    "response = rds_client.create_db_instance(\n",
    "    DBName=\"SolarParkDetection\",\n",
    "    DBInstanceIdentifier=os.getenv(\"POSTGRES_DB\"),\n",
    "    AllocatedStorage=20,\n",
    "    DBInstanceClass=\"db.t4g.micro\",\n",
    "    Engine=\"postgres\",\n",
    "    MasterUsername=os.getenv(\"POSTGRES_USER\"),\n",
    "    MasterUserPassword=os.getenv(\"POSTGRES_PASSWORD\"),\n",
    "    VpcSecurityGroupIds=[\n",
    "        \"sg-0b7b73b05e7577a3b\",\n",
    "    ],\n",
    "    AvailabilityZone=\"eu-central-1a\",\n",
    "    Tags=[\n",
    "        {\n",
    "            \"Key\": \"Name\",\n",
    "            \"Value\": \"postgres-instance\",\n",
    "        },\n",
    "    ],\n",
    "    PubliclyAccessible=True,\n",
    ")\n",
    "response\n"
   ]
  },
  {
   "cell_type": "code",
   "execution_count": null,
   "metadata": {},
   "outputs": [],
   "source": [
    "# Get the RDS instance endpoint (needs to be done after the instance is created)\n",
    "instances = rds_client.describe_db_instances(DBInstanceIdentifier=os.getenv(\"POSTGRES_DB\"))\n",
    "rds_host = instances.get('DBInstances')[0].get('Endpoint').get('Address')\n",
    "rds_host"
   ]
  },
  {
   "cell_type": "markdown",
   "metadata": {},
   "source": [
    "#### Additionally, we need to install the PostGIS extension on the database:"
   ]
  },
  {
   "cell_type": "code",
   "execution_count": 17,
   "metadata": {},
   "outputs": [],
   "source": [
    "\n",
    "import psycopg2\n",
    "\n",
    "# Replace these with your own values\n",
    "host = rds_host\n",
    "port = \"5432\"\n",
    "dbname = os.getenv(\"POSTGRES_DB\")\n",
    "user = os.getenv(\"POSTGRES_USER\")\n",
    "password = os.getenv(\"POSTGRES_PASSWORD\")\n",
    "\n",
    "# Connect to the database\n",
    "conn = psycopg2.connect(\n",
    "    dbname=dbname,\n",
    "    user=user,\n",
    "    password=password,\n",
    "    host=host,\n",
    "    port=port\n",
    ")\n",
    "\n",
    "# Create a cursor object\n",
    "cur = conn.cursor()\n",
    "\n",
    "# Execute the SQL command to create the PostGIS extension\n",
    "cur.execute(\"CREATE EXTENSION IF NOT EXISTS postgis;\")\n",
    "cur.execute(\"CREATE EXTENSION IF NOT EXISTS postgis_topology;\")\n",
    "cur.execute(\"CREATE EXTENSION IF NOT EXISTS fuzzystrmatch;\")\n",
    "cur.execute(\"CREATE EXTENSION IF NOT EXISTS postgis_tiger_geocoder;\")\n",
    "\n",
    "# Commit the transaction\n",
    "conn.commit()"
   ]
  },
  {
   "cell_type": "code",
   "execution_count": 18,
   "metadata": {},
   "outputs": [],
   "source": [
    "# check if extension is installed\n",
    "cur.execute(\"SELECT * FROM pg_extension;\")"
   ]
  },
  {
   "cell_type": "code",
   "execution_count": 19,
   "metadata": {},
   "outputs": [],
   "source": [
    "# Close the cursor and the connection\n",
    "cur.close()\n",
    "conn.close()"
   ]
  },
  {
   "cell_type": "code",
   "execution_count": null,
   "metadata": {},
   "outputs": [],
   "source": []
  }
 ],
 "metadata": {
  "kernelspec": {
   "display_name": ".venv",
   "language": "python",
   "name": "python3"
  },
  "language_info": {
   "codemirror_mode": {
    "name": "ipython",
    "version": 3
   },
   "file_extension": ".py",
   "mimetype": "text/x-python",
   "name": "python",
   "nbconvert_exporter": "python",
   "pygments_lexer": "ipython3",
   "version": "3.10.0"
  },
  "orig_nbformat": 4
 },
 "nbformat": 4,
 "nbformat_minor": 2
}

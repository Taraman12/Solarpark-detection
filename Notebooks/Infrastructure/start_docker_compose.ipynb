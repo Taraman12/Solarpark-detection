{
 "cells": [
  {
   "cell_type": "code",
   "execution_count": 1,
   "metadata": {},
   "outputs": [],
   "source": [
    "import boto3\n",
    "from dotenv import load_dotenv\n",
    "import os\n",
    "import re\n",
    "import paramiko\n",
    "import requests"
   ]
  },
  {
   "cell_type": "markdown",
   "metadata": {},
   "source": [
    "Don't forget to **not use https** in the url\n"
   ]
  },
  {
   "cell_type": "code",
   "execution_count": 3,
   "metadata": {},
   "outputs": [],
   "source": [
    "load_dotenv()\n",
    "aws_access_key_id= os.getenv(\"aws_access_key_id\")\n",
    "aws_secret_access_key = os.getenv(\"aws_secret_access_key\")\n",
    "region_name = os.getenv(\"region_name\")\n",
    "\n",
    "# Let's use Amazon S3\n",
    "ec2 = boto3.client('ec2', aws_access_key_id=aws_access_key_id, aws_secret_access_key=aws_secret_access_key, region_name=region_name)"
   ]
  },
  {
   "cell_type": "code",
   "execution_count": 4,
   "metadata": {},
   "outputs": [],
   "source": [
    "EC2_KWARGS = {\n",
    "    \"ImageId\": \"ami-07151644aeb34558a\",\n",
    "    \"InstanceType\": \"t3.micro\",\n",
    "    \"MinCount\": 1,\n",
    "    \"MaxCount\": 1,\n",
    "    \"KeyName\": \"Ec2-boto3\",\n",
    "    \"SecurityGroupIds\": [\"sg-0b7b73b05e7577a3b\"], #sg-02e30599ae3bdfd05\n",
    "    \"IamInstanceProfile\":{\n",
    "        'Arn': \"arn:aws:iam::103976228435:instance-profile/EC2_S3_allowens\"\n",
    "    },\n",
    "    \"SubnetId\": \"subnet-0e19e3f6d404a4467\",#\"subnet-099718569ecc1d5ee\",\n",
    "    \"Placement\": {\"AvailabilityZone\": \"eu-central-1a\"},\n",
    "    \"BlockDeviceMappings\": [\n",
    "        {\n",
    "            \"DeviceName\": \"/dev/xvda\",\n",
    "            \"Ebs\": {\n",
    "                \"VolumeSize\": 20,  # Größe des Root-Volumes in GB\n",
    "                \"DeleteOnTermination\": True,\n",
    "                \"VolumeType\": \"gp3\",\n",
    "            },\n",
    "        },\n",
    "    ],\n",
    "    \"UserData\": f\"\"\"#!/bin/bash\n",
    "                sudo yum update -y\n",
    "                sudo yum install docker -y\n",
    "                sudo service docker start\n",
    "                sudo usermod -a -G docker ec2-user\n",
    "                sudo curl \\\n",
    "                    -L https://github.com/docker/compose/releases/latest/download/docker-compose-$(uname -s)-$(uname -m) \\\n",
    "                    -o /usr/local/bin/docker-compose\n",
    "                sleep 3    \n",
    "                sudo chmod +x /usr/local/bin/docker-compose\n",
    "             \"\"\",\n",
    "    \"TagSpecifications\": [\n",
    "        {\n",
    "            \"ResourceType\": \"instance\",\n",
    "            \"Tags\": [\n",
    "                {\"Key\": \"Name\", \"Value\": \"manager-instance\"},\n",
    "            ],\n",
    "        },\n",
    "    ],\n",
    "    # \"PrivateIpAddress\":'10.0.0.10',\n",
    "}"
   ]
  },
  {
   "cell_type": "code",
   "execution_count": 5,
   "metadata": {},
   "outputs": [
    {
     "name": "stdout",
     "output_type": "stream",
     "text": [
      "Started instance i-08a3ee64c9c3f6b14\n"
     ]
    }
   ],
   "source": [
    "response = ec2.run_instances(**EC2_KWARGS)\n",
    "\n",
    "# ID der gestarteten Instanz abrufen\n",
    "instance_id = response['Instances'][0]['InstanceId']\n",
    "print(f'Started instance {instance_id}')"
   ]
  },
  {
   "cell_type": "code",
   "execution_count": 6,
   "metadata": {},
   "outputs": [
    {
     "data": {
      "text/plain": [
       "{'AssociationId': 'eipassoc-0a9cf8427d3bd06de',\n",
       " 'ResponseMetadata': {'RequestId': 'ea4f6184-eae0-449e-beb5-0f9400b1af48',\n",
       "  'HTTPStatusCode': 200,\n",
       "  'HTTPHeaders': {'x-amzn-requestid': 'ea4f6184-eae0-449e-beb5-0f9400b1af48',\n",
       "   'cache-control': 'no-cache, no-store',\n",
       "   'strict-transport-security': 'max-age=31536000; includeSubDomains',\n",
       "   'content-type': 'text/xml;charset=UTF-8',\n",
       "   'content-length': '295',\n",
       "   'date': 'Sat, 13 Jan 2024 09:58:51 GMT',\n",
       "   'server': 'AmazonEC2'},\n",
       "  'RetryAttempts': 0}}"
      ]
     },
     "execution_count": 6,
     "metadata": {},
     "output_type": "execute_result"
    }
   ],
   "source": [
    "response = ec2.associate_address(\n",
    "    InstanceId=instance_id,\n",
    "    PublicIp='3.66.239.204'\n",
    ")\n",
    "response"
   ]
  },
  {
   "cell_type": "markdown",
   "metadata": {},
   "source": [
    "look up the public ip of the ec2 instance in the aws console"
   ]
  },
  {
   "cell_type": "code",
   "execution_count": 7,
   "metadata": {},
   "outputs": [],
   "source": [
    "ssh = paramiko.SSHClient()\n",
    "ssh.set_missing_host_key_policy(paramiko.AutoAddPolicy())\n",
    "ssh.connect('3.66.239.204', username='ec2-user', key_filename='Ec2-boto3.pem')"
   ]
  },
  {
   "cell_type": "code",
   "execution_count": 19,
   "metadata": {},
   "outputs": [],
   "source": [
    "# Kopieren Sie die Docker Compose-Datei auf die Instanz\n",
    "sftp = ssh.open_sftp()\n",
    "sftp.put(r'C:\\Users\\Fabian\\Documents\\Github_Masterthesis\\Solarpark-detection\\src\\.env', '/home/ec2-user/.env')\n",
    "sftp.put(r'C:\\Users\\Fabian\\Documents\\Github_Masterthesis\\Solarpark-detection\\src\\nginx/nginx.conf', '/home/ec2-user/nginx.conf')\n",
    "sftp.put(r'C:\\Users\\Fabian\\Documents\\Github_Masterthesis\\Solarpark-detection\\src\\docker-compose.yml', '/home/ec2-user/docker-compose.yml')\n",
    "sftp.put(r'C:\\Users\\Fabian\\Documents\\Github_Masterthesis\\Solarpark-detection\\src\\scripts\\init-swarm.sh', '/home/ec2-user/init-swarm.sh')\n",
    "sftp.put(r'C:\\Users\\Fabian\\Documents\\Github_Masterthesis\\Solarpark-detection\\src\\scripts\\run-container.sh', '/home/ec2-user/run-container.sh')\n",
    "sftp.close()"
   ]
  },
  {
   "cell_type": "markdown",
   "metadata": {},
   "source": [
    "execute the following commands on the ec2 instance\n",
    "```bash\n",
    "sudo bash init-swarm.sh\n",
    "```"
   ]
  },
  {
   "cell_type": "code",
   "execution_count": 8,
   "metadata": {},
   "outputs": [],
   "source": [
    "stdin, stdout, stderr = ssh.exec_command('sudo docker-compose up -d')"
   ]
  },
  {
   "cell_type": "code",
   "execution_count": 10,
   "metadata": {},
   "outputs": [
    {
     "name": "stdout",
     "output_type": "stream",
     "text": [
      "<paramiko.ChannelFile from <paramiko.Channel 1 (closed) -> <paramiko.Transport at 0x25e11cf0 (cipher aes128-ctr, 128 bits) (active; 0 open channel(s))>>>\n"
     ]
    }
   ],
   "source": [
    "print(stdout)"
   ]
  },
  {
   "cell_type": "markdown",
   "metadata": {},
   "source": [
    "### Start an RDS instance for the database"
   ]
  },
  {
   "cell_type": "code",
   "execution_count": 9,
   "metadata": {},
   "outputs": [],
   "source": [
    "rds_client = boto3.client(\"rds\", aws_access_key_id=aws_access_key_id, aws_secret_access_key=aws_secret_access_key, region_name=region_name)"
   ]
  },
  {
   "cell_type": "code",
   "execution_count": 12,
   "metadata": {},
   "outputs": [
    {
     "ename": "DBInstanceAlreadyExistsFault",
     "evalue": "An error occurred (DBInstanceAlreadyExists) when calling the CreateDBInstance operation: DB instance already exists",
     "output_type": "error",
     "traceback": [
      "\u001b[1;31m---------------------------------------------------------------------------\u001b[0m",
      "\u001b[1;31mDBInstanceAlreadyExistsFault\u001b[0m              Traceback (most recent call last)",
      "Cell \u001b[1;32mIn[12], line 1\u001b[0m\n\u001b[1;32m----> 1\u001b[0m response \u001b[38;5;241m=\u001b[39m \u001b[43mrds_client\u001b[49m\u001b[38;5;241;43m.\u001b[39;49m\u001b[43mcreate_db_instance\u001b[49m\u001b[43m(\u001b[49m\n\u001b[0;32m      2\u001b[0m \u001b[43m    \u001b[49m\u001b[43mDBName\u001b[49m\u001b[38;5;241;43m=\u001b[39;49m\u001b[38;5;124;43m\"\u001b[39;49m\u001b[38;5;124;43mSolarParkDetection\u001b[39;49m\u001b[38;5;124;43m\"\u001b[39;49m\u001b[43m,\u001b[49m\n\u001b[0;32m      3\u001b[0m \u001b[43m    \u001b[49m\u001b[43mDBInstanceIdentifier\u001b[49m\u001b[38;5;241;43m=\u001b[39;49m\u001b[43mos\u001b[49m\u001b[38;5;241;43m.\u001b[39;49m\u001b[43mgetenv\u001b[49m\u001b[43m(\u001b[49m\u001b[38;5;124;43m\"\u001b[39;49m\u001b[38;5;124;43mPOSTGRES_DB\u001b[39;49m\u001b[38;5;124;43m\"\u001b[39;49m\u001b[43m)\u001b[49m\u001b[43m,\u001b[49m\n\u001b[0;32m      4\u001b[0m \u001b[43m    \u001b[49m\u001b[43mAllocatedStorage\u001b[49m\u001b[38;5;241;43m=\u001b[39;49m\u001b[38;5;241;43m20\u001b[39;49m\u001b[43m,\u001b[49m\n\u001b[0;32m      5\u001b[0m \u001b[43m    \u001b[49m\u001b[43mDBInstanceClass\u001b[49m\u001b[38;5;241;43m=\u001b[39;49m\u001b[38;5;124;43m\"\u001b[39;49m\u001b[38;5;124;43mdb.t4g.micro\u001b[39;49m\u001b[38;5;124;43m\"\u001b[39;49m\u001b[43m,\u001b[49m\n\u001b[0;32m      6\u001b[0m \u001b[43m    \u001b[49m\u001b[43mEngine\u001b[49m\u001b[38;5;241;43m=\u001b[39;49m\u001b[38;5;124;43m\"\u001b[39;49m\u001b[38;5;124;43mpostgres\u001b[39;49m\u001b[38;5;124;43m\"\u001b[39;49m\u001b[43m,\u001b[49m\n\u001b[0;32m      7\u001b[0m \u001b[43m    \u001b[49m\u001b[43mMasterUsername\u001b[49m\u001b[38;5;241;43m=\u001b[39;49m\u001b[43mos\u001b[49m\u001b[38;5;241;43m.\u001b[39;49m\u001b[43mgetenv\u001b[49m\u001b[43m(\u001b[49m\u001b[38;5;124;43m\"\u001b[39;49m\u001b[38;5;124;43mPOSTGRES_USER\u001b[39;49m\u001b[38;5;124;43m\"\u001b[39;49m\u001b[43m)\u001b[49m\u001b[43m,\u001b[49m\n\u001b[0;32m      8\u001b[0m \u001b[43m    \u001b[49m\u001b[43mMasterUserPassword\u001b[49m\u001b[38;5;241;43m=\u001b[39;49m\u001b[43mos\u001b[49m\u001b[38;5;241;43m.\u001b[39;49m\u001b[43mgetenv\u001b[49m\u001b[43m(\u001b[49m\u001b[38;5;124;43m\"\u001b[39;49m\u001b[38;5;124;43mPOSTGRES_PASSWORD\u001b[39;49m\u001b[38;5;124;43m\"\u001b[39;49m\u001b[43m)\u001b[49m\u001b[43m,\u001b[49m\n\u001b[0;32m      9\u001b[0m \u001b[43m    \u001b[49m\u001b[43mVpcSecurityGroupIds\u001b[49m\u001b[38;5;241;43m=\u001b[39;49m\u001b[43m[\u001b[49m\n\u001b[0;32m     10\u001b[0m \u001b[43m        \u001b[49m\u001b[38;5;124;43m\"\u001b[39;49m\u001b[38;5;124;43msg-0b7b73b05e7577a3b\u001b[39;49m\u001b[38;5;124;43m\"\u001b[39;49m\u001b[43m,\u001b[49m\n\u001b[0;32m     11\u001b[0m \u001b[43m    \u001b[49m\u001b[43m]\u001b[49m\u001b[43m,\u001b[49m\n\u001b[0;32m     12\u001b[0m \u001b[43m    \u001b[49m\u001b[43mAvailabilityZone\u001b[49m\u001b[38;5;241;43m=\u001b[39;49m\u001b[38;5;124;43m\"\u001b[39;49m\u001b[38;5;124;43meu-central-1a\u001b[39;49m\u001b[38;5;124;43m\"\u001b[39;49m\u001b[43m,\u001b[49m\n\u001b[0;32m     13\u001b[0m \u001b[43m    \u001b[49m\u001b[43mTags\u001b[49m\u001b[38;5;241;43m=\u001b[39;49m\u001b[43m[\u001b[49m\n\u001b[0;32m     14\u001b[0m \u001b[43m        \u001b[49m\u001b[43m{\u001b[49m\n\u001b[0;32m     15\u001b[0m \u001b[43m            \u001b[49m\u001b[38;5;124;43m\"\u001b[39;49m\u001b[38;5;124;43mKey\u001b[39;49m\u001b[38;5;124;43m\"\u001b[39;49m\u001b[43m:\u001b[49m\u001b[43m \u001b[49m\u001b[38;5;124;43m\"\u001b[39;49m\u001b[38;5;124;43mName\u001b[39;49m\u001b[38;5;124;43m\"\u001b[39;49m\u001b[43m,\u001b[49m\n\u001b[0;32m     16\u001b[0m \u001b[43m            \u001b[49m\u001b[38;5;124;43m\"\u001b[39;49m\u001b[38;5;124;43mValue\u001b[39;49m\u001b[38;5;124;43m\"\u001b[39;49m\u001b[43m:\u001b[49m\u001b[43m \u001b[49m\u001b[38;5;124;43m\"\u001b[39;49m\u001b[38;5;124;43mpostgres-instance\u001b[39;49m\u001b[38;5;124;43m\"\u001b[39;49m\u001b[43m,\u001b[49m\n\u001b[0;32m     17\u001b[0m \u001b[43m        \u001b[49m\u001b[43m}\u001b[49m\u001b[43m,\u001b[49m\n\u001b[0;32m     18\u001b[0m \u001b[43m    \u001b[49m\u001b[43m]\u001b[49m\u001b[43m,\u001b[49m\n\u001b[0;32m     19\u001b[0m \u001b[43m    \u001b[49m\u001b[43mPubliclyAccessible\u001b[49m\u001b[38;5;241;43m=\u001b[39;49m\u001b[38;5;28;43;01mTrue\u001b[39;49;00m\u001b[43m,\u001b[49m\n\u001b[0;32m     20\u001b[0m \u001b[43m)\u001b[49m\n\u001b[0;32m     21\u001b[0m response\n",
      "File \u001b[1;32mc:\\Users\\Fabian\\Documents\\Github_Masterthesis\\Solarpark-detection\\.venv\\lib\\site-packages\\botocore\\client.py:553\u001b[0m, in \u001b[0;36mClientCreator._create_api_method.<locals>._api_call\u001b[1;34m(self, *args, **kwargs)\u001b[0m\n\u001b[0;32m    549\u001b[0m     \u001b[38;5;28;01mraise\u001b[39;00m \u001b[38;5;167;01mTypeError\u001b[39;00m(\n\u001b[0;32m    550\u001b[0m         \u001b[38;5;124mf\u001b[39m\u001b[38;5;124m\"\u001b[39m\u001b[38;5;132;01m{\u001b[39;00mpy_operation_name\u001b[38;5;132;01m}\u001b[39;00m\u001b[38;5;124m() only accepts keyword arguments.\u001b[39m\u001b[38;5;124m\"\u001b[39m\n\u001b[0;32m    551\u001b[0m     )\n\u001b[0;32m    552\u001b[0m \u001b[38;5;66;03m# The \"self\" in this scope is referring to the BaseClient.\u001b[39;00m\n\u001b[1;32m--> 553\u001b[0m \u001b[38;5;28;01mreturn\u001b[39;00m \u001b[38;5;28;43mself\u001b[39;49m\u001b[38;5;241;43m.\u001b[39;49m\u001b[43m_make_api_call\u001b[49m\u001b[43m(\u001b[49m\u001b[43moperation_name\u001b[49m\u001b[43m,\u001b[49m\u001b[43m \u001b[49m\u001b[43mkwargs\u001b[49m\u001b[43m)\u001b[49m\n",
      "File \u001b[1;32mc:\\Users\\Fabian\\Documents\\Github_Masterthesis\\Solarpark-detection\\.venv\\lib\\site-packages\\botocore\\client.py:1009\u001b[0m, in \u001b[0;36mBaseClient._make_api_call\u001b[1;34m(self, operation_name, api_params)\u001b[0m\n\u001b[0;32m   1005\u001b[0m     error_code \u001b[38;5;241m=\u001b[39m error_info\u001b[38;5;241m.\u001b[39mget(\u001b[38;5;124m\"\u001b[39m\u001b[38;5;124mQueryErrorCode\u001b[39m\u001b[38;5;124m\"\u001b[39m) \u001b[38;5;129;01mor\u001b[39;00m error_info\u001b[38;5;241m.\u001b[39mget(\n\u001b[0;32m   1006\u001b[0m         \u001b[38;5;124m\"\u001b[39m\u001b[38;5;124mCode\u001b[39m\u001b[38;5;124m\"\u001b[39m\n\u001b[0;32m   1007\u001b[0m     )\n\u001b[0;32m   1008\u001b[0m     error_class \u001b[38;5;241m=\u001b[39m \u001b[38;5;28mself\u001b[39m\u001b[38;5;241m.\u001b[39mexceptions\u001b[38;5;241m.\u001b[39mfrom_code(error_code)\n\u001b[1;32m-> 1009\u001b[0m     \u001b[38;5;28;01mraise\u001b[39;00m error_class(parsed_response, operation_name)\n\u001b[0;32m   1010\u001b[0m \u001b[38;5;28;01melse\u001b[39;00m:\n\u001b[0;32m   1011\u001b[0m     \u001b[38;5;28;01mreturn\u001b[39;00m parsed_response\n",
      "\u001b[1;31mDBInstanceAlreadyExistsFault\u001b[0m: An error occurred (DBInstanceAlreadyExists) when calling the CreateDBInstance operation: DB instance already exists"
     ]
    }
   ],
   "source": [
    "response = rds_client.create_db_instance(\n",
    "    DBName=\"SolarParkDetection\",\n",
    "    DBInstanceIdentifier=os.getenv(\"POSTGRES_DB\"),\n",
    "    AllocatedStorage=20,\n",
    "    DBInstanceClass=\"db.t4g.micro\",\n",
    "    Engine=\"postgres\",\n",
    "    MasterUsername=os.getenv(\"POSTGRES_USER\"),\n",
    "    MasterUserPassword=os.getenv(\"POSTGRES_PASSWORD\"),\n",
    "    VpcSecurityGroupIds=[\n",
    "        \"sg-0b7b73b05e7577a3b\",\n",
    "    ],\n",
    "    AvailabilityZone=\"eu-central-1a\",\n",
    "    Tags=[\n",
    "        {\n",
    "            \"Key\": \"Name\",\n",
    "            \"Value\": \"postgres-instance\",\n",
    "        },\n",
    "    ],\n",
    "    PubliclyAccessible=True,\n",
    ")\n",
    "response\n"
   ]
  },
  {
   "cell_type": "code",
   "execution_count": 14,
   "metadata": {},
   "outputs": [
    {
     "data": {
      "text/plain": [
       "'solarparkdetection.cwoh0q12sshz.eu-central-1.rds.amazonaws.com'"
      ]
     },
     "execution_count": 14,
     "metadata": {},
     "output_type": "execute_result"
    }
   ],
   "source": [
    "# Get the RDS instance endpoint\n",
    "instances = rds_client.describe_db_instances(DBInstanceIdentifier=os.getenv(\"POSTGRES_DB\"))\n",
    "rds_host = instances.get('DBInstances')[0].get('Endpoint').get('Address')\n",
    "rds_host"
   ]
  },
  {
   "cell_type": "markdown",
   "metadata": {},
   "source": [
    "#### Additionally, we need to install the PostGIS extension on the database:"
   ]
  },
  {
   "cell_type": "code",
   "execution_count": 15,
   "metadata": {},
   "outputs": [],
   "source": [
    "\n",
    "import psycopg2\n",
    "\n",
    "# Replace these with your own values\n",
    "host = rds_host\n",
    "port = \"5432\"\n",
    "dbname = \"SolarParkDetection\"\n",
    "user = os.getenv(\"POSTGRES_USER\")\n",
    "password = os.getenv(\"POSTGRES_PASSWORD\")\n",
    "\n",
    "# Connect to the database\n",
    "conn = psycopg2.connect(\n",
    "    dbname=dbname,\n",
    "    user=user,\n",
    "    password=password,\n",
    "    host=host,\n",
    "    port=port\n",
    ")\n",
    "\n",
    "# Create a cursor object\n",
    "cur = conn.cursor()\n",
    "\n",
    "# Execute the SQL command to create the PostGIS extension\n",
    "cur.execute(\"CREATE EXTENSION IF NOT EXISTS postgis;\")\n",
    "cur.execute(\"CREATE EXTENSION IF NOT EXISTS postgis_topology;\")\n",
    "cur.execute(\"CREATE EXTENSION IF NOT EXISTS fuzzystrmatch;\")\n",
    "cur.execute(\"CREATE EXTENSION IF NOT EXISTS postgis_tiger_geocoder;\")\n",
    "\n",
    "# Commit the transaction\n",
    "conn.commit()"
   ]
  },
  {
   "cell_type": "code",
   "execution_count": 16,
   "metadata": {},
   "outputs": [],
   "source": [
    "# check if extension is installed\n",
    "cur.execute(\"SELECT * FROM pg_extension;\")"
   ]
  },
  {
   "cell_type": "code",
   "execution_count": 17,
   "metadata": {},
   "outputs": [],
   "source": [
    "# Close the cursor and the connection\n",
    "cur.close()\n",
    "conn.close()"
   ]
  },
  {
   "cell_type": "code",
   "execution_count": null,
   "metadata": {},
   "outputs": [],
   "source": []
  }
 ],
 "metadata": {
  "kernelspec": {
   "display_name": ".venv",
   "language": "python",
   "name": "python3"
  },
  "language_info": {
   "codemirror_mode": {
    "name": "ipython",
    "version": 3
   },
   "file_extension": ".py",
   "mimetype": "text/x-python",
   "name": "python",
   "nbconvert_exporter": "python",
   "pygments_lexer": "ipython3",
   "version": "3.10.0"
  },
  "orig_nbformat": 4
 },
 "nbformat": 4,
 "nbformat_minor": 2
}

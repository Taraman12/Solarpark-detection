{
 "cells": [
  {
   "cell_type": "code",
   "execution_count": 2,
   "metadata": {},
   "outputs": [],
   "source": [
    "import boto3\n",
    "from dotenv import load_dotenv\n",
    "import os\n",
    "import re\n",
    "import paramiko"
   ]
  },
  {
   "cell_type": "code",
   "execution_count": 3,
   "metadata": {},
   "outputs": [],
   "source": [
    "load_dotenv()\n",
    "aws_access_key_id= os.getenv(\"aws_access_key_id\")\n",
    "aws_secret_access_key = os.getenv(\"aws_secret_access_key\")\n",
    "region_name = os.getenv(\"region_name\")\n",
    "\n",
    "# Let's use Amazon S3\n",
    "ec2 = boto3.client('ec2', aws_access_key_id=aws_access_key_id, aws_secret_access_key=aws_secret_access_key, region_name=region_name)"
   ]
  },
  {
   "cell_type": "code",
   "execution_count": 12,
   "metadata": {},
   "outputs": [
    {
     "data": {
      "text/plain": [
       "'t3.micro'"
      ]
     },
     "execution_count": 12,
     "metadata": {},
     "output_type": "execute_result"
    }
   ],
   "source": [
    "kwargs['InstanceType']"
   ]
  },
  {
   "cell_type": "code",
   "execution_count": 9,
   "metadata": {},
   "outputs": [
    {
     "name": "stdout",
     "output_type": "stream",
     "text": [
      "Started instance i-000b6ac808a4d41d5\n"
     ]
    }
   ],
   "source": [
    "response = ec2.run_instances(**kwargs)\n",
    "\n",
    "# ID der gestarteten Instanz abrufen\n",
    "instance_id = response['Instances'][0]['InstanceId']\n",
    "print(f'Started instance {instance_id}')\n"
   ]
  },
  {
   "cell_type": "code",
   "execution_count": 7,
   "metadata": {},
   "outputs": [
    {
     "name": "stdout",
     "output_type": "stream",
     "text": [
      "Instance i-0a82804a4d4ee930b is running.\n"
     ]
    }
   ],
   "source": [
    "response = ec2.describe_instances(InstanceIds=[instance_id])\n",
    "instance_status = response['Reservations'][0]['Instances'][0]['State']['Name']\n",
    "print(f\"Instance {instance_id} is {instance_status}.\")"
   ]
  },
  {
   "cell_type": "code",
   "execution_count": 8,
   "metadata": {},
   "outputs": [],
   "source": [
    "response = ec2.terminate_instances(InstanceIds=[instance_id])"
   ]
  },
  {
   "cell_type": "code",
   "execution_count": 10,
   "metadata": {},
   "outputs": [
    {
     "name": "stdout",
     "output_type": "stream",
     "text": [
      "Instance i-0a82804a4d4ee930b termination request successful.\n"
     ]
    }
   ],
   "source": [
    "if response['ResponseMetadata']['HTTPStatusCode'] == 200:\n",
    "    print(f\"Instance {instance_id} termination request successful.\")\n",
    "else:\n",
    "    print(f\"Failed to terminate instance {instance_id}.\")"
   ]
  },
  {
   "cell_type": "code",
   "execution_count": 11,
   "metadata": {},
   "outputs": [
    {
     "name": "stdout",
     "output_type": "stream",
     "text": [
      "Instance i-0a82804a4d4ee930b terminated successfully.\n"
     ]
    }
   ],
   "source": [
    "while True:\n",
    "    response = ec2.describe_instances(InstanceIds=[instance_id])\n",
    "    instance_status = response['Reservations'][0]['Instances'][0]['State']['Name']\n",
    "    if instance_status == 'terminated':\n",
    "        print(f\"Instance {instance_id} terminated successfully.\")\n",
    "        break\n",
    "    else:\n",
    "        print(f\"Instance {instance_id} is still {instance_status}. Waiting...\")\n",
    "        time.sleep(5)"
   ]
  },
  {
   "cell_type": "code",
   "execution_count": 9,
   "metadata": {},
   "outputs": [
    {
     "data": {
      "text/plain": [
       "{'TerminatingInstances': [{'CurrentState': {'Code': 32,\n",
       "    'Name': 'shutting-down'},\n",
       "   'InstanceId': 'i-0a82804a4d4ee930b',\n",
       "   'PreviousState': {'Code': 16, 'Name': 'running'}}],\n",
       " 'ResponseMetadata': {'RequestId': '2110a1a0-047d-4483-a8c3-8b9f4dee6ea0',\n",
       "  'HTTPStatusCode': 200,\n",
       "  'HTTPHeaders': {'x-amzn-requestid': '2110a1a0-047d-4483-a8c3-8b9f4dee6ea0',\n",
       "   'cache-control': 'no-cache, no-store',\n",
       "   'strict-transport-security': 'max-age=31536000; includeSubDomains',\n",
       "   'vary': 'accept-encoding',\n",
       "   'content-type': 'text/xml;charset=UTF-8',\n",
       "   'transfer-encoding': 'chunked',\n",
       "   'date': 'Fri, 02 Jun 2023 14:57:36 GMT',\n",
       "   'server': 'AmazonEC2'},\n",
       "  'RetryAttempts': 0}}"
      ]
     },
     "execution_count": 9,
     "metadata": {},
     "output_type": "execute_result"
    }
   ],
   "source": [
    "response"
   ]
  },
  {
   "cell_type": "code",
   "execution_count": 17,
   "metadata": {},
   "outputs": [],
   "source": [
    "load_dotenv()\n",
    "# login to aws\n",
    "aws_access_key_id = os.getenv(\"aws_access_key_id\")\n",
    "aws_secret_access_key = os.getenv(\"aws_secret_access_key\")\n",
    "region_name = os.getenv(\"region_name\")\n",
    "BUCKET_NAME = os.getenv(\"aws_s3_bucket\")\n",
    "\n",
    "COPERNICUS_API_USER = os.getenv(\"COPERNICUS_API_USER\")\n",
    "COPERNICUS_API_SECRET = os.getenv(\"COPERNICUS_API_SECRET\")\n",
    "COPERNICUS_API_URL = os.getenv(\"COPERNICUS_API_URL\")\n",
    "\n",
    "DOCKERHUB_USER = os.getenv(\"DOCKERHUB_USER\")\n",
    "DOCKERHUB_PASSWORD = os.getenv(\"DOCKERHUB_PASSWORD\")\n",
    "\n",
    "PROJECT_NAME = os.getenv(\"PROJECT_NAME\")"
   ]
  },
  {
   "cell_type": "code",
   "execution_count": 19,
   "metadata": {},
   "outputs": [],
   "source": [
    "EC2_KWARGS = {\n",
    "    \"ImageId\": \"ami-07151644aeb34558a\",  # ID des Amazon Linux 2 AMI\n",
    "    \"InstanceType\": \"t3.micro\",  # Instanztyp t3.medium\n",
    "    \"MinCount\": 1,  # Mindestanzahl von Instanzen\n",
    "    \"MaxCount\": 1,  # Maximale Anzahl von Instanzen\n",
    "    \"KeyName\": \"Ec2-boto3\",  # Name des Schlüsselpaars\n",
    "    \"SecurityGroupIds\": [\"sg-0b7b73b05e7577a3b\"],  # ID der Sicherheitsgruppe\n",
    "    \"BlockDeviceMappings\": [\n",
    "        {\n",
    "            \"DeviceName\": \"/dev/xvda\",\n",
    "            \"Ebs\": {\n",
    "                \"VolumeSize\": 20,  # Größe des Root-Volumes in GB\n",
    "                \"DeleteOnTermination\": True,\n",
    "                \"VolumeType\": \"gp3\",\n",
    "            },\n",
    "        },\n",
    "    ],\n",
    "    \"UserData\": f\"\"\"#!/bin/bash\n",
    "                sudo yum update -y\n",
    "                sudo yum install docker -y\n",
    "                sudo service docker start\n",
    "                sudo usermod -a -G docker ec2-user\n",
    "                echo {DOCKERHUB_PASSWORD} | sudo docker login --username {DOCKERHUB_USER} --password-stdin\n",
    "                sudo docker pull {DOCKERHUB_USER}/{PROJECT_NAME}-SERVICE_PLACEHOLDER:latest\n",
    "                sudo docker run \\\n",
    "                -e DOCKERIZED=True \\\n",
    "                -e aws_access_key_id={aws_access_key_id} \\\n",
    "                -e aws_secret_access_key={aws_secret_access_key} \\\n",
    "                -e region_name={region_name} \\\n",
    "                -e aws_s3_bucket={BUCKET_NAME} \\\n",
    "                -e COPERNICUS_API_USER={COPERNICUS_API_USER} \\\n",
    "                -e COPERNICUS_API_SECRET={COPERNICUS_API_SECRET} \\\n",
    "                -e COPERNICUS_API_URL={COPERNICUS_API_URL} \\\n",
    "                {DOCKERHUB_USER}/{PROJECT_NAME}-SERVICE_PLACEHOLDER:latest\n",
    "             \"\"\",  # Skript, das beim Start der Instanz ausgeführt wird\n",
    "    \"TagSpecifications\": [\n",
    "        {\n",
    "            \"ResourceType\": \"instance\",\n",
    "            \"Tags\": [\n",
    "                {\"Key\": \"Name\", \"Value\": f\"{PROJECT_NAME}-SERVICE_PLACEHOLDER\"},\n",
    "            ],\n",
    "        },\n",
    "    ],\n",
    "}"
   ]
  },
  {
   "cell_type": "code",
   "execution_count": 32,
   "metadata": {},
   "outputs": [],
   "source": [
    "EC2_KWARGS[\"UserData\"] = EC2_KWARGS[\"UserData\"].replace(\n",
    "    'SERVICE_PLACEHOLDER', 'downloader'\n",
    ")"
   ]
  },
  {
   "cell_type": "code",
   "execution_count": 27,
   "metadata": {},
   "outputs": [
    {
     "data": {
      "text/plain": [
       "[{'ResourceType': 'instance',\n",
       "  'Tags': [{'Key': 'Name',\n",
       "    'Value': 'solar-park-detection-SERVICE_PLACEHOLDER'}]}]"
      ]
     },
     "execution_count": 27,
     "metadata": {},
     "output_type": "execute_result"
    }
   ],
   "source": [
    "EC2_KWARGS[\"TagSpecifications\"][0][\"Tags\"][0][\"Value\"] = EC2_KWARGS[\"TagSpecifications\"][0][\"Tags\"][0][\"Value\"].replace("
   ]
  },
  {
   "cell_type": "code",
   "execution_count": 24,
   "metadata": {},
   "outputs": [
    {
     "data": {
      "text/plain": [
       "str"
      ]
     },
     "execution_count": 24,
     "metadata": {},
     "output_type": "execute_result"
    }
   ],
   "source": [
    "EC2_KWARGS[\"TagSpecifications\"] = EC2_KWARGS[\"TagSpecifications\"].replace(\n",
    "    \"SERVICE_PLACEHOLDER\", service\n",
    ")"
   ]
  },
  {
   "cell_type": "code",
   "execution_count": 29,
   "metadata": {},
   "outputs": [
    {
     "data": {
      "text/plain": [
       "'solar-park-detection-SERVICE_PLACEHOLDER'"
      ]
     },
     "execution_count": 29,
     "metadata": {},
     "output_type": "execute_result"
    }
   ],
   "source": [
    "EC2_KWARGS[\"TagSpecifications\"][0][\"Tags\"][0][\"Value\"] = EC2_KWARGS[\"TagSpecifications\"][0][\"Tags\"][0][\"Value\"].replace("
   ]
  },
  {
   "cell_type": "code",
   "execution_count": 12,
   "metadata": {},
   "outputs": [],
   "source": []
  },
  {
   "cell_type": "code",
   "execution_count": 32,
   "metadata": {},
   "outputs": [
    {
     "data": {
      "text/plain": [
       "{'modelName': 'solar-park-detection', 'modelUrl': 'solar-park-detection.mar'}"
      ]
     },
     "execution_count": 32,
     "metadata": {},
     "output_type": "execute_result"
    }
   ],
   "source": [
    "import requests\n",
    "response = requests.get('http://localhost:8081/models')\n",
    "response.json()['models'][0]"
   ]
  },
  {
   "cell_type": "code",
   "execution_count": 30,
   "metadata": {},
   "outputs": [
    {
     "data": {
      "text/plain": [
       "{'content-type': 'application/json', 'x-request-id': '670d9fac-daeb-432f-bfa2-983aa78fe0a3', 'access-control-allow-origin': '*', 'access-control-allow-methods': 'GET, POST, PUT, OPTIONS', 'access-control-allow-headers': 'Content-Type', 'Pragma': 'no-cache', 'Cache-Control': 'no-cache; no-store, must-revalidate, private', 'Expires': 'Thu, 01 Jan 1970 00:00:00 UTC', 'content-length': '122', 'connection': 'keep-alive'}"
      ]
     },
     "execution_count": 30,
     "metadata": {},
     "output_type": "execute_result"
    }
   ],
   "source": [
    "response = requests.get('http://localhost:8081/models')\n",
    "response.headers"
   ]
  },
  {
   "cell_type": "code",
   "execution_count": 45,
   "metadata": {},
   "outputs": [],
   "source": [
    "EC2_KWARGS = {\n",
    "    \"ImageId\": \"ami-07151644aeb34558a\",  # ID des Amazon Linux 2 AMI\n",
    "    \"InstanceType\": \"t2.micro\",  # Instanztyp t3.medium\n",
    "    \"MinCount\": 1,  # Mindestanzahl von Instanzen\n",
    "    \"MaxCount\": 1,  # Maximale Anzahl von Instanzen\n",
    "    \"KeyName\": \"Ec2-boto3\",  # Name des Schlüsselpaars\n",
    "    \"SecurityGroupIds\": [\"sg-0b7b73b05e7577a3b\"],  # ID der Sicherheitsgruppe\n",
    "    \"BlockDeviceMappings\": [\n",
    "        {\n",
    "            \"DeviceName\": \"/dev/xvda\",\n",
    "            \"Ebs\": {\n",
    "                \"VolumeSize\": 20,  # Größe des Root-Volumes in GB\n",
    "                \"DeleteOnTermination\": True,\n",
    "                \"VolumeType\": \"gp3\",\n",
    "            },\n",
    "        },\n",
    "    ],\n",
    "    \"UserData\": f\"\"\"#!/bin/bash\n",
    "                sudo yum update -y\n",
    "                sudo yum install docker -y\n",
    "                sudo service docker start\n",
    "                sudo usermod -a -G docker ec2-user\n",
    "                sudo curl \\\n",
    "                    -L https://github.com/docker/compose/releases/latest/download/docker-compose-$(uname -s)-$(uname -m) \\\n",
    "                    -o /usr/local/bin/docker-compose\n",
    "                sleep 3    \n",
    "                sudo chmod +x /usr/local/bin/docker-compose\n",
    "             \"\"\",  # Skript, das beim Start der Instanz ausgeführt wird\n",
    "    \"TagSpecifications\": [\n",
    "        {\n",
    "            \"ResourceType\": \"instance\",\n",
    "            \"Tags\": [\n",
    "                {\"Key\": \"Name\", \"Value\": f\"solar-park-detection-ml-serve\"},\n",
    "            ],\n",
    "        },\n",
    "    ],\n",
    "}"
   ]
  },
  {
   "cell_type": "code",
   "execution_count": 46,
   "metadata": {},
   "outputs": [
    {
     "name": "stdout",
     "output_type": "stream",
     "text": [
      "Started instance i-03f31d0771b290277\n"
     ]
    }
   ],
   "source": [
    "response = ec2.run_instances(**EC2_KWARGS)\n",
    "\n",
    "# ID der gestarteten Instanz abrufen\n",
    "instance_id = response['Instances'][0]['InstanceId']\n",
    "print(f'Started instance {instance_id}')"
   ]
  },
  {
   "cell_type": "code",
   "execution_count": 9,
   "metadata": {},
   "outputs": [
    {
     "data": {
      "text/plain": [
       "{'AmiLaunchIndex': 0,\n",
       " 'ImageId': 'ami-07151644aeb34558a',\n",
       " 'InstanceId': 'i-03ddabfbf478f0cc1',\n",
       " 'InstanceType': 't2.micro',\n",
       " 'KeyName': 'Ec2-boto3',\n",
       " 'LaunchTime': datetime.datetime(2023, 6, 5, 8, 35, 48, tzinfo=tzutc()),\n",
       " 'Monitoring': {'State': 'disabled'},\n",
       " 'Placement': {'AvailabilityZone': 'eu-central-1a',\n",
       "  'GroupName': '',\n",
       "  'Tenancy': 'default'},\n",
       " 'PrivateDnsName': 'ip-172-31-29-112.eu-central-1.compute.internal',\n",
       " 'PrivateIpAddress': '172.31.29.112',\n",
       " 'ProductCodes': [],\n",
       " 'PublicDnsName': '',\n",
       " 'State': {'Code': 0, 'Name': 'pending'},\n",
       " 'StateTransitionReason': '',\n",
       " 'SubnetId': 'subnet-0e19e3f6d404a4467',\n",
       " 'VpcId': 'vpc-07332de596f81bf40',\n",
       " 'Architecture': 'x86_64',\n",
       " 'BlockDeviceMappings': [],\n",
       " 'ClientToken': '45174ea1-239e-415a-bf53-28ef53bd94ce',\n",
       " 'EbsOptimized': False,\n",
       " 'EnaSupport': True,\n",
       " 'Hypervisor': 'xen',\n",
       " 'NetworkInterfaces': [{'Attachment': {'AttachTime': datetime.datetime(2023, 6, 5, 8, 35, 48, tzinfo=tzutc()),\n",
       "    'AttachmentId': 'eni-attach-02ebc257b0f945884',\n",
       "    'DeleteOnTermination': True,\n",
       "    'DeviceIndex': 0,\n",
       "    'Status': 'attaching',\n",
       "    'NetworkCardIndex': 0},\n",
       "   'Description': '',\n",
       "   'Groups': [{'GroupName': 'EC2-Instance-connect',\n",
       "     'GroupId': 'sg-0b7b73b05e7577a3b'}],\n",
       "   'Ipv6Addresses': [],\n",
       "   'MacAddress': '02:bc:00:60:cd:2e',\n",
       "   'NetworkInterfaceId': 'eni-065f97cfbd5c44c5a',\n",
       "   'OwnerId': '103976228435',\n",
       "   'PrivateDnsName': 'ip-172-31-29-112.eu-central-1.compute.internal',\n",
       "   'PrivateIpAddress': '172.31.29.112',\n",
       "   'PrivateIpAddresses': [{'Primary': True,\n",
       "     'PrivateDnsName': 'ip-172-31-29-112.eu-central-1.compute.internal',\n",
       "     'PrivateIpAddress': '172.31.29.112'}],\n",
       "   'SourceDestCheck': True,\n",
       "   'Status': 'in-use',\n",
       "   'SubnetId': 'subnet-0e19e3f6d404a4467',\n",
       "   'VpcId': 'vpc-07332de596f81bf40',\n",
       "   'InterfaceType': 'interface'}],\n",
       " 'RootDeviceName': '/dev/xvda',\n",
       " 'RootDeviceType': 'ebs',\n",
       " 'SecurityGroups': [{'GroupName': 'EC2-Instance-connect',\n",
       "   'GroupId': 'sg-0b7b73b05e7577a3b'}],\n",
       " 'SourceDestCheck': True,\n",
       " 'StateReason': {'Code': 'pending', 'Message': 'pending'},\n",
       " 'Tags': [{'Key': 'Name', 'Value': 'solar-park-detection-ml-serve'}],\n",
       " 'VirtualizationType': 'hvm',\n",
       " 'CpuOptions': {'CoreCount': 1, 'ThreadsPerCore': 1},\n",
       " 'CapacityReservationSpecification': {'CapacityReservationPreference': 'open'},\n",
       " 'MetadataOptions': {'State': 'pending',\n",
       "  'HttpTokens': 'required',\n",
       "  'HttpPutResponseHopLimit': 2,\n",
       "  'HttpEndpoint': 'enabled',\n",
       "  'HttpProtocolIpv6': 'disabled',\n",
       "  'InstanceMetadataTags': 'disabled'},\n",
       " 'EnclaveOptions': {'Enabled': False},\n",
       " 'BootMode': 'uefi-preferred',\n",
       " 'PrivateDnsNameOptions': {'HostnameType': 'ip-name',\n",
       "  'EnableResourceNameDnsARecord': False,\n",
       "  'EnableResourceNameDnsAAAARecord': False},\n",
       " 'MaintenanceOptions': {'AutoRecovery': 'default'},\n",
       " 'CurrentInstanceBootMode': 'legacy-bios'}"
      ]
     },
     "execution_count": 9,
     "metadata": {},
     "output_type": "execute_result"
    }
   ],
   "source": [
    "response['Instances'][0]"
   ]
  },
  {
   "cell_type": "code",
   "execution_count": 10,
   "metadata": {},
   "outputs": [],
   "source": [
    "private_ip = response['Instances'][0]['PrivateIpAddress']"
   ]
  },
  {
   "cell_type": "code",
   "execution_count": 47,
   "metadata": {},
   "outputs": [],
   "source": [
    "ssh = paramiko.SSHClient()\n",
    "ssh.set_missing_host_key_policy(paramiko.AutoAddPolicy())\n",
    "ssh.connect('18.185.239.96', username='ec2-user', key_filename='Ec2-boto3.pem')"
   ]
  },
  {
   "cell_type": "code",
   "execution_count": 48,
   "metadata": {},
   "outputs": [],
   "source": [
    "# Kopieren Sie die Docker Compose-Datei auf die Instanz\n",
    "sftp = ssh.open_sftp()\n",
    "sftp.put(r'C:\\Users\\Fabian\\Documents\\Github_Masterthesis\\Solarpark-detection\\src\\.env', '/home/ec2-user/.env')\n",
    "sftp.put(r'C:\\Users\\Fabian\\Documents\\Github_Masterthesis\\Solarpark-detection\\src\\docker-compose.yml', '/home/ec2-user/docker-compose.yml')\n",
    "sftp.close()\n"
   ]
  },
  {
   "cell_type": "code",
   "execution_count": 24,
   "metadata": {},
   "outputs": [
    {
     "data": {
      "text/plain": [
       "<paramiko.client.SSHClient at 0x247cc9020b0>"
      ]
     },
     "execution_count": 24,
     "metadata": {},
     "output_type": "execute_result"
    }
   ],
   "source": [
    "ssh"
   ]
  },
  {
   "cell_type": "code",
   "execution_count": 49,
   "metadata": {},
   "outputs": [],
   "source": [
    "stdin, stdout, stderr = ssh.exec_command('sudo docker-compose up')"
   ]
  },
  {
   "cell_type": "code",
   "execution_count": 26,
   "metadata": {},
   "outputs": [
    {
     "data": {
      "text/plain": [
       "(<paramiko.ChannelFile from <paramiko.Channel 4 (closed) -> <paramiko.Transport at 0xcb5d5750 (cipher aes128-ctr, 128 bits) (active; 0 open channel(s))>>>,\n",
       " <paramiko.ChannelFile from <paramiko.Channel 4 (closed) -> <paramiko.Transport at 0xcb5d5750 (cipher aes128-ctr, 128 bits) (active; 0 open channel(s))>>>,\n",
       " <paramiko.ChannelFile from <paramiko.Channel 4 (closed) -> <paramiko.Transport at 0xcb5d5750 (cipher aes128-ctr, 128 bits) (active; 0 open channel(s))>>>)"
      ]
     },
     "execution_count": 26,
     "metadata": {},
     "output_type": "execute_result"
    }
   ],
   "source": [
    "stdin, stdout, stderr"
   ]
  },
  {
   "cell_type": "code",
   "execution_count": 40,
   "metadata": {},
   "outputs": [],
   "source": [
    "output = stdout.read().decode('utf-8')\n",
    "print(output)"
   ]
  },
  {
   "cell_type": "code",
   "execution_count": 41,
   "metadata": {},
   "outputs": [
    {
     "data": {
      "text/plain": [
       "''"
      ]
     },
     "execution_count": 41,
     "metadata": {},
     "output_type": "execute_result"
    }
   ],
   "source": [
    "output"
   ]
  },
  {
   "cell_type": "code",
   "execution_count": 42,
   "metadata": {},
   "outputs": [],
   "source": [
    "stdin, stdout, stderr = ssh.exec_command('cd /path/to/docker-compose.yml && sudo docker-compose up -d')"
   ]
  },
  {
   "cell_type": "code",
   "execution_count": 5,
   "metadata": {},
   "outputs": [
    {
     "ename": "NameError",
     "evalue": "name 'kwargs' is not defined",
     "output_type": "error",
     "traceback": [
      "\u001b[1;31m---------------------------------------------------------------------------\u001b[0m",
      "\u001b[1;31mNameError\u001b[0m                                 Traceback (most recent call last)",
      "Cell \u001b[1;32mIn[5], line 2\u001b[0m\n\u001b[0;32m      1\u001b[0m \u001b[39m# Starten Sie die EC2-Instanz\u001b[39;00m\n\u001b[1;32m----> 2\u001b[0m response \u001b[39m=\u001b[39m ec2\u001b[39m.\u001b[39mrun_instances(\u001b[39m*\u001b[39m\u001b[39m*\u001b[39mkwargs)\n",
      "\u001b[1;31mNameError\u001b[0m: name 'kwargs' is not defined"
     ]
    }
   ],
   "source": [
    "# Starten Sie die EC2-Instanz\n",
    "response = ec2.run_instances(**kwargs)"
   ]
  },
  {
   "cell_type": "code",
   "execution_count": null,
   "metadata": {},
   "outputs": [],
   "source": [
    "# Warten Sie, bis die Instanz ausgeführt wird\n",
    "instance[0].wait_until_running()"
   ]
  }
 ],
 "metadata": {
  "kernelspec": {
   "display_name": ".venv",
   "language": "python",
   "name": "python3"
  },
  "language_info": {
   "codemirror_mode": {
    "name": "ipython",
    "version": 3
   },
   "file_extension": ".py",
   "mimetype": "text/x-python",
   "name": "python",
   "nbconvert_exporter": "python",
   "pygments_lexer": "ipython3",
   "version": "3.10.0"
  },
  "orig_nbformat": 4
 },
 "nbformat": 4,
 "nbformat_minor": 2
}

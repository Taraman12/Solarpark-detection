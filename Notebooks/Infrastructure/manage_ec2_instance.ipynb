{
 "cells": [
  {
   "cell_type": "code",
   "execution_count": 1,
   "metadata": {},
   "outputs": [],
   "source": [
    "import boto3\n",
    "from dotenv import load_dotenv\n",
    "import os\n",
    "import re"
   ]
  },
  {
   "cell_type": "code",
   "execution_count": 2,
   "metadata": {},
   "outputs": [],
   "source": [
    "load_dotenv()\n",
    "aws_access_key_id= os.getenv(\"aws_access_key_id\")\n",
    "aws_secret_access_key = os.getenv(\"aws_secret_access_key\")\n",
    "region_name = os.getenv(\"region_name\")\n",
    "\n",
    "# Let's use Amazon S3\n",
    "ec2 = boto3.client('ec2', aws_access_key_id=aws_access_key_id, aws_secret_access_key=aws_secret_access_key, region_name=region_name)"
   ]
  },
  {
   "cell_type": "code",
   "execution_count": 12,
   "metadata": {},
   "outputs": [
    {
     "data": {
      "text/plain": [
       "'t3.micro'"
      ]
     },
     "execution_count": 12,
     "metadata": {},
     "output_type": "execute_result"
    }
   ],
   "source": [
    "kwargs['InstanceType']"
   ]
  },
  {
   "cell_type": "code",
   "execution_count": 9,
   "metadata": {},
   "outputs": [
    {
     "name": "stdout",
     "output_type": "stream",
     "text": [
      "Started instance i-000b6ac808a4d41d5\n"
     ]
    }
   ],
   "source": [
    "response = ec2.run_instances(**kwargs)\n",
    "\n",
    "# ID der gestarteten Instanz abrufen\n",
    "instance_id = response['Instances'][0]['InstanceId']\n",
    "print(f'Started instance {instance_id}')\n"
   ]
  },
  {
   "cell_type": "code",
   "execution_count": 7,
   "metadata": {},
   "outputs": [
    {
     "name": "stdout",
     "output_type": "stream",
     "text": [
      "Instance i-0a82804a4d4ee930b is running.\n"
     ]
    }
   ],
   "source": [
    "response = ec2.describe_instances(InstanceIds=[instance_id])\n",
    "instance_status = response['Reservations'][0]['Instances'][0]['State']['Name']\n",
    "print(f\"Instance {instance_id} is {instance_status}.\")"
   ]
  },
  {
   "cell_type": "code",
   "execution_count": 8,
   "metadata": {},
   "outputs": [],
   "source": [
    "response = ec2.terminate_instances(InstanceIds=[instance_id])"
   ]
  },
  {
   "cell_type": "code",
   "execution_count": 10,
   "metadata": {},
   "outputs": [
    {
     "name": "stdout",
     "output_type": "stream",
     "text": [
      "Instance i-0a82804a4d4ee930b termination request successful.\n"
     ]
    }
   ],
   "source": [
    "if response['ResponseMetadata']['HTTPStatusCode'] == 200:\n",
    "    print(f\"Instance {instance_id} termination request successful.\")\n",
    "else:\n",
    "    print(f\"Failed to terminate instance {instance_id}.\")"
   ]
  },
  {
   "cell_type": "code",
   "execution_count": 11,
   "metadata": {},
   "outputs": [
    {
     "name": "stdout",
     "output_type": "stream",
     "text": [
      "Instance i-0a82804a4d4ee930b terminated successfully.\n"
     ]
    }
   ],
   "source": [
    "while True:\n",
    "    response = ec2.describe_instances(InstanceIds=[instance_id])\n",
    "    instance_status = response['Reservations'][0]['Instances'][0]['State']['Name']\n",
    "    if instance_status == 'terminated':\n",
    "        print(f\"Instance {instance_id} terminated successfully.\")\n",
    "        break\n",
    "    else:\n",
    "        print(f\"Instance {instance_id} is still {instance_status}. Waiting...\")\n",
    "        time.sleep(5)"
   ]
  },
  {
   "cell_type": "code",
   "execution_count": 9,
   "metadata": {},
   "outputs": [
    {
     "data": {
      "text/plain": [
       "{'TerminatingInstances': [{'CurrentState': {'Code': 32,\n",
       "    'Name': 'shutting-down'},\n",
       "   'InstanceId': 'i-0a82804a4d4ee930b',\n",
       "   'PreviousState': {'Code': 16, 'Name': 'running'}}],\n",
       " 'ResponseMetadata': {'RequestId': '2110a1a0-047d-4483-a8c3-8b9f4dee6ea0',\n",
       "  'HTTPStatusCode': 200,\n",
       "  'HTTPHeaders': {'x-amzn-requestid': '2110a1a0-047d-4483-a8c3-8b9f4dee6ea0',\n",
       "   'cache-control': 'no-cache, no-store',\n",
       "   'strict-transport-security': 'max-age=31536000; includeSubDomains',\n",
       "   'vary': 'accept-encoding',\n",
       "   'content-type': 'text/xml;charset=UTF-8',\n",
       "   'transfer-encoding': 'chunked',\n",
       "   'date': 'Fri, 02 Jun 2023 14:57:36 GMT',\n",
       "   'server': 'AmazonEC2'},\n",
       "  'RetryAttempts': 0}}"
      ]
     },
     "execution_count": 9,
     "metadata": {},
     "output_type": "execute_result"
    }
   ],
   "source": [
    "response"
   ]
  },
  {
   "cell_type": "code",
   "execution_count": 17,
   "metadata": {},
   "outputs": [],
   "source": [
    "load_dotenv()\n",
    "# login to aws\n",
    "aws_access_key_id = os.getenv(\"aws_access_key_id\")\n",
    "aws_secret_access_key = os.getenv(\"aws_secret_access_key\")\n",
    "region_name = os.getenv(\"region_name\")\n",
    "BUCKET_NAME = os.getenv(\"aws_s3_bucket\")\n",
    "\n",
    "COPERNICUS_API_USER = os.getenv(\"COPERNICUS_API_USER\")\n",
    "COPERNICUS_API_SECRET = os.getenv(\"COPERNICUS_API_SECRET\")\n",
    "COPERNICUS_API_URL = os.getenv(\"COPERNICUS_API_URL\")\n",
    "\n",
    "DOCKERHUB_USER = os.getenv(\"DOCKERHUB_USER\")\n",
    "DOCKERHUB_PASSWORD = os.getenv(\"DOCKERHUB_PASSWORD\")\n",
    "\n",
    "PROJECT_NAME = os.getenv(\"PROJECT_NAME\")"
   ]
  },
  {
   "cell_type": "code",
   "execution_count": 19,
   "metadata": {},
   "outputs": [],
   "source": [
    "EC2_KWARGS = {\n",
    "    \"ImageId\": \"ami-07151644aeb34558a\",  # ID des Amazon Linux 2 AMI\n",
    "    \"InstanceType\": \"t3.micro\",  # Instanztyp t3.medium\n",
    "    \"MinCount\": 1,  # Mindestanzahl von Instanzen\n",
    "    \"MaxCount\": 1,  # Maximale Anzahl von Instanzen\n",
    "    \"KeyName\": \"Ec2-boto3\",  # Name des Schlüsselpaars\n",
    "    \"SecurityGroupIds\": [\"sg-0b7b73b05e7577a3b\"],  # ID der Sicherheitsgruppe\n",
    "    \"BlockDeviceMappings\": [\n",
    "        {\n",
    "            \"DeviceName\": \"/dev/xvda\",\n",
    "            \"Ebs\": {\n",
    "                \"VolumeSize\": 20,  # Größe des Root-Volumes in GB\n",
    "                \"DeleteOnTermination\": True,\n",
    "                \"VolumeType\": \"gp3\",\n",
    "            },\n",
    "        },\n",
    "    ],\n",
    "    \"UserData\": f\"\"\"#!/bin/bash\n",
    "                sudo yum update -y\n",
    "                sudo yum install docker -y\n",
    "                sudo service docker start\n",
    "                sudo usermod -a -G docker ec2-user\n",
    "                echo {DOCKERHUB_PASSWORD} | sudo docker login --username {DOCKERHUB_USER} --password-stdin\n",
    "                sudo docker pull {DOCKERHUB_USER}/{PROJECT_NAME}-SERVICE_PLACEHOLDER:latest\n",
    "                sudo docker run \\\n",
    "                -e DOCKERIZED=True \\\n",
    "                -e aws_access_key_id={aws_access_key_id} \\\n",
    "                -e aws_secret_access_key={aws_secret_access_key} \\\n",
    "                -e region_name={region_name} \\\n",
    "                -e aws_s3_bucket={BUCKET_NAME} \\\n",
    "                -e COPERNICUS_API_USER={COPERNICUS_API_USER} \\\n",
    "                -e COPERNICUS_API_SECRET={COPERNICUS_API_SECRET} \\\n",
    "                -e COPERNICUS_API_URL={COPERNICUS_API_URL} \\\n",
    "                {DOCKERHUB_USER}/{PROJECT_NAME}-SERVICE_PLACEHOLDER:latest\n",
    "             \"\"\",  # Skript, das beim Start der Instanz ausgeführt wird\n",
    "    \"TagSpecifications\": [\n",
    "        {\n",
    "            \"ResourceType\": \"instance\",\n",
    "            \"Tags\": [\n",
    "                {\"Key\": \"Name\", \"Value\": f\"{PROJECT_NAME}-SERVICE_PLACEHOLDER\"},\n",
    "            ],\n",
    "        },\n",
    "    ],\n",
    "}"
   ]
  },
  {
   "cell_type": "code",
   "execution_count": 32,
   "metadata": {},
   "outputs": [],
   "source": [
    "EC2_KWARGS[\"UserData\"] = EC2_KWARGS[\"UserData\"].replace(\n",
    "    'SERVICE_PLACEHOLDER', 'downloader'\n",
    ")"
   ]
  },
  {
   "cell_type": "code",
   "execution_count": 27,
   "metadata": {},
   "outputs": [
    {
     "data": {
      "text/plain": [
       "[{'ResourceType': 'instance',\n",
       "  'Tags': [{'Key': 'Name',\n",
       "    'Value': 'solar-park-detection-SERVICE_PLACEHOLDER'}]}]"
      ]
     },
     "execution_count": 27,
     "metadata": {},
     "output_type": "execute_result"
    }
   ],
   "source": [
    "EC2_KWARGS[\"TagSpecifications\"][0][\"Tags\"][0][\"Value\"] = EC2_KWARGS[\"TagSpecifications\"][0][\"Tags\"][0][\"Value\"].replace("
   ]
  },
  {
   "cell_type": "code",
   "execution_count": 24,
   "metadata": {},
   "outputs": [
    {
     "data": {
      "text/plain": [
       "str"
      ]
     },
     "execution_count": 24,
     "metadata": {},
     "output_type": "execute_result"
    }
   ],
   "source": [
    "EC2_KWARGS[\"TagSpecifications\"] = EC2_KWARGS[\"TagSpecifications\"].replace(\n",
    "    \"SERVICE_PLACEHOLDER\", service\n",
    ")"
   ]
  },
  {
   "cell_type": "code",
   "execution_count": 29,
   "metadata": {},
   "outputs": [
    {
     "data": {
      "text/plain": [
       "'solar-park-detection-SERVICE_PLACEHOLDER'"
      ]
     },
     "execution_count": 29,
     "metadata": {},
     "output_type": "execute_result"
    }
   ],
   "source": [
    "EC2_KWARGS[\"TagSpecifications\"][0][\"Tags\"][0][\"Value\"] = EC2_KWARGS[\"TagSpecifications\"][0][\"Tags\"][0][\"Value\"].replace("
   ]
  },
  {
   "cell_type": "code",
   "execution_count": 12,
   "metadata": {},
   "outputs": [],
   "source": []
  },
  {
   "cell_type": "code",
   "execution_count": 32,
   "metadata": {},
   "outputs": [
    {
     "data": {
      "text/plain": [
       "{'modelName': 'solar-park-detection', 'modelUrl': 'solar-park-detection.mar'}"
      ]
     },
     "execution_count": 32,
     "metadata": {},
     "output_type": "execute_result"
    }
   ],
   "source": [
    "import requests\n",
    "response = requests.get('http://localhost:8081/models')\n",
    "response.json()['models'][0]"
   ]
  },
  {
   "cell_type": "code",
   "execution_count": 30,
   "metadata": {},
   "outputs": [
    {
     "data": {
      "text/plain": [
       "{'content-type': 'application/json', 'x-request-id': '670d9fac-daeb-432f-bfa2-983aa78fe0a3', 'access-control-allow-origin': '*', 'access-control-allow-methods': 'GET, POST, PUT, OPTIONS', 'access-control-allow-headers': 'Content-Type', 'Pragma': 'no-cache', 'Cache-Control': 'no-cache; no-store, must-revalidate, private', 'Expires': 'Thu, 01 Jan 1970 00:00:00 UTC', 'content-length': '122', 'connection': 'keep-alive'}"
      ]
     },
     "execution_count": 30,
     "metadata": {},
     "output_type": "execute_result"
    }
   ],
   "source": [
    "response = requests.get('http://localhost:8081/models')\n",
    "response.headers"
   ]
  },
  {
   "cell_type": "code",
   "execution_count": null,
   "metadata": {},
   "outputs": [],
   "source": []
  }
 ],
 "metadata": {
  "kernelspec": {
   "display_name": ".venv",
   "language": "python",
   "name": "python3"
  },
  "language_info": {
   "codemirror_mode": {
    "name": "ipython",
    "version": 3
   },
   "file_extension": ".py",
   "mimetype": "text/x-python",
   "name": "python",
   "nbconvert_exporter": "python",
   "pygments_lexer": "ipython3",
   "version": "3.10.0"
  },
  "orig_nbformat": 4
 },
 "nbformat": 4,
 "nbformat_minor": 2
}

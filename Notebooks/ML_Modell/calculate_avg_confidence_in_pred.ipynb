{
 "cells": [
  {
   "cell_type": "code",
   "execution_count": 2,
   "metadata": {},
   "outputs": [],
   "source": [
    "import torch\n",
    "import numpy as np"
   ]
  },
  {
   "cell_type": "code",
   "execution_count": 7,
   "metadata": {},
   "outputs": [
    {
     "name": "stdout",
     "output_type": "stream",
     "text": [
      "pred mean: 0.49910229444503784\n",
      "mask mean: 0.7516795992851257\n"
     ]
    }
   ],
   "source": [
    "pred = torch.rand(1, 256, 256)\n",
    "print(f\"pred mean: {np.mean(pred[0].detach().numpy())}\")\n",
    "mask = np.where(pred[0] < 0.5, 0, pred)\n",
    "print(f\"mask mean -> Confidence: {np.mean(mask, where=mask!=0)}\")\n",
    "# Find a solution for multiple solarparks in one image (hashmap or something)\n"
   ]
  },
  {
   "cell_type": "code",
   "execution_count": null,
   "metadata": {},
   "outputs": [],
   "source": []
  }
 ],
 "metadata": {
  "kernelspec": {
   "display_name": ".venv",
   "language": "python",
   "name": "python3"
  },
  "language_info": {
   "codemirror_mode": {
    "name": "ipython",
    "version": 3
   },
   "file_extension": ".py",
   "mimetype": "text/x-python",
   "name": "python",
   "nbconvert_exporter": "python",
   "pygments_lexer": "ipython3",
   "version": "3.10.0"
  }
 },
 "nbformat": 4,
 "nbformat_minor": 2
}

{
 "cells": [
  {
   "cell_type": "markdown",
   "metadata": {},
   "source": []
  },
  {
   "cell_type": "code",
   "execution_count": 30,
   "metadata": {},
   "outputs": [],
   "source": [
    "import geopandas as gpd\n",
    "from datetime import datetime, date\n",
    "import re\n",
    "from pathlib import Path\n",
    "import pandas as pd\n",
    "import numpy as np\n",
    "import matplotlib.pyplot as plt\n",
    "import os"
   ]
  },
  {
   "cell_type": "code",
   "execution_count": 25,
   "metadata": {},
   "outputs": [],
   "source": [
    "IDENTIFIER_REGEX = re.compile(\n",
    "    r\"\"\"(?P<mission>S2[A-B])_MSI\n",
    "        (?P<product_level>L[1-2][A-C])_\n",
    "        (?P<sensing_time>\\d{8}T\\d{6})_\n",
    "        (?P<processing_baseline>N\\d{4})_\n",
    "        (?P<relative_orbit>R\\d{3})_T\n",
    "        (?P<utm_code>\\d{2})\n",
    "        (?P<latitude_band>\\w{1})\n",
    "        (?P<square>\\w{2})_\n",
    "        (?P<year>\\d{4})\n",
    "        (?P<month>\\d{2})\n",
    "        (?P<day>\\d{2})T\n",
    "        (?P<product_time>\\d{6})\"\"\",\n",
    "    re.VERBOSE,\n",
    ")"
   ]
  },
  {
   "cell_type": "code",
   "execution_count": 26,
   "metadata": {},
   "outputs": [],
   "source": [
    "def get_tile_and_date(identifier: str):\n",
    "    regex_match = re.search(IDENTIFIER_REGEX, identifier)\n",
    "\n",
    "    if not regex_match:\n",
    "        return None, None\n",
    "\n",
    "    utm_code = regex_match.group(\"utm_code\")\n",
    "    latitude_band = regex_match.group(\"latitude_band\")\n",
    "    square = regex_match.group(\"square\")\n",
    "    year = regex_match.group(\"year\")\n",
    "    # remove leading zeros\n",
    "    month = str(int(regex_match.group(\"month\")))\n",
    "    day = str(int(regex_match.group(\"day\")))\n",
    "\n",
    "    tile = f\"{utm_code}{latitude_band}{square}\"\n",
    "    tile_date = f\"{year}-{month}-{day}\"\n",
    "\n",
    "    return tile, tile_date"
   ]
  },
  {
   "cell_type": "code",
   "execution_count": 3,
   "metadata": {},
   "outputs": [],
   "source": [
    "masks_gdf = gpd.read_file('data/trn_polygons_germany_tile_names.geojson')"
   ]
  },
  {
   "cell_type": "code",
   "execution_count": 4,
   "metadata": {},
   "outputs": [
    {
     "data": {
      "text/plain": [
       "23222"
      ]
     },
     "execution_count": 4,
     "metadata": {},
     "output_type": "execute_result"
    }
   ],
   "source": [
    "len(masks_gdf)"
   ]
  },
  {
   "cell_type": "code",
   "execution_count": 5,
   "metadata": {},
   "outputs": [
    {
     "data": {
      "text/html": [
       "<div>\n",
       "<style scoped>\n",
       "    .dataframe tbody tr th:only-of-type {\n",
       "        vertical-align: middle;\n",
       "    }\n",
       "\n",
       "    .dataframe tbody tr th {\n",
       "        vertical-align: top;\n",
       "    }\n",
       "\n",
       "    .dataframe thead th {\n",
       "        text-align: right;\n",
       "    }\n",
       "</style>\n",
       "<table border=\"1\" class=\"dataframe\">\n",
       "  <thead>\n",
       "    <tr style=\"text-align: right;\">\n",
       "      <th></th>\n",
       "      <th>osm_id</th>\n",
       "      <th>tile_name</th>\n",
       "      <th>centroid_of_tile</th>\n",
       "      <th>geometry</th>\n",
       "    </tr>\n",
       "  </thead>\n",
       "  <tbody>\n",
       "    <tr>\n",
       "      <th>0</th>\n",
       "      <td>483534385.0</td>\n",
       "      <td>33UVS</td>\n",
       "      <td>POINT (14.35719383285053 50.955770194506044)</td>\n",
       "      <td>POLYGON ((13.88598 50.89644, 13.88598 50.89642...</td>\n",
       "    </tr>\n",
       "    <tr>\n",
       "      <th>1</th>\n",
       "      <td>359898843.0</td>\n",
       "      <td>33UVT</td>\n",
       "      <td>POINT (14.344460359916278 51.85505191805214)</td>\n",
       "      <td>POLYGON ((13.95746 51.53471, 13.95746 51.53468...</td>\n",
       "    </tr>\n",
       "    <tr>\n",
       "      <th>2</th>\n",
       "      <td>359898992.0</td>\n",
       "      <td>33UVT</td>\n",
       "      <td>POINT (14.344460359916278 51.85505191805214)</td>\n",
       "      <td>POLYGON ((13.95746 51.53479, 13.95746 51.53477...</td>\n",
       "    </tr>\n",
       "    <tr>\n",
       "      <th>3</th>\n",
       "      <td>359899222.0</td>\n",
       "      <td>33UVT</td>\n",
       "      <td>POINT (14.344460359916278 51.85505191805214)</td>\n",
       "      <td>POLYGON ((13.95746 51.53487, 13.95746 51.53484...</td>\n",
       "    </tr>\n",
       "    <tr>\n",
       "      <th>4</th>\n",
       "      <td>359899000.0</td>\n",
       "      <td>33UVT</td>\n",
       "      <td>POINT (14.344460359916278 51.85505191805214)</td>\n",
       "      <td>POLYGON ((13.95745 51.53494, 13.95745 51.53491...</td>\n",
       "    </tr>\n",
       "  </tbody>\n",
       "</table>\n",
       "</div>"
      ],
      "text/plain": [
       "        osm_id tile_name                              centroid_of_tile  \\\n",
       "0  483534385.0     33UVS  POINT (14.35719383285053 50.955770194506044)   \n",
       "1  359898843.0     33UVT  POINT (14.344460359916278 51.85505191805214)   \n",
       "2  359898992.0     33UVT  POINT (14.344460359916278 51.85505191805214)   \n",
       "3  359899222.0     33UVT  POINT (14.344460359916278 51.85505191805214)   \n",
       "4  359899000.0     33UVT  POINT (14.344460359916278 51.85505191805214)   \n",
       "\n",
       "                                            geometry  \n",
       "0  POLYGON ((13.88598 50.89644, 13.88598 50.89642...  \n",
       "1  POLYGON ((13.95746 51.53471, 13.95746 51.53468...  \n",
       "2  POLYGON ((13.95746 51.53479, 13.95746 51.53477...  \n",
       "3  POLYGON ((13.95746 51.53487, 13.95746 51.53484...  \n",
       "4  POLYGON ((13.95745 51.53494, 13.95745 51.53491...  "
      ]
     },
     "execution_count": 5,
     "metadata": {},
     "output_type": "execute_result"
    }
   ],
   "source": [
    "masks_gdf.head()"
   ]
  },
  {
   "cell_type": "code",
   "execution_count": 13,
   "metadata": {},
   "outputs": [],
   "source": [
    "masks_gdf[\"area\"] = masks_gdf['geometry'].to_crs('EPSG:25832').area"
   ]
  },
  {
   "cell_type": "code",
   "execution_count": 18,
   "metadata": {},
   "outputs": [
    {
     "data": {
      "text/html": [
       "<div>\n",
       "<style scoped>\n",
       "    .dataframe tbody tr th:only-of-type {\n",
       "        vertical-align: middle;\n",
       "    }\n",
       "\n",
       "    .dataframe tbody tr th {\n",
       "        vertical-align: top;\n",
       "    }\n",
       "\n",
       "    .dataframe thead th {\n",
       "        text-align: right;\n",
       "    }\n",
       "</style>\n",
       "<table border=\"1\" class=\"dataframe\">\n",
       "  <thead>\n",
       "    <tr style=\"text-align: right;\">\n",
       "      <th></th>\n",
       "      <th>osm_id</th>\n",
       "      <th>tile_name</th>\n",
       "      <th>centroid_of_tile</th>\n",
       "      <th>geometry</th>\n",
       "      <th>area</th>\n",
       "      <th>transformed_geo</th>\n",
       "    </tr>\n",
       "  </thead>\n",
       "  <tbody>\n",
       "    <tr>\n",
       "      <th>8892</th>\n",
       "      <td>363524413.0</td>\n",
       "      <td>32UMV</td>\n",
       "      <td>POINT (8.380958387924386 49.15731928511489)</td>\n",
       "      <td>POLYGON ((8.52661 49.21162, 8.52663 49.21161, ...</td>\n",
       "      <td>2.166341</td>\n",
       "      <td>POLYGON ((465521.782 5451088.866, 465523.333 5...</td>\n",
       "    </tr>\n",
       "    <tr>\n",
       "      <th>8890</th>\n",
       "      <td>363524441.0</td>\n",
       "      <td>32UMV</td>\n",
       "      <td>POINT (8.380958387924386 49.15731928511489)</td>\n",
       "      <td>POLYGON ((8.52659 49.21161, 8.52661 49.21160, ...</td>\n",
       "      <td>2.173492</td>\n",
       "      <td>POLYGON ((465520.739 5451087.366, 465522.283 5...</td>\n",
       "    </tr>\n",
       "    <tr>\n",
       "      <th>8902</th>\n",
       "      <td>363524209.0</td>\n",
       "      <td>32UMV</td>\n",
       "      <td>POINT (8.380958387924386 49.15731928511489)</td>\n",
       "      <td>POLYGON ((8.52669 49.21170, 8.52671 49.21169, ...</td>\n",
       "      <td>2.174700</td>\n",
       "      <td>POLYGON ((465527.936 5451097.837, 465529.480 5...</td>\n",
       "    </tr>\n",
       "    <tr>\n",
       "      <th>8900</th>\n",
       "      <td>363524685.0</td>\n",
       "      <td>32UMV</td>\n",
       "      <td>POINT (8.380958387924386 49.15731928511489)</td>\n",
       "      <td>POLYGON ((8.52668 49.21169, 8.52670 49.21168, ...</td>\n",
       "      <td>2.177647</td>\n",
       "      <td>POLYGON ((465526.846 5451096.220, 465528.391 5...</td>\n",
       "    </tr>\n",
       "    <tr>\n",
       "      <th>19241</th>\n",
       "      <td>408820216.0</td>\n",
       "      <td>31UGS</td>\n",
       "      <td>POINT (6.624872784754955 50.90124511611022)</td>\n",
       "      <td>POLYGON ((7.00398 50.80755, 7.00399 50.80753, ...</td>\n",
       "      <td>3.407226</td>\n",
       "      <td>POLYGON ((359367.161 5630323.100, 359368.129 5...</td>\n",
       "    </tr>\n",
       "  </tbody>\n",
       "</table>\n",
       "</div>"
      ],
      "text/plain": [
       "            osm_id tile_name                             centroid_of_tile  \\\n",
       "8892   363524413.0     32UMV  POINT (8.380958387924386 49.15731928511489)   \n",
       "8890   363524441.0     32UMV  POINT (8.380958387924386 49.15731928511489)   \n",
       "8902   363524209.0     32UMV  POINT (8.380958387924386 49.15731928511489)   \n",
       "8900   363524685.0     32UMV  POINT (8.380958387924386 49.15731928511489)   \n",
       "19241  408820216.0     31UGS  POINT (6.624872784754955 50.90124511611022)   \n",
       "\n",
       "                                                geometry      area  \\\n",
       "8892   POLYGON ((8.52661 49.21162, 8.52663 49.21161, ...  2.166341   \n",
       "8890   POLYGON ((8.52659 49.21161, 8.52661 49.21160, ...  2.173492   \n",
       "8902   POLYGON ((8.52669 49.21170, 8.52671 49.21169, ...  2.174700   \n",
       "8900   POLYGON ((8.52668 49.21169, 8.52670 49.21168, ...  2.177647   \n",
       "19241  POLYGON ((7.00398 50.80755, 7.00399 50.80753, ...  3.407226   \n",
       "\n",
       "                                         transformed_geo  \n",
       "8892   POLYGON ((465521.782 5451088.866, 465523.333 5...  \n",
       "8890   POLYGON ((465520.739 5451087.366, 465522.283 5...  \n",
       "8902   POLYGON ((465527.936 5451097.837, 465529.480 5...  \n",
       "8900   POLYGON ((465526.846 5451096.220, 465528.391 5...  \n",
       "19241  POLYGON ((359367.161 5630323.100, 359368.129 5...  "
      ]
     },
     "execution_count": 18,
     "metadata": {},
     "output_type": "execute_result"
    }
   ],
   "source": [
    "masks_gdf.sort_values(by='area', ascending=True).head()"
   ]
  },
  {
   "cell_type": "code",
   "execution_count": 19,
   "metadata": {},
   "outputs": [
    {
     "data": {
      "text/plain": [
       "16464"
      ]
     },
     "execution_count": 19,
     "metadata": {},
     "output_type": "execute_result"
    }
   ],
   "source": [
    "large_polygons = masks_gdf[masks_gdf['area'] > 100]\n",
    "len(large_polygons)"
   ]
  },
  {
   "cell_type": "code",
   "execution_count": 22,
   "metadata": {},
   "outputs": [],
   "source": [
    "seasons_dict = {\"winter\":{'start_date':date(2018, 1, 1), 'end_date':date(2018, 3, 31)},\n",
    "                \"spring\":{'start_date':date(2018, 4, 1), 'end_date':date(2018, 6, 30)},\n",
    "                \"summer\":{'start_date':date(2018, 7, 1), 'end_date':date(2018, 9, 30)},\n",
    "                \"autumn\":{'start_date':date(2018, 10, 1), 'end_date':date(2018, 11, 30)}}"
   ]
  },
  {
   "cell_type": "code",
   "execution_count": 31,
   "metadata": {},
   "outputs": [
    {
     "name": "stdout",
     "output_type": "stream",
     "text": [
      "winter: 2 tiles\n",
      "spring: 60 tiles\n",
      "summer: 77 tiles\n",
      "autumn: 53 tiles\n",
      "Total: 192 tiles\n"
     ]
    }
   ],
   "source": [
    "# count number of tiles from each season\n",
    "directory = Path(r\"C:\\Users\\Fabian\\Documents\\Github_Masterthesis\\Solarpark-detection\\data_local\\training_data_raw\")\n",
    "tiles_per_season = {\"winter\": 0, \"spring\": 0, \"summer\": 0, \"autumn\": 0}\n",
    "# Iterate over the files in the directory\n",
    "for filename in os.listdir(directory):\n",
    "    # Extract the tile name and date from the filename\n",
    "    tile, tile_date = get_tile_and_date(filename)\n",
    "    if tile is None or tile_date is None:\n",
    "        continue\n",
    "\n",
    "    # Convert the date to a datetime object\n",
    "    tile_datetime = datetime.strptime(tile_date, \"%Y-%m-%d\").date()\n",
    "\n",
    "    # Determine the season based on the date\n",
    "    season = None\n",
    "    for season_name, season_dates in seasons_dict.items():\n",
    "        if season_dates['start_date'] <= tile_datetime <= season_dates['end_date']:\n",
    "            season = season_name\n",
    "            break\n",
    "\n",
    "    # If the season was determined, increment the count for that season\n",
    "    if season is not None:\n",
    "        tiles_per_season[season] += 1\n",
    "\n",
    "# Display the number of tiles for each season\n",
    "total_tiles = sum(tiles_per_season.values())\n",
    "for season, count in tiles_per_season.items():\n",
    "    print(f\"{season}: {count} tiles\")\n",
    "print(f\"Total: {total_tiles} tiles\")"
   ]
  },
  {
   "cell_type": "code",
   "execution_count": 51,
   "metadata": {},
   "outputs": [
    {
     "name": "stdout",
     "output_type": "stream",
     "text": [
      "winter: 0 duplicate tiles: {}\n",
      "spring: 0 duplicate tiles: {}\n",
      "summer: 0 duplicate tiles: {}\n",
      "autumn: 0 duplicate tiles: {}\n"
     ]
    }
   ],
   "source": [
    "from collections import defaultdict\n",
    "\n",
    "# Initialize a dictionary to store the tiles and their files for each season\n",
    "tiles_per_season = defaultdict(lambda: defaultdict(list))\n",
    "\n",
    "# Iterate over the files in the directory\n",
    "for filename in os.listdir(directory):\n",
    "    # Extract the tile name and date from the filename\n",
    "    tile, tile_date = get_tile_and_date(filename)\n",
    "    if tile is None or tile_date is None:\n",
    "        continue\n",
    "\n",
    "    # Convert the date to a datetime object\n",
    "    tile_datetime = datetime.strptime(tile_date, \"%Y-%m-%d\").date()\n",
    "\n",
    "    # Determine the season based on the date\n",
    "    season = None\n",
    "    for season_name, season_dates in seasons_dict.items():\n",
    "        if season_dates['start_date'] <= tile_datetime <= season_dates['end_date']:\n",
    "            season = season_name\n",
    "            break\n",
    "\n",
    "    # If the season was determined, add the tile and its file to the dictionary for that season\n",
    "    if season is not None:\n",
    "        tiles_per_season[season][tile].append(filename)\n",
    "\n",
    "# Iterate over the seasons\n",
    "for season, tiles in tiles_per_season.items():\n",
    "    # Create a dictionary to store the tiles that appear more than once\n",
    "    duplicate_tiles = {tile: files for tile, files in tiles.items() if len(files) > 1}\n",
    "    \n",
    "    # Print the duplicate tiles for the season\n",
    "    print(f\"{season}: {len(duplicate_tiles)} duplicate tiles: {duplicate_tiles}\")"
   ]
  },
  {
   "cell_type": "code",
   "execution_count": 50,
   "metadata": {},
   "outputs": [
    {
     "name": "stdout",
     "output_type": "stream",
     "text": [
      "winter: 0 duplicate tiles: {}\n",
      "spring: 8 duplicate tiles: {'33UUU': ['S2A_MSIL2A_20180409T101031_N0207_R022_T33UUU_20180409T154909', 'S2B_MSIL2A_20180606T102019_N0208_R065_T33UUU_20180606T190659'], '33UVV': ['S2A_MSIL2A_20180409T101031_N0207_R022_T33UVV_20180409T154909', 'S2B_MSIL2A_20180606T102019_N0208_R065_T33UVV_20180606T190659'], '33UUP': ['S2A_MSIL2A_20180419T101031_N0207_R022_T33UUP_20180419T111252', 'S2A_MSIL2A_20180608T101021_N0208_R022_T33UUP_20180608T131739'], '32ULB': ['S2A_MSIL2A_20180508T104031_N0207_R008_T32ULB_20180508T175127', 'S2B_MSIL2A_20180420T103019_N0207_R108_T32ULB_20180420T114307'], '32UNF': ['S2A_MSIL2A_20180607T104021_N0208_R008_T32UNF_20180607T132721', 'S2B_MSIL2A_20180420T103019_N0207_R108_T32UNF_20180420T114307'], '32TPT': ['S2B_MSIL2A_20180407T102019_N0207_R065_T32TPT_20180407T143030', 'S2B_MSIL2A_20180616T102019_N0208_R065_T32TPT_20180616T162410'], '32UQE': ['S2B_MSIL2A_20180507T102019_N0207_R065_T32UQE_20180507T123037', 'S2B_MSIL2A_20180606T102019_N0208_R065_T32UQE_20180606T190659'], '33UUR': ['S2B_MSIL2A_20180507T102019_N0207_R065_T33UUR_20180507T123037', 'S2B_MSIL2A_20180507T102019_N0207_R065_T33UUR_20180507T125310']}\n",
      "summer: 23 duplicate tiles: {'32UMU': ['S2A_MSIL2A_20180701T102021_N0208_R065_T32UMU_20180701T141038', 'S2B_MSIL2A_20180917T103019_N0208_R108_T32UMU_20180917T171049'], '32UNA': ['S2A_MSIL2A_20180701T102021_N0208_R065_T32UNA_20180701T141038', 'S2B_MSIL2A_20180927T103019_N0208_R108_T32UNA_20180927T155848'], '32UNV': ['S2A_MSIL2A_20180701T102021_N0208_R065_T32UNV_20180701T141038', 'S2B_MSIL2A_20180927T103019_N0208_R108_T32UNV_20180927T155848'], '32UNU': ['S2A_MSIL2A_20180724T103021_N0208_R108_T32UNU_20180724T150352', 'S2B_MSIL2A_20180917T103019_N0208_R108_T32UNU_20180917T171049'], '32UPC': ['S2A_MSIL2A_20180724T103021_N0208_R108_T32UPC_20180724T150352', 'S2B_MSIL2A_20180927T103019_N0208_R108_T32UPC_20180927T155848'], '32UPD': ['S2A_MSIL2A_20180724T103021_N0208_R108_T32UPD_20180724T150352', 'S2A_MSIL2A_20180919T102021_N0208_R065_T32UPD_20180919T132226'], '32UPU': ['S2A_MSIL2A_20180731T102021_N0208_R065_T32UPU_20180731T133841', 'S2A_MSIL2A_20180916T101021_N0208_R022_T32UPU_20180916T132415'], '33UUA': ['S2A_MSIL2A_20180731T102021_N0208_R065_T33UUA_20180731T132903', 'S2A_MSIL2A_20180803T103021_N0208_R108_T33UUA_20180803T151712'], '33UVU': ['S2A_MSIL2A_20180731T102021_N0208_R065_T33UVU_20180731T132903', 'S2B_MSIL2A_20180822T101019_N0208_R022_T33UVU_20180822T161243'], '32ULC': ['S2A_MSIL2A_20180806T104021_N0208_R008_T32ULC_20180806T142805', 'S2B_MSIL2A_20180702T104019_N0208_R008_T32ULC_20180702T150728'], '33UVS': ['S2A_MSIL2A_20180807T101021_N0208_R022_T33UVS_20180809T112302', 'S2B_MSIL2A_20180703T101029_N0208_R022_T33UVS_20180703T145931'], '33UVT': ['S2A_MSIL2A_20180807T101021_N0208_R022_T33UVT_20180809T112302', 'S2B_MSIL2A_20180703T101029_N0208_R022_T33UVT_20180703T145931'], '33UVQ': ['S2A_MSIL2A_20180827T101021_N0208_R022_T33UVQ_20180827T152355', 'S2B_MSIL2A_20180703T101029_N0208_R022_T33UVQ_20180703T145931'], '32UMA': ['S2B_MSIL2A_20180629T103019_N0208_R108_T32UMA_20180924T145004', 'S2B_MSIL2A_20180927T103019_N0208_R108_T32UMA_20180927T155848'], '31UGR': ['S2B_MSIL2A_20180702T104019_N0208_R008_T31UGR_20180702T150728', 'S2B_MSIL2A_20180927T103019_N0208_R108_T31UGR_20180927T155848'], '32ULB': ['S2B_MSIL2A_20180702T104019_N0208_R008_T32ULB_20180702T150728', 'S2B_MSIL2A_20180927T103019_N0208_R108_T32ULB_20180927T155848'], '32UMB': ['S2B_MSIL2A_20180702T104019_N0208_R008_T32UMB_20180702T150728', 'S2B_MSIL2A_20180927T103019_N0208_R108_T32UMB_20180927T155848'], '32UMC': ['S2B_MSIL2A_20180702T104019_N0208_R008_T32UMC_20180702T150728', 'S2B_MSIL2A_20180927T103019_N0208_R108_T32UMC_20180927T155848'], '33UVP': ['S2B_MSIL2A_20180703T101029_N0208_R022_T33UVP_20180703T145931', 'S2B_MSIL2A_20180918T100019_N0208_R122_T33UVP_20180918T150430'], '32UMV': ['S2B_MSIL2A_20180709T103019_N0208_R108_T32UMV_20180709T164024', 'S2B_MSIL2A_20180927T103019_N0208_R108_T32UMV_20180927T155848'], '32UNC': ['S2B_MSIL2A_20180719T103019_N0208_R108_T32UNC_20180719T145501', 'S2B_MSIL2A_20180927T103019_N0208_R108_T32UNC_20180927T155848'], '32TMT': ['S2B_MSIL2A_20180729T103019_N0208_R108_T32TMT_20180729T152204', 'S2B_MSIL2A_20180927T103019_N0208_R108_T32TMT_20180927T155848'], '33TUN': ['S2B_MSIL2A_20180730T100029_N0208_R122_T33TUN_20180730T162136', 'S2B_MSIL2A_20180928T100019_N0208_R122_T33TUN_20180928T160345']}\n",
      "autumn: 1 duplicate tiles: {'32ULB': ['S2B_MSIL2A_20181010T104019_N0209_R008_T32ULB_20181010T171128', 'S2B_MSIL2A_20181116T103309_N0210_R108_T32ULB_20181116T152612']}\n"
     ]
    }
   ],
   "source": [
    "import shutil\n",
    "copy_directory = r'C:\\Users\\Fabian\\Documents\\Github_Masterthesis\\Solarpark-detection\\data_local\\training_data_raw_duplicated_seasons'\n",
    "for season, tiles in tiles_per_season.items():\n",
    "    # Create a dictionary to store the tiles that appear more than once\n",
    "    duplicate_tiles = {tile: files for tile, files in tiles.items() if len(files) > 1}\n",
    "    # Print the duplicate tiles for the season\n",
    "    print(f\"{season}: {len(duplicate_tiles)} duplicate tiles: {duplicate_tiles}\")\n",
    "    # Iterate over the duplicate tiles\n",
    "    for tile, files in duplicate_tiles.items():\n",
    "        # Skip the first file\n",
    "        for file in files[1:]:\n",
    "            # Define the source and destination directories\n",
    "            src_dir = os.path.join(directory, file)\n",
    "            dst_dir = os.path.join(copy_directory, file)\n",
    "            \n",
    "            # Copy the directory\n",
    "            shutil.copytree(src_dir, dst_dir)\n",
    "            \n",
    "            # Remove the source directory\n",
    "            shutil.rmtree(src_dir)"
   ]
  },
  {
   "cell_type": "code",
   "execution_count": 45,
   "metadata": {},
   "outputs": [
    {
     "data": {
      "text/plain": [
       "{'32ULB': ['S2B_MSIL2A_20181010T104019_N0209_R008_T32ULB_20181010T171128',\n",
       "  'S2B_MSIL2A_20181116T103309_N0210_R108_T32ULB_20181116T152612']}"
      ]
     },
     "execution_count": 45,
     "metadata": {},
     "output_type": "execute_result"
    }
   ],
   "source": [
    "duplicate_tiles"
   ]
  },
  {
   "cell_type": "code",
   "execution_count": null,
   "metadata": {},
   "outputs": [],
   "source": []
  }
 ],
 "metadata": {
  "kernelspec": {
   "display_name": ".venv",
   "language": "python",
   "name": "python3"
  },
  "language_info": {
   "codemirror_mode": {
    "name": "ipython",
    "version": 3
   },
   "file_extension": ".py",
   "mimetype": "text/x-python",
   "name": "python",
   "nbconvert_exporter": "python",
   "pygments_lexer": "ipython3",
   "version": "3.10.0"
  }
 },
 "nbformat": 4,
 "nbformat_minor": 2
}

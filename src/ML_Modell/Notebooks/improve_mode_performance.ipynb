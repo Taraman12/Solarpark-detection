{
 "cells": [
  {
   "attachments": {},
   "cell_type": "markdown",
   "metadata": {},
   "source": [
    "### Improve the model performance by changes to the dataset and model architecture"
   ]
  },
  {
   "attachments": {},
   "cell_type": "markdown",
   "metadata": {},
   "source": [
    "Suggestions for improvement:\n",
    "\n",
    "**Dataset:**\n",
    "1. More/divers trainings data: add images from different seasons. Optional: add images from other european countries.\n",
    "2. Clean trainings data: remove images with no solar panels (Confident Learning, CleanLab).\n",
    "3. Add images without solar panels to dataset -> Currently many false positives (house roofs etc.)\n",
    "4. Data Preprocessing: Augmentation, Robust Normalisation, Gamma Correction, Brighten\n",
    "\n",
    "**Model:** \n",
    "1. test other architectures -> most promising (U-Net, U-Net++, MANet)\n",
    "2. Test other/bigger backbones -> most promising (ResNet-18, ResNet-36, ResNet-101, etc.)\n",
    "3. Hyperparameter Tuning:\n",
    "     1. depth of encoder \n",
    "     2. Learning-Rate\n",
    "     3. Loss Function\n",
    "     4. Optimization\n",
    "     5. Batch Size\n",
    "     6. aux_params (https://smp.readthedocs.io/en/latest/insights.html#aux-classification-output)\n",
    "     7. Dropout?"
   ]
  },
  {
   "attachments": {},
   "cell_type": "markdown",
   "metadata": {},
   "source": [
    "Goal is to get a model with a IoU of 0.85 or higher."
   ]
  },
  {
   "cell_type": "code",
   "execution_count": null,
   "metadata": {},
   "outputs": [],
   "source": [
    "import os\n",
    "import torch\n",
    "import numpy as np\n",
    "from torch.utils.data import Dataset, DataLoader, sampler\n",
    "from torch import nn\n",
    "import matplotlib.pyplot as plt\n",
    "from torchmetrics.classification import BinaryJaccardIndex\n",
    "from torch.utils.tensorboard import SummaryWriter\n",
    "from dataset_class import GeoImageDataset\n",
    "from rasterio.plot import show\n",
    "import segmentation_models_pytorch as smp"
   ]
  },
  {
   "cell_type": "code",
   "execution_count": null,
   "metadata": {},
   "outputs": [],
   "source": [
    "img_dir = r'C:\\Users\\Fabian\\Documents\\Masterarbeit_Daten\\images_only_AOI4'\n",
    "mask_dir = r'C:\\Users\\Fabian\\Documents\\Masterarbeit_Daten\\masks_only_AOI4'\n",
    "geo_image_dataset = GeoImageDataset(img_dir, mask_dir)\n",
    "device = \"cuda\" if torch.cuda.is_available() else \"mps\" if torch.backends.mps.is_available() else \"cpu\"\n",
    "print(f\"Using {device} device\")\n",
    "# select Unet with resnet34 as backbone\n",
    "model = smp.Unet(\n",
    "    encoder_name=\"timm-resnest14d\",        # choose encoder, e.g. mobilenet_v2 or efficientnet-b7\n",
    "    encoder_weights=\"imagenet\",     # use `imagenet` pre-trained weights for encoder initialization\n",
    "    in_channels=4,                  # model input channels (1 for gray-scale images, 3 for RGB, etc.)\n",
    "    classes=1,                      # model output channels (number of classes in your dataset)\n",
    "    activation='sigmoid', \n",
    ").cuda()"
   ]
  },
  {
   "cell_type": "code",
   "execution_count": null,
   "metadata": {},
   "outputs": [],
   "source": [
    "model_dir = r'C:\\Users\\Fabian\\Documents\\Masterarbeit_Daten\\saved_models2'\n",
    "model_filename = 'timm-resnest14d_imagenet_sigmoid_epoch-160.pth'\n",
    "model_path = os.path.join(model_dir, model_filename)\n",
    "model.load_state_dict(torch.load(model_path))\n",
    "model.eval() # enabling the eval mode to test with new samples.\n",
    "metric = BinaryJaccardIndex().to(device)"
   ]
  },
  {
   "cell_type": "code",
   "execution_count": null,
   "metadata": {},
   "outputs": [],
   "source": [
    "img, mask = geo_image_dataset[1000]\n",
    "img = img.to(device)\n",
    "mask = mask.to(device)\n",
    "\n",
    "# Run forward pass\n",
    "with torch.no_grad():\n",
    "  pred = model(img.unsqueeze(0))\n",
    "\n",
    "100*metric(pred[:,0], mask.unsqueeze(0))\n",
    "pred_np = pred.detach().cpu().numpy()\n",
    "img_np = img.detach().cpu().numpy()\n",
    "mask_np = mask.detach().cpu().numpy()"
   ]
  },
  {
   "cell_type": "code",
   "execution_count": null,
   "metadata": {},
   "outputs": [],
   "source": [
    "def gammacorr(band):\n",
    "    gamma=2.2\n",
    "    return np.power(band, 1/gamma)"
   ]
  },
  {
   "cell_type": "code",
   "execution_count": null,
   "metadata": {},
   "outputs": [],
   "source": [
    "import matplotlib.pyplot as plt\n",
    "fig, ax = plt.subplots(figsize=(12,12))\n",
    "show(gammacorr(img_np[1:4]))\n",
    "plt.show()"
   ]
  },
  {
   "cell_type": "code",
   "execution_count": null,
   "metadata": {},
   "outputs": [],
   "source": [
    "show(mask_np)"
   ]
  },
  {
   "cell_type": "code",
   "execution_count": null,
   "metadata": {},
   "outputs": [],
   "source": [
    "show(source=pred_np[0])"
   ]
  }
 ],
 "metadata": {
  "language_info": {
   "name": "python"
  },
  "orig_nbformat": 4
 },
 "nbformat": 4,
 "nbformat_minor": 2
}

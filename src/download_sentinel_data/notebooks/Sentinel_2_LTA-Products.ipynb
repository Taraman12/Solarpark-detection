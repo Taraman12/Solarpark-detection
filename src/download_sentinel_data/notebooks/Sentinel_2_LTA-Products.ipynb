{
 "cells": [
  {
   "attachments": {},
   "cell_type": "markdown",
   "metadata": {},
   "source": [
    "### Download data from the Copernicus Sentinel-2 Long term archive (LTA) using the Sentinel Hub API"
   ]
  },
  {
   "attachments": {},
   "cell_type": "markdown",
   "metadata": {},
   "source": [
    "Copernicus Open Access Hub no longer stores all products for immediate retrieval. \\\n",
    "So we need to trigger a request from the Long Term Archive (LTA) \n",
    "\n",
    "Docs: https://sentinelsat.readthedocs.io/en/stable/api_overview.html#lta-products"
   ]
  },
  {
   "attachments": {},
   "cell_type": "markdown",
   "metadata": {},
   "source": [
    "1. Search for the product we want to download\n",
    "2. Check if it is online or offline (means LTA)\n",
    "3. trigger a request for the product from the LTA\n",
    "4. add handling for the request status\n",
    "5. ensure that only every 30 min a request is triggered"
   ]
  },
  {
   "cell_type": "code",
   "execution_count": 2,
   "metadata": {},
   "outputs": [],
   "source": [
    "import numpy as np\n",
    "import os\n",
    "import geopandas as gpd\n",
    "from shapely.geometry import Polygon\n",
    "from geopandas import GeoSeries, GeoDataFrame\n",
    "from pyproj import Proj, transform\n",
    "from sentinelsat import SentinelAPI, read_geojson, geojson_to_wkt, make_path_filter\n",
    "from datetime import date\n",
    "from zipfile import ZipFile\n",
    "import shutil\n",
    "from dotenv import load_dotenv"
   ]
  },
  {
   "attachments": {},
   "cell_type": "markdown",
   "metadata": {},
   "source": [
    "1. Search for the product we want to download"
   ]
  },
  {
   "cell_type": "code",
   "execution_count": 3,
   "metadata": {},
   "outputs": [],
   "source": [
    "# open file with polygons of germany\n",
    "trn_polygons_germany_tiles_path = r'C:\\Users\\Fabian\\OneDrive - Universität Würzburg\\Uni Würzburg\\Master\\Masterthesis\\Code\\Einarbeitung\\trn_polygons_germany_tiles.shp'\n",
    "trn_polygons_germany_tiles = gpd.read_file(trn_polygons_germany_tiles_path)"
   ]
  },
  {
   "cell_type": "code",
   "execution_count": 4,
   "metadata": {},
   "outputs": [],
   "source": [
    "# load credentials from .env file\n",
    "load_dotenv()\n",
    "api_user = os.getenv(\"API_USER\")\n",
    "api_secret = os.getenv(\"API_SECRET\")\n",
    "api_url = os.getenv(\"API_URL\")\n",
    "\n",
    "api = SentinelAPI(api_user, api_secret, api_url)"
   ]
  },
  {
   "cell_type": "code",
   "execution_count": 35,
   "metadata": {},
   "outputs": [],
   "source": [
    "# use centroid of tile for footprint\n",
    "footprint1 = list(set(trn_polygons_germany_tiles.centroid_o))[1]"
   ]
  },
  {
   "cell_type": "code",
   "execution_count": 25,
   "metadata": {},
   "outputs": [],
   "source": [
    "# query for image which lies within the footprint of the selected tile\n",
    "products = api.query(footprint,\n",
    "                    date=('2018601', date(2018, 8, 1)),\n",
    "                    platformname='Sentinel-2',\n",
    "                    producttype=\"S2MSI2A\",\n",
    "                    cloudcoverpercentage=(0, 20),\n",
    "                    ) #area_relation='IsWithin',#processinglevel=\"Level-2A\""
   ]
  },
  {
   "cell_type": "code",
   "execution_count": 12,
   "metadata": {},
   "outputs": [
    {
     "data": {
      "text/plain": [
       "OrderedDict([('442ffded-03e7-488c-bbd0-ccef97cea031',\n",
       "              {'title': 'S2A_MSIL2A_20180731T102021_N0208_R065_T32UPA_20180731T132903',\n",
       "               'link': \"https://apihub.copernicus.eu/apihub/odata/v1/Products('442ffded-03e7-488c-bbd0-ccef97cea031')/$value\",\n",
       "               'link_alternative': \"https://apihub.copernicus.eu/apihub/odata/v1/Products('442ffded-03e7-488c-bbd0-ccef97cea031')/\",\n",
       "               'link_icon': \"https://apihub.copernicus.eu/apihub/odata/v1/Products('442ffded-03e7-488c-bbd0-ccef97cea031')/Products('Quicklook')/$value\",\n",
       "               'summary': 'Date: 2018-07-31T10:20:21.024Z, Instrument: MSI, Satellite: Sentinel-2, Size: 1.08 GB',\n",
       "               'ondemand': 'false',\n",
       "               'ingestiondate': datetime.datetime(2018, 7, 31, 16, 23, 19, 750000),\n",
       "               'beginposition': datetime.datetime(2018, 7, 31, 10, 20, 21, 24000),\n",
       "               'endposition': datetime.datetime(2018, 7, 31, 10, 20, 21, 24000),\n",
       "               'orbitnumber': 16221,\n",
       "               'relativeorbitnumber': 65,\n",
       "               'cloudcoverpercentage': 5.423358,\n",
       "               'highprobacloudspercentage': 4.375508,\n",
       "               'mediumprobacloudspercentage': 0.9051659999999999,\n",
       "               'notvegetatedpercentage': 23.558895,\n",
       "               'snowicepercentage': 0.075717,\n",
       "               'unclassifiedpercentage': 1.601744,\n",
       "               'vegetationpercentage': 65.110177,\n",
       "               'waterpercentage': 0.162785,\n",
       "               'filename': 'S2A_MSIL2A_20180731T102021_N0208_R065_T32UPA_20180731T132903.SAFE',\n",
       "               'gmlfootprint': '<gml:Polygon srsName=\"http://www.opengis.net/gml/srs/epsg.xml#4326\" xmlns:gml=\"http://www.opengis.net/gml\">\\n   <gml:outerBoundaryIs>\\n      <gml:LinearRing>\\n         <gml:coordinates>49.55285189234943,10.579455601565336 49.565013253886896,10.51115679431652 49.565014391476446,10.511157278853092 49.56504388273484,10.510984781193228 49.565695422557255,10.507325701360028 49.565949548566955,10.507433740684457 49.58719117226984,10.383575657756339 50.543739174288454,10.411349506049252 50.5146700159563,11.959386076289569 49.52841829443089,11.899359688454206 49.55285189234943,10.579455601565336</gml:coordinates>\\n      </gml:LinearRing>\\n   </gml:outerBoundaryIs>\\n</gml:Polygon>',\n",
       "               'format': 'SAFE',\n",
       "               'identifier': 'S2A_MSIL2A_20180731T102021_N0208_R065_T32UPA_20180731T132903',\n",
       "               'instrumentshortname': 'MSI',\n",
       "               'instrumentname': 'Multi-Spectral Instrument',\n",
       "               'footprint': 'POLYGON ((10.579455601565336 49.55285189234943,10.51115679431652 49.565013253886896,10.511157278853092 49.565014391476446,10.510984781193228 49.56504388273484,10.507325701360028 49.565695422557255,10.507433740684457 49.565949548566955,10.383575657756339 49.58719117226984,10.411349506049252 50.543739174288454,11.959386076289569 50.5146700159563,11.899359688454206 49.52841829443089,10.579455601565336 49.55285189234943))',\n",
       "               's2datatakeid': 'GS2A_20180731T102021_016221_N02.08',\n",
       "               'platformidentifier': '2015-028A',\n",
       "               'orbitdirection': 'DESCENDING',\n",
       "               'platformserialidentifier': 'Sentinel-2A',\n",
       "               'processingbaseline': '02.08',\n",
       "               'processinglevel': 'Level-2A',\n",
       "               'producttype': 'S2MSI2A',\n",
       "               'platformname': 'Sentinel-2',\n",
       "               'size': '1.08 GB',\n",
       "               'uuid': '442ffded-03e7-488c-bbd0-ccef97cea031'}),\n",
       "             ('5fe5d9e5-9ddf-4d6d-8916-2bfd74defee7',\n",
       "              {'title': 'S2B_MSIL2A_20180726T102019_N0208_R065_T32UPA_20180726T153710',\n",
       "               'link': \"https://apihub.copernicus.eu/apihub/odata/v1/Products('5fe5d9e5-9ddf-4d6d-8916-2bfd74defee7')/$value\",\n",
       "               'link_alternative': \"https://apihub.copernicus.eu/apihub/odata/v1/Products('5fe5d9e5-9ddf-4d6d-8916-2bfd74defee7')/\",\n",
       "               'link_icon': \"https://apihub.copernicus.eu/apihub/odata/v1/Products('5fe5d9e5-9ddf-4d6d-8916-2bfd74defee7')/Products('Quicklook')/$value\",\n",
       "               'summary': 'Date: 2018-07-26T10:20:19.024Z, Instrument: MSI, Satellite: Sentinel-2, Size: 1.09 GB',\n",
       "               'ondemand': 'false',\n",
       "               'ingestiondate': datetime.datetime(2018, 7, 26, 19, 19, 41, 372000),\n",
       "               'beginposition': datetime.datetime(2018, 7, 26, 10, 20, 19, 24000),\n",
       "               'endposition': datetime.datetime(2018, 7, 26, 10, 20, 19, 24000),\n",
       "               'orbitnumber': 7241,\n",
       "               'relativeorbitnumber': 65,\n",
       "               'cloudcoverpercentage': 9.66349,\n",
       "               'highprobacloudspercentage': 7.519249000000001,\n",
       "               'mediumprobacloudspercentage': 2.143577,\n",
       "               'notvegetatedpercentage': 19.855775,\n",
       "               'snowicepercentage': 0.002435,\n",
       "               'unclassifiedpercentage': 2.229626,\n",
       "               'vegetationpercentage': 60.468131,\n",
       "               'waterpercentage': 0.156281,\n",
       "               'filename': 'S2B_MSIL2A_20180726T102019_N0208_R065_T32UPA_20180726T153710.SAFE',\n",
       "               'gmlfootprint': '<gml:Polygon srsName=\"http://www.opengis.net/gml/srs/epsg.xml#4326\" xmlns:gml=\"http://www.opengis.net/gml\">\\n   <gml:outerBoundaryIs>\\n      <gml:LinearRing>\\n         <gml:coordinates>50.543739174288454,10.411349506049252 50.5146700159563,11.959386076289569 49.52841829443089,11.899359688454206 49.55649445196309,10.382684363173013 50.543739174288454,10.411349506049252</gml:coordinates>\\n      </gml:LinearRing>\\n   </gml:outerBoundaryIs>\\n</gml:Polygon>',\n",
       "               'format': 'SAFE',\n",
       "               'identifier': 'S2B_MSIL2A_20180726T102019_N0208_R065_T32UPA_20180726T153710',\n",
       "               'instrumentshortname': 'MSI',\n",
       "               'instrumentname': 'Multi-Spectral Instrument',\n",
       "               'footprint': 'POLYGON ((10.411349506049252 50.543739174288454,11.959386076289569 50.5146700159563,11.899359688454206 49.52841829443089,10.382684363173013 49.55649445196309,10.411349506049252 50.543739174288454))',\n",
       "               's2datatakeid': 'GS2B_20180726T102019_007241_N02.08',\n",
       "               'platformidentifier': '2017-013A',\n",
       "               'orbitdirection': 'DESCENDING',\n",
       "               'platformserialidentifier': 'Sentinel-2B',\n",
       "               'processingbaseline': '02.08',\n",
       "               'processinglevel': 'Level-2A',\n",
       "               'producttype': 'S2MSI2A',\n",
       "               'platformname': 'Sentinel-2',\n",
       "               'size': '1.09 GB',\n",
       "               'uuid': '5fe5d9e5-9ddf-4d6d-8916-2bfd74defee7'}),\n",
       "             ('33b94401-38d9-4cc5-9e2c-34fa51c94606',\n",
       "              {'title': 'S2A_MSIL2A_20180701T102021_N0208_R065_T32UPA_20180701T141038',\n",
       "               'link': \"https://apihub.copernicus.eu/apihub/odata/v1/Products('33b94401-38d9-4cc5-9e2c-34fa51c94606')/$value\",\n",
       "               'link_alternative': \"https://apihub.copernicus.eu/apihub/odata/v1/Products('33b94401-38d9-4cc5-9e2c-34fa51c94606')/\",\n",
       "               'link_icon': \"https://apihub.copernicus.eu/apihub/odata/v1/Products('33b94401-38d9-4cc5-9e2c-34fa51c94606')/Products('Quicklook')/$value\",\n",
       "               'summary': 'Date: 2018-07-01T10:20:21.024Z, Instrument: MSI, Satellite: Sentinel-2, Size: 1.08 GB',\n",
       "               'ondemand': 'false',\n",
       "               'ingestiondate': datetime.datetime(2018, 7, 1, 16, 4, 43, 567000),\n",
       "               'beginposition': datetime.datetime(2018, 7, 1, 10, 20, 21, 24000),\n",
       "               'endposition': datetime.datetime(2018, 7, 1, 10, 20, 21, 24000),\n",
       "               'orbitnumber': 15792,\n",
       "               'relativeorbitnumber': 65,\n",
       "               'cloudcoverpercentage': 0.800359,\n",
       "               'highprobacloudspercentage': 0.371061,\n",
       "               'mediumprobacloudspercentage': 0.291565,\n",
       "               'notvegetatedpercentage': 13.913044,\n",
       "               'snowicepercentage': 5e-05,\n",
       "               'unclassifiedpercentage': 0.596017,\n",
       "               'vegetationpercentage': 83.882695,\n",
       "               'waterpercentage': 0.18793899999999997,\n",
       "               'filename': 'S2A_MSIL2A_20180701T102021_N0208_R065_T32UPA_20180701T141038.SAFE',\n",
       "               'gmlfootprint': '<gml:Polygon srsName=\"http://www.opengis.net/gml/srs/epsg.xml#4326\" xmlns:gml=\"http://www.opengis.net/gml\">\\n   <gml:outerBoundaryIs>\\n      <gml:LinearRing>\\n         <gml:coordinates>50.543739174288454,10.411349506049252 50.5146700159563,11.959386076289569 49.52841829443089,11.899359688454206 49.55649445196309,10.382684363173013 50.543739174288454,10.411349506049252</gml:coordinates>\\n      </gml:LinearRing>\\n   </gml:outerBoundaryIs>\\n</gml:Polygon>',\n",
       "               'format': 'SAFE',\n",
       "               'identifier': 'S2A_MSIL2A_20180701T102021_N0208_R065_T32UPA_20180701T141038',\n",
       "               'instrumentshortname': 'MSI',\n",
       "               'instrumentname': 'Multi-Spectral Instrument',\n",
       "               'footprint': 'POLYGON ((10.411349506049252 50.543739174288454,11.959386076289569 50.5146700159563,11.899359688454206 49.52841829443089,10.382684363173013 49.55649445196309,10.411349506049252 50.543739174288454))',\n",
       "               's2datatakeid': 'GS2A_20180701T102021_015792_N02.08',\n",
       "               'platformidentifier': '2015-028A',\n",
       "               'orbitdirection': 'DESCENDING',\n",
       "               'platformserialidentifier': 'Sentinel-2A',\n",
       "               'processingbaseline': '02.08',\n",
       "               'processinglevel': 'Level-2A',\n",
       "               'producttype': 'S2MSI2A',\n",
       "               'platformname': 'Sentinel-2',\n",
       "               'size': '1.08 GB',\n",
       "               'uuid': '33b94401-38d9-4cc5-9e2c-34fa51c94606'}),\n",
       "             ('14e1cd33-30c5-45b2-bff8-c58b122180e5',\n",
       "              {'title': 'S2B_MSIL2A_20180606T102019_N0208_R065_T32UPA_20180606T190659',\n",
       "               'link': \"https://apihub.copernicus.eu/apihub/odata/v1/Products('14e1cd33-30c5-45b2-bff8-c58b122180e5')/$value\",\n",
       "               'link_alternative': \"https://apihub.copernicus.eu/apihub/odata/v1/Products('14e1cd33-30c5-45b2-bff8-c58b122180e5')/\",\n",
       "               'link_icon': \"https://apihub.copernicus.eu/apihub/odata/v1/Products('14e1cd33-30c5-45b2-bff8-c58b122180e5')/Products('Quicklook')/$value\",\n",
       "               'summary': 'Date: 2018-06-06T10:20:19.024Z, Instrument: MSI, Satellite: Sentinel-2, Size: 1.09 GB',\n",
       "               'ondemand': 'false',\n",
       "               'ingestiondate': datetime.datetime(2018, 6, 6, 21, 29, 21, 605000),\n",
       "               'beginposition': datetime.datetime(2018, 6, 6, 10, 20, 19, 24000),\n",
       "               'endposition': datetime.datetime(2018, 6, 6, 10, 20, 19, 24000),\n",
       "               'orbitnumber': 6526,\n",
       "               'relativeorbitnumber': 65,\n",
       "               'cloudcoverpercentage': 11.687815,\n",
       "               'highprobacloudspercentage': 9.062187,\n",
       "               'mediumprobacloudspercentage': 2.550947,\n",
       "               'notvegetatedpercentage': 5.21632,\n",
       "               'snowicepercentage': 0.048832,\n",
       "               'unclassifiedpercentage': 3.152452,\n",
       "               'vegetationpercentage': 75.290108,\n",
       "               'waterpercentage': 0.04492700000000001,\n",
       "               'filename': 'S2B_MSIL2A_20180606T102019_N0208_R065_T32UPA_20180606T190659.SAFE',\n",
       "               'gmlfootprint': '<gml:Polygon srsName=\"http://www.opengis.net/gml/srs/epsg.xml#4326\" xmlns:gml=\"http://www.opengis.net/gml\">\\n   <gml:outerBoundaryIs>\\n      <gml:LinearRing>\\n         <gml:coordinates>50.543739174288454,10.411349506049252 50.5146700159563,11.959386076289569 49.52841829443089,11.899359688454206 49.55649445196309,10.382684363173013 50.543739174288454,10.411349506049252</gml:coordinates>\\n      </gml:LinearRing>\\n   </gml:outerBoundaryIs>\\n</gml:Polygon>',\n",
       "               'format': 'SAFE',\n",
       "               'identifier': 'S2B_MSIL2A_20180606T102019_N0208_R065_T32UPA_20180606T190659',\n",
       "               'instrumentshortname': 'MSI',\n",
       "               'instrumentname': 'Multi-Spectral Instrument',\n",
       "               'footprint': 'POLYGON ((10.411349506049252 50.543739174288454,11.959386076289569 50.5146700159563,11.899359688454206 49.52841829443089,10.382684363173013 49.55649445196309,10.411349506049252 50.543739174288454))',\n",
       "               's2datatakeid': 'GS2B_20180606T102019_006526_N02.08',\n",
       "               'platformidentifier': '2017-013A',\n",
       "               'orbitdirection': 'DESCENDING',\n",
       "               'platformserialidentifier': 'Sentinel-2B',\n",
       "               'processingbaseline': '02.08',\n",
       "               'processinglevel': 'Level-2A',\n",
       "               'producttype': 'S2MSI2A',\n",
       "               'platformname': 'Sentinel-2',\n",
       "               'size': '1.09 GB',\n",
       "               'uuid': '14e1cd33-30c5-45b2-bff8-c58b122180e5'})])"
      ]
     },
     "execution_count": 12,
     "metadata": {},
     "output_type": "execute_result"
    }
   ],
   "source": [
    "products"
   ]
  },
  {
   "cell_type": "code",
   "execution_count": 26,
   "metadata": {},
   "outputs": [],
   "source": [
    "# convert OrderedDict to GeoDataFrame\n",
    "products_gdf = api.to_geodataframe(products)"
   ]
  },
  {
   "cell_type": "code",
   "execution_count": 27,
   "metadata": {},
   "outputs": [],
   "source": [
    "# sort products by cloud cover (lowest first)\n",
    "products_gdf_sorted = products_gdf.sort_values(['cloudcoverpercentage'], ascending=[True])"
   ]
  },
  {
   "cell_type": "code",
   "execution_count": 28,
   "metadata": {},
   "outputs": [],
   "source": [
    "# get uuid from product (as geoDataframe) to download it\n",
    "uuid_product = products_gdf_sorted.uuid[0]\n",
    "title_product = products_gdf_sorted.title[0] "
   ]
  },
  {
   "cell_type": "code",
   "execution_count": 29,
   "metadata": {},
   "outputs": [],
   "source": [
    "# check if product is online\n",
    "is_online = api.is_online(uuid_product)"
   ]
  },
  {
   "cell_type": "code",
   "execution_count": 30,
   "metadata": {},
   "outputs": [
    {
     "name": "stdout",
     "output_type": "stream",
     "text": [
      "Product is not online.\n"
     ]
    }
   ],
   "source": [
    "if is_online:\n",
    "    print(f'Product is online. Starting download.')\n",
    "    api.download(uuid_product, directory_path=r'raw_data')\n",
    "else:\n",
    "    print(f'Product is not online.')\n",
    "    # download from aws it this fails, trigger offline retrieval\n",
    "    api.trigger_offline_retrieval(uuid_product)"
   ]
  },
  {
   "cell_type": "code",
   "execution_count": 36,
   "metadata": {},
   "outputs": [
    {
     "name": "stdout",
     "output_type": "stream",
     "text": [
      "LTA triggered\n"
     ]
    }
   ],
   "source": [
    "from sentinelsat.exceptions import LTATriggered\n",
    "try:\n",
    "    api.download(uuid_product,directory_path=r'raw_data')\n",
    "except LTATriggered:\n",
    "    print('LTA triggered')"
   ]
  },
  {
   "cell_type": "code",
   "execution_count": 38,
   "metadata": {},
   "outputs": [],
   "source": [
    "import asyncio\n",
    "import time\n",
    "from pathlib import Path"
   ]
  },
  {
   "cell_type": "code",
   "execution_count": 40,
   "metadata": {},
   "outputs": [],
   "source": [
    "async def download_from_lta(\n",
    "    api: SentinelAPI, product_uuid: str, download_root: Path, timeout_hours: int = 24\n",
    ") -> bool:\n",
    "    \"\"\"\n",
    "    Downloads a product from the Long-Term Archive (LTA).\n",
    "\n",
    "    :param api: SentinelAPI instance\n",
    "    :param product_id: ID of the product to download\n",
    "    :param timeout_hours: Maximal number of hours to keep retrying\n",
    "    \"\"\"\n",
    "    timeout = timeout_hours * 3600  # Convert hours to seconds\n",
    "    start_time = time.monotonic()\n",
    "    while time.monotonic() - start_time < timeout:\n",
    "        try:\n",
    "            api.download(product_uuid, directory_path=download_root)\n",
    "            print(f\"Product {product_uuid} downloaded successfully.\")\n",
    "            return True\n",
    "        except LTATriggered:\n",
    "            print(f\"Waiting since {time.monotonic() - start_time} seconds.\")\n",
    "            await asyncio.sleep(300)  # Wait for 5 minutes before trying again\n",
    "    print(f\"Download timed out after {timeout_hours} hours.\")\n",
    "    return False"
   ]
  },
  {
   "cell_type": "code",
   "execution_count": 46,
   "metadata": {},
   "outputs": [
    {
     "ename": "RuntimeError",
     "evalue": "asyncio.run() cannot be called from a running event loop",
     "output_type": "error",
     "traceback": [
      "\u001b[1;31m---------------------------------------------------------------------------\u001b[0m",
      "\u001b[1;31mRuntimeError\u001b[0m                              Traceback (most recent call last)",
      "Cell \u001b[1;32mIn[46], line 1\u001b[0m\n\u001b[1;32m----> 1\u001b[0m result \u001b[39m=\u001b[39m asyncio\u001b[39m.\u001b[39;49mrun(download_from_lta(api, uuid_product, Path(\u001b[39mr\u001b[39;49m\u001b[39m'\u001b[39;49m\u001b[39mraw_data\u001b[39;49m\u001b[39m'\u001b[39;49m)))\n\u001b[0;32m      2\u001b[0m \u001b[39mif\u001b[39;00m result:\n\u001b[0;32m      3\u001b[0m     \u001b[39mprint\u001b[39m(\u001b[39m\"\u001b[39m\u001b[39mDownload successful.\u001b[39m\u001b[39m\"\u001b[39m)\n",
      "File \u001b[1;32mC:\\Python310\\lib\\asyncio\\runners.py:33\u001b[0m, in \u001b[0;36mrun\u001b[1;34m(main, debug)\u001b[0m\n\u001b[0;32m      9\u001b[0m \u001b[39m\u001b[39m\u001b[39m\"\"\"Execute the coroutine and return the result.\u001b[39;00m\n\u001b[0;32m     10\u001b[0m \n\u001b[0;32m     11\u001b[0m \u001b[39mThis function runs the passed coroutine, taking care of\u001b[39;00m\n\u001b[1;32m   (...)\u001b[0m\n\u001b[0;32m     30\u001b[0m \u001b[39m    asyncio.run(main())\u001b[39;00m\n\u001b[0;32m     31\u001b[0m \u001b[39m\"\"\"\u001b[39;00m\n\u001b[0;32m     32\u001b[0m \u001b[39mif\u001b[39;00m events\u001b[39m.\u001b[39m_get_running_loop() \u001b[39mis\u001b[39;00m \u001b[39mnot\u001b[39;00m \u001b[39mNone\u001b[39;00m:\n\u001b[1;32m---> 33\u001b[0m     \u001b[39mraise\u001b[39;00m \u001b[39mRuntimeError\u001b[39;00m(\n\u001b[0;32m     34\u001b[0m         \u001b[39m\"\u001b[39m\u001b[39masyncio.run() cannot be called from a running event loop\u001b[39m\u001b[39m\"\u001b[39m)\n\u001b[0;32m     36\u001b[0m \u001b[39mif\u001b[39;00m \u001b[39mnot\u001b[39;00m coroutines\u001b[39m.\u001b[39miscoroutine(main):\n\u001b[0;32m     37\u001b[0m     \u001b[39mraise\u001b[39;00m \u001b[39mValueError\u001b[39;00m(\u001b[39m\"\u001b[39m\u001b[39ma coroutine was expected, got \u001b[39m\u001b[39m{!r}\u001b[39;00m\u001b[39m\"\u001b[39m\u001b[39m.\u001b[39mformat(main))\n",
      "\u001b[1;31mRuntimeError\u001b[0m: asyncio.run() cannot be called from a running event loop"
     ]
    }
   ],
   "source": [
    "result = asyncio.run(download_from_lta(api, uuid_product, Path(r'raw_data')))\n",
    "if result:\n",
    "    print(\"Download successful.\")\n",
    "else:\n",
    "    print(\"Download failed.\")"
   ]
  },
  {
   "cell_type": "code",
   "execution_count": 33,
   "metadata": {},
   "outputs": [
    {
     "data": {
      "text/plain": [
       "'7c767d3a-18a6-4d04-9a32-7e56e62591b3'"
      ]
     },
     "execution_count": 33,
     "metadata": {},
     "output_type": "execute_result"
    }
   ],
   "source": [
    "uuid_product"
   ]
  },
  {
   "cell_type": "code",
   "execution_count": 31,
   "metadata": {},
   "outputs": [
    {
     "data": {
      "text/plain": [
       "True"
      ]
     },
     "execution_count": 31,
     "metadata": {},
     "output_type": "execute_result"
    }
   ],
   "source": [
    "api.trigger_offline_retrieval(uuid_product)"
   ]
  },
  {
   "cell_type": "code",
   "execution_count": 34,
   "metadata": {},
   "outputs": [
    {
     "ename": "LTATriggered",
     "evalue": "Product 7c767d3a-18a6-4d04-9a32-7e56e62591b3 is not online. Triggered retrieval from the Long Term Archive.",
     "output_type": "error",
     "traceback": [
      "\u001b[1;31m---------------------------------------------------------------------------\u001b[0m",
      "\u001b[1;31mLTATriggered\u001b[0m                              Traceback (most recent call last)",
      "Cell \u001b[1;32mIn[34], line 1\u001b[0m\n\u001b[1;32m----> 1\u001b[0m api\u001b[39m.\u001b[39;49mdownload(uuid_product,directory_path\u001b[39m=\u001b[39;49m\u001b[39mr\u001b[39;49m\u001b[39m'\u001b[39;49m\u001b[39mraw_data\u001b[39;49m\u001b[39m'\u001b[39;49m)\n",
      "File \u001b[1;32mc:\\Users\\Fabian\\AppData\\Local\\pypoetry\\Cache\\virtualenvs\\solarpark-detection-vU_0sE1Z-py3.10\\lib\\site-packages\\sentinelsat\\sentinel.py:596\u001b[0m, in \u001b[0;36mSentinelAPI.download\u001b[1;34m(self, id, directory_path, checksum, nodefilter)\u001b[0m\n\u001b[0;32m    594\u001b[0m downloader\u001b[39m.\u001b[39mnode_filter \u001b[39m=\u001b[39m nodefilter\n\u001b[0;32m    595\u001b[0m downloader\u001b[39m.\u001b[39mverify_checksum \u001b[39m=\u001b[39m checksum\n\u001b[1;32m--> 596\u001b[0m \u001b[39mreturn\u001b[39;00m downloader\u001b[39m.\u001b[39;49mdownload(\u001b[39mid\u001b[39;49m, directory_path)\n",
      "File \u001b[1;32mc:\\Users\\Fabian\\AppData\\Local\\pypoetry\\Cache\\virtualenvs\\solarpark-detection-vU_0sE1Z-py3.10\\lib\\site-packages\\sentinelsat\\download.py:148\u001b[0m, in \u001b[0;36mDownloader.download\u001b[1;34m(self, id, directory, stop_event)\u001b[0m\n\u001b[0;32m    146\u001b[0m \u001b[39mif\u001b[39;00m \u001b[39mnot\u001b[39;00m \u001b[39mself\u001b[39m\u001b[39m.\u001b[39mapi\u001b[39m.\u001b[39mis_online(\u001b[39mid\u001b[39m):\n\u001b[0;32m    147\u001b[0m     \u001b[39mself\u001b[39m\u001b[39m.\u001b[39mtrigger_offline_retrieval(\u001b[39mid\u001b[39m)\n\u001b[1;32m--> 148\u001b[0m     \u001b[39mraise\u001b[39;00m LTATriggered(\u001b[39mid\u001b[39m)\n\u001b[0;32m    150\u001b[0m \u001b[39mself\u001b[39m\u001b[39m.\u001b[39m_download_common(product_info, path, stop_event)\n\u001b[0;32m    151\u001b[0m \u001b[39mreturn\u001b[39;00m product_info\n",
      "\u001b[1;31mLTATriggered\u001b[0m: Product 7c767d3a-18a6-4d04-9a32-7e56e62591b3 is not online. Triggered retrieval from the Long Term Archive."
     ]
    }
   ],
   "source": [
    "api.download(uuid_product,directory_path=r'raw_data')"
   ]
  },
  {
   "cell_type": "code",
   "execution_count": null,
   "metadata": {},
   "outputs": [],
   "source": []
  },
  {
   "cell_type": "code",
   "execution_count": 8,
   "metadata": {},
   "outputs": [],
   "source": [
    "title = \"S2B_MSIL1C_20180610T100029_N0206_R122_T33UVS_20180610T120934\""
   ]
  },
  {
   "cell_type": "code",
   "execution_count": null,
   "metadata": {},
   "outputs": [],
   "source": [
    "regex = \"^(?<mission>S2[A-B])_(?<product_level>MSIL[1-2][A-C])_(?<sensing_time>\\d{8}T\\d{6})_(?<processing_baseline>N\\d{4})_(?<relative_orbit>R\\d{3})_T(?<utm_code>\\d{2})(?<latitude_band>\\w)(?<square>\\w{2})_(?<year>\\d{4})(?<month>\\d{2})(?<day>\\d{2})T(?<product_time>\\d{6})\""
   ]
  },
  {
   "cell_type": "code",
   "execution_count": 6,
   "metadata": {},
   "outputs": [],
   "source": [
    "# get uuid from product (as OrderedDict) to download it\n",
    "uuid = list(products.keys())[0]"
   ]
  },
  {
   "cell_type": "code",
   "execution_count": 1,
   "metadata": {},
   "outputs": [
    {
     "ename": "NameError",
     "evalue": "name 'api' is not defined",
     "output_type": "error",
     "traceback": [
      "\u001b[1;31m---------------------------------------------------------------------------\u001b[0m",
      "\u001b[1;31mNameError\u001b[0m                                 Traceback (most recent call last)",
      "Cell \u001b[1;32mIn[1], line 1\u001b[0m\n\u001b[1;32m----> 1\u001b[0m api\u001b[39m.\u001b[39mto_geodataframe(products)\n",
      "\u001b[1;31mNameError\u001b[0m: name 'api' is not defined"
     ]
    }
   ],
   "source": [
    "# convert OrderedDict to geoDataFrame\n",
    "products_gdf = api.to_geodataframe(products)"
   ]
  },
  {
   "cell_type": "code",
   "execution_count": 43,
   "metadata": {},
   "outputs": [
    {
     "name": "stdout",
     "output_type": "stream",
     "text": [
      "Product is not online.\n"
     ]
    }
   ],
   "source": [
    "product_info = api.get_product_odata(uuid)\n",
    "is_online = product_info['Online']\n",
    "# or\n",
    "is_online = api.is_online(uuid)\n",
    "\n",
    "if is_online:\n",
    "    print(f'Product is online. Starting download.')\n",
    "    api.download(uuid)\n",
    "else:\n",
    "    print(f'Product is not online.')\n",
    "    api.trigger_offline_retrieval(uuid)"
   ]
  },
  {
   "cell_type": "code",
   "execution_count": 7,
   "metadata": {},
   "outputs": [
    {
     "data": {
      "application/vnd.jupyter.widget-view+json": {
       "model_id": "ee18f7995d0340e9b8c8f7b040809146",
       "version_major": 2,
       "version_minor": 0
      },
      "text/plain": [
       "Downloading S2B_MSIL1C_20180610T100029_N0206_R122_T33UVS_20180610T120934.zip:   0%|          | 0.00/429M [00:0…"
      ]
     },
     "metadata": {},
     "output_type": "display_data"
    },
    {
     "data": {
      "application/vnd.jupyter.widget-view+json": {
       "model_id": "f44bc4bf89be4af3acc20129df6adcf4",
       "version_major": 2,
       "version_minor": 0
      },
      "text/plain": [
       "MD5 checksumming:   0%|          | 0.00/429M [00:00<?, ?B/s]"
      ]
     },
     "metadata": {},
     "output_type": "display_data"
    },
    {
     "data": {
      "text/plain": [
       "{'id': '22e26b31-038f-4758-9c07-d35473207964',\n",
       " 'title': 'S2B_MSIL1C_20180610T100029_N0206_R122_T33UVS_20180610T120934',\n",
       " 'size': 428635512,\n",
       " 'md5': 'b4efc2abf9c7c70fb689dcc097e99018',\n",
       " 'date': datetime.datetime(2018, 6, 10, 10, 0, 29, 24000),\n",
       " 'footprint': 'POLYGON((14.15049975433055 50.45832402638246,14.20341180898468 50.58960217174912,14.2623959076342 50.73556219939568,14.321475292006062 50.88154735907927,14.381132916978231 51.02741507413424,14.440027822954823 51.17348242872262,14.499624609043536 51.319345316462666,14.552385876309906 51.44784011302054,15.140457957691325 51.451098078258774,15.137512494758056 50.463717167775926,14.15049975433055 50.45832402638246))',\n",
       " 'url': \"https://apihub.copernicus.eu/apihub/odata/v1/Products('22e26b31-038f-4758-9c07-d35473207964')/$value\",\n",
       " 'Online': True,\n",
       " 'Creation Date': datetime.datetime(2018, 6, 10, 17, 17, 58, 288000),\n",
       " 'Ingestion Date': datetime.datetime(2018, 6, 10, 17, 6, 25, 429000),\n",
       " 'manifest_name': 'manifest.safe',\n",
       " 'product_root_dir': 'S2B_MSIL1C_20180610T100029_N0206_R122_T33UVS_20180610T120934.SAFE',\n",
       " 'quicklook_url': \"https://apihub.copernicus.eu/apihub/odata/v1/Products('22e26b31-038f-4758-9c07-d35473207964')/Products('Quicklook')/$value\",\n",
       " 'path': 'S2B_MSIL1C_20180610T100029_N0206_R122_T33UVS_20180610T120934.zip',\n",
       " 'downloaded_bytes': 428635512}"
      ]
     },
     "execution_count": 7,
     "metadata": {},
     "output_type": "execute_result"
    }
   ],
   "source": [
    "api.download(uuid)"
   ]
  },
  {
   "cell_type": "code",
   "execution_count": 42,
   "metadata": {},
   "outputs": [
    {
     "ename": "TypeError",
     "evalue": "'int' object is not callable",
     "output_type": "error",
     "traceback": [
      "\u001b[1;31m---------------------------------------------------------------------------\u001b[0m",
      "\u001b[1;31mTypeError\u001b[0m                                 Traceback (most recent call last)",
      "Cell \u001b[1;32mIn[42], line 1\u001b[0m\n\u001b[1;32m----> 1\u001b[0m api\u001b[39m.\u001b[39;49mconcurrent_lta_trigger_limit()\n",
      "\u001b[1;31mTypeError\u001b[0m: 'int' object is not callable"
     ]
    }
   ],
   "source": [
    "api.concurrent_lta_trigger_limit"
   ]
  },
  {
   "cell_type": "code",
   "execution_count": null,
   "metadata": {},
   "outputs": [],
   "source": []
  }
 ],
 "metadata": {
  "kernelspec": {
   "display_name": "solarpark-detection-vU_0sE1Z-py3.10",
   "language": "python",
   "name": "python3"
  },
  "language_info": {
   "codemirror_mode": {
    "name": "ipython",
    "version": 3
   },
   "file_extension": ".py",
   "mimetype": "text/x-python",
   "name": "python",
   "nbconvert_exporter": "python",
   "pygments_lexer": "ipython3",
   "version": "3.10.0"
  },
  "orig_nbformat": 4
 },
 "nbformat": 4,
 "nbformat_minor": 2
}

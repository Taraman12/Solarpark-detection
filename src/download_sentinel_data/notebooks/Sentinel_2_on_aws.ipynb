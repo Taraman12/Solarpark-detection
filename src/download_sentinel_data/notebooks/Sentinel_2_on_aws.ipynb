{
 "cells": [
  {
   "attachments": {},
   "cell_type": "markdown",
   "metadata": {},
   "source": [
    "### Download data from \"Sentinel on AWS\" to local machine"
   ]
  },
  {
   "attachments": {},
   "cell_type": "markdown",
   "metadata": {},
   "source": [
    " Because retrieving a product from LTA is only allowed once every 30 min from ESA we can use \"Sentinel on AWS\" as an alternative source\n",
    "\n",
    "Docs: https://registry.opendata.aws/sentinel-2/\n",
    "\n",
    "Sentinel-2 Datastructure on AWS: https://roda.sentinel-hub.com/sentinel-s2-l2a/readme.html\n",
    "\n",
    "AWS provides all Sentinel-2 data to download from a Requester Pays S3 bucket. \\\n",
    "Fortunately, AWS provides a free tier to download 100 GB of data per month. \\\n",
    "But you need to have an AWS account and a credit card to register.\n"
   ]
  },
  {
   "attachments": {},
   "cell_type": "markdown",
   "metadata": {},
   "source": [
    "1. connect to aws s3 bucket\n",
    "2. determine the path to the product from title name received from sentinel hub search\n",
    "3. download the product to local machine\n",
    "4. error handling "
   ]
  },
  {
   "cell_type": "code",
   "execution_count": 15,
   "metadata": {},
   "outputs": [],
   "source": [
    "import boto3\n",
    "from dotenv import load_dotenv\n",
    "import os\n",
    "import re"
   ]
  },
  {
   "cell_type": "code",
   "execution_count": 16,
   "metadata": {},
   "outputs": [],
   "source": [
    "load_dotenv()\n",
    "aws_access_key_id= os.getenv(\"aws_access_key_id\")\n",
    "aws_secret_access_key = os.getenv(\"aws_secret_access_key\")\n",
    "\n",
    "# Let's use Amazon S3\n",
    "s3 = boto3.client('s3', aws_access_key_id=aws_access_key_id, aws_secret_access_key=aws_secret_access_key)"
   ]
  },
  {
   "cell_type": "code",
   "execution_count": 17,
   "metadata": {},
   "outputs": [],
   "source": [
    "title = \"S2B_MSIL1C_20180610T100029_N0206_R122_T33UVS_20180610T120934\"\n",
    "title_regex = re.compile(r\"\"\"^(?P<mission>S2[A-B])_MSI\n",
    "                        (?P<product_level>L[1-2][A-C])_\n",
    "                        (?P<sensing_time>\\d{8}T\\d{6})_\n",
    "                        (?P<processing_baseline>N\\d{4})_\n",
    "                        (?P<relative_orbit>R\\d{3})_T\n",
    "                        (?P<utm_code>\\d{2})\n",
    "                        (?P<latitude_band>\\w{1})\n",
    "                        (?P<square>\\w{2})_\n",
    "                        (?P<year>\\d{4})\n",
    "                        (?P<month>\\d{2})\n",
    "                        (?P<day>\\d{2})T\n",
    "                        (?P<product_time>\\d{6})\"\"\",re.VERBOSE)"
   ]
  },
  {
   "cell_type": "code",
   "execution_count": 18,
   "metadata": {},
   "outputs": [],
   "source": [
    "regex_match = re.search(title_regex, title)\n",
    "if regex_match:\n",
    "    mission = regex_match.group(\"mission\")\n",
    "    utm_code = regex_match.group(\"utm_code\")\n",
    "    product_level = regex_match.group(\"product_level\").lower()\n",
    "    latitude_band = regex_match.group(\"latitude_band\")\n",
    "    square = regex_match.group(\"square\")\n",
    "    year = regex_match.group(\"year\")\n",
    "    month = str(int(regex_match.group(\"month\")))\n",
    "    day = str(int(regex_match.group(\"day\")))"
   ]
  },
  {
   "cell_type": "code",
   "execution_count": 8,
   "metadata": {},
   "outputs": [
    {
     "name": "stdout",
     "output_type": "stream",
     "text": [
      "mission S2B\n",
      "product_level l1c\n",
      "utm_code 33\n",
      "latitude_band U\n",
      "square VS\n",
      "year 2018\n",
      "month 6\n",
      "day 10\n"
     ]
    }
   ],
   "source": [
    "print(f'mission {mission}')\n",
    "print(f'product_level {product_level}')\n",
    "print(f'utm_code {utm_code}')\n",
    "print(f'latitude_band {latitude_band}')\n",
    "print(f'square {square}')\n",
    "print(f'year {year}')\n",
    "print(f'month {month}')\n",
    "print(f'day {day}')"
   ]
  },
  {
   "cell_type": "code",
   "execution_count": 19,
   "metadata": {},
   "outputs": [],
   "source": [
    "# https://roda.sentinel-hub.com/sentinel-s2-l2a/readme.html\n",
    "bucket = f'sentinel-s2-{product_level}'\n",
    "# add variables to prefix to get different resolutions\n",
    "prefix = f'tiles/{utm_code}/{latitude_band}/{square}/{year}/{month}/{day}/0/R10m/'"
   ]
  },
  {
   "cell_type": "code",
   "execution_count": 20,
   "metadata": {},
   "outputs": [
    {
     "data": {
      "text/plain": [
       "{'ResponseMetadata': {'RequestId': 'VJC1V97JPP710STB',\n",
       "  'HostId': 'cG2izaQTTIc5BC8PIUbCR75D83INhMKwDsufsrlDEWPoQOh65dTa6bBOE/5OC5PofRxq/1aiGrc=',\n",
       "  'HTTPStatusCode': 200,\n",
       "  'HTTPHeaders': {'x-amz-id-2': 'cG2izaQTTIc5BC8PIUbCR75D83INhMKwDsufsrlDEWPoQOh65dTa6bBOE/5OC5PofRxq/1aiGrc=',\n",
       "   'x-amz-request-id': 'VJC1V97JPP710STB',\n",
       "   'date': 'Thu, 13 Apr 2023 16:56:10 GMT',\n",
       "   'x-amz-request-charged': 'requester',\n",
       "   'x-amz-bucket-region': 'eu-central-1',\n",
       "   'content-type': 'application/xml',\n",
       "   'transfer-encoding': 'chunked',\n",
       "   'server': 'AmazonS3'},\n",
       "  'RetryAttempts': 1},\n",
       " 'IsTruncated': False,\n",
       " 'Contents': [{'Key': 'tiles/33/U/VS/2018/6/10/0/B01.jp2',\n",
       "   'LastModified': datetime.datetime(2018, 6, 10, 17, 30, 36, tzinfo=tzutc()),\n",
       "   'ETag': '\"b20c73401f54404ad702a067aac847d0\"',\n",
       "   'Size': 2116548,\n",
       "   'StorageClass': 'INTELLIGENT_TIERING'},\n",
       "  {'Key': 'tiles/33/U/VS/2018/6/10/0/B02.jp2',\n",
       "   'LastModified': datetime.datetime(2018, 6, 10, 17, 30, 36, tzinfo=tzutc()),\n",
       "   'ETag': '\"ae3da17f3e3c6045410add30739f7284\"',\n",
       "   'Size': 52663816,\n",
       "   'StorageClass': 'INTELLIGENT_TIERING'},\n",
       "  {'Key': 'tiles/33/U/VS/2018/6/10/0/B03.jp2',\n",
       "   'LastModified': datetime.datetime(2018, 6, 10, 17, 30, 36, tzinfo=tzutc()),\n",
       "   'ETag': '\"801ade313c89d69349d8ecca3742147a\"',\n",
       "   'Size': 53800908,\n",
       "   'StorageClass': 'INTELLIGENT_TIERING'},\n",
       "  {'Key': 'tiles/33/U/VS/2018/6/10/0/B04.jp2',\n",
       "   'LastModified': datetime.datetime(2018, 6, 10, 17, 30, 36, tzinfo=tzutc()),\n",
       "   'ETag': '\"3e0fd090dc571383ff48aac4591c6676\"',\n",
       "   'Size': 55397250,\n",
       "   'StorageClass': 'INTELLIGENT_TIERING'},\n",
       "  {'Key': 'tiles/33/U/VS/2018/6/10/0/B05.jp2',\n",
       "   'LastModified': datetime.datetime(2018, 6, 10, 17, 30, 36, tzinfo=tzutc()),\n",
       "   'ETag': '\"4c08a429270998fdd608cfd864b2cdeb\"',\n",
       "   'Size': 16676289,\n",
       "   'StorageClass': 'INTELLIGENT_TIERING'},\n",
       "  {'Key': 'tiles/33/U/VS/2018/6/10/0/B06.jp2',\n",
       "   'LastModified': datetime.datetime(2018, 6, 10, 17, 30, 36, tzinfo=tzutc()),\n",
       "   'ETag': '\"67a7c4f3d4b2f1643f1f8bbf41508394\"',\n",
       "   'Size': 17847516,\n",
       "   'StorageClass': 'INTELLIGENT_TIERING'},\n",
       "  {'Key': 'tiles/33/U/VS/2018/6/10/0/B07.jp2',\n",
       "   'LastModified': datetime.datetime(2018, 6, 10, 17, 30, 36, tzinfo=tzutc()),\n",
       "   'ETag': '\"4e5beea0140e07be2c60745b2ec47981\"',\n",
       "   'Size': 18525995,\n",
       "   'StorageClass': 'INTELLIGENT_TIERING'},\n",
       "  {'Key': 'tiles/33/U/VS/2018/6/10/0/B08.jp2',\n",
       "   'LastModified': datetime.datetime(2018, 6, 10, 17, 30, 36, tzinfo=tzutc()),\n",
       "   'ETag': '\"5cce61bfc49f5d8f7b249e73f914f215\"',\n",
       "   'Size': 64485091,\n",
       "   'StorageClass': 'INTELLIGENT_TIERING'},\n",
       "  {'Key': 'tiles/33/U/VS/2018/6/10/0/B09.jp2',\n",
       "   'LastModified': datetime.datetime(2018, 6, 10, 17, 30, 36, tzinfo=tzutc()),\n",
       "   'ETag': '\"4c595b0783acc4cdcad4f9c286939948\"',\n",
       "   'Size': 2065133,\n",
       "   'StorageClass': 'INTELLIGENT_TIERING'},\n",
       "  {'Key': 'tiles/33/U/VS/2018/6/10/0/B10.jp2',\n",
       "   'LastModified': datetime.datetime(2018, 6, 10, 17, 30, 36, tzinfo=tzutc()),\n",
       "   'ETag': '\"b8769bbc50b71b28224b99d6770d70bd\"',\n",
       "   'Size': 1017645,\n",
       "   'StorageClass': 'INTELLIGENT_TIERING'},\n",
       "  {'Key': 'tiles/33/U/VS/2018/6/10/0/B11.jp2',\n",
       "   'LastModified': datetime.datetime(2018, 6, 10, 17, 30, 36, tzinfo=tzutc()),\n",
       "   'ETag': '\"d4346dbbaa782f9b3295873cacc7f507\"',\n",
       "   'Size': 17327873,\n",
       "   'StorageClass': 'INTELLIGENT_TIERING'},\n",
       "  {'Key': 'tiles/33/U/VS/2018/6/10/0/B12.jp2',\n",
       "   'LastModified': datetime.datetime(2018, 6, 10, 17, 30, 36, tzinfo=tzutc()),\n",
       "   'ETag': '\"ef633c17213ef2b80f2784e75e427e61\"',\n",
       "   'Size': 16607851,\n",
       "   'StorageClass': 'INTELLIGENT_TIERING'},\n",
       "  {'Key': 'tiles/33/U/VS/2018/6/10/0/B8A.jp2',\n",
       "   'LastModified': datetime.datetime(2018, 6, 10, 17, 30, 36, tzinfo=tzutc()),\n",
       "   'ETag': '\"c0ee932993e0488912cbde8706f2a98c\"',\n",
       "   'Size': 18727746,\n",
       "   'StorageClass': 'INTELLIGENT_TIERING'},\n",
       "  {'Key': 'tiles/33/U/VS/2018/6/10/0/TCI.jp2',\n",
       "   'LastModified': datetime.datetime(2018, 6, 10, 17, 30, 36, tzinfo=tzutc()),\n",
       "   'ETag': '\"9da40f7e92b8a61d2013122b7f2e8701\"',\n",
       "   'Size': 69540819,\n",
       "   'StorageClass': 'INTELLIGENT_TIERING'},\n",
       "  {'Key': 'tiles/33/U/VS/2018/6/10/0/auxiliary/ECMWFT',\n",
       "   'LastModified': datetime.datetime(2018, 6, 10, 17, 30, 36, tzinfo=tzutc()),\n",
       "   'ETag': '\"bafce3db4a7d0b9e1ec01ce43465b7fe\"',\n",
       "   'Size': 810,\n",
       "   'StorageClass': 'STANDARD'},\n",
       "  {'Key': 'tiles/33/U/VS/2018/6/10/0/metadata.xml',\n",
       "   'LastModified': datetime.datetime(2018, 6, 10, 17, 30, 36, tzinfo=tzutc()),\n",
       "   'ETag': '\"95198164c4d62b96cf2c53a9013caf1e\"',\n",
       "   'Size': 288187,\n",
       "   'StorageClass': 'INTELLIGENT_TIERING'},\n",
       "  {'Key': 'tiles/33/U/VS/2018/6/10/0/preview.jp2',\n",
       "   'LastModified': datetime.datetime(2018, 6, 10, 17, 30, 36, tzinfo=tzutc()),\n",
       "   'ETag': '\"9c0092c103c3fb285085302fc2770df7\"',\n",
       "   'Size': 166365,\n",
       "   'StorageClass': 'INTELLIGENT_TIERING'},\n",
       "  {'Key': 'tiles/33/U/VS/2018/6/10/0/preview.jpg',\n",
       "   'LastModified': datetime.datetime(2018, 6, 10, 17, 30, 49, tzinfo=tzutc()),\n",
       "   'ETag': '\"c641a15725342cdc7cad1b0228aec212\"',\n",
       "   'Size': 87026,\n",
       "   'StorageClass': 'STANDARD'},\n",
       "  {'Key': 'tiles/33/U/VS/2018/6/10/0/preview/B01.jp2',\n",
       "   'LastModified': datetime.datetime(2020, 4, 16, 23, 46, 6, tzinfo=tzutc()),\n",
       "   'ETag': '\"c3952da6e1788ef0005c0e07627e2404\"',\n",
       "   'Size': 510458,\n",
       "   'StorageClass': 'INTELLIGENT_TIERING'},\n",
       "  {'Key': 'tiles/33/U/VS/2018/6/10/0/preview/B02.jp2',\n",
       "   'LastModified': datetime.datetime(2018, 6, 10, 17, 30, 55, tzinfo=tzutc()),\n",
       "   'ETag': '\"01f4a6f60d165e9707b6d609189a455b\"',\n",
       "   'Size': 318165,\n",
       "   'StorageClass': 'INTELLIGENT_TIERING'},\n",
       "  {'Key': 'tiles/33/U/VS/2018/6/10/0/preview/B03.jp2',\n",
       "   'LastModified': datetime.datetime(2018, 6, 10, 17, 30, 55, tzinfo=tzutc()),\n",
       "   'ETag': '\"746a7629d0fed156cb8f91bc37586dfa\"',\n",
       "   'Size': 324675,\n",
       "   'StorageClass': 'INTELLIGENT_TIERING'},\n",
       "  {'Key': 'tiles/33/U/VS/2018/6/10/0/preview/B04.jp2',\n",
       "   'LastModified': datetime.datetime(2018, 6, 10, 17, 30, 55, tzinfo=tzutc()),\n",
       "   'ETag': '\"231f88b622107b2cc4bcd31616ff0aed\"',\n",
       "   'Size': 334335,\n",
       "   'StorageClass': 'INTELLIGENT_TIERING'},\n",
       "  {'Key': 'tiles/33/U/VS/2018/6/10/0/preview/B05.jp2',\n",
       "   'LastModified': datetime.datetime(2018, 6, 10, 17, 30, 51, tzinfo=tzutc()),\n",
       "   'ETag': '\"85fbf4c7c59644ff3eaab8a647850076\"',\n",
       "   'Size': 337095,\n",
       "   'StorageClass': 'INTELLIGENT_TIERING'},\n",
       "  {'Key': 'tiles/33/U/VS/2018/6/10/0/preview/B06.jp2',\n",
       "   'LastModified': datetime.datetime(2018, 6, 10, 17, 30, 52, tzinfo=tzutc()),\n",
       "   'ETag': '\"8b5e1096a325c95010519fa8b3349e0c\"',\n",
       "   'Size': 347060,\n",
       "   'StorageClass': 'INTELLIGENT_TIERING'},\n",
       "  {'Key': 'tiles/33/U/VS/2018/6/10/0/preview/B07.jp2',\n",
       "   'LastModified': datetime.datetime(2018, 6, 10, 17, 30, 51, tzinfo=tzutc()),\n",
       "   'ETag': '\"5ad9e6cc51ebe1fddb7f3b8b4811f171\"',\n",
       "   'Size': 355459,\n",
       "   'StorageClass': 'INTELLIGENT_TIERING'},\n",
       "  {'Key': 'tiles/33/U/VS/2018/6/10/0/preview/B08.jp2',\n",
       "   'LastModified': datetime.datetime(2018, 6, 10, 17, 30, 56, tzinfo=tzutc()),\n",
       "   'ETag': '\"b9b59577507bff4241c10ca97092f9f8\"',\n",
       "   'Size': 355247,\n",
       "   'StorageClass': 'INTELLIGENT_TIERING'},\n",
       "  {'Key': 'tiles/33/U/VS/2018/6/10/0/preview/B09.jp2',\n",
       "   'LastModified': datetime.datetime(2020, 4, 16, 23, 46, 8, tzinfo=tzutc()),\n",
       "   'ETag': '\"1fe513c46ca67928c551c9efc07c1a92\"',\n",
       "   'Size': 490431,\n",
       "   'StorageClass': 'INTELLIGENT_TIERING'},\n",
       "  {'Key': 'tiles/33/U/VS/2018/6/10/0/preview/B10.jp2',\n",
       "   'LastModified': datetime.datetime(2020, 4, 16, 23, 46, 8, tzinfo=tzutc()),\n",
       "   'ETag': '\"ac93d97b4528e0b5d3d46f8c4318badf\"',\n",
       "   'Size': 226341,\n",
       "   'StorageClass': 'INTELLIGENT_TIERING'},\n",
       "  {'Key': 'tiles/33/U/VS/2018/6/10/0/preview/B11.jp2',\n",
       "   'LastModified': datetime.datetime(2018, 6, 10, 17, 30, 51, tzinfo=tzutc()),\n",
       "   'ETag': '\"9562237f6664585f854521ac5d80a8ff\"',\n",
       "   'Size': 351689,\n",
       "   'StorageClass': 'INTELLIGENT_TIERING'},\n",
       "  {'Key': 'tiles/33/U/VS/2018/6/10/0/preview/B12.jp2',\n",
       "   'LastModified': datetime.datetime(2018, 6, 10, 17, 30, 51, tzinfo=tzutc()),\n",
       "   'ETag': '\"695acf626205d1127046f11eababf29b\"',\n",
       "   'Size': 340265,\n",
       "   'StorageClass': 'INTELLIGENT_TIERING'},\n",
       "  {'Key': 'tiles/33/U/VS/2018/6/10/0/preview/B8A.jp2',\n",
       "   'LastModified': datetime.datetime(2018, 6, 10, 17, 30, 51, tzinfo=tzutc()),\n",
       "   'ETag': '\"3096b813fb1882bc904466d263e866ff\"',\n",
       "   'Size': 359255,\n",
       "   'StorageClass': 'INTELLIGENT_TIERING'},\n",
       "  {'Key': 'tiles/33/U/VS/2018/6/10/0/productInfo.json',\n",
       "   'LastModified': datetime.datetime(2018, 6, 10, 17, 30, 47, tzinfo=tzutc()),\n",
       "   'ETag': '\"6657873cfa956c6b5de9ca9b4d5a130f\"',\n",
       "   'Size': 1035,\n",
       "   'StorageClass': 'STANDARD'},\n",
       "  {'Key': 'tiles/33/U/VS/2018/6/10/0/qi/FORMAT_CORRECTNESS.xml',\n",
       "   'LastModified': datetime.datetime(2018, 6, 10, 17, 30, 36, tzinfo=tzutc()),\n",
       "   'ETag': '\"6271c1a44bcb76fee411c7f2e508e005\"',\n",
       "   'Size': 25589,\n",
       "   'StorageClass': 'STANDARD'},\n",
       "  {'Key': 'tiles/33/U/VS/2018/6/10/0/qi/GENERAL_QUALITY.xml',\n",
       "   'LastModified': datetime.datetime(2018, 6, 10, 17, 30, 36, tzinfo=tzutc()),\n",
       "   'ETag': '\"8ee20c580e0be67762b4da0edd57425d\"',\n",
       "   'Size': 3018,\n",
       "   'StorageClass': 'STANDARD'},\n",
       "  {'Key': 'tiles/33/U/VS/2018/6/10/0/qi/GEOMETRIC_QUALITY.xml',\n",
       "   'LastModified': datetime.datetime(2018, 6, 10, 17, 30, 36, tzinfo=tzutc()),\n",
       "   'ETag': '\"45deb92394c45551f0baba2583990582\"',\n",
       "   'Size': 5687,\n",
       "   'StorageClass': 'STANDARD'},\n",
       "  {'Key': 'tiles/33/U/VS/2018/6/10/0/qi/MSK_CLOUDS_B00.gml',\n",
       "   'LastModified': datetime.datetime(2018, 6, 10, 17, 30, 36, tzinfo=tzutc()),\n",
       "   'ETag': '\"69769c41470614137a56011b3603abe5\"',\n",
       "   'Size': 611875,\n",
       "   'StorageClass': 'INTELLIGENT_TIERING'},\n",
       "  {'Key': 'tiles/33/U/VS/2018/6/10/0/qi/MSK_DEFECT_B01.gml',\n",
       "   'LastModified': datetime.datetime(2018, 6, 10, 17, 30, 36, tzinfo=tzutc()),\n",
       "   'ETag': '\"0dccad865fd00fb70aa0f5f747b70a81\"',\n",
       "   'Size': 428,\n",
       "   'StorageClass': 'STANDARD'},\n",
       "  {'Key': 'tiles/33/U/VS/2018/6/10/0/qi/MSK_DEFECT_B02.gml',\n",
       "   'LastModified': datetime.datetime(2018, 6, 10, 17, 30, 36, tzinfo=tzutc()),\n",
       "   'ETag': '\"c5cfc3d8d2938a2e75f6c289aec25977\"',\n",
       "   'Size': 428,\n",
       "   'StorageClass': 'STANDARD'},\n",
       "  {'Key': 'tiles/33/U/VS/2018/6/10/0/qi/MSK_DEFECT_B03.gml',\n",
       "   'LastModified': datetime.datetime(2018, 6, 10, 17, 30, 36, tzinfo=tzutc()),\n",
       "   'ETag': '\"3ddfdfe3ea358468b7c6b9da28d8e2e0\"',\n",
       "   'Size': 428,\n",
       "   'StorageClass': 'STANDARD'},\n",
       "  {'Key': 'tiles/33/U/VS/2018/6/10/0/qi/MSK_DEFECT_B04.gml',\n",
       "   'LastModified': datetime.datetime(2018, 6, 10, 17, 30, 36, tzinfo=tzutc()),\n",
       "   'ETag': '\"35549bef0a1f7d277211ff73c25d2a10\"',\n",
       "   'Size': 428,\n",
       "   'StorageClass': 'STANDARD'},\n",
       "  {'Key': 'tiles/33/U/VS/2018/6/10/0/qi/MSK_DEFECT_B05.gml',\n",
       "   'LastModified': datetime.datetime(2018, 6, 10, 17, 30, 36, tzinfo=tzutc()),\n",
       "   'ETag': '\"1e78c32d828d50b1019fb18443d9e826\"',\n",
       "   'Size': 428,\n",
       "   'StorageClass': 'STANDARD'},\n",
       "  {'Key': 'tiles/33/U/VS/2018/6/10/0/qi/MSK_DEFECT_B06.gml',\n",
       "   'LastModified': datetime.datetime(2018, 6, 10, 17, 30, 36, tzinfo=tzutc()),\n",
       "   'ETag': '\"d56a6e845a3f234674a988d9fb2f55fc\"',\n",
       "   'Size': 428,\n",
       "   'StorageClass': 'STANDARD'},\n",
       "  {'Key': 'tiles/33/U/VS/2018/6/10/0/qi/MSK_DEFECT_B07.gml',\n",
       "   'LastModified': datetime.datetime(2018, 6, 10, 17, 30, 36, tzinfo=tzutc()),\n",
       "   'ETag': '\"de4a5fcd75c1479e4035099586b96533\"',\n",
       "   'Size': 428,\n",
       "   'StorageClass': 'STANDARD'},\n",
       "  {'Key': 'tiles/33/U/VS/2018/6/10/0/qi/MSK_DEFECT_B08.gml',\n",
       "   'LastModified': datetime.datetime(2018, 6, 10, 17, 30, 36, tzinfo=tzutc()),\n",
       "   'ETag': '\"8327787090ae6d07cf2b1a040d03b1f1\"',\n",
       "   'Size': 428,\n",
       "   'StorageClass': 'STANDARD'},\n",
       "  {'Key': 'tiles/33/U/VS/2018/6/10/0/qi/MSK_DEFECT_B09.gml',\n",
       "   'LastModified': datetime.datetime(2018, 6, 10, 17, 30, 36, tzinfo=tzutc()),\n",
       "   'ETag': '\"12d2ae9236ce4fd17fe1ad141260d941\"',\n",
       "   'Size': 428,\n",
       "   'StorageClass': 'STANDARD'},\n",
       "  {'Key': 'tiles/33/U/VS/2018/6/10/0/qi/MSK_DEFECT_B10.gml',\n",
       "   'LastModified': datetime.datetime(2018, 6, 10, 17, 30, 36, tzinfo=tzutc()),\n",
       "   'ETag': '\"1b012d78833943d0ed4bb8b432d40bf9\"',\n",
       "   'Size': 428,\n",
       "   'StorageClass': 'STANDARD'},\n",
       "  {'Key': 'tiles/33/U/VS/2018/6/10/0/qi/MSK_DEFECT_B11.gml',\n",
       "   'LastModified': datetime.datetime(2018, 6, 10, 17, 30, 36, tzinfo=tzutc()),\n",
       "   'ETag': '\"728b44e405c502c7130667049ed2c0fa\"',\n",
       "   'Size': 428,\n",
       "   'StorageClass': 'STANDARD'},\n",
       "  {'Key': 'tiles/33/U/VS/2018/6/10/0/qi/MSK_DEFECT_B12.gml',\n",
       "   'LastModified': datetime.datetime(2018, 6, 10, 17, 30, 36, tzinfo=tzutc()),\n",
       "   'ETag': '\"819b28ed043ba4e6896a9f2ced237732\"',\n",
       "   'Size': 428,\n",
       "   'StorageClass': 'STANDARD'},\n",
       "  {'Key': 'tiles/33/U/VS/2018/6/10/0/qi/MSK_DEFECT_B8A.gml',\n",
       "   'LastModified': datetime.datetime(2018, 6, 10, 17, 30, 36, tzinfo=tzutc()),\n",
       "   'ETag': '\"1a3833a4d4cc437ae0c2214b7cb4d96b\"',\n",
       "   'Size': 428,\n",
       "   'StorageClass': 'STANDARD'},\n",
       "  {'Key': 'tiles/33/U/VS/2018/6/10/0/qi/MSK_DETFOO_B01.gml',\n",
       "   'LastModified': datetime.datetime(2018, 6, 10, 17, 30, 36, tzinfo=tzutc()),\n",
       "   'ETag': '\"cf48679d85db6a00856618b80a826a1e\"',\n",
       "   'Size': 3936,\n",
       "   'StorageClass': 'STANDARD'},\n",
       "  {'Key': 'tiles/33/U/VS/2018/6/10/0/qi/MSK_DETFOO_B02.gml',\n",
       "   'LastModified': datetime.datetime(2018, 6, 10, 17, 30, 36, tzinfo=tzutc()),\n",
       "   'ETag': '\"0f3138b221a8c9c2b72610936bb005c3\"',\n",
       "   'Size': 3944,\n",
       "   'StorageClass': 'STANDARD'},\n",
       "  {'Key': 'tiles/33/U/VS/2018/6/10/0/qi/MSK_DETFOO_B03.gml',\n",
       "   'LastModified': datetime.datetime(2018, 6, 10, 17, 30, 36, tzinfo=tzutc()),\n",
       "   'ETag': '\"910ec35a3154db4db3353f681b36bacc\"',\n",
       "   'Size': 3945,\n",
       "   'StorageClass': 'STANDARD'},\n",
       "  {'Key': 'tiles/33/U/VS/2018/6/10/0/qi/MSK_DETFOO_B04.gml',\n",
       "   'LastModified': datetime.datetime(2018, 6, 10, 17, 30, 36, tzinfo=tzutc()),\n",
       "   'ETag': '\"8e7e6ca507737258661ec34c0aaa9313\"',\n",
       "   'Size': 3941,\n",
       "   'StorageClass': 'STANDARD'},\n",
       "  {'Key': 'tiles/33/U/VS/2018/6/10/0/qi/MSK_DETFOO_B05.gml',\n",
       "   'LastModified': datetime.datetime(2018, 6, 10, 17, 30, 36, tzinfo=tzutc()),\n",
       "   'ETag': '\"5d42c4408409504a5e4c288b4cf8c328\"',\n",
       "   'Size': 3945,\n",
       "   'StorageClass': 'STANDARD'},\n",
       "  {'Key': 'tiles/33/U/VS/2018/6/10/0/qi/MSK_DETFOO_B06.gml',\n",
       "   'LastModified': datetime.datetime(2018, 6, 10, 17, 30, 36, tzinfo=tzutc()),\n",
       "   'ETag': '\"b6a948ca88651c91c640d6b84472ed71\"',\n",
       "   'Size': 3946,\n",
       "   'StorageClass': 'STANDARD'},\n",
       "  {'Key': 'tiles/33/U/VS/2018/6/10/0/qi/MSK_DETFOO_B07.gml',\n",
       "   'LastModified': datetime.datetime(2018, 6, 10, 17, 30, 36, tzinfo=tzutc()),\n",
       "   'ETag': '\"8eb894b9e919f47f506f4278f864a8cd\"',\n",
       "   'Size': 3945,\n",
       "   'StorageClass': 'STANDARD'},\n",
       "  {'Key': 'tiles/33/U/VS/2018/6/10/0/qi/MSK_DETFOO_B08.gml',\n",
       "   'LastModified': datetime.datetime(2018, 6, 10, 17, 30, 36, tzinfo=tzutc()),\n",
       "   'ETag': '\"4b93bad6c3cdce4a88ec2ed1d1274de9\"',\n",
       "   'Size': 3930,\n",
       "   'StorageClass': 'STANDARD'},\n",
       "  {'Key': 'tiles/33/U/VS/2018/6/10/0/qi/MSK_DETFOO_B09.gml',\n",
       "   'LastModified': datetime.datetime(2018, 6, 10, 17, 30, 36, tzinfo=tzutc()),\n",
       "   'ETag': '\"6d14bc74115ac60128a42e078c345730\"',\n",
       "   'Size': 3948,\n",
       "   'StorageClass': 'STANDARD'},\n",
       "  {'Key': 'tiles/33/U/VS/2018/6/10/0/qi/MSK_DETFOO_B10.gml',\n",
       "   'LastModified': datetime.datetime(2018, 6, 10, 17, 30, 36, tzinfo=tzutc()),\n",
       "   'ETag': '\"78d88c99f8a291af18e201295374c871\"',\n",
       "   'Size': 3944,\n",
       "   'StorageClass': 'STANDARD'},\n",
       "  {'Key': 'tiles/33/U/VS/2018/6/10/0/qi/MSK_DETFOO_B11.gml',\n",
       "   'LastModified': datetime.datetime(2018, 6, 10, 17, 30, 36, tzinfo=tzutc()),\n",
       "   'ETag': '\"00c45ce33c6f613e0aa50b464b122aaa\"',\n",
       "   'Size': 3945,\n",
       "   'StorageClass': 'STANDARD'},\n",
       "  {'Key': 'tiles/33/U/VS/2018/6/10/0/qi/MSK_DETFOO_B12.gml',\n",
       "   'LastModified': datetime.datetime(2018, 6, 10, 17, 30, 36, tzinfo=tzutc()),\n",
       "   'ETag': '\"81a58adcf31be92cf93b1b2d2e637cf8\"',\n",
       "   'Size': 3941,\n",
       "   'StorageClass': 'STANDARD'},\n",
       "  {'Key': 'tiles/33/U/VS/2018/6/10/0/qi/MSK_DETFOO_B8A.gml',\n",
       "   'LastModified': datetime.datetime(2018, 6, 10, 17, 30, 36, tzinfo=tzutc()),\n",
       "   'ETag': '\"5201e47928b66125ddfa967146800156\"',\n",
       "   'Size': 3944,\n",
       "   'StorageClass': 'STANDARD'},\n",
       "  {'Key': 'tiles/33/U/VS/2018/6/10/0/qi/MSK_NODATA_B01.gml',\n",
       "   'LastModified': datetime.datetime(2018, 6, 10, 17, 30, 36, tzinfo=tzutc()),\n",
       "   'ETag': '\"07dfb06b6f4c910f9f9f9e380d48763a\"',\n",
       "   'Size': 428,\n",
       "   'StorageClass': 'STANDARD'},\n",
       "  {'Key': 'tiles/33/U/VS/2018/6/10/0/qi/MSK_NODATA_B02.gml',\n",
       "   'LastModified': datetime.datetime(2018, 6, 10, 17, 30, 36, tzinfo=tzutc()),\n",
       "   'ETag': '\"e38d5c8309e3f75e9c7252387a245b40\"',\n",
       "   'Size': 428,\n",
       "   'StorageClass': 'STANDARD'},\n",
       "  {'Key': 'tiles/33/U/VS/2018/6/10/0/qi/MSK_NODATA_B03.gml',\n",
       "   'LastModified': datetime.datetime(2018, 6, 10, 17, 30, 36, tzinfo=tzutc()),\n",
       "   'ETag': '\"38e09afb3aadf8acc968bf051e673e93\"',\n",
       "   'Size': 428,\n",
       "   'StorageClass': 'STANDARD'},\n",
       "  {'Key': 'tiles/33/U/VS/2018/6/10/0/qi/MSK_NODATA_B04.gml',\n",
       "   'LastModified': datetime.datetime(2018, 6, 10, 17, 30, 36, tzinfo=tzutc()),\n",
       "   'ETag': '\"ce162edbb3e8b7eb09d8e39c3b978765\"',\n",
       "   'Size': 428,\n",
       "   'StorageClass': 'STANDARD'},\n",
       "  {'Key': 'tiles/33/U/VS/2018/6/10/0/qi/MSK_NODATA_B05.gml',\n",
       "   'LastModified': datetime.datetime(2018, 6, 10, 17, 30, 36, tzinfo=tzutc()),\n",
       "   'ETag': '\"baf20eeba1f3b8c29f72629834bebd90\"',\n",
       "   'Size': 428,\n",
       "   'StorageClass': 'STANDARD'},\n",
       "  {'Key': 'tiles/33/U/VS/2018/6/10/0/qi/MSK_NODATA_B06.gml',\n",
       "   'LastModified': datetime.datetime(2018, 6, 10, 17, 30, 36, tzinfo=tzutc()),\n",
       "   'ETag': '\"774d7042b385d71986052dd723789d86\"',\n",
       "   'Size': 428,\n",
       "   'StorageClass': 'STANDARD'},\n",
       "  {'Key': 'tiles/33/U/VS/2018/6/10/0/qi/MSK_NODATA_B07.gml',\n",
       "   'LastModified': datetime.datetime(2018, 6, 10, 17, 30, 36, tzinfo=tzutc()),\n",
       "   'ETag': '\"ebcea321e4554eabd246a007189e2ec3\"',\n",
       "   'Size': 428,\n",
       "   'StorageClass': 'STANDARD'},\n",
       "  {'Key': 'tiles/33/U/VS/2018/6/10/0/qi/MSK_NODATA_B08.gml',\n",
       "   'LastModified': datetime.datetime(2018, 6, 10, 17, 30, 36, tzinfo=tzutc()),\n",
       "   'ETag': '\"dcc6eb55f337508bd1bcfc9dc76136b9\"',\n",
       "   'Size': 428,\n",
       "   'StorageClass': 'STANDARD'},\n",
       "  {'Key': 'tiles/33/U/VS/2018/6/10/0/qi/MSK_NODATA_B09.gml',\n",
       "   'LastModified': datetime.datetime(2018, 6, 10, 17, 30, 36, tzinfo=tzutc()),\n",
       "   'ETag': '\"a39bdd356da4897effecdfca3413cfd9\"',\n",
       "   'Size': 428,\n",
       "   'StorageClass': 'STANDARD'},\n",
       "  {'Key': 'tiles/33/U/VS/2018/6/10/0/qi/MSK_NODATA_B10.gml',\n",
       "   'LastModified': datetime.datetime(2018, 6, 10, 17, 30, 36, tzinfo=tzutc()),\n",
       "   'ETag': '\"bdb16a2a9a424ec8ccd542e1fce420da\"',\n",
       "   'Size': 428,\n",
       "   'StorageClass': 'STANDARD'},\n",
       "  {'Key': 'tiles/33/U/VS/2018/6/10/0/qi/MSK_NODATA_B11.gml',\n",
       "   'LastModified': datetime.datetime(2018, 6, 10, 17, 30, 36, tzinfo=tzutc()),\n",
       "   'ETag': '\"cc007878dcc37803f582f9e12967d300\"',\n",
       "   'Size': 428,\n",
       "   'StorageClass': 'STANDARD'},\n",
       "  {'Key': 'tiles/33/U/VS/2018/6/10/0/qi/MSK_NODATA_B12.gml',\n",
       "   'LastModified': datetime.datetime(2018, 6, 10, 17, 30, 36, tzinfo=tzutc()),\n",
       "   'ETag': '\"1162b1b081a45d9dbc8f26bce5806b93\"',\n",
       "   'Size': 428,\n",
       "   'StorageClass': 'STANDARD'},\n",
       "  {'Key': 'tiles/33/U/VS/2018/6/10/0/qi/MSK_NODATA_B8A.gml',\n",
       "   'LastModified': datetime.datetime(2018, 6, 10, 17, 30, 36, tzinfo=tzutc()),\n",
       "   'ETag': '\"4baff2d7ff7b99b52e5353ad5ab923dd\"',\n",
       "   'Size': 428,\n",
       "   'StorageClass': 'STANDARD'},\n",
       "  {'Key': 'tiles/33/U/VS/2018/6/10/0/qi/MSK_SATURA_B01.gml',\n",
       "   'LastModified': datetime.datetime(2018, 6, 10, 17, 30, 36, tzinfo=tzutc()),\n",
       "   'ETag': '\"9d972a0764ebf158a0bbc0c866c7512f\"',\n",
       "   'Size': 428,\n",
       "   'StorageClass': 'STANDARD'},\n",
       "  {'Key': 'tiles/33/U/VS/2018/6/10/0/qi/MSK_SATURA_B02.gml',\n",
       "   'LastModified': datetime.datetime(2018, 6, 10, 17, 30, 36, tzinfo=tzutc()),\n",
       "   'ETag': '\"57d83177ba5ef4adb1d51527e1fe478b\"',\n",
       "   'Size': 428,\n",
       "   'StorageClass': 'STANDARD'},\n",
       "  {'Key': 'tiles/33/U/VS/2018/6/10/0/qi/MSK_SATURA_B03.gml',\n",
       "   'LastModified': datetime.datetime(2018, 6, 10, 17, 30, 36, tzinfo=tzutc()),\n",
       "   'ETag': '\"2ab656eb0b3f1a5cbaf7b43ff9185f4f\"',\n",
       "   'Size': 428,\n",
       "   'StorageClass': 'STANDARD'},\n",
       "  {'Key': 'tiles/33/U/VS/2018/6/10/0/qi/MSK_SATURA_B04.gml',\n",
       "   'LastModified': datetime.datetime(2018, 6, 10, 17, 30, 36, tzinfo=tzutc()),\n",
       "   'ETag': '\"c388d9b1edd1b3d48f3b470164364785\"',\n",
       "   'Size': 428,\n",
       "   'StorageClass': 'STANDARD'},\n",
       "  {'Key': 'tiles/33/U/VS/2018/6/10/0/qi/MSK_SATURA_B05.gml',\n",
       "   'LastModified': datetime.datetime(2018, 6, 10, 17, 30, 36, tzinfo=tzutc()),\n",
       "   'ETag': '\"2b170cd592ff31386e51d5a3a2559647\"',\n",
       "   'Size': 428,\n",
       "   'StorageClass': 'STANDARD'},\n",
       "  {'Key': 'tiles/33/U/VS/2018/6/10/0/qi/MSK_SATURA_B06.gml',\n",
       "   'LastModified': datetime.datetime(2018, 6, 10, 17, 30, 36, tzinfo=tzutc()),\n",
       "   'ETag': '\"3a2781c8c3714fcfe6c104338f2d5253\"',\n",
       "   'Size': 428,\n",
       "   'StorageClass': 'STANDARD'},\n",
       "  {'Key': 'tiles/33/U/VS/2018/6/10/0/qi/MSK_SATURA_B07.gml',\n",
       "   'LastModified': datetime.datetime(2018, 6, 10, 17, 30, 36, tzinfo=tzutc()),\n",
       "   'ETag': '\"805bab01440d502cd60ca34765bd7c0e\"',\n",
       "   'Size': 428,\n",
       "   'StorageClass': 'STANDARD'},\n",
       "  {'Key': 'tiles/33/U/VS/2018/6/10/0/qi/MSK_SATURA_B08.gml',\n",
       "   'LastModified': datetime.datetime(2018, 6, 10, 17, 30, 36, tzinfo=tzutc()),\n",
       "   'ETag': '\"488a3cdc764b3ea42905043944eed9b7\"',\n",
       "   'Size': 428,\n",
       "   'StorageClass': 'STANDARD'},\n",
       "  {'Key': 'tiles/33/U/VS/2018/6/10/0/qi/MSK_SATURA_B09.gml',\n",
       "   'LastModified': datetime.datetime(2018, 6, 10, 17, 30, 36, tzinfo=tzutc()),\n",
       "   'ETag': '\"ab6980268130b50b975d5fd618d0b92b\"',\n",
       "   'Size': 428,\n",
       "   'StorageClass': 'STANDARD'},\n",
       "  {'Key': 'tiles/33/U/VS/2018/6/10/0/qi/MSK_SATURA_B10.gml',\n",
       "   'LastModified': datetime.datetime(2018, 6, 10, 17, 30, 36, tzinfo=tzutc()),\n",
       "   'ETag': '\"e8a8c66b857cd000c4017d3f743eca4d\"',\n",
       "   'Size': 428,\n",
       "   'StorageClass': 'STANDARD'},\n",
       "  {'Key': 'tiles/33/U/VS/2018/6/10/0/qi/MSK_SATURA_B11.gml',\n",
       "   'LastModified': datetime.datetime(2018, 6, 10, 17, 30, 36, tzinfo=tzutc()),\n",
       "   'ETag': '\"6a72b70da0a71f6bd480b9b3b6140a0e\"',\n",
       "   'Size': 428,\n",
       "   'StorageClass': 'STANDARD'},\n",
       "  {'Key': 'tiles/33/U/VS/2018/6/10/0/qi/MSK_SATURA_B12.gml',\n",
       "   'LastModified': datetime.datetime(2018, 6, 10, 17, 30, 36, tzinfo=tzutc()),\n",
       "   'ETag': '\"1b8df9059c0018a2bcc03ef8804e3025\"',\n",
       "   'Size': 428,\n",
       "   'StorageClass': 'STANDARD'},\n",
       "  {'Key': 'tiles/33/U/VS/2018/6/10/0/qi/MSK_SATURA_B8A.gml',\n",
       "   'LastModified': datetime.datetime(2018, 6, 10, 17, 30, 36, tzinfo=tzutc()),\n",
       "   'ETag': '\"320a0faae3c457ac01b3dec935a2e7a1\"',\n",
       "   'Size': 428,\n",
       "   'StorageClass': 'STANDARD'},\n",
       "  {'Key': 'tiles/33/U/VS/2018/6/10/0/qi/MSK_TECQUA_B01.gml',\n",
       "   'LastModified': datetime.datetime(2018, 6, 10, 17, 30, 36, tzinfo=tzutc()),\n",
       "   'ETag': '\"bceac7767a51b4c10b02385df4478735\"',\n",
       "   'Size': 428,\n",
       "   'StorageClass': 'STANDARD'},\n",
       "  {'Key': 'tiles/33/U/VS/2018/6/10/0/qi/MSK_TECQUA_B02.gml',\n",
       "   'LastModified': datetime.datetime(2018, 6, 10, 17, 30, 36, tzinfo=tzutc()),\n",
       "   'ETag': '\"3d2c80c277e66fc703fc368aaf9d5784\"',\n",
       "   'Size': 428,\n",
       "   'StorageClass': 'STANDARD'},\n",
       "  {'Key': 'tiles/33/U/VS/2018/6/10/0/qi/MSK_TECQUA_B03.gml',\n",
       "   'LastModified': datetime.datetime(2018, 6, 10, 17, 30, 36, tzinfo=tzutc()),\n",
       "   'ETag': '\"c698746f31935aa3a125b5cc320d5027\"',\n",
       "   'Size': 428,\n",
       "   'StorageClass': 'STANDARD'},\n",
       "  {'Key': 'tiles/33/U/VS/2018/6/10/0/qi/MSK_TECQUA_B04.gml',\n",
       "   'LastModified': datetime.datetime(2018, 6, 10, 17, 30, 36, tzinfo=tzutc()),\n",
       "   'ETag': '\"639296474e78017d9cc0bd5c40be1e98\"',\n",
       "   'Size': 428,\n",
       "   'StorageClass': 'STANDARD'},\n",
       "  {'Key': 'tiles/33/U/VS/2018/6/10/0/qi/MSK_TECQUA_B05.gml',\n",
       "   'LastModified': datetime.datetime(2018, 6, 10, 17, 30, 36, tzinfo=tzutc()),\n",
       "   'ETag': '\"a70224fb58fea5ec369ef1a85de557b1\"',\n",
       "   'Size': 428,\n",
       "   'StorageClass': 'STANDARD'},\n",
       "  {'Key': 'tiles/33/U/VS/2018/6/10/0/qi/MSK_TECQUA_B06.gml',\n",
       "   'LastModified': datetime.datetime(2018, 6, 10, 17, 30, 36, tzinfo=tzutc()),\n",
       "   'ETag': '\"7156ad3ad1429a52d4b3673313b9341e\"',\n",
       "   'Size': 428,\n",
       "   'StorageClass': 'STANDARD'},\n",
       "  {'Key': 'tiles/33/U/VS/2018/6/10/0/qi/MSK_TECQUA_B07.gml',\n",
       "   'LastModified': datetime.datetime(2018, 6, 10, 17, 30, 36, tzinfo=tzutc()),\n",
       "   'ETag': '\"06482d76e93a6e628fd61c0bc1f11c8d\"',\n",
       "   'Size': 428,\n",
       "   'StorageClass': 'STANDARD'},\n",
       "  {'Key': 'tiles/33/U/VS/2018/6/10/0/qi/MSK_TECQUA_B08.gml',\n",
       "   'LastModified': datetime.datetime(2018, 6, 10, 17, 30, 36, tzinfo=tzutc()),\n",
       "   'ETag': '\"636068e6ee5c257c447e22f655ce82b8\"',\n",
       "   'Size': 428,\n",
       "   'StorageClass': 'STANDARD'},\n",
       "  {'Key': 'tiles/33/U/VS/2018/6/10/0/qi/MSK_TECQUA_B09.gml',\n",
       "   'LastModified': datetime.datetime(2018, 6, 10, 17, 30, 36, tzinfo=tzutc()),\n",
       "   'ETag': '\"87452a8b4ce1d1700c88781b0057fc6c\"',\n",
       "   'Size': 428,\n",
       "   'StorageClass': 'STANDARD'},\n",
       "  {'Key': 'tiles/33/U/VS/2018/6/10/0/qi/MSK_TECQUA_B10.gml',\n",
       "   'LastModified': datetime.datetime(2018, 6, 10, 17, 30, 36, tzinfo=tzutc()),\n",
       "   'ETag': '\"a9ca85e30ce28be046f880da5c3cbb7f\"',\n",
       "   'Size': 428,\n",
       "   'StorageClass': 'STANDARD'},\n",
       "  {'Key': 'tiles/33/U/VS/2018/6/10/0/qi/MSK_TECQUA_B11.gml',\n",
       "   'LastModified': datetime.datetime(2018, 6, 10, 17, 30, 36, tzinfo=tzutc()),\n",
       "   'ETag': '\"c7292fd02004a23f23763aa0f27c6954\"',\n",
       "   'Size': 428,\n",
       "   'StorageClass': 'STANDARD'},\n",
       "  {'Key': 'tiles/33/U/VS/2018/6/10/0/qi/MSK_TECQUA_B12.gml',\n",
       "   'LastModified': datetime.datetime(2018, 6, 10, 17, 30, 36, tzinfo=tzutc()),\n",
       "   'ETag': '\"4d210bf927fc3d51df5be4e1c2425fbe\"',\n",
       "   'Size': 428,\n",
       "   'StorageClass': 'STANDARD'},\n",
       "  {'Key': 'tiles/33/U/VS/2018/6/10/0/qi/MSK_TECQUA_B8A.gml',\n",
       "   'LastModified': datetime.datetime(2018, 6, 10, 17, 30, 36, tzinfo=tzutc()),\n",
       "   'ETag': '\"f24dcb61bea5ee4b1d90213e8a0ce018\"',\n",
       "   'Size': 428,\n",
       "   'StorageClass': 'STANDARD'},\n",
       "  {'Key': 'tiles/33/U/VS/2018/6/10/0/qi/SENSOR_QUALITY.xml',\n",
       "   'LastModified': datetime.datetime(2018, 6, 10, 17, 30, 36, tzinfo=tzutc()),\n",
       "   'ETag': '\"af1dedb4ef076ae11553d8797adb258d\"',\n",
       "   'Size': 4832,\n",
       "   'StorageClass': 'STANDARD'},\n",
       "  {'Key': 'tiles/33/U/VS/2018/6/10/0/tileInfo.json',\n",
       "   'LastModified': datetime.datetime(2018, 6, 10, 17, 30, 36, tzinfo=tzutc()),\n",
       "   'ETag': '\"70a7910df707c8d2d40fdbd1667b47b0\"',\n",
       "   'Size': 1678,\n",
       "   'StorageClass': 'STANDARD'}],\n",
       " 'Name': 'sentinel-s2-l1c',\n",
       " 'Prefix': 'tiles/33/U/VS/2018/6/10/0',\n",
       " 'MaxKeys': 1000,\n",
       " 'EncodingType': 'url',\n",
       " 'KeyCount': 103}"
      ]
     },
     "execution_count": 20,
     "metadata": {},
     "output_type": "execute_result"
    }
   ],
   "source": [
    "s3.list_objects_v2(Bucket=bucket, Prefix=prefix, RequestPayer='requester')"
   ]
  },
  {
   "cell_type": "code",
   "execution_count": 11,
   "metadata": {},
   "outputs": [
    {
     "name": "stdout",
     "output_type": "stream",
     "text": [
      "band B02\n",
      "band B03\n",
      "band B04\n",
      "band B08\n"
     ]
    }
   ],
   "source": [
    "BAND_FILE_MAP = {\n",
    "    \"B02\": None,  # blue\n",
    "    \"B03\": None,  # green\n",
    "    \"B04\": None,  # red\n",
    "    \"B08\": None,  # NIR\n",
    "    }\n",
    "for band in BAND_FILE_MAP:\n",
    "    print(f'band {band}')"
   ]
  },
  {
   "cell_type": "code",
   "execution_count": 25,
   "metadata": {},
   "outputs": [],
   "source": [
    "from pathlib import Path, PurePath\n",
    "import os\n",
    "downloaded_size = 0\n",
    "download_path = Path(r\"C:\\Users\\Fabian\\Documents\\Masterarbeit_Daten\\AWS_test4\")\n",
    "target_folder = download_path / title\n",
    "target_folder.mkdir(parents=True, exist_ok=True)\n",
    "band_file = f'{band}.jp2'\n",
    "band_file_path = target_folder / band_file"
   ]
  },
  {
   "cell_type": "code",
   "execution_count": 28,
   "metadata": {},
   "outputs": [
    {
     "data": {
      "text/plain": [
       "'tiles/33/U/VS/2018/6/10/0/B08.jp2'"
      ]
     },
     "execution_count": 28,
     "metadata": {},
     "output_type": "execute_result"
    }
   ],
   "source": [
    "f'{prefix}/{band_file}'"
   ]
  },
  {
   "cell_type": "code",
   "execution_count": null,
   "metadata": {},
   "outputs": [],
   "source": [
    "response = s3.get_object(Bucket=bucket,\n",
    "                            Key=prefix,\n",
    "                            RequestPayer='requester')"
   ]
  },
  {
   "cell_type": "code",
   "execution_count": 29,
   "metadata": {},
   "outputs": [],
   "source": [
    "response = s3.get_object(Bucket=bucket,\n",
    "                            Key=f'{prefix}/{band_file}',\n",
    "                            RequestPayer='requester')\n",
    "response_content = response['Body'].read()\n",
    "with open(band_file_path, 'wb') as file:\n",
    "    file.write(response_content)\n",
    "    downloaded_size += band_file_path.stat().st_size"
   ]
  },
  {
   "cell_type": "code",
   "execution_count": 30,
   "metadata": {},
   "outputs": [
    {
     "data": {
      "text/plain": [
       "64485091"
      ]
     },
     "execution_count": 30,
     "metadata": {},
     "output_type": "execute_result"
    }
   ],
   "source": [
    "downloaded_size"
   ]
  },
  {
   "cell_type": "code",
   "execution_count": 35,
   "metadata": {},
   "outputs": [
    {
     "name": "stdout",
     "output_type": "stream",
     "text": [
      "file size is 61.5 MB\n"
     ]
    }
   ],
   "source": [
    "def convert_bytes(size):\n",
    "    \"\"\" Convert bytes to KB, or MB or GB\"\"\"\n",
    "    for x in ['bytes', 'KB', 'MB', 'GB', 'TB']:\n",
    "        if size < 1024.0:\n",
    "            return \"%3.1f %s\" % (size, x)\n",
    "        size /= 1024.0\n",
    "x = convert_bytes(downloaded_size)\n",
    "print('file size is', x)"
   ]
  },
  {
   "cell_type": "code",
   "execution_count": 34,
   "metadata": {},
   "outputs": [
    {
     "name": "stdout",
     "output_type": "stream",
     "text": [
      "62973\n"
     ]
    }
   ],
   "source": [
    "print (downloaded_size >> 10)"
   ]
  },
  {
   "cell_type": "code",
   "execution_count": 40,
   "metadata": {},
   "outputs": [],
   "source": [
    "# build-in\n",
    "from dotenv import load_dotenv\n",
    "import os\n",
    "import re\n",
    "from pathlib import Path\n",
    "import pickle\n",
    "from datetime import datetime\n",
    "\n",
    "# third-party\n",
    "import boto3"
   ]
  },
  {
   "cell_type": "code",
   "execution_count": 73,
   "metadata": {},
   "outputs": [],
   "source": [
    "def write_downloaded_size(target_folder: Path) -> None:\n",
    "    # Get all files in folder\n",
    "    files = list(target_folder.iterdir())\n",
    "\n",
    "    # Calculate total size of files\n",
    "    total_size = sum(f.stat().st_size for f in files if f.is_file())\n",
    "    \n",
    "    root_folder = target_folder.parents[0]\n",
    "    \n",
    "    # Load existing pickle file or create empty dictionary\n",
    "    if (root_folder / \"downloaded_size_logs.pickle\").exists():\n",
    "        # ? wrb is used due to an error with mypy\n",
    "        with open((root_folder / \"downloaded_size_logs.pickle\"), \"r+b\") as f:\n",
    "            size_logs = pickle.load(f)\n",
    "    else:\n",
    "        size_logs = {}\n",
    "     \n",
    "    # Add or update the size for the current date\n",
    "    today = datetime.now().date()\n",
    "    if today not in size_logs:\n",
    "        size_logs[today] = total_size\n",
    "    else:\n",
    "        size_logs[today] += total_size\n",
    "    \n",
    "    # Save the updated size logs to the pickle file\n",
    "    with open((root_folder / \"downloaded_size_logs.pickle\"), \"w+b\") as f:\n",
    "        pickle.dump(size_logs, f)"
   ]
  },
  {
   "cell_type": "code",
   "execution_count": 78,
   "metadata": {},
   "outputs": [],
   "source": [
    "\n",
    "def check_aws_free_tier_available(root_folder: Path) -> bool:\n",
    "    # Get the current year and month\n",
    "    now = datetime.now()\n",
    "    year = now.year\n",
    "    month = now.month\n",
    "\n",
    "    if (root_folder / \"downloaded_size_logs.pickle\").exists():\n",
    "        print(\"File exists\")\n",
    "        with open((root_folder / \"downloaded_size_logs.pickle\"), \"rb\") as f:\n",
    "            size_logs = pickle.load(f)\n",
    "    else:\n",
    "        size_logs = {}\n",
    "    \n",
    "    # Calculate the sum of sizes for all days in the current month\n",
    "    current_month_sum = sum(\n",
    "        size_logs[date]\n",
    "        for date in size_logs\n",
    "        if datetime.strptime(date, \"%Y-%m-%d\").year == year and\n",
    "        datetime.strptime(date, \"%Y-%m-%d\").month == month\n",
    "    )\n",
    "    # ToDo: replace hard-coded value with a constant\n",
    "    if current_month_sum < 90 * 1024 * 1024 * 1024:\n",
    "        print(f\"Current month sum is: {current_month_sum/1024} kB.\")\n",
    "        return True\n",
    "    else:\n",
    "        print(\"Current month sum is 90 GB or above.\")\n",
    "        return False"
   ]
  },
  {
   "cell_type": "code",
   "execution_count": 75,
   "metadata": {},
   "outputs": [],
   "source": [
    "def download_from_aws(identifier: str, target_folder: Path) -> bool:\n",
    "    \n",
    "    if not check_aws_free_tier_available(target_folder.parents[0]):\n",
    "        return False\n",
    "\n",
    "    load_dotenv()\n",
    "    aws_access_key_id= os.getenv(\"aws_access_key_id\")\n",
    "    aws_secret_access_key = os.getenv(\"aws_secret_access_key\")\n",
    "\n",
    "    # Let's use Amazon S3\n",
    "    s3 = boto3.client('s3', aws_access_key_id=aws_access_key_id, aws_secret_access_key=aws_secret_access_key)\n",
    "\n",
    "    identifier_regex = re.compile(r\"\"\"^(?P<mission>S2[A-B])_MSI\n",
    "                        (?P<product_level>L[1-2][A-C])_\n",
    "                        (?P<sensing_time>\\d{8}T\\d{6})_\n",
    "                        (?P<processing_baseline>N\\d{4})_\n",
    "                        (?P<relative_orbit>R\\d{3})_T\n",
    "                        (?P<utm_code>\\d{2})\n",
    "                        (?P<latitude_band>\\w{1})\n",
    "                        (?P<square>\\w{2})_\n",
    "                        (?P<year>\\d{4})\n",
    "                        (?P<month>\\d{2})\n",
    "                        (?P<day>\\d{2})T\n",
    "                        (?P<product_time>\\d{6})\"\"\",re.VERBOSE)\n",
    "    \n",
    "    BAND_FILE_MAP = {\n",
    "    \"B02\": None,  # blue\n",
    "    \"B03\": None,  # green\n",
    "    \"B04\": None,  # red\n",
    "    \"B08\": None,  # NIR\n",
    "    }\n",
    "    \n",
    "    regex_match = re.search(identifier_regex, identifier)\n",
    "    \n",
    "    if regex_match:\n",
    "        mission = regex_match.group(\"mission\")\n",
    "        utm_code = regex_match.group(\"utm_code\")\n",
    "        product_level = regex_match.group(\"product_level\").lower()\n",
    "        latitude_band = regex_match.group(\"latitude_band\")\n",
    "        square = regex_match.group(\"square\")\n",
    "        year = regex_match.group(\"year\")\n",
    "        month = str(int(regex_match.group(\"month\")))\n",
    "        day = str(int(regex_match.group(\"day\")))\n",
    "\n",
    "    # https://roda.sentinel-hub.com/sentinel-s2-l2a/readme.html\n",
    "    bucket = f'sentinel-s2-{product_level}'\n",
    "    prefix = f'tiles/{utm_code}/{latitude_band}/{square}/{year}/{month}/{day}/0'\n",
    "\n",
    "    for band in BAND_FILE_MAP:\n",
    "        band_file = f'{band}.jp2'\n",
    "        band_file_path = target_folder / band_file\n",
    "        \n",
    "        if band_file_path.exists():\n",
    "            continue\n",
    "        \n",
    "        # https://stackoverflow.com/questions/63323425/download-sentinel-file-from-s3-using-python-boto3\n",
    "        response = s3.get_object(Bucket=bucket,\n",
    "                            Key=f'{prefix}/{band_file}',\n",
    "                            RequestPayer='requester')\n",
    "        response_content = response['Body'].read()\n",
    "        with open(band_file_path, 'wb') as file:\n",
    "            file.write(response_content)\n",
    "   \n",
    "    write_downloaded_size(target_folder)\n",
    "    return True"
   ]
  },
  {
   "cell_type": "code",
   "execution_count": 79,
   "metadata": {},
   "outputs": [
    {
     "name": "stdout",
     "output_type": "stream",
     "text": [
      "File exists\n",
      "Current month sum is: 221042.0556640625 kB.\n"
     ]
    },
    {
     "data": {
      "text/plain": [
       "True"
      ]
     },
     "execution_count": 79,
     "metadata": {},
     "output_type": "execute_result"
    }
   ],
   "source": [
    "download_from_aws(title, target_folder)"
   ]
  },
  {
   "cell_type": "code",
   "execution_count": 61,
   "metadata": {},
   "outputs": [],
   "source": [
    "root_folder = Path(r\"C:\\Users\\Fabian\\Documents\\Masterarbeit_Daten\\AWS_test4\")\n",
    "if (root_folder / \"downloaded_size_logs.pickle\").exists():\n",
    "    with open((root_folder / \"downloaded_size_logs.pickle\"), \"rb\") as f:\n",
    "        size_logs = pickle.load(f)"
   ]
  },
  {
   "cell_type": "code",
   "execution_count": 62,
   "metadata": {},
   "outputs": [
    {
     "data": {
      "text/plain": [
       "{'2023-04-13': 226347065}"
      ]
     },
     "execution_count": 62,
     "metadata": {},
     "output_type": "execute_result"
    }
   ],
   "source": [
    "size_logs"
   ]
  },
  {
   "cell_type": "code",
   "execution_count": 70,
   "metadata": {},
   "outputs": [],
   "source": [
    "today = datetime.now().date()"
   ]
  },
  {
   "cell_type": "code",
   "execution_count": 72,
   "metadata": {},
   "outputs": [
    {
     "data": {
      "text/plain": [
       "4"
      ]
     },
     "execution_count": 72,
     "metadata": {},
     "output_type": "execute_result"
    }
   ],
   "source": [
    "today.month"
   ]
  },
  {
   "cell_type": "code",
   "execution_count": 38,
   "metadata": {},
   "outputs": [],
   "source": [
    "import pickle\n",
    "from datetime import datetime\n",
    "def check_aws_free_tier(root_folder: Path) -> bool:\n",
    "    # Get the current year and month\n",
    "    now = datetime.now()\n",
    "    year = now.year\n",
    "    month = now.month\n",
    "\n",
    "    if Path(\"downloaded_size_logs.pickle\").exists():\n",
    "        with open(\"downloaded_size_logs.pickle\", \"rb\") as f:\n",
    "            size_logs = pickle.load(f)\n",
    "    else:\n",
    "        size_logs = {}\n",
    "    \n",
    "    # Calculate the sum of sizes for all days in the current month\n",
    "    current_month_sum = sum(\n",
    "        size_logs[date]\n",
    "        for date in size_logs\n",
    "        if datetime.strptime(date, \"%Y-%m-%d\").year == year and\n",
    "        datetime.strptime(date, \"%Y-%m-%d\").month == month\n",
    "    )\n",
    "    \n",
    "    if current_month_sum < 90 * 1024 * 1024 * 1024:\n",
    "        print(\"Current month sum is below 90 GB.\")\n",
    "        return True\n",
    "    else:\n",
    "        print(\"Current month sum is 90 GB or above.\")\n",
    "        return False"
   ]
  },
  {
   "cell_type": "code",
   "execution_count": 39,
   "metadata": {},
   "outputs": [
    {
     "name": "stdout",
     "output_type": "stream",
     "text": [
      "Current month sum is below 90 GB.\n"
     ]
    },
    {
     "data": {
      "text/plain": [
       "True"
      ]
     },
     "execution_count": 39,
     "metadata": {},
     "output_type": "execute_result"
    }
   ],
   "source": [
    "check_aws_free_tier(download_path)"
   ]
  },
  {
   "cell_type": "code",
   "execution_count": 134,
   "metadata": {},
   "outputs": [
    {
     "ename": "NoSuchResourceException",
     "evalue": "An error occurred (NoSuchResourceException) when calling the GetServiceQuota operation: ",
     "output_type": "error",
     "traceback": [
      "\u001b[1;31m---------------------------------------------------------------------------\u001b[0m",
      "\u001b[1;31mNoSuchResourceException\u001b[0m                   Traceback (most recent call last)",
      "Cell \u001b[1;32mIn[134], line 6\u001b[0m\n\u001b[0;32m      3\u001b[0m client \u001b[39m=\u001b[39m session\u001b[39m.\u001b[39mclient(\u001b[39m'\u001b[39m\u001b[39mservice-quotas\u001b[39m\u001b[39m'\u001b[39m,region_name\u001b[39m=\u001b[39m\u001b[39m'\u001b[39m\u001b[39meu-west-1\u001b[39m\u001b[39m'\u001b[39m)\n\u001b[0;32m      5\u001b[0m \u001b[39m# Abfragen des Datenübertragungskontingents des kostenlosen Tiers für das Konto\u001b[39;00m\n\u001b[1;32m----> 6\u001b[0m response \u001b[39m=\u001b[39m client\u001b[39m.\u001b[39;49mget_service_quota(\n\u001b[0;32m      7\u001b[0m     ServiceCode\u001b[39m=\u001b[39;49m\u001b[39m'\u001b[39;49m\u001b[39mAmazonS3\u001b[39;49m\u001b[39m'\u001b[39;49m,\n\u001b[0;32m      8\u001b[0m     QuotaCode\u001b[39m=\u001b[39;49m\u001b[39m'\u001b[39;49m\u001b[39mL-TXRQWZ12LVCZ\u001b[39;49m\u001b[39m'\u001b[39;49m\n\u001b[0;32m      9\u001b[0m )\n\u001b[0;32m     11\u001b[0m \u001b[39m# Extrahieren des verbleibenden Betrags des kostenlosen Kontingents\u001b[39;00m\n\u001b[0;32m     12\u001b[0m free_tier_remaining \u001b[39m=\u001b[39m response[\u001b[39m'\u001b[39m\u001b[39mQuota\u001b[39m\u001b[39m'\u001b[39m][\u001b[39m'\u001b[39m\u001b[39mValue\u001b[39m\u001b[39m'\u001b[39m] \u001b[39m-\u001b[39m response[\u001b[39m'\u001b[39m\u001b[39mUsage\u001b[39m\u001b[39m'\u001b[39m][\u001b[39m'\u001b[39m\u001b[39mMetricValue\u001b[39m\u001b[39m'\u001b[39m]\n",
      "File \u001b[1;32mc:\\Users\\Fabian\\AppData\\Local\\pypoetry\\Cache\\virtualenvs\\solarpark-detection-vU_0sE1Z-py3.10\\lib\\site-packages\\botocore\\client.py:530\u001b[0m, in \u001b[0;36mClientCreator._create_api_method.<locals>._api_call\u001b[1;34m(self, *args, **kwargs)\u001b[0m\n\u001b[0;32m    526\u001b[0m     \u001b[39mraise\u001b[39;00m \u001b[39mTypeError\u001b[39;00m(\n\u001b[0;32m    527\u001b[0m         \u001b[39mf\u001b[39m\u001b[39m\"\u001b[39m\u001b[39m{\u001b[39;00mpy_operation_name\u001b[39m}\u001b[39;00m\u001b[39m() only accepts keyword arguments.\u001b[39m\u001b[39m\"\u001b[39m\n\u001b[0;32m    528\u001b[0m     )\n\u001b[0;32m    529\u001b[0m \u001b[39m# The \"self\" in this scope is referring to the BaseClient.\u001b[39;00m\n\u001b[1;32m--> 530\u001b[0m \u001b[39mreturn\u001b[39;00m \u001b[39mself\u001b[39;49m\u001b[39m.\u001b[39;49m_make_api_call(operation_name, kwargs)\n",
      "File \u001b[1;32mc:\\Users\\Fabian\\AppData\\Local\\pypoetry\\Cache\\virtualenvs\\solarpark-detection-vU_0sE1Z-py3.10\\lib\\site-packages\\botocore\\client.py:960\u001b[0m, in \u001b[0;36mBaseClient._make_api_call\u001b[1;34m(self, operation_name, api_params)\u001b[0m\n\u001b[0;32m    958\u001b[0m     error_code \u001b[39m=\u001b[39m parsed_response\u001b[39m.\u001b[39mget(\u001b[39m\"\u001b[39m\u001b[39mError\u001b[39m\u001b[39m\"\u001b[39m, {})\u001b[39m.\u001b[39mget(\u001b[39m\"\u001b[39m\u001b[39mCode\u001b[39m\u001b[39m\"\u001b[39m)\n\u001b[0;32m    959\u001b[0m     error_class \u001b[39m=\u001b[39m \u001b[39mself\u001b[39m\u001b[39m.\u001b[39mexceptions\u001b[39m.\u001b[39mfrom_code(error_code)\n\u001b[1;32m--> 960\u001b[0m     \u001b[39mraise\u001b[39;00m error_class(parsed_response, operation_name)\n\u001b[0;32m    961\u001b[0m \u001b[39melse\u001b[39;00m:\n\u001b[0;32m    962\u001b[0m     \u001b[39mreturn\u001b[39;00m parsed_response\n",
      "\u001b[1;31mNoSuchResourceException\u001b[0m: An error occurred (NoSuchResourceException) when calling the GetServiceQuota operation: "
     ]
    }
   ],
   "source": [
    "# Verbindung zum AWS-Konto herstellen\n",
    "session = boto3.session.Session()\n",
    "client = session.client('service-quotas',region_name='eu-west-1')\n",
    "\n",
    "# Abfragen des Datenübertragungskontingents des kostenlosen Tiers für das Konto\n",
    "response = client.get_service_quota(\n",
    "    ServiceCode='s3',\n",
    "    QuotaCode='L-TXRQWZ12LVCZ'\n",
    ")\n",
    "\n",
    "# Extrahieren des verbleibenden Betrags des kostenlosen Kontingents\n",
    "free_tier_remaining = response['Quota']['Value'] - response['Usage']['MetricValue']\n",
    "print(f\"Free Tier Data Transfer Remaining: {free_tier_remaining} GB\")"
   ]
  },
  {
   "cell_type": "code",
   "execution_count": 52,
   "metadata": {},
   "outputs": [],
   "source": [
    "# https://stackoverflow.com/questions/63323425/download-sentinel-file-from-s3-using-python-boto3\n",
    "\n",
    "response = s3.get_object(Bucket='sentinel-s2-l1c',\n",
    "                        Key='tiles/7/W/FR/2018/3/31/0/B8A.jp2', \n",
    "                        RequestPayer='requester')\n",
    "response_content = response['Body'].read()\n",
    "\n",
    "with open('./B8A.jp2', 'wb') as file:\n",
    "     file.write(response_content)"
   ]
  },
  {
   "cell_type": "code",
   "execution_count": 7,
   "metadata": {},
   "outputs": [
    {
     "name": "stdout",
     "output_type": "stream",
     "text": [
      "No match found\n"
     ]
    }
   ],
   "source": [
    "import re\n",
    "\n",
    "filename = \"S2A_MSIL1C_20170105T013442_N0204_R031_T53NMJ_20170105T013443.SAFE\"\n",
    "\n",
    "regex = r\"^(S2[A-B])_(MSIL[0-9][AC])_([0-9]{8}T[0-9]{6})_N([0-9]{4})_R([0-9]{3})_T([A-Z0-9]{6})_([0-9]{8}T[0-9]{6})\\.SAFE$\"\n",
    "match = re.match(regex, filename)\n",
    "\n",
    "if match:\n",
    "    mission = match.group(1)\n",
    "    product_level = match.group(2)\n",
    "    sensing_time = match.group(3)\n",
    "    processing_baseline = match.group(4)\n",
    "    relative_orbit = match.group(5)\n",
    "    tile_number = match.group(6)\n",
    "    product_time = match.group(7)\n",
    "    print(\"Mission:\", mission)\n",
    "    print(\"Product level:\", product_level)\n",
    "    print(\"Sensing time:\", sensing_time)\n",
    "    print(\"Processing baseline:\", processing_baseline)\n",
    "    print(\"Relative orbit:\", relative_orbit)\n",
    "    print(\"Tile number:\", tile_number)\n",
    "    print(\"Product time:\", product_time)\n",
    "else:\n",
    "    print(\"No match found\")"
   ]
  },
  {
   "cell_type": "code",
   "execution_count": 23,
   "metadata": {},
   "outputs": [],
   "source": [
    "load_dotenv()\n",
    "aws_access_key_id= os.getenv(\"aws_access_key_id\")\n",
    "aws_secret_access_key = os.getenv(\"aws_secret_access_key\")\n",
    "\n",
    "# Let's use Amazon S3\n",
    "client = boto3.client('service-quotas', region_name='eu-central-1', aws_access_key_id=aws_access_key_id, aws_secret_access_key=aws_secret_access_key)"
   ]
  },
  {
   "cell_type": "code",
   "execution_count": 24,
   "metadata": {},
   "outputs": [
    {
     "data": {
      "text/plain": [
       "{'Quotas': [],\n",
       " 'ResponseMetadata': {'RequestId': '7149004a-e531-4017-b819-83783f528155',\n",
       "  'HTTPStatusCode': 200,\n",
       "  'HTTPHeaders': {'date': 'Tue, 04 Apr 2023 21:33:05 GMT',\n",
       "   'content-type': 'application/x-amz-json-1.1',\n",
       "   'content-length': '13',\n",
       "   'connection': 'keep-alive',\n",
       "   'x-amzn-requestid': '7149004a-e531-4017-b819-83783f528155'},\n",
       "  'RetryAttempts': 0}}"
      ]
     },
     "execution_count": 24,
     "metadata": {},
     "output_type": "execute_result"
    }
   ],
   "source": [
    "response = client.list_service_quotas(ServiceCode=\"s3\")\n",
    "response"
   ]
  },
  {
   "cell_type": "markdown",
   "metadata": {},
   "source": []
  },
  {
   "cell_type": "code",
   "execution_count": 27,
   "metadata": {},
   "outputs": [
    {
     "data": {
      "text/plain": [
       "{'NextToken': 'UFQCQUFBQUFBRUNBZ0I0Qy9rRkVxSzY0Y2I5aGZ1ek4vRGVCWGlmZWpIQjhMeXV3eHVTeno3K1dSQUJneklOOEgwYUVGREwrVkFGNjJwRDVnQUFBUm93Z2dFV0Jna3Foa2lHOXcwQkJ3YWdnZ0VITUlJQkF3SUJBRENCL1FZSktvWklodmNOQVFjQk1CNEdDV0NHU0FGbEF3UUJMakFSQkF5WUdvWnRTTytodVJaTk9WZ0NBUkNBZ2MrcWUzT1F4cUtETmlDODlCQ3kzKy9talM5QWVXbXNsUzZXSVFZTFRoNFJKcys0Z1c4aTZtaHBodmYrbGp4WVlHaG1sU3I2RkFZbEh6a1dzSEI1MmovKzM2ejVwWS8xVzJGMkpUMmFHenR1eEFKb2E2T0hVWkpLakpMbFlYMldTK0UzMk9wRnl4V3MyZlloTVZDd2wwYUZzdDJVdWQxcUhqUDVwVzE1dzlpZzNDK01NL283Y1UwK00ySnIzeWpvNjdzMm9jbVRla0dVYWIvZjYraGtOY21hOUplazI4eWhYY2pham40bit5d1JaS3FsR1dDZEdkMFh6TURxZk5YbmVpR3AxSFcwc0NPYjVtZEhmclAvRWdrPQ==',\n",
       " 'Services': [{'ServiceCode': 'AWSCloudMap', 'ServiceName': 'AWS Cloud Map'},\n",
       "  {'ServiceCode': 'access-analyzer', 'ServiceName': 'Access Analyzer'},\n",
       "  {'ServiceCode': 'acm', 'ServiceName': 'AWS Certificate Manager (ACM)'},\n",
       "  {'ServiceCode': 'acm-pca',\n",
       "   'ServiceName': 'AWS Private Certificate Authority'},\n",
       "  {'ServiceCode': 'airflow',\n",
       "   'ServiceName': 'Amazon Managed Workflows for Apache Airflow'},\n",
       "  {'ServiceCode': 'amplify', 'ServiceName': 'AWS Amplify'},\n",
       "  {'ServiceCode': 'amplifyuibuilder', 'ServiceName': 'Amplify UI Builder'},\n",
       "  {'ServiceCode': 'aoss', 'ServiceName': 'Amazon OpenSearch Serverless'},\n",
       "  {'ServiceCode': 'apigateway', 'ServiceName': 'Amazon API Gateway'},\n",
       "  {'ServiceCode': 'app-integrations',\n",
       "   'ServiceName': 'AmazonAppIntegrationService'},\n",
       "  {'ServiceCode': 'appconfig', 'ServiceName': 'AWS AppConfig'},\n",
       "  {'ServiceCode': 'appflow', 'ServiceName': 'Amazon AppFlow'},\n",
       "  {'ServiceCode': 'application-autoscaling',\n",
       "   'ServiceName': 'Application Auto Scaling'},\n",
       "  {'ServiceCode': 'appmesh', 'ServiceName': 'AWS App Mesh'},\n",
       "  {'ServiceCode': 'appstream2', 'ServiceName': 'Amazon AppStream 2.0'},\n",
       "  {'ServiceCode': 'appsync', 'ServiceName': 'AWS AppSync'},\n",
       "  {'ServiceCode': 'aps', 'ServiceName': 'Amazon Managed Prometheus'},\n",
       "  {'ServiceCode': 'athena', 'ServiceName': 'Amazon Athena'},\n",
       "  {'ServiceCode': 'auditmanager', 'ServiceName': 'AWS Audit Manager'},\n",
       "  {'ServiceCode': 'autoscaling', 'ServiceName': 'Amazon EC2 Auto Scaling'},\n",
       "  {'ServiceCode': 'autoscaling-plans',\n",
       "   'ServiceName': 'AWS Auto Scaling Plans'},\n",
       "  {'ServiceCode': 'backup', 'ServiceName': 'AWS Backup'},\n",
       "  {'ServiceCode': 'batch', 'ServiceName': 'AWS Batch'},\n",
       "  {'ServiceCode': 'cases', 'ServiceName': 'Amazon Connect Cases'},\n",
       "  {'ServiceCode': 'cassandra',\n",
       "   'ServiceName': 'Amazon Keyspaces (for Apache Cassandra)'},\n",
       "  {'ServiceCode': 'chime', 'ServiceName': 'Amazon Chime'},\n",
       "  {'ServiceCode': 'cleanrooms', 'ServiceName': 'AWS Clean Rooms'},\n",
       "  {'ServiceCode': 'cloud9', 'ServiceName': 'AWS Cloud9'},\n",
       "  {'ServiceCode': 'cloudformation', 'ServiceName': 'AWS CloudFormation'},\n",
       "  {'ServiceCode': 'cloudhsm', 'ServiceName': 'AWS CloudHSM'},\n",
       "  {'ServiceCode': 'cloudsearch', 'ServiceName': 'Amazon CloudSearch'},\n",
       "  {'ServiceCode': 'cloudtrail', 'ServiceName': 'AWS CloudTrail'},\n",
       "  {'ServiceCode': 'codeartifact', 'ServiceName': 'AWS CodeArtifact'},\n",
       "  {'ServiceCode': 'codebuild', 'ServiceName': 'AWS CodeBuild'},\n",
       "  {'ServiceCode': 'codecommit', 'ServiceName': 'AWS CodeCommit'},\n",
       "  {'ServiceCode': 'codedeploy', 'ServiceName': 'AWS CodeDeploy'},\n",
       "  {'ServiceCode': 'codeguru-profiler',\n",
       "   'ServiceName': 'Amazon CodeGuru Profiler'},\n",
       "  {'ServiceCode': 'codeguru-reviewer',\n",
       "   'ServiceName': 'Amazon CodeGuru Reviewer'},\n",
       "  {'ServiceCode': 'codepipeline', 'ServiceName': 'AWS CodePipeline'},\n",
       "  {'ServiceCode': 'cognito-identity',\n",
       "   'ServiceName': 'Amazon Cognito Federated Identities'},\n",
       "  {'ServiceCode': 'cognito-idp', 'ServiceName': 'Amazon Cognito User Pools'},\n",
       "  {'ServiceCode': 'cognito-sync', 'ServiceName': 'Amazon Cognito Sync'},\n",
       "  {'ServiceCode': 'comprehend', 'ServiceName': 'Amazon Comprehend'},\n",
       "  {'ServiceCode': 'connect', 'ServiceName': 'Amazon Connect'},\n",
       "  {'ServiceCode': 'databrew', 'ServiceName': 'AWS Glue DataBrew'},\n",
       "  {'ServiceCode': 'dataexchange', 'ServiceName': 'AWS Data Exchange'},\n",
       "  {'ServiceCode': 'datasync', 'ServiceName': 'AWS DataSync'},\n",
       "  {'ServiceCode': 'dax', 'ServiceName': 'Amazon DynamoDB Accelerator (DAX)'},\n",
       "  {'ServiceCode': 'discovery',\n",
       "   'ServiceName': 'AWS Application Discovery Service'},\n",
       "  {'ServiceCode': 'dlm', 'ServiceName': 'Amazon Data Lifecycle Manager'},\n",
       "  {'ServiceCode': 'dms',\n",
       "   'ServiceName': 'AWS Database Migration Service (AWS DMS)'},\n",
       "  {'ServiceCode': 'docdb',\n",
       "   'ServiceName': 'Amazon DocumentDB (with MongoDB compatibility)'},\n",
       "  {'ServiceCode': 'docdb-elastic',\n",
       "   'ServiceName': 'Amazon DocumentDB Elastic Clusters'},\n",
       "  {'ServiceCode': 'drs', 'ServiceName': 'ElasticDisasterRecovery'},\n",
       "  {'ServiceCode': 'ds', 'ServiceName': 'AWS Directory Service'},\n",
       "  {'ServiceCode': 'dynamodb', 'ServiceName': 'Amazon DynamoDB'},\n",
       "  {'ServiceCode': 'ebs',\n",
       "   'ServiceName': 'Amazon Elastic Block Store (Amazon EBS)'},\n",
       "  {'ServiceCode': 'ec2',\n",
       "   'ServiceName': 'Amazon Elastic Compute Cloud (Amazon EC2)'},\n",
       "  {'ServiceCode': 'ec2-ipam', 'ServiceName': 'IPAM'},\n",
       "  {'ServiceCode': 'ec2fastlaunch', 'ServiceName': 'EC2 Fast Launch'},\n",
       "  {'ServiceCode': 'ecr',\n",
       "   'ServiceName': 'Amazon Elastic Container Registry (Amazon ECR)'},\n",
       "  {'ServiceCode': 'ecs',\n",
       "   'ServiceName': 'Amazon Elastic Container Service (Amazon ECS)'},\n",
       "  {'ServiceCode': 'eks',\n",
       "   'ServiceName': 'Amazon Elastic Kubernetes Service (Amazon EKS)'},\n",
       "  {'ServiceCode': 'elasticache', 'ServiceName': 'Amazon ElastiCache'},\n",
       "  {'ServiceCode': 'elasticbeanstalk', 'ServiceName': 'AWS Elastic Beanstalk'},\n",
       "  {'ServiceCode': 'elasticfilesystem',\n",
       "   'ServiceName': 'Amazon Elastic File System (EFS)'},\n",
       "  {'ServiceCode': 'elasticloadbalancing',\n",
       "   'ServiceName': 'Elastic Load Balancing (ELB)'},\n",
       "  {'ServiceCode': 'elasticmapreduce', 'ServiceName': 'Amazon EMR'},\n",
       "  {'ServiceCode': 'emr-serverless', 'ServiceName': 'Amazon EMR Serverless'},\n",
       "  {'ServiceCode': 'es', 'ServiceName': 'Amazon OpenSearch Service'},\n",
       "  {'ServiceCode': 'events',\n",
       "   'ServiceName': 'Amazon EventBridge (CloudWatch Events)'},\n",
       "  {'ServiceCode': 'evidently', 'ServiceName': 'Amazon CloudWatch Evidently'},\n",
       "  {'ServiceCode': 'fargate', 'ServiceName': 'AWS Fargate'},\n",
       "  {'ServiceCode': 'firehose', 'ServiceName': 'Amazon Kinesis Data Firehose'},\n",
       "  {'ServiceCode': 'fis', 'ServiceName': 'AWS Fault Injection Simulator'},\n",
       "  {'ServiceCode': 'fms', 'ServiceName': 'AWS Firewall Manager'},\n",
       "  {'ServiceCode': 'forecast', 'ServiceName': 'Amazon Forecast'},\n",
       "  {'ServiceCode': 'fsx', 'ServiceName': 'Amazon FSx'},\n",
       "  {'ServiceCode': 'gamelift', 'ServiceName': 'Amazon GameLift'},\n",
       "  {'ServiceCode': 'geo',\n",
       "   'ServiceName': 'Amazon Location Service (Amazon Location)'},\n",
       "  {'ServiceCode': 'glacier', 'ServiceName': 'Amazon Glacier'},\n",
       "  {'ServiceCode': 'glue', 'ServiceName': 'AWS Glue'},\n",
       "  {'ServiceCode': 'grafana', 'ServiceName': 'Amazon Managed Grafana'},\n",
       "  {'ServiceCode': 'greengrass', 'ServiceName': 'AWS IoT Greengrass'},\n",
       "  {'ServiceCode': 'groundstation', 'ServiceName': 'AWS Ground Station'},\n",
       "  {'ServiceCode': 'guardduty', 'ServiceName': 'Amazon GuardDuty'},\n",
       "  {'ServiceCode': 'imagebuilder', 'ServiceName': 'EC2 Image Builder'},\n",
       "  {'ServiceCode': 'inspector', 'ServiceName': 'Amazon Inspector'},\n",
       "  {'ServiceCode': 'inspector2', 'ServiceName': 'Amazon Inspector'},\n",
       "  {'ServiceCode': 'internetmonitor',\n",
       "   'ServiceName': 'CloudWatch Internet Monitor'},\n",
       "  {'ServiceCode': 'iot', 'ServiceName': 'AWS IoT'},\n",
       "  {'ServiceCode': 'iot1click', 'ServiceName': 'AWS IoT 1-Click'},\n",
       "  {'ServiceCode': 'iotanalytics', 'ServiceName': 'AWS IoT Analytics'},\n",
       "  {'ServiceCode': 'iotcore', 'ServiceName': 'AWS IoT Core'},\n",
       "  {'ServiceCode': 'iotevents', 'ServiceName': 'AWS IoT Events'},\n",
       "  {'ServiceCode': 'iotfleetwise', 'ServiceName': 'AWS IoT FleetWise'},\n",
       "  {'ServiceCode': 'iotroborunner', 'ServiceName': 'AWS IoT RoboRunner'},\n",
       "  {'ServiceCode': 'iotsitewise', 'ServiceName': 'AWS IoT SiteWise'},\n",
       "  {'ServiceCode': 'iottwinmaker', 'ServiceName': 'AWS IoT TwinMaker'},\n",
       "  {'ServiceCode': 'iotwireless', 'ServiceName': 'AWS IoT Wireless'}],\n",
       " 'ResponseMetadata': {'RequestId': '1425c6ee-7b34-436b-818d-44286299085e',\n",
       "  'HTTPStatusCode': 200,\n",
       "  'HTTPHeaders': {'date': 'Tue, 04 Apr 2023 21:34:39 GMT',\n",
       "   'content-type': 'application/x-amz-json-1.1',\n",
       "   'content-length': '7254',\n",
       "   'connection': 'keep-alive',\n",
       "   'x-amzn-requestid': '1425c6ee-7b34-436b-818d-44286299085e'},\n",
       "  'RetryAttempts': 0}}"
      ]
     },
     "execution_count": 27,
     "metadata": {},
     "output_type": "execute_result"
    }
   ],
   "source": [
    "response = client.list_services(MaxResults=100)\n",
    "response"
   ]
  },
  {
   "cell_type": "code",
   "execution_count": 13,
   "metadata": {},
   "outputs": [
    {
     "data": {
      "text/plain": [
       "{'NextToken': 'UFQCQUFBQUFBRUNBZ0I0Qy9rRkVxSzY0Y2I5aGZ1ek4vRGVCWGlmZWpIQjhMeXV3eHVTeno3K1dSQUI2QURXZE9kTHdlOTdtNURTV005UStBQUFBUm93Z2dFV0Jna3Foa2lHOXcwQkJ3YWdnZ0VITUlJQkF3SUJBRENCL1FZSktvWklodmNOQVFjQk1CNEdDV0NHU0FGbEF3UUJMakFSQkF4TWUrQXVyNGVqcHNlUjhhd0NBUkNBZ2MrVjc1ZFVkNE1mZmpHMk1oVElqY21oQk9NMVZRNm9EUTlxN2N6aUNQK2lTcTJlZDBGeS9FeXBJakM3SWlJQytYQ09EV3U2UStpdThvVllSODBVSFVhNHdhUmdIU0MybExTNFMvekplWVI3WjN6cHF4MkxqN3c1YkZlRDBmN2p4dmZqM2lhNkhCZjFwd1NUZWFlRTFWKzVpZ3oycjVMV05kVEdEb29EcG9PZHVNVlVDTVF0YWJ3eVJGdEQ5WDdBY0szSmNNNWpoL0xtMTdURElHeHVrVXZzRXloVVlqdnQ4STBtOTVxWjNrem9sMFM5TEhnTEM5VUZXTW5mT0xDd3FOeDJKUjBsTkV2Ti9BbFN0R2NJaE53PQ==',\n",
       " 'Services': [{'ServiceCode': 'AWSCloudMap', 'ServiceName': 'AWS Cloud Map'},\n",
       "  {'ServiceCode': 'access-analyzer', 'ServiceName': 'Access Analyzer'},\n",
       "  {'ServiceCode': 'acm', 'ServiceName': 'AWS Certificate Manager (ACM)'},\n",
       "  {'ServiceCode': 'acm-pca',\n",
       "   'ServiceName': 'AWS Private Certificate Authority'},\n",
       "  {'ServiceCode': 'airflow',\n",
       "   'ServiceName': 'Amazon Managed Workflows for Apache Airflow'},\n",
       "  {'ServiceCode': 'amplify', 'ServiceName': 'AWS Amplify'},\n",
       "  {'ServiceCode': 'amplifyuibuilder', 'ServiceName': 'Amplify UI Builder'},\n",
       "  {'ServiceCode': 'aoss', 'ServiceName': 'Amazon OpenSearch Serverless'},\n",
       "  {'ServiceCode': 'apigateway', 'ServiceName': 'Amazon API Gateway'},\n",
       "  {'ServiceCode': 'app-integrations',\n",
       "   'ServiceName': 'AmazonAppIntegrationService'},\n",
       "  {'ServiceCode': 'appconfig', 'ServiceName': 'AWS AppConfig'},\n",
       "  {'ServiceCode': 'appflow', 'ServiceName': 'Amazon AppFlow'},\n",
       "  {'ServiceCode': 'application-autoscaling',\n",
       "   'ServiceName': 'Application Auto Scaling'},\n",
       "  {'ServiceCode': 'appmesh', 'ServiceName': 'AWS App Mesh'},\n",
       "  {'ServiceCode': 'appstream2', 'ServiceName': 'Amazon AppStream 2.0'},\n",
       "  {'ServiceCode': 'appsync', 'ServiceName': 'AWS AppSync'},\n",
       "  {'ServiceCode': 'aps', 'ServiceName': 'Amazon Managed Prometheus'},\n",
       "  {'ServiceCode': 'athena', 'ServiceName': 'Amazon Athena'},\n",
       "  {'ServiceCode': 'auditmanager', 'ServiceName': 'AWS Audit Manager'},\n",
       "  {'ServiceCode': 'autoscaling', 'ServiceName': 'Amazon EC2 Auto Scaling'}],\n",
       " 'ResponseMetadata': {'RequestId': '5f9f2a95-dcda-4c64-9209-934c3ae58b7b',\n",
       "  'HTTPStatusCode': 200,\n",
       "  'HTTPHeaders': {'date': 'Tue, 04 Apr 2023 21:23:47 GMT',\n",
       "   'content-type': 'application/x-amz-json-1.1',\n",
       "   'content-length': '1967',\n",
       "   'connection': 'keep-alive',\n",
       "   'x-amzn-requestid': '5f9f2a95-dcda-4c64-9209-934c3ae58b7b'},\n",
       "  'RetryAttempts': 0}}"
      ]
     },
     "execution_count": 13,
     "metadata": {},
     "output_type": "execute_result"
    }
   ],
   "source": [
    "response"
   ]
  },
  {
   "cell_type": "code",
   "execution_count": 10,
   "metadata": {},
   "outputs": [],
   "source": [
    "test = \"10\""
   ]
  },
  {
   "cell_type": "code",
   "execution_count": 11,
   "metadata": {},
   "outputs": [
    {
     "data": {
      "text/plain": [
       "10"
      ]
     },
     "execution_count": 11,
     "metadata": {},
     "output_type": "execute_result"
    }
   ],
   "source": [
    "int(test)"
   ]
  },
  {
   "cell_type": "code",
   "execution_count": 46,
   "metadata": {},
   "outputs": [
    {
     "ename": "ClientError",
     "evalue": "An error occurred (403) when calling the HeadObject operation: Forbidden",
     "output_type": "error",
     "traceback": [
      "\u001b[1;31m---------------------------------------------------------------------------\u001b[0m",
      "\u001b[1;31mClientError\u001b[0m                               Traceback (most recent call last)",
      "Cell \u001b[1;32mIn[46], line 1\u001b[0m\n\u001b[1;32m----> 1\u001b[0m sentinel_bucket\u001b[39m.\u001b[39;49mObject(\u001b[39m'\u001b[39;49m\u001b[39mtiles/16/R/BV/2018/4/16/0/tileInfo.json\u001b[39;49m\u001b[39m'\u001b[39;49m)\u001b[39m.\u001b[39;49mdownload_file(\u001b[39m'\u001b[39;49m\u001b[39mtileInfo.json\u001b[39;49m\u001b[39m'\u001b[39;49m)\n",
      "File \u001b[1;32mc:\\Users\\Fabian\\AppData\\Local\\pypoetry\\Cache\\virtualenvs\\solarpark-detection-vU_0sE1Z-py3.10\\lib\\site-packages\\boto3\\s3\\inject.py:359\u001b[0m, in \u001b[0;36mobject_download_file\u001b[1;34m(self, Filename, ExtraArgs, Callback, Config)\u001b[0m\n\u001b[0;32m    328\u001b[0m \u001b[39mdef\u001b[39;00m \u001b[39mobject_download_file\u001b[39m(\n\u001b[0;32m    329\u001b[0m     \u001b[39mself\u001b[39m, Filename, ExtraArgs\u001b[39m=\u001b[39m\u001b[39mNone\u001b[39;00m, Callback\u001b[39m=\u001b[39m\u001b[39mNone\u001b[39;00m, Config\u001b[39m=\u001b[39m\u001b[39mNone\u001b[39;00m\n\u001b[0;32m    330\u001b[0m ):\n\u001b[0;32m    331\u001b[0m \u001b[39m    \u001b[39m\u001b[39m\"\"\"Download an S3 object to a file.\u001b[39;00m\n\u001b[0;32m    332\u001b[0m \n\u001b[0;32m    333\u001b[0m \u001b[39m    Usage::\u001b[39;00m\n\u001b[1;32m   (...)\u001b[0m\n\u001b[0;32m    357\u001b[0m \u001b[39m        transfer.\u001b[39;00m\n\u001b[0;32m    358\u001b[0m \u001b[39m    \"\"\"\u001b[39;00m\n\u001b[1;32m--> 359\u001b[0m     \u001b[39mreturn\u001b[39;00m \u001b[39mself\u001b[39;49m\u001b[39m.\u001b[39;49mmeta\u001b[39m.\u001b[39;49mclient\u001b[39m.\u001b[39;49mdownload_file(\n\u001b[0;32m    360\u001b[0m         Bucket\u001b[39m=\u001b[39;49m\u001b[39mself\u001b[39;49m\u001b[39m.\u001b[39;49mbucket_name,\n\u001b[0;32m    361\u001b[0m         Key\u001b[39m=\u001b[39;49m\u001b[39mself\u001b[39;49m\u001b[39m.\u001b[39;49mkey,\n\u001b[0;32m    362\u001b[0m         Filename\u001b[39m=\u001b[39;49mFilename,\n\u001b[0;32m    363\u001b[0m         ExtraArgs\u001b[39m=\u001b[39;49mExtraArgs,\n\u001b[0;32m    364\u001b[0m         Callback\u001b[39m=\u001b[39;49mCallback,\n\u001b[0;32m    365\u001b[0m         Config\u001b[39m=\u001b[39;49mConfig,\n\u001b[0;32m    366\u001b[0m     )\n",
      "File \u001b[1;32mc:\\Users\\Fabian\\AppData\\Local\\pypoetry\\Cache\\virtualenvs\\solarpark-detection-vU_0sE1Z-py3.10\\lib\\site-packages\\boto3\\s3\\inject.py:190\u001b[0m, in \u001b[0;36mdownload_file\u001b[1;34m(self, Bucket, Key, Filename, ExtraArgs, Callback, Config)\u001b[0m\n\u001b[0;32m    155\u001b[0m \u001b[39m\u001b[39m\u001b[39m\"\"\"Download an S3 object to a file.\u001b[39;00m\n\u001b[0;32m    156\u001b[0m \n\u001b[0;32m    157\u001b[0m \u001b[39mUsage::\u001b[39;00m\n\u001b[1;32m   (...)\u001b[0m\n\u001b[0;32m    187\u001b[0m \u001b[39m    transfer.\u001b[39;00m\n\u001b[0;32m    188\u001b[0m \u001b[39m\"\"\"\u001b[39;00m\n\u001b[0;32m    189\u001b[0m \u001b[39mwith\u001b[39;00m S3Transfer(\u001b[39mself\u001b[39m, Config) \u001b[39mas\u001b[39;00m transfer:\n\u001b[1;32m--> 190\u001b[0m     \u001b[39mreturn\u001b[39;00m transfer\u001b[39m.\u001b[39;49mdownload_file(\n\u001b[0;32m    191\u001b[0m         bucket\u001b[39m=\u001b[39;49mBucket,\n\u001b[0;32m    192\u001b[0m         key\u001b[39m=\u001b[39;49mKey,\n\u001b[0;32m    193\u001b[0m         filename\u001b[39m=\u001b[39;49mFilename,\n\u001b[0;32m    194\u001b[0m         extra_args\u001b[39m=\u001b[39;49mExtraArgs,\n\u001b[0;32m    195\u001b[0m         callback\u001b[39m=\u001b[39;49mCallback,\n\u001b[0;32m    196\u001b[0m     )\n",
      "File \u001b[1;32mc:\\Users\\Fabian\\AppData\\Local\\pypoetry\\Cache\\virtualenvs\\solarpark-detection-vU_0sE1Z-py3.10\\lib\\site-packages\\boto3\\s3\\transfer.py:326\u001b[0m, in \u001b[0;36mS3Transfer.download_file\u001b[1;34m(self, bucket, key, filename, extra_args, callback)\u001b[0m\n\u001b[0;32m    322\u001b[0m future \u001b[39m=\u001b[39m \u001b[39mself\u001b[39m\u001b[39m.\u001b[39m_manager\u001b[39m.\u001b[39mdownload(\n\u001b[0;32m    323\u001b[0m     bucket, key, filename, extra_args, subscribers\n\u001b[0;32m    324\u001b[0m )\n\u001b[0;32m    325\u001b[0m \u001b[39mtry\u001b[39;00m:\n\u001b[1;32m--> 326\u001b[0m     future\u001b[39m.\u001b[39;49mresult()\n\u001b[0;32m    327\u001b[0m \u001b[39m# This is for backwards compatibility where when retries are\u001b[39;00m\n\u001b[0;32m    328\u001b[0m \u001b[39m# exceeded we need to throw the same error from boto3 instead of\u001b[39;00m\n\u001b[0;32m    329\u001b[0m \u001b[39m# s3transfer's built in RetriesExceededError as current users are\u001b[39;00m\n\u001b[0;32m    330\u001b[0m \u001b[39m# catching the boto3 one instead of the s3transfer exception to do\u001b[39;00m\n\u001b[0;32m    331\u001b[0m \u001b[39m# their own retries.\u001b[39;00m\n\u001b[0;32m    332\u001b[0m \u001b[39mexcept\u001b[39;00m S3TransferRetriesExceededError \u001b[39mas\u001b[39;00m e:\n",
      "File \u001b[1;32mc:\\Users\\Fabian\\AppData\\Local\\pypoetry\\Cache\\virtualenvs\\solarpark-detection-vU_0sE1Z-py3.10\\lib\\site-packages\\s3transfer\\futures.py:103\u001b[0m, in \u001b[0;36mTransferFuture.result\u001b[1;34m(self)\u001b[0m\n\u001b[0;32m     98\u001b[0m \u001b[39mdef\u001b[39;00m \u001b[39mresult\u001b[39m(\u001b[39mself\u001b[39m):\n\u001b[0;32m     99\u001b[0m     \u001b[39mtry\u001b[39;00m:\n\u001b[0;32m    100\u001b[0m         \u001b[39m# Usually the result() method blocks until the transfer is done,\u001b[39;00m\n\u001b[0;32m    101\u001b[0m         \u001b[39m# however if a KeyboardInterrupt is raised we want want to exit\u001b[39;00m\n\u001b[0;32m    102\u001b[0m         \u001b[39m# out of this and propagate the exception.\u001b[39;00m\n\u001b[1;32m--> 103\u001b[0m         \u001b[39mreturn\u001b[39;00m \u001b[39mself\u001b[39;49m\u001b[39m.\u001b[39;49m_coordinator\u001b[39m.\u001b[39;49mresult()\n\u001b[0;32m    104\u001b[0m     \u001b[39mexcept\u001b[39;00m \u001b[39mKeyboardInterrupt\u001b[39;00m \u001b[39mas\u001b[39;00m e:\n\u001b[0;32m    105\u001b[0m         \u001b[39mself\u001b[39m\u001b[39m.\u001b[39mcancel()\n",
      "File \u001b[1;32mc:\\Users\\Fabian\\AppData\\Local\\pypoetry\\Cache\\virtualenvs\\solarpark-detection-vU_0sE1Z-py3.10\\lib\\site-packages\\s3transfer\\futures.py:266\u001b[0m, in \u001b[0;36mTransferCoordinator.result\u001b[1;34m(self)\u001b[0m\n\u001b[0;32m    263\u001b[0m \u001b[39m# Once done waiting, raise an exception if present or return the\u001b[39;00m\n\u001b[0;32m    264\u001b[0m \u001b[39m# final result.\u001b[39;00m\n\u001b[0;32m    265\u001b[0m \u001b[39mif\u001b[39;00m \u001b[39mself\u001b[39m\u001b[39m.\u001b[39m_exception:\n\u001b[1;32m--> 266\u001b[0m     \u001b[39mraise\u001b[39;00m \u001b[39mself\u001b[39m\u001b[39m.\u001b[39m_exception\n\u001b[0;32m    267\u001b[0m \u001b[39mreturn\u001b[39;00m \u001b[39mself\u001b[39m\u001b[39m.\u001b[39m_result\n",
      "File \u001b[1;32mc:\\Users\\Fabian\\AppData\\Local\\pypoetry\\Cache\\virtualenvs\\solarpark-detection-vU_0sE1Z-py3.10\\lib\\site-packages\\s3transfer\\tasks.py:269\u001b[0m, in \u001b[0;36mSubmissionTask._main\u001b[1;34m(self, transfer_future, **kwargs)\u001b[0m\n\u001b[0;32m    265\u001b[0m     \u001b[39mself\u001b[39m\u001b[39m.\u001b[39m_transfer_coordinator\u001b[39m.\u001b[39mset_status_to_running()\n\u001b[0;32m    267\u001b[0m     \u001b[39m# Call the submit method to start submitting tasks to execute the\u001b[39;00m\n\u001b[0;32m    268\u001b[0m     \u001b[39m# transfer.\u001b[39;00m\n\u001b[1;32m--> 269\u001b[0m     \u001b[39mself\u001b[39m\u001b[39m.\u001b[39m_submit(transfer_future\u001b[39m=\u001b[39mtransfer_future, \u001b[39m*\u001b[39m\u001b[39m*\u001b[39mkwargs)\n\u001b[0;32m    270\u001b[0m \u001b[39mexcept\u001b[39;00m \u001b[39mBaseException\u001b[39;00m \u001b[39mas\u001b[39;00m e:\n\u001b[0;32m    271\u001b[0m     \u001b[39m# If there was an exception raised during the submission of task\u001b[39;00m\n\u001b[0;32m    272\u001b[0m     \u001b[39m# there is a chance that the final task that signals if a transfer\u001b[39;00m\n\u001b[1;32m   (...)\u001b[0m\n\u001b[0;32m    281\u001b[0m \n\u001b[0;32m    282\u001b[0m     \u001b[39m# Set the exception, that caused the process to fail.\u001b[39;00m\n\u001b[0;32m    283\u001b[0m     \u001b[39mself\u001b[39m\u001b[39m.\u001b[39m_log_and_set_exception(e)\n",
      "File \u001b[1;32mc:\\Users\\Fabian\\AppData\\Local\\pypoetry\\Cache\\virtualenvs\\solarpark-detection-vU_0sE1Z-py3.10\\lib\\site-packages\\s3transfer\\download.py:354\u001b[0m, in \u001b[0;36mDownloadSubmissionTask._submit\u001b[1;34m(self, client, config, osutil, request_executor, io_executor, transfer_future, bandwidth_limiter)\u001b[0m\n\u001b[0;32m    325\u001b[0m \u001b[39m\u001b[39m\u001b[39m\"\"\"\u001b[39;00m\n\u001b[0;32m    326\u001b[0m \u001b[39m:param client: The client associated with the transfer manager\u001b[39;00m\n\u001b[0;32m    327\u001b[0m \n\u001b[1;32m   (...)\u001b[0m\n\u001b[0;32m    349\u001b[0m \u001b[39m    downloading streams\u001b[39;00m\n\u001b[0;32m    350\u001b[0m \u001b[39m\"\"\"\u001b[39;00m\n\u001b[0;32m    351\u001b[0m \u001b[39mif\u001b[39;00m transfer_future\u001b[39m.\u001b[39mmeta\u001b[39m.\u001b[39msize \u001b[39mis\u001b[39;00m \u001b[39mNone\u001b[39;00m:\n\u001b[0;32m    352\u001b[0m     \u001b[39m# If a size was not provided figure out the size for the\u001b[39;00m\n\u001b[0;32m    353\u001b[0m     \u001b[39m# user.\u001b[39;00m\n\u001b[1;32m--> 354\u001b[0m     response \u001b[39m=\u001b[39m client\u001b[39m.\u001b[39mhead_object(\n\u001b[0;32m    355\u001b[0m         Bucket\u001b[39m=\u001b[39mtransfer_future\u001b[39m.\u001b[39mmeta\u001b[39m.\u001b[39mcall_args\u001b[39m.\u001b[39mbucket,\n\u001b[0;32m    356\u001b[0m         Key\u001b[39m=\u001b[39mtransfer_future\u001b[39m.\u001b[39mmeta\u001b[39m.\u001b[39mcall_args\u001b[39m.\u001b[39mkey,\n\u001b[0;32m    357\u001b[0m         \u001b[39m*\u001b[39m\u001b[39m*\u001b[39mtransfer_future\u001b[39m.\u001b[39mmeta\u001b[39m.\u001b[39mcall_args\u001b[39m.\u001b[39mextra_args,\n\u001b[0;32m    358\u001b[0m     )\n\u001b[0;32m    359\u001b[0m     transfer_future\u001b[39m.\u001b[39mmeta\u001b[39m.\u001b[39mprovide_transfer_size(\n\u001b[0;32m    360\u001b[0m         response[\u001b[39m'\u001b[39m\u001b[39mContentLength\u001b[39m\u001b[39m'\u001b[39m]\n\u001b[0;32m    361\u001b[0m     )\n\u001b[0;32m    363\u001b[0m download_output_manager \u001b[39m=\u001b[39m \u001b[39mself\u001b[39m\u001b[39m.\u001b[39m_get_download_output_manager_cls(\n\u001b[0;32m    364\u001b[0m     transfer_future, osutil\n\u001b[0;32m    365\u001b[0m )(osutil, \u001b[39mself\u001b[39m\u001b[39m.\u001b[39m_transfer_coordinator, io_executor)\n",
      "File \u001b[1;32mc:\\Users\\Fabian\\AppData\\Local\\pypoetry\\Cache\\virtualenvs\\solarpark-detection-vU_0sE1Z-py3.10\\lib\\site-packages\\botocore\\client.py:530\u001b[0m, in \u001b[0;36mClientCreator._create_api_method.<locals>._api_call\u001b[1;34m(self, *args, **kwargs)\u001b[0m\n\u001b[0;32m    526\u001b[0m     \u001b[39mraise\u001b[39;00m \u001b[39mTypeError\u001b[39;00m(\n\u001b[0;32m    527\u001b[0m         \u001b[39mf\u001b[39m\u001b[39m\"\u001b[39m\u001b[39m{\u001b[39;00mpy_operation_name\u001b[39m}\u001b[39;00m\u001b[39m() only accepts keyword arguments.\u001b[39m\u001b[39m\"\u001b[39m\n\u001b[0;32m    528\u001b[0m     )\n\u001b[0;32m    529\u001b[0m \u001b[39m# The \"self\" in this scope is referring to the BaseClient.\u001b[39;00m\n\u001b[1;32m--> 530\u001b[0m \u001b[39mreturn\u001b[39;00m \u001b[39mself\u001b[39;49m\u001b[39m.\u001b[39;49m_make_api_call(operation_name, kwargs)\n",
      "File \u001b[1;32mc:\\Users\\Fabian\\AppData\\Local\\pypoetry\\Cache\\virtualenvs\\solarpark-detection-vU_0sE1Z-py3.10\\lib\\site-packages\\botocore\\client.py:960\u001b[0m, in \u001b[0;36mBaseClient._make_api_call\u001b[1;34m(self, operation_name, api_params)\u001b[0m\n\u001b[0;32m    958\u001b[0m     error_code \u001b[39m=\u001b[39m parsed_response\u001b[39m.\u001b[39mget(\u001b[39m\"\u001b[39m\u001b[39mError\u001b[39m\u001b[39m\"\u001b[39m, {})\u001b[39m.\u001b[39mget(\u001b[39m\"\u001b[39m\u001b[39mCode\u001b[39m\u001b[39m\"\u001b[39m)\n\u001b[0;32m    959\u001b[0m     error_class \u001b[39m=\u001b[39m \u001b[39mself\u001b[39m\u001b[39m.\u001b[39mexceptions\u001b[39m.\u001b[39mfrom_code(error_code)\n\u001b[1;32m--> 960\u001b[0m     \u001b[39mraise\u001b[39;00m error_class(parsed_response, operation_name)\n\u001b[0;32m    961\u001b[0m \u001b[39melse\u001b[39;00m:\n\u001b[0;32m    962\u001b[0m     \u001b[39mreturn\u001b[39;00m parsed_response\n",
      "\u001b[1;31mClientError\u001b[0m: An error occurred (403) when calling the HeadObject operation: Forbidden"
     ]
    }
   ],
   "source": [
    "sentinel_bucket.Object('tiles/16/R/BV/2018/4/16/0/tileInfo.json').download_file('tileInfo.json')"
   ]
  },
  {
   "cell_type": "code",
   "execution_count": 21,
   "metadata": {},
   "outputs": [],
   "source": [
    "s3.dataLocation = 's3://sentinel-s2-l1c/tiles/32/T/KE/2019/4/3/0/'"
   ]
  },
  {
   "cell_type": "code",
   "execution_count": 35,
   "metadata": {},
   "outputs": [
    {
     "ename": "ClientError",
     "evalue": "An error occurred (AccessDenied) when calling the ListObjects operation: Access Denied",
     "output_type": "error",
     "traceback": [
      "\u001b[1;31m---------------------------------------------------------------------------\u001b[0m",
      "\u001b[1;31mClientError\u001b[0m                               Traceback (most recent call last)",
      "Cell \u001b[1;32mIn[35], line 1\u001b[0m\n\u001b[1;32m----> 1\u001b[0m s3\u001b[39m.\u001b[39;49mlist_objects(Bucket\u001b[39m=\u001b[39;49m\u001b[39m'\u001b[39;49m\u001b[39msentinel-s2-l2a\u001b[39;49m\u001b[39m'\u001b[39;49m, Prefix\u001b[39m=\u001b[39;49m\u001b[39m'\u001b[39;49m\u001b[39mtiles/16/R/BV/2018/4/16/0/tileInfo.json\u001b[39;49m\u001b[39m'\u001b[39;49m)\n",
      "File \u001b[1;32mc:\\Users\\Fabian\\AppData\\Local\\pypoetry\\Cache\\virtualenvs\\solarpark-detection-vU_0sE1Z-py3.10\\lib\\site-packages\\botocore\\client.py:530\u001b[0m, in \u001b[0;36mClientCreator._create_api_method.<locals>._api_call\u001b[1;34m(self, *args, **kwargs)\u001b[0m\n\u001b[0;32m    526\u001b[0m     \u001b[39mraise\u001b[39;00m \u001b[39mTypeError\u001b[39;00m(\n\u001b[0;32m    527\u001b[0m         \u001b[39mf\u001b[39m\u001b[39m\"\u001b[39m\u001b[39m{\u001b[39;00mpy_operation_name\u001b[39m}\u001b[39;00m\u001b[39m() only accepts keyword arguments.\u001b[39m\u001b[39m\"\u001b[39m\n\u001b[0;32m    528\u001b[0m     )\n\u001b[0;32m    529\u001b[0m \u001b[39m# The \"self\" in this scope is referring to the BaseClient.\u001b[39;00m\n\u001b[1;32m--> 530\u001b[0m \u001b[39mreturn\u001b[39;00m \u001b[39mself\u001b[39;49m\u001b[39m.\u001b[39;49m_make_api_call(operation_name, kwargs)\n",
      "File \u001b[1;32mc:\\Users\\Fabian\\AppData\\Local\\pypoetry\\Cache\\virtualenvs\\solarpark-detection-vU_0sE1Z-py3.10\\lib\\site-packages\\botocore\\client.py:960\u001b[0m, in \u001b[0;36mBaseClient._make_api_call\u001b[1;34m(self, operation_name, api_params)\u001b[0m\n\u001b[0;32m    958\u001b[0m     error_code \u001b[39m=\u001b[39m parsed_response\u001b[39m.\u001b[39mget(\u001b[39m\"\u001b[39m\u001b[39mError\u001b[39m\u001b[39m\"\u001b[39m, {})\u001b[39m.\u001b[39mget(\u001b[39m\"\u001b[39m\u001b[39mCode\u001b[39m\u001b[39m\"\u001b[39m)\n\u001b[0;32m    959\u001b[0m     error_class \u001b[39m=\u001b[39m \u001b[39mself\u001b[39m\u001b[39m.\u001b[39mexceptions\u001b[39m.\u001b[39mfrom_code(error_code)\n\u001b[1;32m--> 960\u001b[0m     \u001b[39mraise\u001b[39;00m error_class(parsed_response, operation_name)\n\u001b[0;32m    961\u001b[0m \u001b[39melse\u001b[39;00m:\n\u001b[0;32m    962\u001b[0m     \u001b[39mreturn\u001b[39;00m parsed_response\n",
      "\u001b[1;31mClientError\u001b[0m: An error occurred (AccessDenied) when calling the ListObjects operation: Access Denied"
     ]
    }
   ],
   "source": [
    "s3.list_objects(Bucket='sentinel-s2-l2a', Prefix='tiles/16/R/BV/2018/4/16/0/tileInfo.json')"
   ]
  },
  {
   "cell_type": "code",
   "execution_count": 49,
   "metadata": {},
   "outputs": [
    {
     "ename": "AttributeError",
     "evalue": "'dict' object has no attribute 'download_file'",
     "output_type": "error",
     "traceback": [
      "\u001b[1;31m---------------------------------------------------------------------------\u001b[0m",
      "\u001b[1;31mAttributeError\u001b[0m                            Traceback (most recent call last)",
      "Cell \u001b[1;32mIn[49], line 1\u001b[0m\n\u001b[1;32m----> 1\u001b[0m s3\u001b[39m.\u001b[39;49mget_object(Bucket\u001b[39m=\u001b[39;49m\u001b[39m'\u001b[39;49m\u001b[39msentinel-s2-l2a\u001b[39;49m\u001b[39m'\u001b[39;49m, Key\u001b[39m=\u001b[39;49m\u001b[39m'\u001b[39;49m\u001b[39mtiles/16/R/BV/2018/4/16/0/tileInfo.json\u001b[39;49m\u001b[39m'\u001b[39;49m, RequestPayer\u001b[39m=\u001b[39;49m\u001b[39m'\u001b[39;49m\u001b[39mrequester\u001b[39;49m\u001b[39m'\u001b[39;49m)\u001b[39m.\u001b[39;49mdownload_file(\u001b[39m'\u001b[39m\u001b[39mtileInfo.json\u001b[39m\u001b[39m'\u001b[39m)\n",
      "\u001b[1;31mAttributeError\u001b[0m: 'dict' object has no attribute 'download_file'"
     ]
    }
   ],
   "source": [
    "s3.get_object(Bucket='sentinel-s2-l2a', Key='tiles/16/R/BV/2018/4/16/0/tileInfo.json', RequestPayer='requester')"
   ]
  },
  {
   "cell_type": "code",
   "execution_count": null,
   "metadata": {},
   "outputs": [],
   "source": [
    "sentinel_bucket = s3.Bucket('sentinel-s2-l2a')"
   ]
  },
  {
   "cell_type": "code",
   "execution_count": 17,
   "metadata": {},
   "outputs": [],
   "source": [
    "# Print out bucket names\n",
    "for bucket in s3.buckets.all():\n",
    "    print(bucket.name)"
   ]
  },
  {
   "cell_type": "code",
   "execution_count": 22,
   "metadata": {},
   "outputs": [
    {
     "data": {
      "text/plain": [
       "'c:\\\\Users\\\\Fabian\\\\Documents\\\\Github_Masterthesis\\\\Solarpark-detection\\\\src\\\\download_sentinel_data\\\\notebooks'"
      ]
     },
     "execution_count": 22,
     "metadata": {},
     "output_type": "execute_result"
    }
   ],
   "source": [
    "os.getcwd()"
   ]
  },
  {
   "cell_type": "code",
   "execution_count": null,
   "metadata": {},
   "outputs": [],
   "source": []
  }
 ],
 "metadata": {
  "kernelspec": {
   "display_name": "solarpark-detection-vU_0sE1Z-py3.10",
   "language": "python",
   "name": "python3"
  },
  "language_info": {
   "codemirror_mode": {
    "name": "ipython",
    "version": 3
   },
   "file_extension": ".py",
   "mimetype": "text/x-python",
   "name": "python",
   "nbconvert_exporter": "python",
   "pygments_lexer": "ipython3",
   "version": "3.10.0"
  },
  "orig_nbformat": 4
 },
 "nbformat": 4,
 "nbformat_minor": 2
}

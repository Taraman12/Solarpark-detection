{
 "cells": [
  {
   "attachments": {},
   "cell_type": "markdown",
   "metadata": {},
   "source": [
    "### Download a training dataset from tiles and seasons"
   ]
  },
  {
   "attachments": {},
   "cell_type": "markdown",
   "metadata": {},
   "source": [
    "1. Create a dict of tiles and seasons\n",
    "2. Check which one are already downloaded\n",
    "3. Download the missing ones\n",
    "4. Add progress bar/indicator"
   ]
  },
  {
   "cell_type": "code",
   "execution_count": 1,
   "metadata": {},
   "outputs": [],
   "source": [
    "import re\n",
    "from pathlib import Path\n",
    "import geopandas as gpd\n",
    "from datetime import date, datetime\n",
    "from distutils.dir_util import copy_tree"
   ]
  },
  {
   "attachments": {},
   "cell_type": "markdown",
   "metadata": {},
   "source": [
    "#### 1. Create a dict of tiles and seasons"
   ]
  },
  {
   "cell_type": "code",
   "execution_count": 2,
   "metadata": {},
   "outputs": [],
   "source": [
    "title_regex = re.compile(r\"\"\"^(?P<mission>S2[A-B])_MSI\n",
    "                        (?P<product_level>L[1-2][A-C])_\n",
    "                        (?P<sensing_time>\\d{8}T\\d{6})_\n",
    "                        (?P<processing_baseline>N\\d{4})_\n",
    "                        (?P<relative_orbit>R\\d{3})_T\n",
    "                        (?P<utm_code>\\d{2})\n",
    "                        (?P<latitude_band>\\w{1})\n",
    "                        (?P<square>\\w{2})_\n",
    "                        (?P<year>\\d{4})\n",
    "                        (?P<month>\\d{2})\n",
    "                        (?P<day>\\d{2})T\n",
    "                        (?P<product_time>\\d{6})\"\"\",re.VERBOSE)"
   ]
  },
  {
   "cell_type": "code",
   "execution_count": 3,
   "metadata": {},
   "outputs": [],
   "source": [
    "PATH_IMAGES = Path(r\"C:\\Users\\Fabian\\Documents\\Masterarbeit_Daten\\Training_data_raw\")"
   ]
  },
  {
   "cell_type": "code",
   "execution_count": 7,
   "metadata": {},
   "outputs": [],
   "source": [
    "tiles_germany = gpd.read_file(\n",
    "    r\"../data/tiles_germany.geojson\"\n",
    ")"
   ]
  },
  {
   "cell_type": "code",
   "execution_count": 8,
   "metadata": {},
   "outputs": [
    {
     "data": {
      "text/plain": [
       "Index(['osm_id', 'tile_name', 'centroid_of_tile', 'geometry'], dtype='object')"
      ]
     },
     "execution_count": 8,
     "metadata": {},
     "output_type": "execute_result"
    }
   ],
   "source": [
    "tiles_germany.columns"
   ]
  },
  {
   "cell_type": "code",
   "execution_count": 9,
   "metadata": {},
   "outputs": [],
   "source": [
    "tile_names = set(tiles_germany.tile_name)"
   ]
  },
  {
   "cell_type": "code",
   "execution_count": 10,
   "metadata": {},
   "outputs": [],
   "source": [
    "downloaded_tiles = {}\n",
    "for tile_name in tile_names:\n",
    "    downloaded_tiles[tile_name] = {\"spring\": False, \"summer\": False, \"autumn\": False, \"winter\": False}"
   ]
  },
  {
   "cell_type": "code",
   "execution_count": null,
   "metadata": {},
   "outputs": [],
   "source": [
    "# season_start = {\n",
    "#     'winter':'2018-01-01',\n",
    "#     'spring':'2018-04-01',\n",
    "#     'summer':'2018-07-01',\n",
    "#     'autumn':'2018-10-01'\n",
    "# }\n",
    "\n",
    "# season_end = {\n",
    "#     'winter':'2018-03-31',\n",
    "#     'spring':'2018-06-30',\n",
    "#     'summer':'2018-09-30',\n",
    "#     'autumn':'2018-11-30'\n",
    "# }"
   ]
  },
  {
   "cell_type": "code",
   "execution_count": 11,
   "metadata": {},
   "outputs": [
    {
     "data": {
      "text/plain": [
       "{'31UGQ': {'spring': False, 'summer': False, 'autumn': False, 'winter': False},\n",
       " '32TMT': {'spring': False, 'summer': False, 'autumn': False, 'winter': False},\n",
       " '32UMA': {'spring': False, 'summer': False, 'autumn': False, 'winter': False},\n",
       " '33UUQ': {'spring': False, 'summer': False, 'autumn': False, 'winter': False},\n",
       " '32ULB': {'spring': False, 'summer': False, 'autumn': False, 'winter': False},\n",
       " '32UQC': {'spring': False, 'summer': False, 'autumn': False, 'winter': False},\n",
       " '32UQD': {'spring': False, 'summer': False, 'autumn': False, 'winter': False},\n",
       " '32UNU': {'spring': False, 'summer': False, 'autumn': False, 'winter': False},\n",
       " '32UMV': {'spring': False, 'summer': False, 'autumn': False, 'winter': False},\n",
       " '32UQV': {'spring': False, 'summer': False, 'autumn': False, 'winter': False},\n",
       " '32UME': {'spring': False, 'summer': False, 'autumn': False, 'winter': False},\n",
       " '32UPE': {'spring': False, 'summer': False, 'autumn': False, 'winter': False},\n",
       " '33UVT': {'spring': False, 'summer': False, 'autumn': False, 'winter': False},\n",
       " '32UNB': {'spring': False, 'summer': False, 'autumn': False, 'winter': False},\n",
       " '32UQA': {'spring': False, 'summer': False, 'autumn': False, 'winter': False},\n",
       " '33UVQ': {'spring': False, 'summer': False, 'autumn': False, 'winter': False},\n",
       " '33UVU': {'spring': False, 'summer': False, 'autumn': False, 'winter': False},\n",
       " '32UPF': {'spring': False, 'summer': False, 'autumn': False, 'winter': False},\n",
       " '32UQE': {'spring': False, 'summer': False, 'autumn': False, 'winter': False},\n",
       " '32UMD': {'spring': False, 'summer': False, 'autumn': False, 'winter': False},\n",
       " '32UPB': {'spring': False, 'summer': False, 'autumn': False, 'winter': False},\n",
       " '33UUV': {'spring': False, 'summer': False, 'autumn': False, 'winter': False},\n",
       " '33UUT': {'spring': False, 'summer': False, 'autumn': False, 'winter': False},\n",
       " '32UPV': {'spring': False, 'summer': False, 'autumn': False, 'winter': False},\n",
       " '32UPA': {'spring': False, 'summer': False, 'autumn': False, 'winter': False},\n",
       " '32TPT': {'spring': False, 'summer': False, 'autumn': False, 'winter': False},\n",
       " '32UPC': {'spring': False, 'summer': False, 'autumn': False, 'winter': False},\n",
       " '32UQU': {'spring': False, 'summer': False, 'autumn': False, 'winter': False},\n",
       " '31UGU': {'spring': False, 'summer': False, 'autumn': False, 'winter': False},\n",
       " '32UQB': {'spring': False, 'summer': False, 'autumn': False, 'winter': False},\n",
       " '31UGV': {'spring': False, 'summer': False, 'autumn': False, 'winter': False},\n",
       " '33UVS': {'spring': False, 'summer': False, 'autumn': False, 'winter': False},\n",
       " '31UGR': {'spring': False, 'summer': False, 'autumn': False, 'winter': False},\n",
       " '31UGT': {'spring': False, 'summer': False, 'autumn': False, 'winter': False},\n",
       " '32UPD': {'spring': False, 'summer': False, 'autumn': False, 'winter': False},\n",
       " '32UNF': {'spring': False, 'summer': False, 'autumn': False, 'winter': False},\n",
       " '32ULC': {'spring': False, 'summer': False, 'autumn': False, 'winter': False},\n",
       " '31UGS': {'spring': False, 'summer': False, 'autumn': False, 'winter': False},\n",
       " '32UPU': {'spring': False, 'summer': False, 'autumn': False, 'winter': False},\n",
       " '32ULA': {'spring': False, 'summer': False, 'autumn': False, 'winter': False},\n",
       " '33TUN': {'spring': False, 'summer': False, 'autumn': False, 'winter': False},\n",
       " '32UNA': {'spring': False, 'summer': False, 'autumn': False, 'winter': False},\n",
       " '32ULV': {'spring': False, 'summer': False, 'autumn': False, 'winter': False},\n",
       " '32TNT': {'spring': False, 'summer': False, 'autumn': False, 'winter': False},\n",
       " '32ULU': {'spring': False, 'summer': False, 'autumn': False, 'winter': False},\n",
       " '33UUA': {'spring': False, 'summer': False, 'autumn': False, 'winter': False},\n",
       " '33UVP': {'spring': False, 'summer': False, 'autumn': False, 'winter': False},\n",
       " '33UUP': {'spring': False, 'summer': False, 'autumn': False, 'winter': False},\n",
       " '32ULD': {'spring': False, 'summer': False, 'autumn': False, 'winter': False},\n",
       " '32UNV': {'spring': False, 'summer': False, 'autumn': False, 'winter': False},\n",
       " '32UMB': {'spring': False, 'summer': False, 'autumn': False, 'winter': False},\n",
       " '32UMC': {'spring': False, 'summer': False, 'autumn': False, 'winter': False},\n",
       " '32UND': {'spring': False, 'summer': False, 'autumn': False, 'winter': False},\n",
       " '32TLT': {'spring': False, 'summer': False, 'autumn': False, 'winter': False},\n",
       " '32UMU': {'spring': False, 'summer': False, 'autumn': False, 'winter': False},\n",
       " '33UVA': {'spring': False, 'summer': False, 'autumn': False, 'winter': False},\n",
       " '33UUR': {'spring': False, 'summer': False, 'autumn': False, 'winter': False},\n",
       " '32UNE': {'spring': False, 'summer': False, 'autumn': False, 'winter': False},\n",
       " '33UUU': {'spring': False, 'summer': False, 'autumn': False, 'winter': False},\n",
       " '32UMF': {'spring': False, 'summer': False, 'autumn': False, 'winter': False},\n",
       " '33UVV': {'spring': False, 'summer': False, 'autumn': False, 'winter': False},\n",
       " '32UNC': {'spring': False, 'summer': False, 'autumn': False, 'winter': False},\n",
       " '33UUS': {'spring': False, 'summer': False, 'autumn': False, 'winter': False}}"
      ]
     },
     "execution_count": 11,
     "metadata": {},
     "output_type": "execute_result"
    }
   ],
   "source": [
    "downloaded_tiles"
   ]
  },
  {
   "cell_type": "code",
   "execution_count": 12,
   "metadata": {},
   "outputs": [],
   "source": [
    "seasons_dict = {\"winter\":{'start_date':date(2018, 1, 1), 'end_date':date(2018, 3, 31)},\n",
    "                \"spring\":{'start_date':date(2018, 4, 1), 'end_date':date(2018, 6, 30)},\n",
    "                \"summer\":{'start_date':date(2018, 7, 1), 'end_date':date(2018, 9, 30)},\n",
    "                \"autumn\":{'start_date':date(2018, 10, 1), 'end_date':date(2018, 11, 30)}}"
   ]
  },
  {
   "cell_type": "code",
   "execution_count": 24,
   "metadata": {},
   "outputs": [
    {
     "name": "stdout",
     "output_type": "stream",
     "text": [
      "2018-01-01 - 2018-03-31\n",
      "2018-04-01 - 2018-06-30\n",
      "2018-07-01 - 2018-09-30\n",
      "2018-10-01 - 2018-11-30\n"
     ]
    }
   ],
   "source": [
    "for _, dates in enumerate(seasons_dict.items()):\n",
    "    start_date, end_date = dates[\"start_date\"], dates[\"end_date\"]\n",
    "    print(start_date, \"-\", end_date)"
   ]
  },
  {
   "cell_type": "code",
   "execution_count": 13,
   "metadata": {},
   "outputs": [
    {
     "data": {
      "text/plain": [
       "dict_keys(['winter', 'spring', 'summer', 'autumn'])"
      ]
     },
     "execution_count": 13,
     "metadata": {},
     "output_type": "execute_result"
    }
   ],
   "source": [
    "seasons_dict.keys()"
   ]
  },
  {
   "cell_type": "code",
   "execution_count": 14,
   "metadata": {},
   "outputs": [
    {
     "data": {
      "text/plain": [
       "[('31UGQ',\n",
       "  {'spring': False, 'summer': False, 'autumn': False, 'winter': False}),\n",
       " ('32TMT',\n",
       "  {'spring': False, 'summer': False, 'autumn': False, 'winter': False}),\n",
       " ('32UMA',\n",
       "  {'spring': False, 'summer': False, 'autumn': False, 'winter': False}),\n",
       " ('33UUQ',\n",
       "  {'spring': False, 'summer': False, 'autumn': False, 'winter': False}),\n",
       " ('32ULB',\n",
       "  {'spring': False, 'summer': False, 'autumn': False, 'winter': False})]"
      ]
     },
     "execution_count": 14,
     "metadata": {},
     "output_type": "execute_result"
    }
   ],
   "source": [
    "list(downloaded_tiles.items())[0:5]"
   ]
  },
  {
   "cell_type": "code",
   "execution_count": 16,
   "metadata": {},
   "outputs": [],
   "source": [
    "to_directory = r\"C:\\Users\\Fabian\\Documents\\Github_Masterthesis\\Solarpark-detection\\data_local\\training_data_raw\"\n",
    "for folder in PATH_IMAGES.iterdir():\n",
    "    regex_match = re.match(title_regex, folder.name)\n",
    "    if regex_match:\n",
    "            utm_code = regex_match.group(\"utm_code\")\n",
    "            latitude_band = regex_match.group(\"latitude_band\")\n",
    "            square = regex_match.group(\"square\")\n",
    "            year = int(regex_match.group(\"year\"))\n",
    "            month = int(regex_match.group(\"month\"))\n",
    "            day = int(regex_match.group(\"day\"))\n",
    "            \n",
    "            tile_name = f\"{utm_code}{latitude_band}{square}\"\n",
    "            product_date = date(year, month, day)\n",
    "            if tile_name in downloaded_tiles:\n",
    "                for season in seasons_dict.keys():\n",
    "                    start_date = seasons_dict[season]['start_date']\n",
    "                    end_date = seasons_dict[season]['end_date']\n",
    "                    if start_date <= product_date <= end_date:\n",
    "                        downloaded_tiles[tile_name][season] = True\n",
    "                        copy_tree(folder, f\"{to_directory}\\{folder.name}\")\n"
   ]
  },
  {
   "cell_type": "code",
   "execution_count": 78,
   "metadata": {},
   "outputs": [
    {
     "data": {
      "text/plain": [
       "dict_values([{'spring': False, 'summer': False, 'autumn': False, 'winter': False}, {'spring': False, 'summer': True, 'autumn': False, 'winter': False}, {'spring': True, 'summer': False, 'autumn': False, 'winter': False}, {'spring': False, 'summer': True, 'autumn': False, 'winter': False}, {'spring': False, 'summer': True, 'autumn': False, 'winter': False}, {'spring': False, 'summer': False, 'autumn': False, 'winter': False}, {'spring': False, 'summer': True, 'autumn': False, 'winter': False}, {'spring': False, 'summer': True, 'autumn': False, 'winter': False}, {'spring': False, 'summer': True, 'autumn': False, 'winter': False}, {'spring': False, 'summer': True, 'autumn': False, 'winter': False}, {'spring': True, 'summer': False, 'autumn': False, 'winter': False}, {'spring': False, 'summer': False, 'autumn': False, 'winter': False}, {'spring': False, 'summer': False, 'autumn': False, 'winter': False}, {'spring': False, 'summer': True, 'autumn': False, 'winter': False}, {'spring': False, 'summer': True, 'autumn': False, 'winter': False}, {'spring': False, 'summer': True, 'autumn': False, 'winter': False}, {'spring': False, 'summer': True, 'autumn': False, 'winter': False}, {'spring': False, 'summer': False, 'autumn': False, 'winter': False}, {'spring': False, 'summer': True, 'autumn': False, 'winter': False}, {'spring': False, 'summer': True, 'autumn': False, 'winter': False}, {'spring': False, 'summer': True, 'autumn': False, 'winter': False}, {'spring': False, 'summer': True, 'autumn': False, 'winter': False}, {'spring': False, 'summer': True, 'autumn': False, 'winter': False}, {'spring': False, 'summer': True, 'autumn': False, 'winter': False}, {'spring': False, 'summer': True, 'autumn': False, 'winter': False}, {'spring': False, 'summer': True, 'autumn': False, 'winter': False}, {'spring': False, 'summer': True, 'autumn': False, 'winter': False}, {'spring': True, 'summer': False, 'autumn': False, 'winter': False}, {'spring': False, 'summer': True, 'autumn': False, 'winter': False}, {'spring': False, 'summer': True, 'autumn': False, 'winter': False}, {'spring': False, 'summer': True, 'autumn': False, 'winter': False}, {'spring': False, 'summer': True, 'autumn': False, 'winter': False}, {'spring': False, 'summer': True, 'autumn': False, 'winter': False}, {'spring': False, 'summer': True, 'autumn': False, 'winter': False}, {'spring': False, 'summer': True, 'autumn': False, 'winter': False}, {'spring': False, 'summer': False, 'autumn': False, 'winter': False}, {'spring': False, 'summer': False, 'autumn': False, 'winter': False}, {'spring': False, 'summer': False, 'autumn': False, 'winter': False}, {'spring': False, 'summer': True, 'autumn': False, 'winter': False}, {'spring': False, 'summer': False, 'autumn': False, 'winter': False}, {'spring': True, 'summer': False, 'autumn': False, 'winter': False}, {'spring': False, 'summer': True, 'autumn': False, 'winter': False}, {'spring': False, 'summer': True, 'autumn': False, 'winter': False}, {'spring': True, 'summer': False, 'autumn': False, 'winter': False}, {'spring': False, 'summer': True, 'autumn': False, 'winter': False}, {'spring': False, 'summer': False, 'autumn': False, 'winter': False}, {'spring': False, 'summer': True, 'autumn': False, 'winter': False}, {'spring': False, 'summer': True, 'autumn': False, 'winter': False}, {'spring': False, 'summer': False, 'autumn': False, 'winter': False}, {'spring': False, 'summer': True, 'autumn': False, 'winter': False}, {'spring': False, 'summer': False, 'autumn': False, 'winter': False}, {'spring': False, 'summer': True, 'autumn': False, 'winter': False}, {'spring': False, 'summer': True, 'autumn': False, 'winter': False}, {'spring': False, 'summer': False, 'autumn': False, 'winter': False}, {'spring': False, 'summer': True, 'autumn': False, 'winter': False}, {'spring': False, 'summer': True, 'autumn': False, 'winter': False}, {'spring': False, 'summer': True, 'autumn': False, 'winter': False}, {'spring': False, 'summer': True, 'autumn': False, 'winter': False}, {'spring': True, 'summer': False, 'autumn': False, 'winter': False}, {'spring': True, 'summer': False, 'autumn': False, 'winter': False}, {'spring': False, 'summer': True, 'autumn': False, 'winter': False}, {'spring': False, 'summer': False, 'autumn': False, 'winter': False}, {'spring': False, 'summer': True, 'autumn': False, 'winter': False}])"
      ]
     },
     "execution_count": 78,
     "metadata": {},
     "output_type": "execute_result"
    }
   ],
   "source": [
    "downloaded_tiles.values()"
   ]
  },
  {
   "cell_type": "code",
   "execution_count": 71,
   "metadata": {},
   "outputs": [
    {
     "data": {
      "text/plain": [
       "dict_keys(['winter', 'spring', 'summer', 'autumn'])"
      ]
     },
     "execution_count": 71,
     "metadata": {},
     "output_type": "execute_result"
    }
   ],
   "source": [
    "seasons_dict['winter']['start_date']"
   ]
  },
  {
   "cell_type": "code",
   "execution_count": 79,
   "metadata": {},
   "outputs": [],
   "source": [
    "def count_true_values(d):\n",
    "    count = 0\n",
    "    for k, v in d.items():\n",
    "        if isinstance(v, bool):\n",
    "            if v:\n",
    "                count += 1\n",
    "        elif isinstance(v, dict):\n",
    "            count += count_true_values(v)\n",
    "        elif isinstance(v, list):\n",
    "            for item in v:\n",
    "                if isinstance(item, bool):\n",
    "                    if item:\n",
    "                        count += 1\n",
    "                elif isinstance(item, dict):\n",
    "                    count += count_true_values(item)\n",
    "    return count"
   ]
  },
  {
   "cell_type": "code",
   "execution_count": null,
   "metadata": {},
   "outputs": [],
   "source": []
  },
  {
   "cell_type": "code",
   "execution_count": 80,
   "metadata": {},
   "outputs": [
    {
     "name": "stdout",
     "output_type": "stream",
     "text": [
      "49\n"
     ]
    }
   ],
   "source": [
    "count = count_true_values(downloaded_tiles)\n",
    "print(count)"
   ]
  },
  {
   "cell_type": "code",
   "execution_count": null,
   "metadata": {},
   "outputs": [],
   "source": []
  }
 ],
 "metadata": {
  "kernelspec": {
   "display_name": "solarpark-detection-vU_0sE1Z-py3.10",
   "language": "python",
   "name": "python3"
  },
  "language_info": {
   "codemirror_mode": {
    "name": "ipython",
    "version": 3
   },
   "file_extension": ".py",
   "mimetype": "text/x-python",
   "name": "python",
   "nbconvert_exporter": "python",
   "pygments_lexer": "ipython3",
   "version": "3.10.0"
  },
  "orig_nbformat": 4
 },
 "nbformat": 4,
 "nbformat_minor": 2
}

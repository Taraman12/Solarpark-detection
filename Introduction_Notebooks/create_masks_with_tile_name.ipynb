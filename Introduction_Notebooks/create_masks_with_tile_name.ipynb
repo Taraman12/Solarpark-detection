{
 "cells": [
  {
   "attachments": {},
   "cell_type": "markdown",
   "metadata": {},
   "source": [
    "## For efficient masking add to each training polygon the tile name of the sentinel-2 tiles  "
   ]
  },
  {
   "attachments": {},
   "cell_type": "markdown",
   "metadata": {},
   "source": [
    "The sentinel missions map each tile every 5 days, the coordinates of each tile are fixed as well as the names  \n",
    "Each tile has the size of 110 $km^2$ x 110 $km^2$ with 10 km on each side as overlap to the enclosed tiles \n",
    "\n",
    "Download tiling grid polygons: https://sentinels.copernicus.eu/web/sentinel/missions/sentinel-2/data-products\n",
    "\n",
    "Download german border: http://www.diva-gis.org/gdata\n",
    " - Select Germany and Administrative areas\n",
    "   - DEU_adm1.shp contains the borders as polygons from each state\n",
    "   - DEU_adm2.shp contains the borders as polygons from each district"
   ]
  },
  {
   "cell_type": "code",
   "execution_count": 108,
   "metadata": {},
   "outputs": [],
   "source": [
    "import fiona\n",
    "import geopandas as gpd\n",
    "\n",
    "# to read a kml file into a geopandas dataframe, we need to activate the KML/kml driver in fiona (which is used in geopandas)\n",
    "# https://gis.stackexchange.com/questions/114066/handling-kml-csv-with-geopandas-drivererror-unsupported-driver-ucsv\n",
    "\n",
    "fiona.drvsupport.supported_drivers['kml'] = 'rw' # enable KML support which is disabled b\n",
    "fiona.drvsupport.supported_drivers['KML'] = 'rw' # enable KML support which is disabled by default\n",
    "tiles_grid = gpd.read_file(r'C:\\Users\\Fabian\\Downloads\\S2A_OPER_GIP_TILPAR_MPC__20151209T095117_V20150622T000000_21000101T000000_B00.kml')"
   ]
  },
  {
   "cell_type": "code",
   "execution_count": 109,
   "metadata": {},
   "outputs": [
    {
     "data": {
      "text/html": [
       "<div>\n",
       "<style scoped>\n",
       "    .dataframe tbody tr th:only-of-type {\n",
       "        vertical-align: middle;\n",
       "    }\n",
       "\n",
       "    .dataframe tbody tr th {\n",
       "        vertical-align: top;\n",
       "    }\n",
       "\n",
       "    .dataframe thead th {\n",
       "        text-align: right;\n",
       "    }\n",
       "</style>\n",
       "<table border=\"1\" class=\"dataframe\">\n",
       "  <thead>\n",
       "    <tr style=\"text-align: right;\">\n",
       "      <th></th>\n",
       "      <th>Name</th>\n",
       "      <th>Description</th>\n",
       "      <th>geometry</th>\n",
       "    </tr>\n",
       "  </thead>\n",
       "  <tbody>\n",
       "    <tr>\n",
       "      <th>0</th>\n",
       "      <td>01CCV</td>\n",
       "      <td>TILE PROPERTIES&lt;br&gt;&lt;table border=0 cellpadding...</td>\n",
       "      <td>GEOMETRYCOLLECTION Z (POLYGON Z ((180.00000 -7...</td>\n",
       "    </tr>\n",
       "    <tr>\n",
       "      <th>1</th>\n",
       "      <td>01CDH</td>\n",
       "      <td>TILE PROPERTIES&lt;br&gt;&lt;table border=0 cellpadding...</td>\n",
       "      <td>GEOMETRYCOLLECTION Z (POLYGON Z ((180.00000 -8...</td>\n",
       "    </tr>\n",
       "    <tr>\n",
       "      <th>2</th>\n",
       "      <td>01CDJ</td>\n",
       "      <td>TILE PROPERTIES&lt;br&gt;&lt;table border=0 cellpadding...</td>\n",
       "      <td>GEOMETRYCOLLECTION Z (POLYGON Z ((180.00000 -8...</td>\n",
       "    </tr>\n",
       "    <tr>\n",
       "      <th>3</th>\n",
       "      <td>01CDK</td>\n",
       "      <td>TILE PROPERTIES&lt;br&gt;&lt;table border=0 cellpadding...</td>\n",
       "      <td>GEOMETRYCOLLECTION Z (POLYGON Z ((180.00000 -8...</td>\n",
       "    </tr>\n",
       "    <tr>\n",
       "      <th>4</th>\n",
       "      <td>01CDL</td>\n",
       "      <td>TILE PROPERTIES&lt;br&gt;&lt;table border=0 cellpadding...</td>\n",
       "      <td>GEOMETRYCOLLECTION Z (POLYGON Z ((180.00000 -8...</td>\n",
       "    </tr>\n",
       "  </tbody>\n",
       "</table>\n",
       "</div>"
      ],
      "text/plain": [
       "    Name                                        Description  \\\n",
       "0  01CCV  TILE PROPERTIES<br><table border=0 cellpadding...   \n",
       "1  01CDH  TILE PROPERTIES<br><table border=0 cellpadding...   \n",
       "2  01CDJ  TILE PROPERTIES<br><table border=0 cellpadding...   \n",
       "3  01CDK  TILE PROPERTIES<br><table border=0 cellpadding...   \n",
       "4  01CDL  TILE PROPERTIES<br><table border=0 cellpadding...   \n",
       "\n",
       "                                            geometry  \n",
       "0  GEOMETRYCOLLECTION Z (POLYGON Z ((180.00000 -7...  \n",
       "1  GEOMETRYCOLLECTION Z (POLYGON Z ((180.00000 -8...  \n",
       "2  GEOMETRYCOLLECTION Z (POLYGON Z ((180.00000 -8...  \n",
       "3  GEOMETRYCOLLECTION Z (POLYGON Z ((180.00000 -8...  \n",
       "4  GEOMETRYCOLLECTION Z (POLYGON Z ((180.00000 -8...  "
      ]
     },
     "execution_count": 109,
     "metadata": {},
     "output_type": "execute_result"
    }
   ],
   "source": [
    "# Name is the name of the associated tile\n",
    "tiles_grid.head()"
   ]
  },
  {
   "cell_type": "code",
   "execution_count": 110,
   "metadata": {},
   "outputs": [
    {
     "name": "stderr",
     "output_type": "stream",
     "text": [
      "C:\\Users\\Fabian\\AppData\\Local\\Temp\\ipykernel_14756\\3242700319.py:4: UserWarning: Geometry is in a geographic CRS. Results from 'centroid' are likely incorrect. Use 'GeoSeries.to_crs()' to re-project geometries to a projected CRS before this operation.\n",
      "\n",
      "  tiles_grid['centroid_of_tile'] = tiles_grid.centroid.apply(lambda x: x.wkt)\n"
     ]
    }
   ],
   "source": [
    "# add centroid (center point of the tile), to use as footprint when query sentinel data\n",
    "# convert to wkt, else geopandas throw's an error when saving to file\n",
    "# https://stackoverflow.com/questions/63004400/getting-a-userwarning-when-calculating-centroid-of-a-geoseries/63038899#63038899 \n",
    "tiles_grid['centroid_of_tile'] = tiles_grid.centroid.apply(lambda x: x.wkt)"
   ]
  },
  {
   "cell_type": "code",
   "execution_count": 111,
   "metadata": {},
   "outputs": [
    {
     "data": {
      "text/html": [
       "<div>\n",
       "<style scoped>\n",
       "    .dataframe tbody tr th:only-of-type {\n",
       "        vertical-align: middle;\n",
       "    }\n",
       "\n",
       "    .dataframe tbody tr th {\n",
       "        vertical-align: top;\n",
       "    }\n",
       "\n",
       "    .dataframe thead th {\n",
       "        text-align: right;\n",
       "    }\n",
       "</style>\n",
       "<table border=\"1\" class=\"dataframe\">\n",
       "  <thead>\n",
       "    <tr style=\"text-align: right;\">\n",
       "      <th></th>\n",
       "      <th>ID_0</th>\n",
       "      <th>ISO</th>\n",
       "      <th>NAME_0</th>\n",
       "      <th>OBJECTID_1</th>\n",
       "      <th>ISO3</th>\n",
       "      <th>NAME_ENGLI</th>\n",
       "      <th>NAME_ISO</th>\n",
       "      <th>NAME_FAO</th>\n",
       "      <th>NAME_LOCAL</th>\n",
       "      <th>NAME_OBSOL</th>\n",
       "      <th>...</th>\n",
       "      <th>CARICOM</th>\n",
       "      <th>EU</th>\n",
       "      <th>CAN</th>\n",
       "      <th>ACP</th>\n",
       "      <th>Landlocked</th>\n",
       "      <th>AOSIS</th>\n",
       "      <th>SIDS</th>\n",
       "      <th>Islands</th>\n",
       "      <th>LDC</th>\n",
       "      <th>geometry</th>\n",
       "    </tr>\n",
       "  </thead>\n",
       "  <tbody>\n",
       "    <tr>\n",
       "      <th>0</th>\n",
       "      <td>86</td>\n",
       "      <td>DEU</td>\n",
       "      <td>Germany</td>\n",
       "      <td>62</td>\n",
       "      <td>DEU</td>\n",
       "      <td>Germany</td>\n",
       "      <td>GERMANY</td>\n",
       "      <td>Germany</td>\n",
       "      <td>Deutschland</td>\n",
       "      <td>NaN</td>\n",
       "      <td>...</td>\n",
       "      <td>0.0</td>\n",
       "      <td>1.0</td>\n",
       "      <td>0.0</td>\n",
       "      <td>0.0</td>\n",
       "      <td>0.0</td>\n",
       "      <td>0.0</td>\n",
       "      <td>0.0</td>\n",
       "      <td>0.0</td>\n",
       "      <td>0.0</td>\n",
       "      <td>MULTIPOLYGON (((8.70837 47.71556, 8.70918 47.7...</td>\n",
       "    </tr>\n",
       "  </tbody>\n",
       "</table>\n",
       "<p>1 rows × 71 columns</p>\n",
       "</div>"
      ],
      "text/plain": [
       "   ID_0  ISO   NAME_0  OBJECTID_1 ISO3 NAME_ENGLI NAME_ISO NAME_FAO  \\\n",
       "0    86  DEU  Germany          62  DEU    Germany  GERMANY  Germany   \n",
       "\n",
       "    NAME_LOCAL  NAME_OBSOL  ... CARICOM   EU  CAN  ACP Landlocked AOSIS SIDS  \\\n",
       "0  Deutschland         NaN  ...     0.0  1.0  0.0  0.0        0.0   0.0  0.0   \n",
       "\n",
       "   Islands  LDC                                           geometry  \n",
       "0      0.0  0.0  MULTIPOLYGON (((8.70837 47.71556, 8.70918 47.7...  \n",
       "\n",
       "[1 rows x 71 columns]"
      ]
     },
     "execution_count": 111,
     "metadata": {},
     "output_type": "execute_result"
    }
   ],
   "source": [
    "# read german border polygon to filter tiles_grid on it.\n",
    "# use DEU_adm1.shp and filter it on a certain state, to get the tiles for just one or more states of germany (same with DEU_adm2 on district level)\n",
    "germany_borders_path = r'C:\\Users\\Fabian\\Documents\\Masterarbeit_Daten\\DEU_adm\\DEU_adm0.shp'\n",
    "germany_borders = gpd.read_file(germany_borders_path)\n",
    "germany_borders.head()"
   ]
  },
  {
   "cell_type": "code",
   "execution_count": 112,
   "metadata": {},
   "outputs": [
    {
     "data": {
      "text/plain": [
       "(69, 4)"
      ]
     },
     "execution_count": 112,
     "metadata": {},
     "output_type": "execute_result"
    }
   ],
   "source": [
    "# get only tiles which cover germany \n",
    "# Note it should be only 67 so probably two tiles have are overlapping and not actually needed\n",
    "tiles_grid_germany = gpd.clip(tiles_grid, germany_borders)\n",
    "tiles_grid_germany.shape"
   ]
  },
  {
   "cell_type": "code",
   "execution_count": 113,
   "metadata": {},
   "outputs": [
    {
     "data": {
      "text/html": [
       "<div>\n",
       "<style scoped>\n",
       "    .dataframe tbody tr th:only-of-type {\n",
       "        vertical-align: middle;\n",
       "    }\n",
       "\n",
       "    .dataframe tbody tr th {\n",
       "        vertical-align: top;\n",
       "    }\n",
       "\n",
       "    .dataframe thead th {\n",
       "        text-align: right;\n",
       "    }\n",
       "</style>\n",
       "<table border=\"1\" class=\"dataframe\">\n",
       "  <thead>\n",
       "    <tr style=\"text-align: right;\">\n",
       "      <th></th>\n",
       "      <th>Name</th>\n",
       "      <th>Description</th>\n",
       "      <th>geometry</th>\n",
       "      <th>centroid_of_tile</th>\n",
       "    </tr>\n",
       "  </thead>\n",
       "  <tbody>\n",
       "    <tr>\n",
       "      <th>30185</th>\n",
       "      <td>32TLT</td>\n",
       "      <td>TILE PROPERTIES&lt;br&gt;&lt;table border=0 cellpadding...</td>\n",
       "      <td>POLYGON Z ((7.56263 47.84346 0.00000, 7.79435 ...</td>\n",
       "      <td>POINT (7.079043950618934 47.34283231653833)</td>\n",
       "    </tr>\n",
       "    <tr>\n",
       "      <th>30194</th>\n",
       "      <td>32TMT</td>\n",
       "      <td>TILE PROPERTIES&lt;br&gt;&lt;table border=0 cellpadding...</td>\n",
       "      <td>MULTIPOLYGON Z (((7.66287 47.84591 0.00000, 9....</td>\n",
       "      <td>POINT (8.402242584537571 47.35737320574876)</td>\n",
       "    </tr>\n",
       "    <tr>\n",
       "      <th>30229</th>\n",
       "      <td>32ULU</td>\n",
       "      <td>TILE PROPERTIES&lt;br&gt;&lt;table border=0 cellpadding...</td>\n",
       "      <td>POLYGON Z ((7.77894 48.49550 0.00000, 7.79640 ...</td>\n",
       "      <td>POINT (7.045611295839894 48.2416842867384)</td>\n",
       "    </tr>\n",
       "    <tr>\n",
       "      <th>30238</th>\n",
       "      <td>32UMU</td>\n",
       "      <td>TILE PROPERTIES&lt;br&gt;&lt;table border=0 cellpadding...</td>\n",
       "      <td>POLYGON Z ((7.96933 48.74674 0.00000, 9.13278 ...</td>\n",
       "      <td>POINT (8.391831875811269 48.256688005715716)</td>\n",
       "    </tr>\n",
       "    <tr>\n",
       "      <th>31159</th>\n",
       "      <td>33UVP</td>\n",
       "      <td>TILE PROPERTIES&lt;br&gt;&lt;table border=0 cellpadding...</td>\n",
       "      <td>POLYGON Z ((13.63918 48.74498 0.00000, 13.8144...</td>\n",
       "      <td>POINT (14.391831875811269 48.256688005715716)</td>\n",
       "    </tr>\n",
       "  </tbody>\n",
       "</table>\n",
       "</div>"
      ],
      "text/plain": [
       "        Name                                        Description  \\\n",
       "30185  32TLT  TILE PROPERTIES<br><table border=0 cellpadding...   \n",
       "30194  32TMT  TILE PROPERTIES<br><table border=0 cellpadding...   \n",
       "30229  32ULU  TILE PROPERTIES<br><table border=0 cellpadding...   \n",
       "30238  32UMU  TILE PROPERTIES<br><table border=0 cellpadding...   \n",
       "31159  33UVP  TILE PROPERTIES<br><table border=0 cellpadding...   \n",
       "\n",
       "                                                geometry  \\\n",
       "30185  POLYGON Z ((7.56263 47.84346 0.00000, 7.79435 ...   \n",
       "30194  MULTIPOLYGON Z (((7.66287 47.84591 0.00000, 9....   \n",
       "30229  POLYGON Z ((7.77894 48.49550 0.00000, 7.79640 ...   \n",
       "30238  POLYGON Z ((7.96933 48.74674 0.00000, 9.13278 ...   \n",
       "31159  POLYGON Z ((13.63918 48.74498 0.00000, 13.8144...   \n",
       "\n",
       "                                    centroid_of_tile  \n",
       "30185    POINT (7.079043950618934 47.34283231653833)  \n",
       "30194    POINT (8.402242584537571 47.35737320574876)  \n",
       "30229     POINT (7.045611295839894 48.2416842867384)  \n",
       "30238   POINT (8.391831875811269 48.256688005715716)  \n",
       "31159  POINT (14.391831875811269 48.256688005715716)  "
      ]
     },
     "execution_count": 113,
     "metadata": {},
     "output_type": "execute_result"
    }
   ],
   "source": [
    "tiles_grid_germany.head()"
   ]
  },
  {
   "cell_type": "code",
   "execution_count": 114,
   "metadata": {},
   "outputs": [],
   "source": [
    "tiles_grid_germany.to_file('tiles_grid_germany_centroid.geojson', driver='GeoJSON')"
   ]
  },
  {
   "cell_type": "code",
   "execution_count": 115,
   "metadata": {},
   "outputs": [],
   "source": [
    "# map tile names on training polygons\n",
    "trn_polygons_path = r'C:\\Users\\Fabian\\OneDrive - Universität Würzburg\\Uni Würzburg\\Master\\Masterthesis\\Code\\Einarbeitung\\trn_polygons.geojson'\n",
    "trn_polygons = gpd.read_file(trn_polygons_path)"
   ]
  },
  {
   "cell_type": "code",
   "execution_count": 116,
   "metadata": {},
   "outputs": [],
   "source": [
    "# filter training polygons which lies within the borders of germany\n",
    "trn_polygons_germany = gpd.clip(trn_polygons, germany_borders)"
   ]
  },
  {
   "cell_type": "code",
   "execution_count": 117,
   "metadata": {},
   "outputs": [
    {
     "data": {
      "text/plain": [
       "(24233, 37)"
      ]
     },
     "execution_count": 117,
     "metadata": {},
     "output_type": "execute_result"
    }
   ],
   "source": [
    "trn_polygons_germany.shape"
   ]
  },
  {
   "cell_type": "code",
   "execution_count": 118,
   "metadata": {},
   "outputs": [],
   "source": [
    "# map the polygons (=solar plants) on the name of the associated tile where the polygon lies within\n",
    "# so later we can look them up by just look for the tile name instead to filter the dataframe on the geometry again (to speed up the process)\n",
    "trn_polygons_germany_tiles = gpd.sjoin(trn_polygons_germany, tiles_grid_germany, predicate='intersects')"
   ]
  },
  {
   "cell_type": "code",
   "execution_count": 119,
   "metadata": {},
   "outputs": [
    {
     "data": {
      "text/plain": [
       "64"
      ]
     },
     "execution_count": 119,
     "metadata": {},
     "output_type": "execute_result"
    }
   ],
   "source": [
    "# check how many tiles are needed for the training on all polygons in germany\n",
    "len(set(trn_polygons_germany_tiles.Name))"
   ]
  },
  {
   "cell_type": "code",
   "execution_count": 120,
   "metadata": {},
   "outputs": [
    {
     "data": {
      "text/plain": [
       "Country                                                           NaN\n",
       "Province                                                          NaN\n",
       "Project                                                           NaN\n",
       "WRI_ref                                                           NaN\n",
       "Polygon Source                                                    NaN\n",
       "Date                                                              NaT\n",
       "building                                                          NaN\n",
       "operator                                                          NaN\n",
       "generator_source                                                solar\n",
       "amenity                                                           NaN\n",
       "landuse                                                           NaN\n",
       "power_source                                                      NaN\n",
       "shop                                                              NaN\n",
       "sport                                                             NaN\n",
       "tourism                                                           NaN\n",
       "way_area                                                      455.967\n",
       "access                                                            NaN\n",
       "construction                                                      NaN\n",
       "denomination                                                      NaN\n",
       "historic                                                          NaN\n",
       "leisure                                                           NaN\n",
       "man_made                                                          NaN\n",
       "natural                                                           NaN\n",
       "ref                                                               NaN\n",
       "religion                                                          NaN\n",
       "surface                                                           NaN\n",
       "z_order                                                           NaN\n",
       "layer                                                             NaN\n",
       "name                                                              NaN\n",
       "barrier                                                           NaN\n",
       "addr_housenumber                                                  NaN\n",
       "office                                                            NaN\n",
       "power                                                       generator\n",
       "area                                                              NaN\n",
       "osm_id                                                    483534385.0\n",
       "military                                                          NaN\n",
       "geometry            POLYGON ((13.885977549705093 50.89644259916344...\n",
       "index_right                                                     31162\n",
       "Name                                                            33UVS\n",
       "Description         TILE PROPERTIES<br><table border=0 cellpadding...\n",
       "centroid_of_tile         POINT (14.357301607280887 50.95484948446869)\n",
       "Name: 28649, dtype: object"
      ]
     },
     "execution_count": 120,
     "metadata": {},
     "output_type": "execute_result"
    }
   ],
   "source": [
    "# check for needed data to safe some space on disk\n",
    "trn_polygons_germany_tiles.iloc[0,:]"
   ]
  },
  {
   "cell_type": "code",
   "execution_count": 121,
   "metadata": {},
   "outputs": [
    {
     "data": {
      "text/html": [
       "<div>\n",
       "<style scoped>\n",
       "    .dataframe tbody tr th:only-of-type {\n",
       "        vertical-align: middle;\n",
       "    }\n",
       "\n",
       "    .dataframe tbody tr th {\n",
       "        vertical-align: top;\n",
       "    }\n",
       "\n",
       "    .dataframe thead th {\n",
       "        text-align: right;\n",
       "    }\n",
       "</style>\n",
       "<table border=\"1\" class=\"dataframe\">\n",
       "  <thead>\n",
       "    <tr style=\"text-align: right;\">\n",
       "      <th></th>\n",
       "      <th>osm_id</th>\n",
       "      <th>Name</th>\n",
       "      <th>geometry</th>\n",
       "      <th>centroid_of_tile</th>\n",
       "    </tr>\n",
       "  </thead>\n",
       "  <tbody>\n",
       "    <tr>\n",
       "      <th>0</th>\n",
       "      <td>483534385.0</td>\n",
       "      <td>33UVS</td>\n",
       "      <td>POLYGON ((13.88598 50.89644, 13.88598 50.89642...</td>\n",
       "      <td>POINT (14.357301607280887 50.95484948446869)</td>\n",
       "    </tr>\n",
       "    <tr>\n",
       "      <th>1</th>\n",
       "      <td>483534393.0</td>\n",
       "      <td>33UVS</td>\n",
       "      <td>POLYGON ((13.88548 50.89585, 13.88548 50.89582...</td>\n",
       "      <td>POINT (14.357301607280887 50.95484948446869)</td>\n",
       "    </tr>\n",
       "    <tr>\n",
       "      <th>2</th>\n",
       "      <td>483534394.0</td>\n",
       "      <td>33UVS</td>\n",
       "      <td>POLYGON ((13.88554 50.89592, 13.88554 50.89590...</td>\n",
       "      <td>POINT (14.357301607280887 50.95484948446869)</td>\n",
       "    </tr>\n",
       "    <tr>\n",
       "      <th>3</th>\n",
       "      <td>483534395.0</td>\n",
       "      <td>33UVS</td>\n",
       "      <td>POLYGON ((13.88560 50.89600, 13.88561 50.89598...</td>\n",
       "      <td>POINT (14.357301607280887 50.95484948446869)</td>\n",
       "    </tr>\n",
       "    <tr>\n",
       "      <th>4</th>\n",
       "      <td>483534396.0</td>\n",
       "      <td>33UVS</td>\n",
       "      <td>POLYGON ((13.88567 50.89607, 13.88567 50.89605...</td>\n",
       "      <td>POINT (14.357301607280887 50.95484948446869)</td>\n",
       "    </tr>\n",
       "    <tr>\n",
       "      <th>...</th>\n",
       "      <td>...</td>\n",
       "      <td>...</td>\n",
       "      <td>...</td>\n",
       "      <td>...</td>\n",
       "    </tr>\n",
       "    <tr>\n",
       "      <th>32948</th>\n",
       "      <td>226335168.0</td>\n",
       "      <td>33UUA</td>\n",
       "      <td>POLYGON ((13.30152 54.47148, 13.30245 54.47116...</td>\n",
       "      <td>POINT (12.757434761701774 54.531811179790914)</td>\n",
       "    </tr>\n",
       "    <tr>\n",
       "      <th>32949</th>\n",
       "      <td>226315509.0</td>\n",
       "      <td>33UUA</td>\n",
       "      <td>POLYGON ((13.29566 54.47219, 13.29899 54.47156...</td>\n",
       "      <td>POINT (12.757434761701774 54.531811179790914)</td>\n",
       "    </tr>\n",
       "    <tr>\n",
       "      <th>32950</th>\n",
       "      <td>181394364.0</td>\n",
       "      <td>33UUA</td>\n",
       "      <td>POLYGON ((13.31349 54.54894, 13.31438 54.54878...</td>\n",
       "      <td>POINT (12.757434761701774 54.531811179790914)</td>\n",
       "    </tr>\n",
       "    <tr>\n",
       "      <th>32951</th>\n",
       "      <td>179338993.0</td>\n",
       "      <td>33UUA</td>\n",
       "      <td>POLYGON ((12.01570 54.17296, 12.01600 54.17329...</td>\n",
       "      <td>POINT (12.757434761701774 54.531811179790914)</td>\n",
       "    </tr>\n",
       "    <tr>\n",
       "      <th>32952</th>\n",
       "      <td>85572355.0</td>\n",
       "      <td>33UVA</td>\n",
       "      <td>POLYGON ((13.68207 54.14541, 13.68204 54.14545...</td>\n",
       "      <td>POINT (14.302079375769404 54.550588585973074)</td>\n",
       "    </tr>\n",
       "  </tbody>\n",
       "</table>\n",
       "<p>32953 rows × 4 columns</p>\n",
       "</div>"
      ],
      "text/plain": [
       "            osm_id   Name                                           geometry  \\\n",
       "0      483534385.0  33UVS  POLYGON ((13.88598 50.89644, 13.88598 50.89642...   \n",
       "1      483534393.0  33UVS  POLYGON ((13.88548 50.89585, 13.88548 50.89582...   \n",
       "2      483534394.0  33UVS  POLYGON ((13.88554 50.89592, 13.88554 50.89590...   \n",
       "3      483534395.0  33UVS  POLYGON ((13.88560 50.89600, 13.88561 50.89598...   \n",
       "4      483534396.0  33UVS  POLYGON ((13.88567 50.89607, 13.88567 50.89605...   \n",
       "...            ...    ...                                                ...   \n",
       "32948  226335168.0  33UUA  POLYGON ((13.30152 54.47148, 13.30245 54.47116...   \n",
       "32949  226315509.0  33UUA  POLYGON ((13.29566 54.47219, 13.29899 54.47156...   \n",
       "32950  181394364.0  33UUA  POLYGON ((13.31349 54.54894, 13.31438 54.54878...   \n",
       "32951  179338993.0  33UUA  POLYGON ((12.01570 54.17296, 12.01600 54.17329...   \n",
       "32952   85572355.0  33UVA  POLYGON ((13.68207 54.14541, 13.68204 54.14545...   \n",
       "\n",
       "                                    centroid_of_tile  \n",
       "0       POINT (14.357301607280887 50.95484948446869)  \n",
       "1       POINT (14.357301607280887 50.95484948446869)  \n",
       "2       POINT (14.357301607280887 50.95484948446869)  \n",
       "3       POINT (14.357301607280887 50.95484948446869)  \n",
       "4       POINT (14.357301607280887 50.95484948446869)  \n",
       "...                                              ...  \n",
       "32948  POINT (12.757434761701774 54.531811179790914)  \n",
       "32949  POINT (12.757434761701774 54.531811179790914)  \n",
       "32950  POINT (12.757434761701774 54.531811179790914)  \n",
       "32951  POINT (12.757434761701774 54.531811179790914)  \n",
       "32952  POINT (14.302079375769404 54.550588585973074)  \n",
       "\n",
       "[32953 rows x 4 columns]"
      ]
     },
     "execution_count": 121,
     "metadata": {},
     "output_type": "execute_result"
    }
   ],
   "source": [
    "# select only needed columns \n",
    "selected_trn_polygons_germany_tiles = gpd.GeoDataFrame(trn_polygons_germany_tiles[['osm_id','Name', 'geometry', 'centroid_of_tile']], crs=trn_polygons_germany_tiles.crs, geometry=trn_polygons_germany_tiles.geometry).reset_index(drop=True)\n",
    "selected_trn_polygons_germany_tiles"
   ]
  },
  {
   "cell_type": "code",
   "execution_count": 122,
   "metadata": {},
   "outputs": [],
   "source": [
    "# save it to geojson (needs more space on disk)\n",
    "selected_trn_polygons_germany_tiles.to_file('trn_polygons_germany_tiles.geojson', driver='GeoJSON')"
   ]
  },
  {
   "cell_type": "code",
   "execution_count": 124,
   "metadata": {},
   "outputs": [
    {
     "name": "stderr",
     "output_type": "stream",
     "text": [
      "C:\\Users\\Fabian\\AppData\\Local\\Temp\\ipykernel_14756\\2106026771.py:2: UserWarning: Column names longer than 10 characters will be truncated when saved to ESRI Shapefile.\n",
      "  selected_trn_polygons_germany_tiles.to_file('trn_polygons_germany_tiles.shp')\n"
     ]
    }
   ],
   "source": [
    "# save it as .shp file (needs less space)\n",
    "selected_trn_polygons_germany_tiles.to_file('trn_polygons_germany_tiles.shp')"
   ]
  },
  {
   "attachments": {},
   "cell_type": "markdown",
   "metadata": {},
   "source": [
    "### The saved file is used for masking the satellite images in the dataset"
   ]
  }
 ],
 "metadata": {
  "kernelspec": {
   "display_name": "Python 3",
   "language": "python",
   "name": "python3"
  },
  "language_info": {
   "codemirror_mode": {
    "name": "ipython",
    "version": 3
   },
   "file_extension": ".py",
   "mimetype": "text/x-python",
   "name": "python",
   "nbconvert_exporter": "python",
   "pygments_lexer": "ipython3",
   "version": "3.10.0"
  },
  "orig_nbformat": 4,
  "vscode": {
   "interpreter": {
    "hash": "31f2aee4e71d21fbe5cf8b01ff0e069b9275f58929596ceb00d14d90e3e16cd6"
   }
  }
 },
 "nbformat": 4,
 "nbformat_minor": 2
}

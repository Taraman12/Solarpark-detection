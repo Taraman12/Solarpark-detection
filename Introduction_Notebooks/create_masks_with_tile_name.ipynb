{
 "cells": [
  {
   "attachments": {},
   "cell_type": "markdown",
   "metadata": {},
   "source": [
    "## For efficient masking add to each training polygon the tile name of the sentinel-2 tiles  "
   ]
  },
  {
   "attachments": {},
   "cell_type": "markdown",
   "metadata": {},
   "source": [
    "The sentinel missions map each tile every 5 days, the coordinates of each tile are fixed as well as the names  \n",
    "Each tile has the size of 110 $km^2$ x 110 $km^2$ with 10 km on each side as overlap to the enclosed tiles \n",
    "\n",
    "Download tiling grid polygons: https://sentinels.copernicus.eu/web/sentinel/missions/sentinel-2/data-products\n",
    "\n",
    "Download german border: http://www.diva-gis.org/gdata\n",
    " - Select Germany and Administrative areas\n",
    "   - DEU_adm1.shp contains the borders as polygons from each state\n",
    "   - DEU_adm2.shp contains the borders as polygons from each district\n",
    "\n",
    "Task:\n",
    "1. Open trn_polygons + file with coordinates of the german borders and clip them to the borders\n",
    "2. Open file with tile names + coordinates and add centroid coordinates\n",
    "3. Add tile name to each training polygon and drop unnecessary columns\n",
    "4. Save training polygons with tile name as geojson in ../src/preprocess_data_to_disk/data/training_polygons_germany.geojson\n",
    "5. Save each tile with centroid from training polygons to ../src/download_sentinel_data/data/tiles_germany.geojson to use it for downloading the data"
   ]
  },
  {
   "cell_type": "code",
   "execution_count": 1,
   "metadata": {},
   "outputs": [],
   "source": [
    "import fiona\n",
    "import geopandas as gpd"
   ]
  },
  {
   "attachments": {},
   "cell_type": "markdown",
   "metadata": {},
   "source": [
    "### 1. Open trn_polygons + file with coordinates of the german borders and clip them to the borders"
   ]
  },
  {
   "cell_type": "code",
   "execution_count": 4,
   "metadata": {},
   "outputs": [
    {
     "data": {
      "text/html": [
       "<div>\n",
       "<style scoped>\n",
       "    .dataframe tbody tr th:only-of-type {\n",
       "        vertical-align: middle;\n",
       "    }\n",
       "\n",
       "    .dataframe tbody tr th {\n",
       "        vertical-align: top;\n",
       "    }\n",
       "\n",
       "    .dataframe thead th {\n",
       "        text-align: right;\n",
       "    }\n",
       "</style>\n",
       "<table border=\"1\" class=\"dataframe\">\n",
       "  <thead>\n",
       "    <tr style=\"text-align: right;\">\n",
       "      <th></th>\n",
       "      <th>Country</th>\n",
       "      <th>Province</th>\n",
       "      <th>Project</th>\n",
       "      <th>WRI_ref</th>\n",
       "      <th>Polygon Source</th>\n",
       "      <th>Date</th>\n",
       "      <th>building</th>\n",
       "      <th>operator</th>\n",
       "      <th>generator_source</th>\n",
       "      <th>amenity</th>\n",
       "      <th>...</th>\n",
       "      <th>layer</th>\n",
       "      <th>name</th>\n",
       "      <th>barrier</th>\n",
       "      <th>addr_housenumber</th>\n",
       "      <th>office</th>\n",
       "      <th>power</th>\n",
       "      <th>area</th>\n",
       "      <th>osm_id</th>\n",
       "      <th>military</th>\n",
       "      <th>geometry</th>\n",
       "    </tr>\n",
       "  </thead>\n",
       "  <tbody>\n",
       "    <tr>\n",
       "      <th>0</th>\n",
       "      <td>China</td>\n",
       "      <td>Anhui</td>\n",
       "      <td>Chaohu A</td>\n",
       "      <td>nan</td>\n",
       "      <td>Satellite shows</td>\n",
       "      <td>2017-10-02 10:16:12</td>\n",
       "      <td>NaN</td>\n",
       "      <td>NaN</td>\n",
       "      <td>NaN</td>\n",
       "      <td>NaN</td>\n",
       "      <td>...</td>\n",
       "      <td>NaN</td>\n",
       "      <td>NaN</td>\n",
       "      <td>NaN</td>\n",
       "      <td>NaN</td>\n",
       "      <td>NaN</td>\n",
       "      <td>NaN</td>\n",
       "      <td>NaN</td>\n",
       "      <td>NaN</td>\n",
       "      <td>NaN</td>\n",
       "      <td>POLYGON ((117.59245 31.31579, 117.59229 31.315...</td>\n",
       "    </tr>\n",
       "    <tr>\n",
       "      <th>1</th>\n",
       "      <td>China</td>\n",
       "      <td>Anhui</td>\n",
       "      <td>Chaohu A</td>\n",
       "      <td>nan</td>\n",
       "      <td>Satellite shows</td>\n",
       "      <td>2017-10-02 10:16:12</td>\n",
       "      <td>NaN</td>\n",
       "      <td>NaN</td>\n",
       "      <td>NaN</td>\n",
       "      <td>NaN</td>\n",
       "      <td>...</td>\n",
       "      <td>NaN</td>\n",
       "      <td>NaN</td>\n",
       "      <td>NaN</td>\n",
       "      <td>NaN</td>\n",
       "      <td>NaN</td>\n",
       "      <td>NaN</td>\n",
       "      <td>NaN</td>\n",
       "      <td>NaN</td>\n",
       "      <td>NaN</td>\n",
       "      <td>POLYGON ((117.58517 31.31303, 117.58733 31.313...</td>\n",
       "    </tr>\n",
       "    <tr>\n",
       "      <th>2</th>\n",
       "      <td>China</td>\n",
       "      <td>Anhui</td>\n",
       "      <td>Chaohu A</td>\n",
       "      <td>nan</td>\n",
       "      <td>Satellite shows</td>\n",
       "      <td>2017-10-02 10:16:12</td>\n",
       "      <td>NaN</td>\n",
       "      <td>NaN</td>\n",
       "      <td>NaN</td>\n",
       "      <td>NaN</td>\n",
       "      <td>...</td>\n",
       "      <td>NaN</td>\n",
       "      <td>NaN</td>\n",
       "      <td>NaN</td>\n",
       "      <td>NaN</td>\n",
       "      <td>NaN</td>\n",
       "      <td>NaN</td>\n",
       "      <td>NaN</td>\n",
       "      <td>NaN</td>\n",
       "      <td>NaN</td>\n",
       "      <td>POLYGON ((117.59129 31.31898, 117.59261 31.319...</td>\n",
       "    </tr>\n",
       "  </tbody>\n",
       "</table>\n",
       "<p>3 rows × 37 columns</p>\n",
       "</div>"
      ],
      "text/plain": [
       "  Country Province   Project WRI_ref   Polygon Source                Date  \\\n",
       "0   China    Anhui  Chaohu A     nan  Satellite shows 2017-10-02 10:16:12   \n",
       "1   China    Anhui  Chaohu A     nan  Satellite shows 2017-10-02 10:16:12   \n",
       "2   China    Anhui  Chaohu A     nan  Satellite shows 2017-10-02 10:16:12   \n",
       "\n",
       "  building operator generator_source amenity  ... layer name barrier  \\\n",
       "0      NaN      NaN              NaN     NaN  ...   NaN  NaN     NaN   \n",
       "1      NaN      NaN              NaN     NaN  ...   NaN  NaN     NaN   \n",
       "2      NaN      NaN              NaN     NaN  ...   NaN  NaN     NaN   \n",
       "\n",
       "  addr_housenumber office  power area osm_id military  \\\n",
       "0              NaN    NaN    NaN  NaN    NaN      NaN   \n",
       "1              NaN    NaN    NaN  NaN    NaN      NaN   \n",
       "2              NaN    NaN    NaN  NaN    NaN      NaN   \n",
       "\n",
       "                                            geometry  \n",
       "0  POLYGON ((117.59245 31.31579, 117.59229 31.315...  \n",
       "1  POLYGON ((117.58517 31.31303, 117.58733 31.313...  \n",
       "2  POLYGON ((117.59129 31.31898, 117.59261 31.319...  \n",
       "\n",
       "[3 rows x 37 columns]"
      ]
     },
     "execution_count": 4,
     "metadata": {},
     "output_type": "execute_result"
    }
   ],
   "source": [
    "trn_polygons_path = r'../raw_data/trn_polygons.geojson'\n",
    "trn_polygons = gpd.read_file(trn_polygons_path)\n",
    "trn_polygons.head(3)"
   ]
  },
  {
   "cell_type": "code",
   "execution_count": 8,
   "metadata": {},
   "outputs": [
    {
     "data": {
      "text/plain": [
       "(36882, 37)"
      ]
     },
     "execution_count": 8,
     "metadata": {},
     "output_type": "execute_result"
    }
   ],
   "source": [
    "trn_polygons.shape"
   ]
  },
  {
   "cell_type": "code",
   "execution_count": 7,
   "metadata": {},
   "outputs": [
    {
     "data": {
      "text/html": [
       "<div>\n",
       "<style scoped>\n",
       "    .dataframe tbody tr th:only-of-type {\n",
       "        vertical-align: middle;\n",
       "    }\n",
       "\n",
       "    .dataframe tbody tr th {\n",
       "        vertical-align: top;\n",
       "    }\n",
       "\n",
       "    .dataframe thead th {\n",
       "        text-align: right;\n",
       "    }\n",
       "</style>\n",
       "<table border=\"1\" class=\"dataframe\">\n",
       "  <thead>\n",
       "    <tr style=\"text-align: right;\">\n",
       "      <th></th>\n",
       "      <th>ID_0</th>\n",
       "      <th>ISO</th>\n",
       "      <th>NAME_0</th>\n",
       "      <th>OBJECTID_1</th>\n",
       "      <th>ISO3</th>\n",
       "      <th>NAME_ENGLI</th>\n",
       "      <th>NAME_ISO</th>\n",
       "      <th>NAME_FAO</th>\n",
       "      <th>NAME_LOCAL</th>\n",
       "      <th>NAME_OBSOL</th>\n",
       "      <th>...</th>\n",
       "      <th>CARICOM</th>\n",
       "      <th>EU</th>\n",
       "      <th>CAN</th>\n",
       "      <th>ACP</th>\n",
       "      <th>Landlocked</th>\n",
       "      <th>AOSIS</th>\n",
       "      <th>SIDS</th>\n",
       "      <th>Islands</th>\n",
       "      <th>LDC</th>\n",
       "      <th>geometry</th>\n",
       "    </tr>\n",
       "  </thead>\n",
       "  <tbody>\n",
       "    <tr>\n",
       "      <th>0</th>\n",
       "      <td>86</td>\n",
       "      <td>DEU</td>\n",
       "      <td>Germany</td>\n",
       "      <td>62</td>\n",
       "      <td>DEU</td>\n",
       "      <td>Germany</td>\n",
       "      <td>GERMANY</td>\n",
       "      <td>Germany</td>\n",
       "      <td>Deutschland</td>\n",
       "      <td>NaN</td>\n",
       "      <td>...</td>\n",
       "      <td>0.0</td>\n",
       "      <td>1.0</td>\n",
       "      <td>0.0</td>\n",
       "      <td>0.0</td>\n",
       "      <td>0.0</td>\n",
       "      <td>0.0</td>\n",
       "      <td>0.0</td>\n",
       "      <td>0.0</td>\n",
       "      <td>0.0</td>\n",
       "      <td>MULTIPOLYGON (((8.70837 47.71556, 8.70918 47.7...</td>\n",
       "    </tr>\n",
       "  </tbody>\n",
       "</table>\n",
       "<p>1 rows × 71 columns</p>\n",
       "</div>"
      ],
      "text/plain": [
       "   ID_0  ISO   NAME_0  OBJECTID_1 ISO3 NAME_ENGLI NAME_ISO NAME_FAO  \\\n",
       "0    86  DEU  Germany          62  DEU    Germany  GERMANY  Germany   \n",
       "\n",
       "    NAME_LOCAL  NAME_OBSOL  ... CARICOM   EU  CAN  ACP Landlocked AOSIS SIDS  \\\n",
       "0  Deutschland         NaN  ...     0.0  1.0  0.0  0.0        0.0   0.0  0.0   \n",
       "\n",
       "   Islands  LDC                                           geometry  \n",
       "0      0.0  0.0  MULTIPOLYGON (((8.70837 47.71556, 8.70918 47.7...  \n",
       "\n",
       "[1 rows x 71 columns]"
      ]
     },
     "execution_count": 7,
     "metadata": {},
     "output_type": "execute_result"
    }
   ],
   "source": [
    "# read german border polygon to filter trn_polygons on it.\n",
    "# use DEU_adm1.shp and filter it on a certain state, to get the tiles for just one or more states of germany (same with DEU_adm2 on district level)\n",
    "germany_borders_path = r'../raw_data/DEU_adm/DEU_adm0.shp'\n",
    "germany_borders = gpd.read_file(germany_borders_path)\n",
    "germany_borders.head()"
   ]
  },
  {
   "cell_type": "code",
   "execution_count": 9,
   "metadata": {},
   "outputs": [
    {
     "data": {
      "text/plain": [
       "(24233, 37)"
      ]
     },
     "execution_count": 9,
     "metadata": {},
     "output_type": "execute_result"
    }
   ],
   "source": [
    "# get only polygons which covers germany\n",
    "# Takes a while to run \n",
    "trn_polygons_germany = gpd.clip(trn_polygons, germany_borders)\n",
    "trn_polygons_germany.shape"
   ]
  },
  {
   "cell_type": "code",
   "execution_count": 51,
   "metadata": {},
   "outputs": [
    {
     "data": {
      "text/plain": [
       "(23222, 37)"
      ]
     },
     "execution_count": 51,
     "metadata": {},
     "output_type": "execute_result"
    }
   ],
   "source": [
    "# drop duplicates which are caused by clipping\n",
    "trn_polygons_germany.drop_duplicates(subset='geometry', inplace=True)\n",
    "trn_polygons_germany.shape"
   ]
  },
  {
   "attachments": {},
   "cell_type": "markdown",
   "metadata": {},
   "source": [
    "### 2. Open file with tile names + coordinates and add centroid coordinates"
   ]
  },
  {
   "cell_type": "code",
   "execution_count": 34,
   "metadata": {},
   "outputs": [],
   "source": [
    "# to read a kml file into a geopandas dataframe, we need to activate the KML/kml driver in fiona (which is the underlying engine in geopandas)\n",
    "# https://gis.stackexchange.com/questions/114066/handling-kml-csv-with-geopandas-drivererror-unsupported-driver-ucsv\n",
    "\n",
    "fiona.drvsupport.supported_drivers['kml'] = 'rw' # enable kml support which is disabled by default\n",
    "fiona.drvsupport.supported_drivers['KML'] = 'rw' # enable KML support which is disabled by default\n",
    "tiles_grid = gpd.read_file(r'../raw_data/S2A_OPER_GIP_TILPAR_MPC__20151209T095117_V20150622T000000_21000101T000000_B00.kml')"
   ]
  },
  {
   "cell_type": "code",
   "execution_count": 35,
   "metadata": {},
   "outputs": [
    {
     "data": {
      "text/html": [
       "<div>\n",
       "<style scoped>\n",
       "    .dataframe tbody tr th:only-of-type {\n",
       "        vertical-align: middle;\n",
       "    }\n",
       "\n",
       "    .dataframe tbody tr th {\n",
       "        vertical-align: top;\n",
       "    }\n",
       "\n",
       "    .dataframe thead th {\n",
       "        text-align: right;\n",
       "    }\n",
       "</style>\n",
       "<table border=\"1\" class=\"dataframe\">\n",
       "  <thead>\n",
       "    <tr style=\"text-align: right;\">\n",
       "      <th></th>\n",
       "      <th>Name</th>\n",
       "      <th>Description</th>\n",
       "      <th>geometry</th>\n",
       "    </tr>\n",
       "  </thead>\n",
       "  <tbody>\n",
       "    <tr>\n",
       "      <th>0</th>\n",
       "      <td>01CCV</td>\n",
       "      <td>TILE PROPERTIES&lt;br&gt;&lt;table border=0 cellpadding...</td>\n",
       "      <td>GEOMETRYCOLLECTION Z (POLYGON Z ((180.00000 -7...</td>\n",
       "    </tr>\n",
       "    <tr>\n",
       "      <th>1</th>\n",
       "      <td>01CDH</td>\n",
       "      <td>TILE PROPERTIES&lt;br&gt;&lt;table border=0 cellpadding...</td>\n",
       "      <td>GEOMETRYCOLLECTION Z (POLYGON Z ((180.00000 -8...</td>\n",
       "    </tr>\n",
       "    <tr>\n",
       "      <th>2</th>\n",
       "      <td>01CDJ</td>\n",
       "      <td>TILE PROPERTIES&lt;br&gt;&lt;table border=0 cellpadding...</td>\n",
       "      <td>GEOMETRYCOLLECTION Z (POLYGON Z ((180.00000 -8...</td>\n",
       "    </tr>\n",
       "    <tr>\n",
       "      <th>3</th>\n",
       "      <td>01CDK</td>\n",
       "      <td>TILE PROPERTIES&lt;br&gt;&lt;table border=0 cellpadding...</td>\n",
       "      <td>GEOMETRYCOLLECTION Z (POLYGON Z ((180.00000 -8...</td>\n",
       "    </tr>\n",
       "    <tr>\n",
       "      <th>4</th>\n",
       "      <td>01CDL</td>\n",
       "      <td>TILE PROPERTIES&lt;br&gt;&lt;table border=0 cellpadding...</td>\n",
       "      <td>GEOMETRYCOLLECTION Z (POLYGON Z ((180.00000 -8...</td>\n",
       "    </tr>\n",
       "  </tbody>\n",
       "</table>\n",
       "</div>"
      ],
      "text/plain": [
       "    Name                                        Description  \\\n",
       "0  01CCV  TILE PROPERTIES<br><table border=0 cellpadding...   \n",
       "1  01CDH  TILE PROPERTIES<br><table border=0 cellpadding...   \n",
       "2  01CDJ  TILE PROPERTIES<br><table border=0 cellpadding...   \n",
       "3  01CDK  TILE PROPERTIES<br><table border=0 cellpadding...   \n",
       "4  01CDL  TILE PROPERTIES<br><table border=0 cellpadding...   \n",
       "\n",
       "                                            geometry  \n",
       "0  GEOMETRYCOLLECTION Z (POLYGON Z ((180.00000 -7...  \n",
       "1  GEOMETRYCOLLECTION Z (POLYGON Z ((180.00000 -8...  \n",
       "2  GEOMETRYCOLLECTION Z (POLYGON Z ((180.00000 -8...  \n",
       "3  GEOMETRYCOLLECTION Z (POLYGON Z ((180.00000 -8...  \n",
       "4  GEOMETRYCOLLECTION Z (POLYGON Z ((180.00000 -8...  "
      ]
     },
     "execution_count": 35,
     "metadata": {},
     "output_type": "execute_result"
    }
   ],
   "source": [
    "# Name is the name of the associated tile\n",
    "tiles_grid.head()"
   ]
  },
  {
   "cell_type": "code",
   "execution_count": 29,
   "metadata": {},
   "outputs": [
    {
     "data": {
      "text/plain": [
       "<Geographic 2D CRS: EPSG:4326>\n",
       "Name: WGS 84\n",
       "Axis Info [ellipsoidal]:\n",
       "- Lat[north]: Geodetic latitude (degree)\n",
       "- Lon[east]: Geodetic longitude (degree)\n",
       "Area of Use:\n",
       "- name: World.\n",
       "- bounds: (-180.0, -90.0, 180.0, 90.0)\n",
       "Datum: World Geodetic System 1984 ensemble\n",
       "- Ellipsoid: WGS 84\n",
       "- Prime Meridian: Greenwich"
      ]
     },
     "execution_count": 29,
     "metadata": {},
     "output_type": "execute_result"
    }
   ],
   "source": [
    "tiles_grid.crs"
   ]
  },
  {
   "cell_type": "code",
   "execution_count": 40,
   "metadata": {},
   "outputs": [
    {
     "data": {
      "text/html": [
       "<div>\n",
       "<style scoped>\n",
       "    .dataframe tbody tr th:only-of-type {\n",
       "        vertical-align: middle;\n",
       "    }\n",
       "\n",
       "    .dataframe tbody tr th {\n",
       "        vertical-align: top;\n",
       "    }\n",
       "\n",
       "    .dataframe thead th {\n",
       "        text-align: right;\n",
       "    }\n",
       "</style>\n",
       "<table border=\"1\" class=\"dataframe\">\n",
       "  <thead>\n",
       "    <tr style=\"text-align: right;\">\n",
       "      <th></th>\n",
       "      <th>Name</th>\n",
       "      <th>Description</th>\n",
       "      <th>geometry</th>\n",
       "      <th>centroid_of_tile</th>\n",
       "    </tr>\n",
       "  </thead>\n",
       "  <tbody>\n",
       "    <tr>\n",
       "      <th>0</th>\n",
       "      <td>01CCV</td>\n",
       "      <td>TILE PROPERTIES&lt;br&gt;&lt;table border=0 cellpadding...</td>\n",
       "      <td>GEOMETRYCOLLECTION Z (POLYGON Z ((180.00000 -7...</td>\n",
       "      <td>POINT (178.56602271617683 -72.67913474116756)</td>\n",
       "    </tr>\n",
       "    <tr>\n",
       "      <th>1</th>\n",
       "      <td>01CDH</td>\n",
       "      <td>TILE PROPERTIES&lt;br&gt;&lt;table border=0 cellpadding...</td>\n",
       "      <td>GEOMETRYCOLLECTION Z (POLYGON Z ((180.00000 -8...</td>\n",
       "      <td>POINT (179.46116994924037 -83.35283236512397)</td>\n",
       "    </tr>\n",
       "    <tr>\n",
       "      <th>2</th>\n",
       "      <td>01CDJ</td>\n",
       "      <td>TILE PROPERTIES&lt;br&gt;&lt;table border=0 cellpadding...</td>\n",
       "      <td>GEOMETRYCOLLECTION Z (POLYGON Z ((180.00000 -8...</td>\n",
       "      <td>POINT (179.8741151454747 -82.4613875791395)</td>\n",
       "    </tr>\n",
       "    <tr>\n",
       "      <th>3</th>\n",
       "      <td>01CDK</td>\n",
       "      <td>TILE PROPERTIES&lt;br&gt;&lt;table border=0 cellpadding...</td>\n",
       "      <td>GEOMETRYCOLLECTION Z (POLYGON Z ((180.00000 -8...</td>\n",
       "      <td>POINT (-179.8013143911279 -81.57086876411002)</td>\n",
       "    </tr>\n",
       "    <tr>\n",
       "      <th>4</th>\n",
       "      <td>01CDL</td>\n",
       "      <td>TILE PROPERTIES&lt;br&gt;&lt;table border=0 cellpadding...</td>\n",
       "      <td>GEOMETRYCOLLECTION Z (POLYGON Z ((180.00000 -8...</td>\n",
       "      <td>POINT (-179.53946066450573 -80.6804934882931)</td>\n",
       "    </tr>\n",
       "  </tbody>\n",
       "</table>\n",
       "</div>"
      ],
      "text/plain": [
       "    Name                                        Description  \\\n",
       "0  01CCV  TILE PROPERTIES<br><table border=0 cellpadding...   \n",
       "1  01CDH  TILE PROPERTIES<br><table border=0 cellpadding...   \n",
       "2  01CDJ  TILE PROPERTIES<br><table border=0 cellpadding...   \n",
       "3  01CDK  TILE PROPERTIES<br><table border=0 cellpadding...   \n",
       "4  01CDL  TILE PROPERTIES<br><table border=0 cellpadding...   \n",
       "\n",
       "                                            geometry  \\\n",
       "0  GEOMETRYCOLLECTION Z (POLYGON Z ((180.00000 -7...   \n",
       "1  GEOMETRYCOLLECTION Z (POLYGON Z ((180.00000 -8...   \n",
       "2  GEOMETRYCOLLECTION Z (POLYGON Z ((180.00000 -8...   \n",
       "3  GEOMETRYCOLLECTION Z (POLYGON Z ((180.00000 -8...   \n",
       "4  GEOMETRYCOLLECTION Z (POLYGON Z ((180.00000 -8...   \n",
       "\n",
       "                                centroid_of_tile  \n",
       "0  POINT (178.56602271617683 -72.67913474116756)  \n",
       "1  POINT (179.46116994924037 -83.35283236512397)  \n",
       "2    POINT (179.8741151454747 -82.4613875791395)  \n",
       "3  POINT (-179.8013143911279 -81.57086876411002)  \n",
       "4  POINT (-179.53946066450573 -80.6804934882931)  "
      ]
     },
     "execution_count": 40,
     "metadata": {},
     "output_type": "execute_result"
    }
   ],
   "source": [
    "# add centroid (center point of the tile), to use as footprint when query sentinel data\n",
    "# convert to wkt, else geopandas throw's an error when saving to file\n",
    "\n",
    "# Note the geometry is reprojected to epsg:3035, to calculate the centroid, and then reprojected back to epsg:4326\n",
    "# epsg:3035 is the projection for central europe: https://epsg.io/3035\n",
    "\n",
    "# See also:\n",
    "# https://stackoverflow.com/questions/63004400/getting-a-userwarning-when-calculating-centroid-of-a-geoseries/63038899#63038899\n",
    "tiles_grid['centroid_of_tile'] = tiles_grid.to_crs(epsg=3035).centroid.to_crs(epsg=4326).apply(lambda x: x.wkt)\n",
    "tiles_grid.head()"
   ]
  },
  {
   "cell_type": "code",
   "execution_count": 41,
   "metadata": {},
   "outputs": [],
   "source": [
    "tiles_grid.rename(columns={'Name': 'tile_name'}, inplace=True)"
   ]
  },
  {
   "cell_type": "code",
   "execution_count": 42,
   "metadata": {},
   "outputs": [
    {
     "data": {
      "text/html": [
       "<div>\n",
       "<style scoped>\n",
       "    .dataframe tbody tr th:only-of-type {\n",
       "        vertical-align: middle;\n",
       "    }\n",
       "\n",
       "    .dataframe tbody tr th {\n",
       "        vertical-align: top;\n",
       "    }\n",
       "\n",
       "    .dataframe thead th {\n",
       "        text-align: right;\n",
       "    }\n",
       "</style>\n",
       "<table border=\"1\" class=\"dataframe\">\n",
       "  <thead>\n",
       "    <tr style=\"text-align: right;\">\n",
       "      <th></th>\n",
       "      <th>tile_name</th>\n",
       "      <th>Description</th>\n",
       "      <th>geometry</th>\n",
       "      <th>centroid_of_tile</th>\n",
       "    </tr>\n",
       "  </thead>\n",
       "  <tbody>\n",
       "    <tr>\n",
       "      <th>0</th>\n",
       "      <td>01CCV</td>\n",
       "      <td>TILE PROPERTIES&lt;br&gt;&lt;table border=0 cellpadding...</td>\n",
       "      <td>GEOMETRYCOLLECTION Z (POLYGON Z ((180.00000 -7...</td>\n",
       "      <td>POINT (178.56602271617683 -72.67913474116756)</td>\n",
       "    </tr>\n",
       "    <tr>\n",
       "      <th>1</th>\n",
       "      <td>01CDH</td>\n",
       "      <td>TILE PROPERTIES&lt;br&gt;&lt;table border=0 cellpadding...</td>\n",
       "      <td>GEOMETRYCOLLECTION Z (POLYGON Z ((180.00000 -8...</td>\n",
       "      <td>POINT (179.46116994924037 -83.35283236512397)</td>\n",
       "    </tr>\n",
       "    <tr>\n",
       "      <th>2</th>\n",
       "      <td>01CDJ</td>\n",
       "      <td>TILE PROPERTIES&lt;br&gt;&lt;table border=0 cellpadding...</td>\n",
       "      <td>GEOMETRYCOLLECTION Z (POLYGON Z ((180.00000 -8...</td>\n",
       "      <td>POINT (179.8741151454747 -82.4613875791395)</td>\n",
       "    </tr>\n",
       "    <tr>\n",
       "      <th>3</th>\n",
       "      <td>01CDK</td>\n",
       "      <td>TILE PROPERTIES&lt;br&gt;&lt;table border=0 cellpadding...</td>\n",
       "      <td>GEOMETRYCOLLECTION Z (POLYGON Z ((180.00000 -8...</td>\n",
       "      <td>POINT (-179.8013143911279 -81.57086876411002)</td>\n",
       "    </tr>\n",
       "    <tr>\n",
       "      <th>4</th>\n",
       "      <td>01CDL</td>\n",
       "      <td>TILE PROPERTIES&lt;br&gt;&lt;table border=0 cellpadding...</td>\n",
       "      <td>GEOMETRYCOLLECTION Z (POLYGON Z ((180.00000 -8...</td>\n",
       "      <td>POINT (-179.53946066450573 -80.6804934882931)</td>\n",
       "    </tr>\n",
       "  </tbody>\n",
       "</table>\n",
       "</div>"
      ],
      "text/plain": [
       "  tile_name                                        Description  \\\n",
       "0     01CCV  TILE PROPERTIES<br><table border=0 cellpadding...   \n",
       "1     01CDH  TILE PROPERTIES<br><table border=0 cellpadding...   \n",
       "2     01CDJ  TILE PROPERTIES<br><table border=0 cellpadding...   \n",
       "3     01CDK  TILE PROPERTIES<br><table border=0 cellpadding...   \n",
       "4     01CDL  TILE PROPERTIES<br><table border=0 cellpadding...   \n",
       "\n",
       "                                            geometry  \\\n",
       "0  GEOMETRYCOLLECTION Z (POLYGON Z ((180.00000 -7...   \n",
       "1  GEOMETRYCOLLECTION Z (POLYGON Z ((180.00000 -8...   \n",
       "2  GEOMETRYCOLLECTION Z (POLYGON Z ((180.00000 -8...   \n",
       "3  GEOMETRYCOLLECTION Z (POLYGON Z ((180.00000 -8...   \n",
       "4  GEOMETRYCOLLECTION Z (POLYGON Z ((180.00000 -8...   \n",
       "\n",
       "                                centroid_of_tile  \n",
       "0  POINT (178.56602271617683 -72.67913474116756)  \n",
       "1  POINT (179.46116994924037 -83.35283236512397)  \n",
       "2    POINT (179.8741151454747 -82.4613875791395)  \n",
       "3  POINT (-179.8013143911279 -81.57086876411002)  \n",
       "4  POINT (-179.53946066450573 -80.6804934882931)  "
      ]
     },
     "execution_count": 42,
     "metadata": {},
     "output_type": "execute_result"
    }
   ],
   "source": [
    "tiles_grid.head()"
   ]
  },
  {
   "cell_type": "code",
   "execution_count": 45,
   "metadata": {},
   "outputs": [
    {
     "data": {
      "text/plain": [
       "(56686, 4)"
      ]
     },
     "execution_count": 45,
     "metadata": {},
     "output_type": "execute_result"
    }
   ],
   "source": [
    "tiles_grid.shape"
   ]
  },
  {
   "attachments": {},
   "cell_type": "markdown",
   "metadata": {},
   "source": [
    "### 3. Add tile name to each training polygon and drop unnecessary columns"
   ]
  },
  {
   "cell_type": "code",
   "execution_count": 46,
   "metadata": {},
   "outputs": [],
   "source": [
    "# map the polygons (=solar plants) on the name of the associated tile where the polygon lies within\n",
    "# so later we can look them up by just look for the tile name instead to filter the dataframe on the geometry again (to speed up the process)\n",
    "trn_polygons_germany_with_tiles_name = gpd.sjoin(trn_polygons_germany, tiles_grid, how='left', predicate='intersects')"
   ]
  },
  {
   "cell_type": "code",
   "execution_count": 47,
   "metadata": {},
   "outputs": [
    {
     "data": {
      "text/plain": [
       "(32953, 41)"
      ]
     },
     "execution_count": 47,
     "metadata": {},
     "output_type": "execute_result"
    }
   ],
   "source": [
    "trn_polygons_germany_with_tiles_name.shape"
   ]
  },
  {
   "cell_type": "code",
   "execution_count": 49,
   "metadata": {},
   "outputs": [],
   "source": [
    "# drop duplicates which are caused by sjoin\n",
    "trn_polygons_germany_with_tiles_name.drop_duplicates(subset=['geometry'], inplace=True)"
   ]
  },
  {
   "cell_type": "code",
   "execution_count": 52,
   "metadata": {},
   "outputs": [
    {
     "data": {
      "text/plain": [
       "(23222, 41)"
      ]
     },
     "execution_count": 52,
     "metadata": {},
     "output_type": "execute_result"
    }
   ],
   "source": [
    "trn_polygons_germany_with_tiles_name.shape"
   ]
  },
  {
   "cell_type": "code",
   "execution_count": 53,
   "metadata": {},
   "outputs": [
    {
     "data": {
      "text/plain": [
       "Index(['Country', 'Province', 'Project', 'WRI_ref', 'Polygon Source', 'Date',\n",
       "       'building', 'operator', 'generator_source', 'amenity', 'landuse',\n",
       "       'power_source', 'shop', 'sport', 'tourism', 'way_area', 'access',\n",
       "       'construction', 'denomination', 'historic', 'leisure', 'man_made',\n",
       "       'natural', 'ref', 'religion', 'surface', 'z_order', 'layer', 'name',\n",
       "       'barrier', 'addr_housenumber', 'office', 'power', 'area', 'osm_id',\n",
       "       'military', 'geometry', 'index_right', 'tile_name', 'Description',\n",
       "       'centroid_of_tile'],\n",
       "      dtype='object')"
      ]
     },
     "execution_count": 53,
     "metadata": {},
     "output_type": "execute_result"
    }
   ],
   "source": [
    "trn_polygons_germany_with_tiles_name.columns"
   ]
  },
  {
   "cell_type": "code",
   "execution_count": 55,
   "metadata": {},
   "outputs": [
    {
     "data": {
      "text/html": [
       "<div>\n",
       "<style scoped>\n",
       "    .dataframe tbody tr th:only-of-type {\n",
       "        vertical-align: middle;\n",
       "    }\n",
       "\n",
       "    .dataframe tbody tr th {\n",
       "        vertical-align: top;\n",
       "    }\n",
       "\n",
       "    .dataframe thead th {\n",
       "        text-align: right;\n",
       "    }\n",
       "</style>\n",
       "<table border=\"1\" class=\"dataframe\">\n",
       "  <thead>\n",
       "    <tr style=\"text-align: right;\">\n",
       "      <th></th>\n",
       "      <th>osm_id</th>\n",
       "      <th>tile_name</th>\n",
       "      <th>geometry</th>\n",
       "      <th>centroid_of_tile</th>\n",
       "    </tr>\n",
       "  </thead>\n",
       "  <tbody>\n",
       "    <tr>\n",
       "      <th>0</th>\n",
       "      <td>483534385.0</td>\n",
       "      <td>33UVS</td>\n",
       "      <td>POLYGON ((13.88598 50.89644, 13.88598 50.89642...</td>\n",
       "      <td>POINT (14.35719383285053 50.955770194506044)</td>\n",
       "    </tr>\n",
       "    <tr>\n",
       "      <th>1</th>\n",
       "      <td>359898843.0</td>\n",
       "      <td>33UVT</td>\n",
       "      <td>POLYGON ((13.95746 51.53471, 13.95746 51.53468...</td>\n",
       "      <td>POINT (14.344460359916278 51.85505191805214)</td>\n",
       "    </tr>\n",
       "    <tr>\n",
       "      <th>2</th>\n",
       "      <td>359898992.0</td>\n",
       "      <td>33UVT</td>\n",
       "      <td>POLYGON ((13.95746 51.53479, 13.95746 51.53477...</td>\n",
       "      <td>POINT (14.344460359916278 51.85505191805214)</td>\n",
       "    </tr>\n",
       "    <tr>\n",
       "      <th>3</th>\n",
       "      <td>359899222.0</td>\n",
       "      <td>33UVT</td>\n",
       "      <td>POLYGON ((13.95746 51.53487, 13.95746 51.53484...</td>\n",
       "      <td>POINT (14.344460359916278 51.85505191805214)</td>\n",
       "    </tr>\n",
       "    <tr>\n",
       "      <th>4</th>\n",
       "      <td>359899000.0</td>\n",
       "      <td>33UVT</td>\n",
       "      <td>POLYGON ((13.95745 51.53494, 13.95745 51.53491...</td>\n",
       "      <td>POINT (14.344460359916278 51.85505191805214)</td>\n",
       "    </tr>\n",
       "  </tbody>\n",
       "</table>\n",
       "</div>"
      ],
      "text/plain": [
       "        osm_id tile_name                                           geometry  \\\n",
       "0  483534385.0     33UVS  POLYGON ((13.88598 50.89644, 13.88598 50.89642...   \n",
       "1  359898843.0     33UVT  POLYGON ((13.95746 51.53471, 13.95746 51.53468...   \n",
       "2  359898992.0     33UVT  POLYGON ((13.95746 51.53479, 13.95746 51.53477...   \n",
       "3  359899222.0     33UVT  POLYGON ((13.95746 51.53487, 13.95746 51.53484...   \n",
       "4  359899000.0     33UVT  POLYGON ((13.95745 51.53494, 13.95745 51.53491...   \n",
       "\n",
       "                               centroid_of_tile  \n",
       "0  POINT (14.35719383285053 50.955770194506044)  \n",
       "1  POINT (14.344460359916278 51.85505191805214)  \n",
       "2  POINT (14.344460359916278 51.85505191805214)  \n",
       "3  POINT (14.344460359916278 51.85505191805214)  \n",
       "4  POINT (14.344460359916278 51.85505191805214)  "
      ]
     },
     "execution_count": 55,
     "metadata": {},
     "output_type": "execute_result"
    }
   ],
   "source": [
    "# select only needed columns \n",
    "selected_trn_polygons_germany_tile_names = gpd.GeoDataFrame(trn_polygons_germany_with_tiles_name[['osm_id','tile_name', 'geometry', 'centroid_of_tile']], crs=trn_polygons_germany_with_tiles_name.crs, geometry=trn_polygons_germany_with_tiles_name.geometry).reset_index(drop=True)\n",
    "selected_trn_polygons_germany_tile_names.head()"
   ]
  },
  {
   "attachments": {},
   "cell_type": "markdown",
   "metadata": {},
   "source": [
    "### 4. Save training polygons with tile name as geojson in ../src/preprocess_data_to_disk/data/trn_polygons_germany_tile_names.geojson.geojson"
   ]
  },
  {
   "cell_type": "code",
   "execution_count": 58,
   "metadata": {},
   "outputs": [],
   "source": [
    "# save it to geojson (needs more space on disk)\n",
    "selected_trn_polygons_germany_tile_names.to_file('../src/preprocess_data_to_disk/data/trn_polygons_germany_tile_names.geojson', driver='GeoJSON')"
   ]
  },
  {
   "cell_type": "code",
   "execution_count": 1,
   "metadata": {},
   "outputs": [],
   "source": [
    "# Alternative save it as .shp file (needs less space) but produces more files and error\n",
    "# selected_trn_polygons_germany_tile_names.to_file('../src/preprocess_data_to_disk/data/trn_polygons_germany_tile_names.shp')"
   ]
  },
  {
   "attachments": {},
   "cell_type": "markdown",
   "metadata": {},
   "source": [
    "#### The saved file is used for masking the satellite images in the dataset"
   ]
  },
  {
   "attachments": {},
   "cell_type": "markdown",
   "metadata": {},
   "source": [
    "### 5. Save each tile with centroid from training polygons to ../src/download_sentinel_data/data/tiles_germany.geojson to use it for downloading the data"
   ]
  },
  {
   "cell_type": "code",
   "execution_count": 56,
   "metadata": {},
   "outputs": [
    {
     "data": {
      "text/plain": [
       "63"
      ]
     },
     "execution_count": 56,
     "metadata": {},
     "output_type": "execute_result"
    }
   ],
   "source": [
    "# check how many tiles are needed for the training on all polygons in germany\n",
    "len(set(selected_trn_polygons_germany_tile_names.tile_name))"
   ]
  },
  {
   "cell_type": "code",
   "execution_count": 63,
   "metadata": {},
   "outputs": [
    {
     "data": {
      "text/plain": [
       "(63, 4)"
      ]
     },
     "execution_count": 63,
     "metadata": {},
     "output_type": "execute_result"
    }
   ],
   "source": [
    "tiles_germany = selected_trn_polygons_germany_tile_names.drop_duplicates(subset=['tile_name'])\n",
    "tiles_germany.shape"
   ]
  },
  {
   "cell_type": "code",
   "execution_count": 64,
   "metadata": {},
   "outputs": [],
   "source": [
    "# save it to geojson (needs more space on disk)\n",
    "tiles_germany.to_file('../src/download_sentinel_data/data/tiles_germany.geojson', driver='GeoJSON')"
   ]
  },
  {
   "attachments": {},
   "cell_type": "markdown",
   "metadata": {},
   "source": [
    "#### The saved file is used to download the sentinel data over germany"
   ]
  }
 ],
 "metadata": {
  "kernelspec": {
   "display_name": "Python 3",
   "language": "python",
   "name": "python3"
  },
  "language_info": {
   "codemirror_mode": {
    "name": "ipython",
    "version": 3
   },
   "file_extension": ".py",
   "mimetype": "text/x-python",
   "name": "python",
   "nbconvert_exporter": "python",
   "pygments_lexer": "ipython3",
   "version": "3.10.0"
  },
  "orig_nbformat": 4,
  "vscode": {
   "interpreter": {
    "hash": "31f2aee4e71d21fbe5cf8b01ff0e069b9275f58929596ceb00d14d90e3e16cd6"
   }
  }
 },
 "nbformat": 4,
 "nbformat_minor": 2
}

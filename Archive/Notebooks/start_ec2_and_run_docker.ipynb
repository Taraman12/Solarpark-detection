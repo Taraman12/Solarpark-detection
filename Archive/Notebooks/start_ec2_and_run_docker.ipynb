{
 "cells": [
  {
   "cell_type": "code",
   "execution_count": 4,
   "metadata": {},
   "outputs": [],
   "source": [
    "import boto3\n",
    "from dotenv import load_dotenv\n",
    "import os\n",
    "import re\n",
    "import paramiko\n",
    "import requests"
   ]
  },
  {
   "cell_type": "code",
   "execution_count": 5,
   "metadata": {},
   "outputs": [],
   "source": [
    "load_dotenv()\n",
    "aws_access_key_id= os.getenv(\"aws_access_key_id\")\n",
    "aws_secret_access_key = os.getenv(\"aws_secret_access_key\")\n",
    "region_name = os.getenv(\"region_name\")\n",
    "\n",
    "# Let's use Amazon S3\n",
    "ec2 = boto3.client('ec2', aws_access_key_id=aws_access_key_id, aws_secret_access_key=aws_secret_access_key, region_name=region_name)"
   ]
  },
  {
   "cell_type": "code",
   "execution_count": 7,
   "metadata": {},
   "outputs": [],
   "source": [
    "EC2_KWARGS_MASTER = {\n",
    "    \"ImageId\": \"ami-07151644aeb34558a\",\n",
    "    \"InstanceType\": \"t3.small\", # t3.medium\n",
    "    \"MinCount\": 1,\n",
    "    \"MaxCount\": 1,\n",
    "    \"KeyName\": \"Ec2-boto3\",  \n",
    "    \"SecurityGroupIds\": [\"sg-0b7b73b05e7577a3b\"],\n",
    "    \"IamInstanceProfile\":{\n",
    "        'Arn': \"arn:aws:iam::103976228435:instance-profile/EC2_S3_allowens\"\n",
    "    },\n",
    "    \"SubnetId\":\"subnet-0e19e3f6d404a4467\",\n",
    "    \"UserData\": f\"\"\"#!/bin/bash\n",
    "                sudo yum update -y\n",
    "                sudo yum install docker -y\n",
    "                sudo service docker start\n",
    "                sudo usermod -a -G docker ec2-user\n",
    "                sudo docker pull taraman12/api-preprocessing:latest\n",
    "                sudo docker pull taraman12/solar-park-detection-preprocessing:latest\n",
    "                sudo docker pull taraman12/solar-park-detection-ml-serve:latest\n",
    "             \"\"\", \n",
    "    \"TagSpecifications\": [\n",
    "        {\n",
    "            \"ResourceType\": \"instance\",\n",
    "            \"Tags\": [\n",
    "                {\"Key\": \"Name\", \"Value\": \"master-instance\"},\n",
    "            ],\n",
    "        },\n",
    "    ],\n",
    "}"
   ]
  },
  {
   "cell_type": "code",
   "execution_count": 21,
   "metadata": {},
   "outputs": [],
   "source": [
    "EC2_KWARGS_WORKER = {\n",
    "    \"ImageId\": \"ami-07151644aeb34558a\",\n",
    "    \"InstanceType\": \"t3.medium\", # t3.medium\n",
    "    \"MinCount\": 1,\n",
    "    \"MaxCount\": 1,\n",
    "    \"KeyName\": \"Ec2-boto3\",  \n",
    "    \"SecurityGroupIds\": [\"sg-0b7b73b05e7577a3b\"],\n",
    "    \"IamInstanceProfile\":{\n",
    "        'Arn': \"arn:aws:iam::103976228435:instance-profile/EC2_S3_allowens\"\n",
    "    },\n",
    "    \"SubnetId\":\"subnet-0e19e3f6d404a4467\",\n",
    "    \"UserData\": f\"\"\"#!/bin/bash\n",
    "                sudo yum update -y\n",
    "                sudo yum install docker -y\n",
    "                sudo service docker start\n",
    "                sudo usermod -a -G docker ec2-user\n",
    "             \"\"\", \n",
    "    \"TagSpecifications\": [\n",
    "        {\n",
    "            \"ResourceType\": \"instance\",\n",
    "            \"Tags\": [\n",
    "                {\"Key\": \"Name\", \"Value\": \"worker-instance\"},\n",
    "            ],\n",
    "        },\n",
    "    ],\n",
    "}"
   ]
  },
  {
   "cell_type": "code",
   "execution_count": 17,
   "metadata": {},
   "outputs": [],
   "source": [
    "EC2_KWARGS= {\n",
    "    \"ImageId\": \"ami-07151644aeb34558a\",\n",
    "    \"InstanceType\": \"t3.small\",\n",
    "    \"MinCount\": 1,\n",
    "    \"MaxCount\": 1,\n",
    "    \"KeyName\": \"Ec2-boto3\",\n",
    "    \"SecurityGroupIds\": [\"sg-0b7b73b05e7577a3b\"],\n",
    "    \"IamInstanceProfile\":{\n",
    "        'Arn': \"arn:aws:iam::103976228435:instance-profile/EC2_S3_allowens\"\n",
    "    },\n",
    "    \"SubnetId\":\"subnet-0e19e3f6d404a4467\",\n",
    "    \"UserData\": f\"\"\"#!/bin/bash\n",
    "                sudo yum update -y\n",
    "                sudo yum install docker -y\n",
    "                sudo service docker start\n",
    "                sudo usermod -a -G docker ec2-user\n",
    "                sudo docker pull taraman12/api-ml-serve:latest\n",
    "                sudo docker pull taraman12/api-preprocessing:latest\n",
    "                sudo docker swarm join --token {JOIN_TOKEN} {MANAGER_IP}:2377\n",
    "                sudo docker service create -d \\\n",
    "                    -p 8080:8080 \\\n",
    "                    --network mynetwork \\\n",
    "                    --name ml-serve \\\n",
    "                    taraman12/api-ml-serve:latest\n",
    "                sudo docker service create -d \\\n",
    "                    -v /var/run/docker.sock:/var/run/docker.sock \\\n",
    "                    -p 8000:8000 \\\n",
    "                    --network mynetwork \\\n",
    "                    --name preprocessing-w \\\n",
    "                    -e PASSWORD={password} \\\n",
    "                    -e JOIN_TOKEN={JOIN_TOKEN} \\\n",
    "                    -e MANAGER_IP={MANAGER_IP} \\\n",
    "                    taraman12/api-preprocessing:latest\n",
    "             \"\"\",\n",
    "    \"TagSpecifications\": [\n",
    "        {\n",
    "            \"ResourceType\": \"instance\",\n",
    "            \"Tags\": [\n",
    "                {\"Key\": \"Name\", \"Value\": \"main-instance\"},\n",
    "            ],\n",
    "        },\n",
    "    ],\n",
    "}"
   ]
  },
  {
   "cell_type": "code",
   "execution_count": 8,
   "metadata": {},
   "outputs": [
    {
     "name": "stdout",
     "output_type": "stream",
     "text": [
      "Started instance i-044ffcc6e63d230da\n"
     ]
    }
   ],
   "source": [
    "response = ec2.run_instances(**EC2_KWARGS_MASTER)\n",
    "\n",
    "# ID der gestarteten Instanz abrufen\n",
    "instance_id = response['Instances'][0]['InstanceId']\n",
    "print(f'Started instance {instance_id}')"
   ]
  },
  {
   "cell_type": "code",
   "execution_count": 22,
   "metadata": {},
   "outputs": [
    {
     "name": "stdout",
     "output_type": "stream",
     "text": [
      "Started instance i-01710afbae23e3123\n"
     ]
    }
   ],
   "source": [
    "response = ec2.run_instances(**EC2_KWARGS_WORKER)\n",
    "\n",
    "# ID der gestarteten Instanz abrufen\n",
    "instance_id = response['Instances'][0]['InstanceId']\n",
    "print(f'Started instance {instance_id}')"
   ]
  },
  {
   "cell_type": "code",
   "execution_count": 11,
   "metadata": {},
   "outputs": [
    {
     "data": {
      "text/plain": [
       "[{'AmiLaunchIndex': 0,\n",
       "  'ImageId': 'ami-07151644aeb34558a',\n",
       "  'InstanceId': 'i-076f715dbd92167af',\n",
       "  'InstanceType': 't3.small',\n",
       "  'KeyName': 'Ec2-boto3',\n",
       "  'LaunchTime': datetime.datetime(2023, 11, 30, 19, 41, 44, tzinfo=tzutc()),\n",
       "  'Monitoring': {'State': 'disabled'},\n",
       "  'Placement': {'AvailabilityZone': 'eu-central-1a',\n",
       "   'GroupName': '',\n",
       "   'Tenancy': 'default'},\n",
       "  'PrivateDnsName': 'ip-172-31-25-64.eu-central-1.compute.internal',\n",
       "  'PrivateIpAddress': '172.31.25.64',\n",
       "  'ProductCodes': [],\n",
       "  'PublicDnsName': '',\n",
       "  'State': {'Code': 0, 'Name': 'pending'},\n",
       "  'StateTransitionReason': '',\n",
       "  'SubnetId': 'subnet-0e19e3f6d404a4467',\n",
       "  'VpcId': 'vpc-07332de596f81bf40',\n",
       "  'Architecture': 'x86_64',\n",
       "  'BlockDeviceMappings': [],\n",
       "  'ClientToken': 'c26df8e9-260d-4a7c-abc0-36fde4f3b762',\n",
       "  'EbsOptimized': False,\n",
       "  'EnaSupport': True,\n",
       "  'Hypervisor': 'xen',\n",
       "  'IamInstanceProfile': {'Arn': 'arn:aws:iam::103976228435:instance-profile/EC2_S3_allowens',\n",
       "   'Id': 'AIPARQNLXKZJSVFPURJ24'},\n",
       "  'NetworkInterfaces': [{'Attachment': {'AttachTime': datetime.datetime(2023, 11, 30, 19, 41, 44, tzinfo=tzutc()),\n",
       "     'AttachmentId': 'eni-attach-0348a032048a29511',\n",
       "     'DeleteOnTermination': True,\n",
       "     'DeviceIndex': 0,\n",
       "     'Status': 'attaching',\n",
       "     'NetworkCardIndex': 0},\n",
       "    'Description': '',\n",
       "    'Groups': [{'GroupName': 'EC2-Instance-connect',\n",
       "      'GroupId': 'sg-0b7b73b05e7577a3b'}],\n",
       "    'Ipv6Addresses': [],\n",
       "    'MacAddress': '02:fa:42:d0:b2:8f',\n",
       "    'NetworkInterfaceId': 'eni-0d0dbdcd5e78d6a60',\n",
       "    'OwnerId': '103976228435',\n",
       "    'PrivateDnsName': 'ip-172-31-25-64.eu-central-1.compute.internal',\n",
       "    'PrivateIpAddress': '172.31.25.64',\n",
       "    'PrivateIpAddresses': [{'Primary': True,\n",
       "      'PrivateDnsName': 'ip-172-31-25-64.eu-central-1.compute.internal',\n",
       "      'PrivateIpAddress': '172.31.25.64'}],\n",
       "    'SourceDestCheck': True,\n",
       "    'Status': 'in-use',\n",
       "    'SubnetId': 'subnet-0e19e3f6d404a4467',\n",
       "    'VpcId': 'vpc-07332de596f81bf40',\n",
       "    'InterfaceType': 'interface'}],\n",
       "  'RootDeviceName': '/dev/xvda',\n",
       "  'RootDeviceType': 'ebs',\n",
       "  'SecurityGroups': [{'GroupName': 'EC2-Instance-connect',\n",
       "    'GroupId': 'sg-0b7b73b05e7577a3b'}],\n",
       "  'SourceDestCheck': True,\n",
       "  'StateReason': {'Code': 'pending', 'Message': 'pending'},\n",
       "  'Tags': [{'Key': 'Name', 'Value': 'main-instance'}],\n",
       "  'VirtualizationType': 'hvm',\n",
       "  'CpuOptions': {'CoreCount': 1, 'ThreadsPerCore': 2},\n",
       "  'CapacityReservationSpecification': {'CapacityReservationPreference': 'open'},\n",
       "  'MetadataOptions': {'State': 'pending',\n",
       "   'HttpTokens': 'required',\n",
       "   'HttpPutResponseHopLimit': 2,\n",
       "   'HttpEndpoint': 'enabled',\n",
       "   'HttpProtocolIpv6': 'disabled',\n",
       "   'InstanceMetadataTags': 'disabled'},\n",
       "  'EnclaveOptions': {'Enabled': False},\n",
       "  'BootMode': 'uefi-preferred',\n",
       "  'PrivateDnsNameOptions': {'HostnameType': 'ip-name',\n",
       "   'EnableResourceNameDnsARecord': False,\n",
       "   'EnableResourceNameDnsAAAARecord': False},\n",
       "  'MaintenanceOptions': {'AutoRecovery': 'default'},\n",
       "  'CurrentInstanceBootMode': 'uefi'}]"
      ]
     },
     "execution_count": 11,
     "metadata": {},
     "output_type": "execute_result"
    }
   ],
   "source": [
    "response['Instances']"
   ]
  },
  {
   "cell_type": "code",
   "execution_count": null,
   "metadata": {},
   "outputs": [],
   "source": []
  }
 ],
 "metadata": {
  "kernelspec": {
   "display_name": ".venv",
   "language": "python",
   "name": "python3"
  },
  "language_info": {
   "codemirror_mode": {
    "name": "ipython",
    "version": 3
   },
   "file_extension": ".py",
   "mimetype": "text/x-python",
   "name": "python",
   "nbconvert_exporter": "python",
   "pygments_lexer": "ipython3",
   "version": "3.10.0"
  }
 },
 "nbformat": 4,
 "nbformat_minor": 2
}
